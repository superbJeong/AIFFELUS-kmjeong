{
 "cells": [
  {
   "cell_type": "markdown",
   "id": "53102ecf",
   "metadata": {},
   "source": [
    "# [EX_01] 가위바위보 분류기를 만들자\n",
    "\n",
    "### 1. 데이터를 준비하자\n",
    "#### 1.1 데이터 만들기 및 디렉토리 만들기"
   ]
  },
  {
   "cell_type": "markdown",
   "id": "3c817f75",
   "metadata": {},
   "source": [
    "* 구글의 teachable machine 사이트에서 쉽게 만들 수 있음\n",
    "* AIFFEL 울산의 노션에 올려진 다른 수강생들의 사진 활용\n",
    "\n",
    "* 해당 디렉토리에 하위 디렉토리로 가위, 바위, 보 각각의 디렉토리를 만든다\n",
    "* 각각의 디렉토리 아래에 각각의 이미지를 저장한다\n",
    "* 하위 디렉토리로 train 디렉토리를 만들어 각각의 이미지 데이터들을 리사이즈하여 저장한다"
   ]
  },
  {
   "cell_type": "markdown",
   "id": "64702e0d",
   "metadata": {},
   "source": [
    "#### 1.2 데이터 불러오기 + Resize 하기"
   ]
  },
  {
   "cell_type": "code",
   "execution_count": 1,
   "id": "91e1c88b",
   "metadata": {},
   "outputs": [
    {
     "name": "stdout",
     "output_type": "stream",
     "text": [
      "PIL 라이브러리 import 완료!\n"
     ]
    }
   ],
   "source": [
    "# 필요한 패키지 및 모듈을 import 한다\n",
    "from PIL import Image\n",
    "import glob\n",
    "import os\n",
    "\n",
    "print(\"PIL 라이브러리 import 완료!\")"
   ]
  },
  {
   "cell_type": "markdown",
   "id": "3180fcfb",
   "metadata": {},
   "source": [
    "\\# 이미지의 사이즈를 mnist 이미지 사이즈와 동일하게 변경"
   ]
  },
  {
   "cell_type": "code",
   "execution_count": 2,
   "id": "f371f434",
   "metadata": {},
   "outputs": [
    {
     "name": "stdout",
     "output_type": "stream",
     "text": [
      "100  images to be resized.\n",
      "100  images resized.\n",
      "가위 이미지 resize 완료!\n"
     ]
    }
   ],
   "source": [
    "target_size = (28, 28) # 변환 할 이미지 사이즈를 지정\n",
    "\n",
    "\n",
    "def resize_images(img_path, cnt = 0):\n",
    "    images = glob.glob(img_path + \"/*.jpg\") \n",
    "    # 이미지 주소를 입력하여 해당 디렉토리의 모든 이미지를 불러올 수 있게 합니다\n",
    "    \n",
    "    print(len(images), \" images to be resized.\")\n",
    "        \n",
    "    for img in images:\n",
    "        old_img = Image.open(img)\n",
    "        new_img = old_img.resize(target_size, Image.ANTIALIAS) #타겟 사이즈로 리사이즈\n",
    "        new_img.save((img_path + '/train/' + str(cnt) + \".jpg\"), \"JPEG\") #리사이즈 된 이미지를 디렉토리에 저장\n",
    "        cnt += 1  #총 몇개의 이미지가 불러와 졌는지 확인하고 파일 이름을 카운팅숫자로 하기 위함\n",
    "                    #Also, 이미지의 이름을 순서대로 저장하기 위함\n",
    "\n",
    "    print(cnt, \" images resized.\")\n",
    "    \n",
    "# 가위 이미지가 저장된 디렉토리의 모든 jpg 파일을 불러옴\n",
    "image_dir_path_scissor = os.getenv(\"HOME\") + \"/aiffel/rock_scissor_paper/scissor\" #가위 이미지의 디렉토리 주소\n",
    "resize_images(image_dir_path_scissor) #위의 함수를 수행합니다.\n",
    "\n",
    "print(\"가위 이미지 resize 완료!\")"
   ]
  },
  {
   "cell_type": "code",
   "execution_count": 3,
   "id": "e161678b",
   "metadata": {
    "scrolled": false
   },
   "outputs": [
    {
     "name": "stdout",
     "output_type": "stream",
     "text": [
      "100  images to be resized.\n",
      "100  images resized.\n",
      "100  images to be resized.\n",
      "100  images resized.\n"
     ]
    }
   ],
   "source": [
    "# 가위 이미지와 마찬가지로 바위 및 보 이미지도 resize 해줌\n",
    "image_dir_path_rock = os.getenv(\"HOME\") + \"/aiffel/rock_scissor_paper/rock\"\n",
    "resize_images(image_dir_path_rock)\n",
    "\n",
    "image_dir_path_paper = os.getenv(\"HOME\") + \"/aiffel/rock_scissor_paper/paper\"\n",
    "resize_images(image_dir_path_paper)"
   ]
  },
  {
   "cell_type": "code",
   "execution_count": 4,
   "id": "28317bba",
   "metadata": {},
   "outputs": [
    {
     "name": "stdout",
     "output_type": "stream",
     "text": [
      "100  images to be resized.\n",
      "100  images resized. (total data: 200)\n",
      "100  images to be resized.\n",
      "100  images resized. (total data: 200)\n",
      "100  images to be resized.\n",
      "100  images resized. (total data: 200)\n"
     ]
    }
   ],
   "source": [
    "# 개인 자료 외에 추가 자료를 리사이즈 해주는 함수\n",
    "def resize_images_add(img_path, cnt):\n",
    "    \n",
    "    # 각 폴더 내에 add폴더를 만들어서 추가 이미지를 저장했음\n",
    "    images = glob.glob(img_path + \"/add/*.jpg\")\n",
    "\n",
    "    print(len(images), \" images to be resized.\")\n",
    "\n",
    "    for img in images:\n",
    "        old_img = Image.open(img)\n",
    "        new_img = old_img.resize(target_size, Image.ANTIALIAS)\n",
    "        new_img.save(img_path + \"/train/\" + str(cnt) + '.jpg', \"JPEG\") # 새로운 이미지 path\n",
    "        cnt += 1\n",
    "        \n",
    "        \n",
    "    print(cnt - len(images), \" images resized. (total data: %d)\"%cnt)\n",
    "\n",
    "# 앞에서 저장한 100.jpg부터 저장하기 위해 count_add를 100으로 지정\n",
    "image_dir_path_paper_ = os.getenv(\"HOME\") + \"/aiffel/rock_scissor_paper/paper\"\n",
    "resize_images_add(image_dir_path_paper_, 100)\n",
    "image_dir_path_rock_ = os.getenv(\"HOME\") + \"/aiffel/rock_scissor_paper/rock\"\n",
    "resize_images_add(image_dir_path_rock_, 100)\n",
    "image_dir_path_scissor_ = os.getenv(\"HOME\") + \"/aiffel/rock_scissor_paper/scissor\"\n",
    "resize_images_add(image_dir_path_scissor_, 100)"
   ]
  },
  {
   "cell_type": "code",
   "execution_count": 5,
   "id": "a1d7c819",
   "metadata": {},
   "outputs": [
    {
     "name": "stdout",
     "output_type": "stream",
     "text": [
      "학습 데이터(x_train)의 개수는 600개 입니다\n",
      "x_train shape: (600, 28, 28, 3)\n",
      "y_train shape: (600,)\n"
     ]
    }
   ],
   "source": [
    "import numpy as np\n",
    "\n",
    "def load_data(img_path, number_of_data=600):\n",
    "    # 가위: 0, 바위: 1, 보: 2\n",
    "    img_size = 28\n",
    "    color = 3\n",
    "    \n",
    "    # 이미지 데이터와 레이블 데이터를 담을 행렬을 생성\n",
    "    imgs = np.zeros(number_of_data * img_size * img_size * color, dtype=np.int32).reshape(number_of_data, img_size, img_size, color)\n",
    "    labels = np.zeros(number_of_data, dtype=np.int32)\n",
    "    \n",
    "    idx = 0\n",
    "    \n",
    "    modes = ['scissor', 'rock', 'paper']\n",
    "    for i, mode in enumerate(modes):\n",
    "        for file in glob.iglob(img_path + \"/\" + mode + '/train/' + \"/*.jpg\"):\n",
    "            img = np.array(Image.open(file), dtype=np.int32)\n",
    "            imgs[idx,:,:,:] = img\n",
    "            labels[idx] = i\n",
    "            idx += 1\n",
    "\n",
    "    print(\"학습 데이터(x_train)의 개수는 {}개 입니다\".format(idx))\n",
    "    return imgs, labels\n",
    "\n",
    "\n",
    "image_dir_path = os.getenv(\"HOME\") + \"/aiffel/rock_scissor_paper\"\n",
    "(x_train, y_train) = load_data(image_dir_path)\n",
    "x_train_norm = x_train / 255.0  # x_train 값의 범위를 0~1로 정규화\n",
    "#x_train_norm = (x_train - 127) / 127.0  # x_train 값의 범위를 0~1로 정규화\n",
    "\n",
    "print(\"x_train shape: {}\".format(x_train.shape))\n",
    "print(\"y_train shape: {}\".format(y_train.shape))"
   ]
  },
  {
   "cell_type": "code",
   "execution_count": 6,
   "id": "7030201a",
   "metadata": {},
   "outputs": [
    {
     "name": "stdout",
     "output_type": "stream",
     "text": [
      "라벨:  0\n"
     ]
    },
    {
     "data": {
      "image/png": "[encoded data removed]",
      "text/plain": [
       "<Figure size 432x288 with 1 Axes>"
      ]
     },
     "metadata": {
      "needs_background": "light"
     },
     "output_type": "display_data"
    }
   ],
   "source": [
    "import matplotlib.pyplot as plt\n",
    "\n",
    "plt.imshow(x_train[0])\n",
    "print('라벨: ', y_train[0])"
   ]
  },
  {
   "cell_type": "markdown",
   "id": "6199ccb0",
   "metadata": {},
   "source": [
    "### 2. 딥러닝 네트워크 설계하기"
   ]
  },
  {
   "cell_type": "code",
   "execution_count": 29,
   "id": "a9277974",
   "metadata": {},
   "outputs": [
    {
     "name": "stdout",
     "output_type": "stream",
     "text": [
      "Model: \"sequential_4\"\n",
      "_________________________________________________________________\n",
      "Layer (type)                 Output Shape              Param #   \n",
      "=================================================================\n",
      "conv2d_8 (Conv2D)            (None, 26, 26, 16)        448       \n",
      "_________________________________________________________________\n",
      "max_pooling2d_8 (MaxPooling2 (None, 13, 13, 16)        0         \n",
      "_________________________________________________________________\n",
      "conv2d_9 (Conv2D)            (None, 11, 11, 32)        4640      \n",
      "_________________________________________________________________\n",
      "max_pooling2d_9 (MaxPooling2 (None, 5, 5, 32)          0         \n",
      "_________________________________________________________________\n",
      "flatten_4 (Flatten)          (None, 800)               0         \n",
      "_________________________________________________________________\n",
      "dense_8 (Dense)              (None, 32)                25632     \n",
      "_________________________________________________________________\n",
      "dense_9 (Dense)              (None, 3)                 99        \n",
      "=================================================================\n",
      "Total params: 30,819\n",
      "Trainable params: 30,819\n",
      "Non-trainable params: 0\n",
      "_________________________________________________________________\n"
     ]
    }
   ],
   "source": [
    "import tensorflow as tf\n",
    "from tensorflow import keras\n",
    "\n",
    "model = keras.models.Sequential()\n",
    "model.add(keras.layers.Conv2D(16, (3,3), activation='relu', input_shape=(28, 28, 3)))\n",
    "model.add(keras.layers.MaxPool2D(2,2))\n",
    "model.add(keras.layers.Conv2D(32, (3,3), activation='relu'))\n",
    "model.add(keras.layers.MaxPooling2D(2,2))\n",
    "model.add(keras.layers.Flatten())\n",
    "model.add(keras.layers.Dense(32, activation='relu'))\n",
    "model.add(keras.layers.Dense(3, activation='softmax'))\n",
    "\n",
    "model.summary()"
   ]
  },
  {
   "cell_type": "markdown",
   "id": "2340dd40",
   "metadata": {},
   "source": [
    "### 3. 딥러닝 네트워크 학습하기"
   ]
  },
  {
   "cell_type": "code",
   "execution_count": 30,
   "id": "e78da014",
   "metadata": {},
   "outputs": [
    {
     "name": "stdout",
     "output_type": "stream",
     "text": [
      "Epoch 1/20\n",
      "38/38 [==============================] - 0s 3ms/step - loss: 1.0932 - accuracy: 0.3667\n",
      "Epoch 2/20\n",
      "38/38 [==============================] - 0s 3ms/step - loss: 1.0167 - accuracy: 0.5575\n",
      "Epoch 3/20\n",
      "38/38 [==============================] - 0s 3ms/step - loss: 0.8423 - accuracy: 0.6942\n",
      "Epoch 4/20\n",
      "38/38 [==============================] - 0s 3ms/step - loss: 0.5309 - accuracy: 0.8433\n",
      "Epoch 5/20\n",
      "38/38 [==============================] - 0s 3ms/step - loss: 0.2928 - accuracy: 0.9258\n",
      "Epoch 6/20\n",
      "38/38 [==============================] - 0s 3ms/step - loss: 0.1725 - accuracy: 0.9742\n",
      "Epoch 7/20\n",
      "38/38 [==============================] - 0s 3ms/step - loss: 0.1258 - accuracy: 0.9733\n",
      "Epoch 8/20\n",
      "38/38 [==============================] - 0s 3ms/step - loss: 0.0851 - accuracy: 0.9783\n",
      "Epoch 9/20\n",
      "38/38 [==============================] - 0s 3ms/step - loss: 0.0578 - accuracy: 0.9933\n",
      "Epoch 10/20\n",
      "38/38 [==============================] - 0s 3ms/step - loss: 0.0423 - accuracy: 0.9933\n",
      "Epoch 11/20\n",
      "38/38 [==============================] - 0s 3ms/step - loss: 0.0427 - accuracy: 0.9883\n",
      "Epoch 12/20\n",
      "38/38 [==============================] - 0s 3ms/step - loss: 0.0309 - accuracy: 0.9983\n",
      "Epoch 13/20\n",
      "38/38 [==============================] - 0s 3ms/step - loss: 0.0252 - accuracy: 0.9958\n",
      "Epoch 14/20\n",
      "38/38 [==============================] - 0s 3ms/step - loss: 0.0215 - accuracy: 0.9983\n",
      "Epoch 15/20\n",
      "38/38 [==============================] - 0s 3ms/step - loss: 0.0133 - accuracy: 1.0000\n",
      "Epoch 16/20\n",
      "38/38 [==============================] - 0s 3ms/step - loss: 0.0109 - accuracy: 1.0000\n",
      "Epoch 17/20\n",
      "38/38 [==============================] - 0s 3ms/step - loss: 0.0099 - accuracy: 1.0000\n",
      "Epoch 18/20\n",
      "38/38 [==============================] - 0s 3ms/step - loss: 0.0083 - accuracy: 1.0000\n",
      "Epoch 19/20\n",
      "38/38 [==============================] - 0s 3ms/step - loss: 0.0067 - accuracy: 1.0000\n",
      "Epoch 20/20\n",
      "38/38 [==============================] - 0s 3ms/step - loss: 0.0059 - accuracy: 1.0000\n"
     ]
    },
    {
     "data": {
      "text/plain": [
       "<keras.callbacks.History at 0x7f599de3a8b0>"
      ]
     },
     "execution_count": 30,
     "metadata": {},
     "output_type": "execute_result"
    }
   ],
   "source": [
    "x_train_reshaped = x_train_norm.reshape(-1, 28, 28, 3)\n",
    "\n",
    "model.compile(optimizer='adam',\n",
    "             loss='sparse_categorical_crossentropy',\n",
    "             metrics=['accuracy'])\n",
    "#sparse_categorical_crossentropy\n",
    "model.fit(x_train_reshaped, y_train, epochs=20)"
   ]
  },
  {
   "cell_type": "markdown",
   "id": "f2a5a8c0",
   "metadata": {},
   "source": [
    "### 4. 얼마나 잘 만들었는지 확인하기(테스트)"
   ]
  },
  {
   "cell_type": "code",
   "execution_count": 9,
   "id": "6d70ec82",
   "metadata": {},
   "outputs": [
    {
     "name": "stdout",
     "output_type": "stream",
     "text": [
      "100  images to be resized.\n",
      "100  images resized.\n",
      "100  images to be resized.\n",
      "100  images resized.\n",
      "100  images to be resized.\n",
      "100  images resized.\n"
     ]
    }
   ],
   "source": [
    "def resize_images_test(img_path, cnt = 0):\n",
    "    images = glob.glob(img_path + \"/*.jpg\")\n",
    "    \n",
    "    print(len(images), \" images to be resized.\")\n",
    "\n",
    "    for img in images:\n",
    "        old_img = Image.open(img)\n",
    "        new_img = old_img.resize(target_size, Image.ANTIALIAS)\n",
    "        new_img.save((img_path + '/' + str(cnt) + \".jpg\"), \"JPEG\")\n",
    "        cnt += 1\n",
    "        \n",
    "    print(cnt, \" images resized.\")\n",
    "\n",
    "image_dir_path_scissor = os.getenv(\"HOME\") + \"/aiffel/rock_scissor_paper/test/scissor\"\n",
    "resize_images_test(image_dir_path_scissor)\n",
    "\n",
    "image_dir_path_paper = os.getenv(\"HOME\") + \"/aiffel/rock_scissor_paper/test/paper\"\n",
    "resize_images_test(image_dir_path_paper)\n",
    "\n",
    "image_dir_path_rock = os.getenv(\"HOME\") + \"/aiffel/rock_scissor_paper/test/rock\"\n",
    "resize_images_test(image_dir_path_rock)"
   ]
  },
  {
   "cell_type": "code",
   "execution_count": 11,
   "id": "3a3cd443",
   "metadata": {},
   "outputs": [
    {
     "name": "stdout",
     "output_type": "stream",
     "text": [
      "레이블: 0, mode: scissor\n",
      "레이블: 1, mode: rock\n",
      "레이블: 2, mode: paper\n",
      "학습 데이터(x_train)의 개수는 300개 입니다\n"
     ]
    }
   ],
   "source": [
    "def load_data_test(img_path, number_of_data=600):\n",
    "    # 가위: 0, 바위: 1, 보: 2\n",
    "    img_size = 28\n",
    "    color = 3\n",
    "    \n",
    "    # 이미지 데이터와 레이블 데이터를 담을 행렬을 생성\n",
    "    imgs = np.zeros(number_of_data * img_size * img_size * color, dtype=np.int32).reshape(number_of_data, img_size, img_size, color)\n",
    "    labels = np.zeros(number_of_data, dtype=np.int32)\n",
    "    \n",
    "    idx = 0\n",
    "    \n",
    "    modes = ['scissor', 'rock', 'paper']\n",
    "    for i, mode in enumerate(modes):\n",
    "        print('레이블: {}, mode: {}'.format(i, mode))\n",
    "        for file in glob.iglob(img_path + \"/\" + mode + \"/*.jpg\"):\n",
    "            img = np.array(Image.open(file), dtype=np.int32)\n",
    "            imgs[idx,:,:,:] = img\n",
    "            labels[idx] = i\n",
    "            idx += 1\n",
    "\n",
    "    print(\"학습 데이터(x_train)의 개수는 {}개 입니다\".format(idx))\n",
    "    return imgs, labels\n",
    "\n",
    "\n",
    "test_image_dir_path = os.getenv(\"HOME\") + \"/aiffel/rock_scissor_paper/test\"\n",
    "(x_test, y_test) = load_data_test(test_image_dir_path)\n",
    "\n",
    "x_test_norm = x_test / 255.0\n",
    "#x_test_norm = (x_test - 127) / 127.0\n",
    "\n",
    "x_test_reshaped = x_test_norm.reshape(-1, 28, 28, 3)"
   ]
  },
  {
   "cell_type": "code",
   "execution_count": 31,
   "id": "cd74c000",
   "metadata": {},
   "outputs": [
    {
     "name": "stdout",
     "output_type": "stream",
     "text": [
      "19/19 - 0s - loss: 3.0922 - accuracy: 0.6483\n",
      "test_loss: 3.092235803604126 \n",
      "test_accuracy: 0.6483333110809326\n"
     ]
    }
   ],
   "source": [
    "test_loss, test_accuracy = model.evaluate(x_test_reshaped,y_test, verbose=2)\n",
    "print(\"test_loss: {} \".format(test_loss))\n",
    "print(\"test_accuracy: {}\".format(test_accuracy))"
   ]
  },
  {
   "cell_type": "code",
   "execution_count": 13,
   "id": "4066c400",
   "metadata": {},
   "outputs": [
    {
     "name": "stdout",
     "output_type": "stream",
     "text": [
      "model.predict() 결과 :  [9.9764121e-01 3.7727031e-04 1.9816342e-03]\n",
      "model이 추론한 가장 가능성이 높은 결과 :  0\n",
      "실제 데이터의 라벨 :  1\n"
     ]
    },
    {
     "data": {
      "image/png": "[encoded data removed]",
      "text/plain": [
       "<Figure size 432x288 with 1 Axes>"
      ]
     },
     "metadata": {
      "needs_background": "light"
     },
     "output_type": "display_data"
    }
   ],
   "source": [
    "predicted_result = model.predict(x_test_reshaped)  # model이 추론한 확률값. \n",
    "predicted_labels = np.argmax(predicted_result, axis=1)\n",
    "\n",
    "idx=130  #1번째 x_test를 살펴보자. \n",
    "print('model.predict() 결과 : ', predicted_result[idx])\n",
    "print('model이 추론한 가장 가능성이 높은 결과 : ', predicted_labels[idx])\n",
    "print('실제 데이터의 라벨 : ', y_test[idx])\n",
    "\n",
    "plt.imshow(x_test[idx],cmap=plt.cm.binary)\n",
    "plt.show()"
   ]
  },
  {
   "cell_type": "code",
   "execution_count": 14,
   "id": "319629d6",
   "metadata": {},
   "outputs": [
    {
     "name": "stdout",
     "output_type": "stream",
     "text": [
      "잘못 예측한 경우는 총 159개 입니다.\n",
      "예측확률분포: [9.6098125e-01 2.2979644e-04 3.8788993e-02]\n",
      "라벨: 1, 예측결과: 0\n"
     ]
    },
    {
     "data": {
      "image/png": "[encoded data removed]",
      "text/plain": [
       "<Figure size 432x288 with 1 Axes>"
      ]
     },
     "metadata": {
      "needs_background": "light"
     },
     "output_type": "display_data"
    },
    {
     "name": "stdout",
     "output_type": "stream",
     "text": [
      "예측확률분포: [4.1599533e-01 8.3878585e-05 5.8392078e-01]\n",
      "라벨: 1, 예측결과: 2\n"
     ]
    },
    {
     "data": {
      "image/png": "[encoded data removed]",
      "text/plain": [
       "<Figure size 432x288 with 1 Axes>"
      ]
     },
     "metadata": {
      "needs_background": "light"
     },
     "output_type": "display_data"
    },
    {
     "name": "stdout",
     "output_type": "stream",
     "text": [
      "예측확률분포: [9.1721869e-01 2.5799850e-04 8.2523234e-02]\n",
      "라벨: 1, 예측결과: 0\n"
     ]
    },
    {
     "data": {
      "image/png": "[encoded data removed]",
      "text/plain": [
       "<Figure size 432x288 with 1 Axes>"
      ]
     },
     "metadata": {
      "needs_background": "light"
     },
     "output_type": "display_data"
    },
    {
     "name": "stdout",
     "output_type": "stream",
     "text": [
      "예측확률분포: [9.7761989e-01 2.1649618e-04 2.2163650e-02]\n",
      "라벨: 1, 예측결과: 0\n"
     ]
    },
    {
     "data": {
      "image/png": "[encoded data removed]",
      "text/plain": [
       "<Figure size 432x288 with 1 Axes>"
      ]
     },
     "metadata": {
      "needs_background": "light"
     },
     "output_type": "display_data"
    },
    {
     "name": "stdout",
     "output_type": "stream",
     "text": [
      "예측확률분포: [0.8194735  0.03948035 0.14104609]\n",
      "라벨: 2, 예측결과: 0\n"
     ]
    },
    {
     "data": {
      "image/png": "[encoded data removed]",
      "text/plain": [
       "<Figure size 432x288 with 1 Axes>"
      ]
     },
     "metadata": {
      "needs_background": "light"
     },
     "output_type": "display_data"
    }
   ],
   "source": [
    "import random\n",
    "wrong_predict_list=[]\n",
    "for i, _ in enumerate(predicted_labels):\n",
    "    # i번째 test_labels과 y_test이 다른 경우만 모아 봅시다. \n",
    "    if predicted_labels[i] != y_test[i]:\n",
    "        wrong_predict_list.append(i)\n",
    "\n",
    "print('잘못 예측한 경우는 총 {}개 입니다.'.format(len(wrong_predict_list)))\n",
    "# wrong_predict_list 에서 랜덤하게 5개만 뽑아봅시다.\n",
    "samples = random.choices(population=wrong_predict_list, k=5)\n",
    "\n",
    "for n in samples:\n",
    "    print(\"예측확률분포: \" + str(predicted_result[n]))\n",
    "    print(\"라벨: \" + str(y_test[n]) + \", 예측결과: \" + str(predicted_labels[n]))\n",
    "    plt.imshow(x_test[n], cmap=plt.cm.binary)\n",
    "    plt.show()"
   ]
  },
  {
   "cell_type": "markdown",
   "id": "0cea79eb",
   "metadata": {},
   "source": [
    "### 5. 더 좋은 네트워크 만들어보기"
   ]
  },
  {
   "cell_type": "markdown",
   "id": "43c6bd6b",
   "metadata": {},
   "source": [
    "* 기본 예제 코드를 이용하여 test 데이터에 대해 다음과 같은 결과를 나타냄\n",
    " - loss: 3.0922 \n",
    " - accuracy: 0.6483\n",
    "* 통과 기준이 60%를 조금 넘기며 달성\n",
    "* 조금 더 나은 네트워크 만들어보기\n",
    " 1. train 데이터를 90도 회전하여 train에 추가해보기\n",
    " 2. Conv2D 레이어의 필터수를 키워보기"
   ]
  },
  {
   "cell_type": "markdown",
   "id": "f2573a4d",
   "metadata": {},
   "source": [
    "1. train 데이터를 90도 회전하여 train에 추가해보기"
   ]
  },
  {
   "cell_type": "code",
   "execution_count": 15,
   "id": "247648a7",
   "metadata": {},
   "outputs": [
    {
     "name": "stdout",
     "output_type": "stream",
     "text": [
      "100  images to be resized.\n",
      "100  images resized. (total data: 300)\n",
      "100  images to be resized.\n",
      "100  images resized. (total data: 300)\n",
      "100  images to be resized.\n",
      "100  images resized. (total data: 300)\n"
     ]
    }
   ],
   "source": [
    "def resize_images_add_rotate(img_path, cnt):\n",
    "    cnt_org = cnt\n",
    "    # 각 폴더 내에 add폴더를 만들어서 추가 이미지를 저장했음\n",
    "    images = glob.glob(img_path + \"/add/*.jpg\")\n",
    "\n",
    "    print(len(images), \" images to be resized.\")\n",
    "\n",
    "    for img in images:\n",
    "        old_img = Image.open(img)\n",
    "        new_img = old_img.resize(target_size, Image.ANTIALIAS).transpose(Image.ROTATE_90) # 이미지를 90도 회전\n",
    "        new_img.save(img_path + \"/train/\" + str(cnt) + '.jpg', \"JPEG\") # 새로운 이미지 path\n",
    "        cnt += 1\n",
    "        \n",
    "        \n",
    "    print(cnt - cnt_org, \" images resized. (total data: %d)\"%cnt)\n",
    "    \n",
    "image_dir_path_scissor = os.getenv(\"HOME\") + \"/aiffel/rock_scissor_paper/scissor\" #가위 이미지의 디렉토리 주소\n",
    "resize_images_add_rotate(image_dir_path_scissor, 200) #현재 200개의 데이터가 있으므로 cnt에 200을 넣어주어 201.jpg부터 저장\n",
    "image_dir_path_rock = os.getenv(\"HOME\") + \"/aiffel/rock_scissor_paper/rock\"\n",
    "resize_images_add_rotate(image_dir_path_rock, 200)\n",
    "image_dir_path_paper = os.getenv(\"HOME\") + \"/aiffel/rock_scissor_paper/paper\"\n",
    "resize_images_add_rotate(image_dir_path_paper, 200)\n"
   ]
  },
  {
   "cell_type": "code",
   "execution_count": 16,
   "id": "ef4d233d",
   "metadata": {},
   "outputs": [
    {
     "name": "stdout",
     "output_type": "stream",
     "text": [
      "100  images to be resized.\n",
      "100  images resized. (total data: 400)\n",
      "100  images to be resized.\n",
      "100  images resized. (total data: 400)\n",
      "100  images to be resized.\n",
      "100  images resized. (total data: 400)\n"
     ]
    }
   ],
   "source": [
    "def resize_images_rotate(img_path, cnt):\n",
    "    cnt_org = cnt\n",
    "    # 각 폴더 내에 add폴더를 만들어서 추가 이미지를 저장했음\n",
    "    images = glob.glob(img_path + \"/*.jpg\")\n",
    "\n",
    "    print(len(images), \" images to be resized.\")\n",
    "\n",
    "    for img in images:\n",
    "        old_img = Image.open(img)\n",
    "        new_img = old_img.resize(target_size, Image.ANTIALIAS).transpose(Image.ROTATE_90) # 이미지를 90도 회전\n",
    "        new_img.save(img_path + \"/train/\" + str(cnt) + '.jpg', \"JPEG\") # 새로운 이미지 path\n",
    "        cnt += 1\n",
    "        \n",
    "        \n",
    "    print(cnt - cnt_org, \" images resized. (total data: %d)\"%cnt)\n",
    "\n",
    "# 앞에서 저장한 100.jpg부터 저장하기 위해 count_add를 100으로 지정\n",
    "image_dir_path_paper = os.getenv(\"HOME\") + \"/aiffel/rock_scissor_paper/paper\"\n",
    "resize_images_rotate(image_dir_path_paper, 300)\n",
    "image_dir_path_rock = os.getenv(\"HOME\") + \"/aiffel/rock_scissor_paper/rock\"\n",
    "resize_images_rotate(image_dir_path_rock, 300)\n",
    "image_dir_path_scissor = os.getenv(\"HOME\") + \"/aiffel/rock_scissor_paper/scissor\"\n",
    "resize_images_rotate(image_dir_path_scissor, 300)"
   ]
  },
  {
   "cell_type": "code",
   "execution_count": 17,
   "id": "b4d3a572",
   "metadata": {},
   "outputs": [
    {
     "name": "stdout",
     "output_type": "stream",
     "text": [
      "학습 데이터(x_train)의 개수는 1200개 입니다\n",
      "x_train shape: (1200, 28, 28, 3)\n",
      "y_train shape: (1200,)\n"
     ]
    }
   ],
   "source": [
    "import numpy as np\n",
    "\n",
    "def load_data(img_path, number_of_data=600):\n",
    "    # 가위: 0, 바위: 1, 보: 2\n",
    "    img_size = 28\n",
    "    color = 3\n",
    "    \n",
    "    # 이미지 데이터와 레이블 데이터를 담을 행렬을 생성\n",
    "    imgs = np.zeros(number_of_data * img_size * img_size * color, dtype=np.int32).reshape(number_of_data, img_size, img_size, color)\n",
    "    labels = np.zeros(number_of_data, dtype=np.int32)\n",
    "    \n",
    "    idx = 0\n",
    "    \n",
    "    modes = ['scissor', 'rock', 'paper']\n",
    "    for i, mode in enumerate(modes):\n",
    "        for file in glob.iglob(img_path + \"/\" + mode + '/train/' + \"/*.jpg\"):\n",
    "            img = np.array(Image.open(file), dtype=np.int32)\n",
    "            imgs[idx,:,:,:] = img\n",
    "            labels[idx] = i\n",
    "            idx += 1\n",
    "\n",
    "    print(\"학습 데이터(x_train)의 개수는 {}개 입니다\".format(idx))\n",
    "    return imgs, labels\n",
    "\n",
    "\n",
    "image_dir_path = os.getenv(\"HOME\") + \"/aiffel/rock_scissor_paper\"\n",
    "(x_train, y_train) = load_data(image_dir_path, 1200)\n",
    "x_train_norm = x_train / 255.0  # x_train 값의 범위를 0~1로 정규화\n",
    "#x_train_norm = (x_train - 127) / 127.0  # x_train 값의 범위를 0~1로 정규화\n",
    "\n",
    "print(\"x_train shape: {}\".format(x_train.shape))\n",
    "print(\"y_train shape: {}\".format(y_train.shape))"
   ]
  },
  {
   "cell_type": "code",
   "execution_count": 23,
   "id": "105c2e38",
   "metadata": {},
   "outputs": [
    {
     "name": "stdout",
     "output_type": "stream",
     "text": [
      "Model: \"sequential_2\"\n",
      "_________________________________________________________________\n",
      "Layer (type)                 Output Shape              Param #   \n",
      "=================================================================\n",
      "conv2d_4 (Conv2D)            (None, 26, 26, 16)        448       \n",
      "_________________________________________________________________\n",
      "max_pooling2d_4 (MaxPooling2 (None, 13, 13, 16)        0         \n",
      "_________________________________________________________________\n",
      "conv2d_5 (Conv2D)            (None, 11, 11, 32)        4640      \n",
      "_________________________________________________________________\n",
      "max_pooling2d_5 (MaxPooling2 (None, 5, 5, 32)          0         \n",
      "_________________________________________________________________\n",
      "flatten_2 (Flatten)          (None, 800)               0         \n",
      "_________________________________________________________________\n",
      "dense_4 (Dense)              (None, 32)                25632     \n",
      "_________________________________________________________________\n",
      "dense_5 (Dense)              (None, 3)                 99        \n",
      "=================================================================\n",
      "Total params: 30,819\n",
      "Trainable params: 30,819\n",
      "Non-trainable params: 0\n",
      "_________________________________________________________________\n"
     ]
    }
   ],
   "source": [
    "model_1 = keras.models.Sequential()\n",
    "model_1.add(keras.layers.Conv2D(16, (3,3), activation='relu', input_shape=(28, 28, 3)))\n",
    "model_1.add(keras.layers.MaxPool2D(2,2))\n",
    "model_1.add(keras.layers.Conv2D(32, (3,3), activation='relu'))\n",
    "model_1.add(keras.layers.MaxPooling2D(2,2))\n",
    "model_1.add(keras.layers.Flatten())\n",
    "model_1.add(keras.layers.Dense(32, activation='relu'))\n",
    "model_1.add(keras.layers.Dense(3, activation='softmax'))\n",
    "\n",
    "model_1.summary()"
   ]
  },
  {
   "cell_type": "code",
   "execution_count": 24,
   "id": "162592b7",
   "metadata": {},
   "outputs": [
    {
     "name": "stdout",
     "output_type": "stream",
     "text": [
      "Epoch 1/20\n",
      "38/38 [==============================] - 0s 3ms/step - loss: 1.0860 - accuracy: 0.4717\n",
      "Epoch 2/20\n",
      "38/38 [==============================] - 0s 3ms/step - loss: 1.0027 - accuracy: 0.5667\n",
      "Epoch 3/20\n",
      "38/38 [==============================] - 0s 3ms/step - loss: 0.7944 - accuracy: 0.7617\n",
      "Epoch 4/20\n",
      "38/38 [==============================] - 0s 3ms/step - loss: 0.5174 - accuracy: 0.8650\n",
      "Epoch 5/20\n",
      "38/38 [==============================] - 0s 3ms/step - loss: 0.3139 - accuracy: 0.9425\n",
      "Epoch 6/20\n",
      "38/38 [==============================] - 0s 3ms/step - loss: 0.1854 - accuracy: 0.9750\n",
      "Epoch 7/20\n",
      "38/38 [==============================] - 0s 3ms/step - loss: 0.1321 - accuracy: 0.9817\n",
      "Epoch 8/20\n",
      "38/38 [==============================] - 0s 3ms/step - loss: 0.0909 - accuracy: 0.9875\n",
      "Epoch 9/20\n",
      "38/38 [==============================] - 0s 3ms/step - loss: 0.0649 - accuracy: 0.9942\n",
      "Epoch 10/20\n",
      "38/38 [==============================] - 0s 3ms/step - loss: 0.0531 - accuracy: 0.9933\n",
      "Epoch 11/20\n",
      "38/38 [==============================] - 0s 3ms/step - loss: 0.0438 - accuracy: 0.9942\n",
      "Epoch 12/20\n",
      "38/38 [==============================] - 0s 3ms/step - loss: 0.0661 - accuracy: 0.9900\n",
      "Epoch 13/20\n",
      "38/38 [==============================] - 0s 3ms/step - loss: 0.0301 - accuracy: 0.9958\n",
      "Epoch 14/20\n",
      "38/38 [==============================] - 0s 3ms/step - loss: 0.0225 - accuracy: 0.9975\n",
      "Epoch 15/20\n",
      "38/38 [==============================] - 0s 3ms/step - loss: 0.0192 - accuracy: 0.9967\n",
      "Epoch 16/20\n",
      "38/38 [==============================] - 0s 3ms/step - loss: 0.0149 - accuracy: 0.9983\n",
      "Epoch 17/20\n",
      "38/38 [==============================] - 0s 3ms/step - loss: 0.0120 - accuracy: 0.9992\n",
      "Epoch 18/20\n",
      "38/38 [==============================] - 0s 3ms/step - loss: 0.0096 - accuracy: 1.0000\n",
      "Epoch 19/20\n",
      "38/38 [==============================] - 0s 3ms/step - loss: 0.0082 - accuracy: 1.0000\n",
      "Epoch 20/20\n",
      "38/38 [==============================] - 0s 3ms/step - loss: 0.0074 - accuracy: 1.0000\n"
     ]
    },
    {
     "data": {
      "text/plain": [
       "<keras.callbacks.History at 0x7f58874065e0>"
      ]
     },
     "execution_count": 24,
     "metadata": {},
     "output_type": "execute_result"
    }
   ],
   "source": [
    "x_train_reshaped = x_train_norm.reshape(-1, 28, 28, 3)\n",
    "\n",
    "model_1.compile(optimizer='adam',\n",
    "             loss='sparse_categorical_crossentropy',\n",
    "             metrics=['accuracy'])\n",
    "#sparse_categorical_crossentropy\n",
    "model_1.fit(x_train_reshaped, y_train, epochs=20)"
   ]
  },
  {
   "cell_type": "code",
   "execution_count": 46,
   "id": "7d7c4900",
   "metadata": {},
   "outputs": [
    {
     "name": "stdout",
     "output_type": "stream",
     "text": [
      "19/19 - 0s - loss: 5.5873 - accuracy: 0.6900\n",
      "test_loss: 5.587311267852783 \n",
      "test_accuracy: 0.6899999976158142\n"
     ]
    }
   ],
   "source": [
    "test_loss, test_accuracy = model_1.evaluate(x_test_reshaped,y_test, verbose=2)\n",
    "print(\"test_loss: {} \".format(test_loss))\n",
    "print(\"test_accuracy: {}\".format(test_accuracy))"
   ]
  },
  {
   "cell_type": "markdown",
   "id": "dcefe897",
   "metadata": {},
   "source": [
    "2. Conv2D 레이어의 필터수를 키워보기"
   ]
  },
  {
   "cell_type": "code",
   "execution_count": 44,
   "id": "b529324e",
   "metadata": {
    "scrolled": true
   },
   "outputs": [
    {
     "name": "stdout",
     "output_type": "stream",
     "text": [
      "Model: \"sequential_11\"\n",
      "_________________________________________________________________\n",
      "Layer (type)                 Output Shape              Param #   \n",
      "=================================================================\n",
      "conv2d_22 (Conv2D)           (None, 26, 26, 256)       7168      \n",
      "_________________________________________________________________\n",
      "max_pooling2d_22 (MaxPooling (None, 13, 13, 256)       0         \n",
      "_________________________________________________________________\n",
      "conv2d_23 (Conv2D)           (None, 11, 11, 32)        73760     \n",
      "_________________________________________________________________\n",
      "max_pooling2d_23 (MaxPooling (None, 5, 5, 32)          0         \n",
      "_________________________________________________________________\n",
      "flatten_11 (Flatten)         (None, 800)               0         \n",
      "_________________________________________________________________\n",
      "dense_22 (Dense)             (None, 32)                25632     \n",
      "_________________________________________________________________\n",
      "dense_23 (Dense)             (None, 3)                 99        \n",
      "=================================================================\n",
      "Total params: 106,659\n",
      "Trainable params: 106,659\n",
      "Non-trainable params: 0\n",
      "_________________________________________________________________\n",
      "Epoch 1/20\n",
      "38/38 [==============================] - 0s 5ms/step - loss: 1.1039 - accuracy: 0.3667\n",
      "Epoch 2/20\n",
      "38/38 [==============================] - 0s 4ms/step - loss: 1.0611 - accuracy: 0.4958\n",
      "Epoch 3/20\n",
      "38/38 [==============================] - 0s 4ms/step - loss: 0.7913 - accuracy: 0.7308\n",
      "Epoch 4/20\n",
      "38/38 [==============================] - 0s 4ms/step - loss: 0.4147 - accuracy: 0.8942\n",
      "Epoch 5/20\n",
      "38/38 [==============================] - 0s 4ms/step - loss: 0.2475 - accuracy: 0.9283\n",
      "Epoch 6/20\n",
      "38/38 [==============================] - 0s 4ms/step - loss: 0.1614 - accuracy: 0.9558\n",
      "Epoch 7/20\n",
      "38/38 [==============================] - 0s 4ms/step - loss: 0.1358 - accuracy: 0.9625\n",
      "Epoch 8/20\n",
      "38/38 [==============================] - 0s 4ms/step - loss: 0.0879 - accuracy: 0.9767\n",
      "Epoch 9/20\n",
      "38/38 [==============================] - 0s 4ms/step - loss: 0.0543 - accuracy: 0.9908\n",
      "Epoch 10/20\n",
      "38/38 [==============================] - 0s 4ms/step - loss: 0.0480 - accuracy: 0.9900\n",
      "Epoch 11/20\n",
      "38/38 [==============================] - 0s 4ms/step - loss: 0.0513 - accuracy: 0.9892\n",
      "Epoch 12/20\n",
      "38/38 [==============================] - 0s 4ms/step - loss: 0.0377 - accuracy: 0.9917\n",
      "Epoch 13/20\n",
      "38/38 [==============================] - 0s 4ms/step - loss: 0.0286 - accuracy: 0.9933\n",
      "Epoch 14/20\n",
      "38/38 [==============================] - 0s 4ms/step - loss: 0.0279 - accuracy: 0.9950\n",
      "Epoch 15/20\n",
      "38/38 [==============================] - 0s 4ms/step - loss: 0.0158 - accuracy: 0.9983\n",
      "Epoch 16/20\n",
      "38/38 [==============================] - 0s 4ms/step - loss: 0.0148 - accuracy: 0.9983\n",
      "Epoch 17/20\n",
      "38/38 [==============================] - 0s 4ms/step - loss: 0.0114 - accuracy: 0.9983\n",
      "Epoch 18/20\n",
      "38/38 [==============================] - 0s 4ms/step - loss: 0.0108 - accuracy: 0.9992\n",
      "Epoch 19/20\n",
      "38/38 [==============================] - 0s 4ms/step - loss: 0.0093 - accuracy: 0.9992\n",
      "Epoch 20/20\n",
      "38/38 [==============================] - 0s 4ms/step - loss: 0.0063 - accuracy: 1.0000\n"
     ]
    },
    {
     "data": {
      "text/plain": [
       "<keras.callbacks.History at 0x7f58872f0e20>"
      ]
     },
     "execution_count": 44,
     "metadata": {},
     "output_type": "execute_result"
    }
   ],
   "source": [
    "model_2 = keras.models.Sequential()\n",
    "model_2.add(keras.layers.Conv2D(256, (3,3), activation='relu', input_shape=(28, 28, 3)))\n",
    "model_2.add(keras.layers.MaxPool2D(2,2))\n",
    "model_2.add(keras.layers.Conv2D(32, (3,3), activation='relu'))\n",
    "model_2.add(keras.layers.MaxPooling2D(2,2))\n",
    "model_2.add(keras.layers.Flatten())\n",
    "model_2.add(keras.layers.Dense(32, activation='relu'))\n",
    "model_2.add(keras.layers.Dense(3, activation='softmax'))\n",
    "\n",
    "model_2.summary()\n",
    "\n",
    "x_train_reshaped = x_train_norm.reshape(-1, 28, 28, 3)\n",
    "\n",
    "model_2.compile(optimizer='adam',\n",
    "             loss='sparse_categorical_crossentropy',\n",
    "             metrics=['accuracy'])\n",
    "#sparse_categorical_crossentropy\n",
    "model_2.fit(x_train_reshaped, y_train, epochs=20)"
   ]
  },
  {
   "cell_type": "code",
   "execution_count": 45,
   "id": "20ed9a15",
   "metadata": {},
   "outputs": [
    {
     "name": "stdout",
     "output_type": "stream",
     "text": [
      "19/19 - 0s - loss: 2.9265 - accuracy: 0.6967\n",
      "test_loss: 2.926525354385376 \n",
      "test_accuracy: 0.6966666579246521\n"
     ]
    }
   ],
   "source": [
    "test_loss, test_accuracy = model_2.evaluate(x_test_reshaped,y_test, verbose=2)\n",
    "print(\"test_loss: {} \".format(test_loss))\n",
    "print(\"test_accuracy: {}\".format(test_accuracy))"
   ]
  },
  {
   "cell_type": "markdown",
   "id": "1e8e4461",
   "metadata": {},
   "source": [
    "### 6. 회고"
   ]
  },
  {
   "cell_type": "markdown",
   "id": "2d6c9fd2",
   "metadata": {},
   "source": [
    "* 두 가지 방법으로 네트워크를 더욱 좋게 만들어 보려고 했습니다.  \n",
    "분명 조금은 향상된 결과를 보이긴 했으나 여전히 loss 값이 높게 나타나는 것을 볼 수 있습니다.\n",
    "* 네트워크 성능이 크게 향상되지 않은 이유로\n",
    " 1. 테스트 데이터의 입력 이미지가 눈으로 보아도 구분이 어려운 것이 많음\n",
    " 2. 입력 데이터의 크기가 28x28로 매우 작기때문에 이미지에서 뽑아낼 수 있는 feature가 많이 않았을 것\n",
    " 3. 학습 데이터의 수가 변경된 네트워크에서 총 1200장이었으므로 학습에 충분한 양이라고 보기 어려움\n",
    " 특히 1번의 이유가 가장 크지 않을까 생각됩니다. 배경이 깨끗하지 못하기에 손의 모양을 구분하는 것이 어렵다고 생각합니다.  \n",
    "---  \n",
    "  \n",
    "* 딥러닝을 네트워크부터 작성하는 것이 처음이었습니다. 그러나 라이브러리를 활용하니 큰 어려움 없이 구현할 수 있었습니다.  \n",
    "해당 프로젝트에서 어려웠던 점은 데이터들의 사이즈를 맞춰주는 것이었습니다. numpy의 array활용법을 더 공부해야할 것 같습니다.  \n",
    "또한 이미지를 출력해주는 방법에 대해서도 앞으로의 과정에 있어 매우 중요해보입니다.  \n",
    "직접 눈으로 확인해보는 것 만큼 좋은 방법은 없기에, 이미지를 출력하는 방법에 대해서는 숙달이 필요할 것 같습니다.  \n",
    "처음 한 과제치고는 어렵지는 않았지만, 생각해보아야 할 것들이 많은 과제였습니다."
   ]
  }
 ],
 "metadata": {
  "kernelspec": {
   "display_name": "Python 3 (ipykernel)",
   "language": "python",
   "name": "python3"
  },
  "language_info": {
   "codemirror_mode": {
    "name": "ipython",
    "version": 3
   },
   "file_extension": ".py",
   "mimetype": "text/x-python",
   "name": "python",
   "nbconvert_exporter": "python",
   "pygments_lexer": "ipython3",
   "version": "3.9.7"
  }
 },
 "nbformat": 4,
 "nbformat_minor": 5
}
