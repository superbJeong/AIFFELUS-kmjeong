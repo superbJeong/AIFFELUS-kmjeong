{
 "cells": [
  {
   "cell_type": "markdown",
   "id": "62be9584",
   "metadata": {},
   "source": [
    "# 미니 프로젝트 : 가위바위보 분류기를 만들자\n",
    "\n",
    "### 1. 데이터를 준비하자\n",
    "#### 1.1 데이터 만들기"
   ]
  },
  {
   "cell_type": "code",
   "execution_count": null,
   "id": "51627d03",
   "metadata": {},
   "outputs": [],
   "source": []
  },
  {
   "cell_type": "markdown",
   "id": "1c9acc97",
   "metadata": {},
   "source": [
    "#### 1.2 디렉토리 만들기"
   ]
  },
  {
   "cell_type": "code",
   "execution_count": null,
   "id": "23bb91f6",
   "metadata": {},
   "outputs": [],
   "source": []
  },
  {
   "cell_type": "markdown",
   "id": "98f07a07",
   "metadata": {},
   "source": [
    "#### 1.3 데이터 불러오기 + Resize 하기"
   ]
  },
  {
   "cell_type": "code",
   "execution_count": 261,
   "id": "f3f74b2b",
   "metadata": {},
   "outputs": [
    {
     "name": "stdout",
     "output_type": "stream",
     "text": [
      "PIL 라이브러리 import 완료!\n"
     ]
    }
   ],
   "source": [
    "from PIL import Image\n",
    "import glob\n",
    "import os\n",
    "\n",
    "print(\"PIL 라이브러리 import 완료!\")"
   ]
  },
  {
   "cell_type": "code",
   "execution_count": 262,
   "id": "7aeed93f",
   "metadata": {},
   "outputs": [
    {
     "name": "stdout",
     "output_type": "stream",
     "text": [
      "100  images to be resized.\n",
      "100  images resized.\n",
      "가위 이미지 resize 완료!\n"
     ]
    }
   ],
   "source": [
    "target_size = (28, 28) # 변환 할 이미지 사이즈를 지정\n",
    "\n",
    "def resize_images(img_path):\n",
    "    images = glob.glob(img_path + \"/*.jpg\")\n",
    "    \n",
    "    print(len(images), \" images to be resized.\")\n",
    "        \n",
    "    count = 0\n",
    "    for img in images:\n",
    "        old_img = Image.open(img)\n",
    "        new_img = old_img.resize(target_size, Image.ANTIALIAS)\n",
    "        new_img.save((img_path + '/train/' + str(count) + \".jpg\"), \"JPEG\")\n",
    "        count += 1\n",
    "        \n",
    "    print(len(images), \" images resized.\")\n",
    "    \n",
    "# 가위 이미지가 저장된 디렉토리의 모든 jpg 파일을 불러옴\n",
    "image_dir_path_scissor = os.getenv(\"HOME\") + \"/aiffel/rock_scissor_paper/scissor\"\n",
    "resize_images(image_dir_path_scissor)\n",
    "\n",
    "print(\"가위 이미지 resize 완료!\")"
   ]
  },
  {
   "cell_type": "code",
   "execution_count": 263,
   "id": "7682771f",
   "metadata": {
    "scrolled": false
   },
   "outputs": [
    {
     "name": "stdout",
     "output_type": "stream",
     "text": [
      "100  images to be resized.\n",
      "100  images resized.\n",
      "100  images to be resized.\n",
      "100  images resized.\n"
     ]
    }
   ],
   "source": [
    "# 가위 이미지와 마찬가지로 바위 및 보 이미지도 resize 해줌\n",
    "image_dir_path_rock = os.getenv(\"HOME\") + \"/aiffel/rock_scissor_paper/rock\"\n",
    "resize_images(image_dir_path_rock)\n",
    "\n",
    "image_dir_path_paper = os.getenv(\"HOME\") + \"/aiffel/rock_scissor_paper/paper\"\n",
    "resize_images(image_dir_path_paper)"
   ]
  },
  {
   "cell_type": "code",
   "execution_count": 264,
   "id": "f2863f64",
   "metadata": {},
   "outputs": [
    {
     "name": "stdout",
     "output_type": "stream",
     "text": [
      "100  images to be resized.\n",
      "100  images resized.\n",
      "100  images to be resized.\n",
      "100  images resized.\n",
      "100  images to be resized.\n",
      "100  images resized.\n"
     ]
    }
   ],
   "source": [
    "# 팀원 자료를 리사이즈 해주는 함수\n",
    "def resize_images_add(img_path):\n",
    "    \n",
    "    # 각 폴더 내에 add폴더를 만들어서 팀원의 이미지를 저장했음\n",
    "    images = glob.glob(img_path + \"/add/*.jpg\")\n",
    "\n",
    "    print(len(images), \" images to be resized.\")\n",
    "    \n",
    "    count = 100 # 100.jpg부터 저장하기 위해 count를 100으로 지정\n",
    "    for img in images:\n",
    "        old_img = Image.open(img)\n",
    "        new_img = old_img.resize(target_size, Image.ANTIALIAS)\n",
    "        new_img.save(img_path + \"/train/\" + str(count) + '.jpg', \"JPEG\") # 새로운 이미지 path\n",
    "        count += 1\n",
    "        \n",
    "        \n",
    "    print(len(images), \" images resized.\")\n",
    "    \n",
    "image_dir_path_paper_ = os.getenv(\"HOME\") + \"/aiffel/rock_scissor_paper/paper\"\n",
    "resize_images_add(image_dir_path_paper_)\n",
    "image_dir_path_rock_ = os.getenv(\"HOME\") + \"/aiffel/rock_scissor_paper/rock\"\n",
    "resize_images_add(image_dir_path_rock_)\n",
    "image_dir_path_scissor_ = os.getenv(\"HOME\") + \"/aiffel/rock_scissor_paper/scissor\"\n",
    "resize_images_add(image_dir_path_scissor_)"
   ]
  },
  {
   "cell_type": "code",
   "execution_count": 265,
   "id": "0fc27a23",
   "metadata": {},
   "outputs": [
    {
     "name": "stdout",
     "output_type": "stream",
     "text": [
      "학습 데이터(x_train)의 개수는 600개 입니다\n",
      "x_train shape: (600, 28, 28, 3)\n",
      "y_train shape: (600,)\n"
     ]
    }
   ],
   "source": [
    "import numpy as np\n",
    "\n",
    "def load_data(img_path, number_of_data=600):\n",
    "    # 가위: 0, 바위: 1, 보: 2\n",
    "    img_size = 28\n",
    "    color = 3\n",
    "    \n",
    "    # 이미지 데이터와 레이블 데이터를 담을 행렬을 생성\n",
    "    imgs = np.zeros(number_of_data * img_size * img_size * color, dtype=np.int32).reshape(number_of_data, img_size, img_size, color)\n",
    "    labels = np.zeros(number_of_data, dtype=np.int32)\n",
    "    \n",
    "    idx = 0\n",
    "    \n",
    "    modes = ['scissor', 'rock', 'paper']\n",
    "    for i, mode in enumerate(modes):\n",
    "        for file in glob.iglob(img_path + \"/\" + mode + '/train/' + \"/*.jpg\"):\n",
    "            img = np.array(Image.open(file), dtype=np.int32)\n",
    "            imgs[idx,:,:,:] = img\n",
    "            labels[idx] = i\n",
    "            idx += 1\n",
    "\n",
    "    print(\"학습 데이터(x_train)의 개수는 {}개 입니다\".format(idx))\n",
    "    return imgs, labels\n",
    "\n",
    "\n",
    "image_dir_path = os.getenv(\"HOME\") + \"/aiffel/rock_scissor_paper\"\n",
    "(x_train, y_train) = load_data(image_dir_path)\n",
    "x_train_norm = x_train / 255.0  # x_train 값의 범위를 0~1로 정규화\n",
    "#x_train_norm = (x_train - 127) / 127.0  # x_train 값의 범위를 0~1로 정규화\n",
    "\n",
    "print(\"x_train shape: {}\".format(x_train.shape))\n",
    "print(\"y_train shape: {}\".format(y_train.shape))"
   ]
  },
  {
   "cell_type": "code",
   "execution_count": 266,
   "id": "102942a6",
   "metadata": {},
   "outputs": [
    {
     "name": "stdout",
     "output_type": "stream",
     "text": [
      "라벨:  0\n"
     ]
    },
    {
     "data": {
      "image/png": "[encoded data removed]",
      "text/plain": [
       "<Figure size 432x288 with 1 Axes>"
      ]
     },
     "metadata": {
      "needs_background": "light"
     },
     "output_type": "display_data"
    }
   ],
   "source": [
    "import matplotlib.pyplot as plt\n",
    "\n",
    "plt.imshow(x_train[0])\n",
    "print('라벨: ', y_train[0])"
   ]
  },
  {
   "cell_type": "code",
   "execution_count": null,
   "id": "589f6ffb",
   "metadata": {},
   "outputs": [],
   "source": []
  },
  {
   "cell_type": "markdown",
   "id": "dfb0825e",
   "metadata": {},
   "source": [
    "### 2. 딥러닝 네트워크 설계하기"
   ]
  },
  {
   "cell_type": "code",
   "execution_count": 277,
   "id": "b057a3c9",
   "metadata": {},
   "outputs": [
    {
     "name": "stdout",
     "output_type": "stream",
     "text": [
      "Model: \"sequential_50\"\n",
      "_________________________________________________________________\n",
      "Layer (type)                 Output Shape              Param #   \n",
      "=================================================================\n",
      "conv2d_118 (Conv2D)          (None, 26, 26, 16)        448       \n",
      "_________________________________________________________________\n",
      "max_pooling2d_118 (MaxPoolin (None, 13, 13, 16)        0         \n",
      "_________________________________________________________________\n",
      "conv2d_119 (Conv2D)          (None, 11, 11, 32)        4640      \n",
      "_________________________________________________________________\n",
      "max_pooling2d_119 (MaxPoolin (None, 5, 5, 32)          0         \n",
      "_________________________________________________________________\n",
      "flatten_50 (Flatten)         (None, 800)               0         \n",
      "_________________________________________________________________\n",
      "dense_97 (Dense)             (None, 32)                25632     \n",
      "_________________________________________________________________\n",
      "dense_98 (Dense)             (None, 3)                 99        \n",
      "=================================================================\n",
      "Total params: 30,819\n",
      "Trainable params: 30,819\n",
      "Non-trainable params: 0\n",
      "_________________________________________________________________\n"
     ]
    }
   ],
   "source": [
    "import tensorflow as tf\n",
    "from tensorflow import keras\n",
    "\n",
    "model = keras.models.Sequential()\n",
    "model.add(keras.layers.Conv2D(16, (3,3), activation='relu', input_shape=(28, 28, 3)))\n",
    "model.add(keras.layers.MaxPool2D(2,2))\n",
    "model.add(keras.layers.Conv2D(32, (3,3), activation='relu'))\n",
    "model.add(keras.layers.MaxPooling2D(2,2))\n",
    "model.add(keras.layers.Flatten())\n",
    "model.add(keras.layers.Dense(32, activation='relu'))\n",
    "model.add(keras.layers.Dense(3, activation='softmax'))\n",
    "\n",
    "model.summary()"
   ]
  },
  {
   "cell_type": "markdown",
   "id": "5d27896a",
   "metadata": {},
   "source": [
    "### 3. 딥러닝 네트워크 학습하기"
   ]
  },
  {
   "cell_type": "code",
   "execution_count": 278,
   "id": "e604ff26",
   "metadata": {},
   "outputs": [
    {
     "name": "stdout",
     "output_type": "stream",
     "text": [
      "Epoch 1/20\n",
      "19/19 [==============================] - 0s 3ms/step - loss: 1.0931 - accuracy: 0.3433\n",
      "Epoch 2/20\n",
      "19/19 [==============================] - 0s 3ms/step - loss: 1.0227 - accuracy: 0.5817\n",
      "Epoch 3/20\n",
      "19/19 [==============================] - 0s 3ms/step - loss: 0.9050 - accuracy: 0.7150\n",
      "Epoch 4/20\n",
      "19/19 [==============================] - 0s 3ms/step - loss: 0.7117 - accuracy: 0.8850\n",
      "Epoch 5/20\n",
      "19/19 [==============================] - 0s 3ms/step - loss: 0.5071 - accuracy: 0.9067\n",
      "Epoch 6/20\n",
      "19/19 [==============================] - 0s 3ms/step - loss: 0.3450 - accuracy: 0.9250\n",
      "Epoch 7/20\n",
      "19/19 [==============================] - 0s 3ms/step - loss: 0.2479 - accuracy: 0.9533\n",
      "Epoch 8/20\n",
      "19/19 [==============================] - 0s 3ms/step - loss: 0.1600 - accuracy: 0.9767\n",
      "Epoch 9/20\n",
      "19/19 [==============================] - 0s 3ms/step - loss: 0.1429 - accuracy: 0.9683\n",
      "Epoch 10/20\n",
      "19/19 [==============================] - 0s 3ms/step - loss: 0.0917 - accuracy: 0.9867\n",
      "Epoch 11/20\n",
      "19/19 [==============================] - 0s 3ms/step - loss: 0.0713 - accuracy: 0.9900\n",
      "Epoch 12/20\n",
      "19/19 [==============================] - 0s 3ms/step - loss: 0.0552 - accuracy: 0.9933\n",
      "Epoch 13/20\n",
      "19/19 [==============================] - 0s 3ms/step - loss: 0.0574 - accuracy: 0.9900\n",
      "Epoch 14/20\n",
      "19/19 [==============================] - 0s 3ms/step - loss: 0.0523 - accuracy: 0.9950\n",
      "Epoch 15/20\n",
      "19/19 [==============================] - 0s 3ms/step - loss: 0.0483 - accuracy: 0.9883\n",
      "Epoch 16/20\n",
      "19/19 [==============================] - 0s 3ms/step - loss: 0.0269 - accuracy: 0.9967\n",
      "Epoch 17/20\n",
      "19/19 [==============================] - 0s 3ms/step - loss: 0.0232 - accuracy: 0.9967\n",
      "Epoch 18/20\n",
      "19/19 [==============================] - 0s 3ms/step - loss: 0.0206 - accuracy: 0.9983\n",
      "Epoch 19/20\n",
      "19/19 [==============================] - 0s 3ms/step - loss: 0.0164 - accuracy: 0.9983\n",
      "Epoch 20/20\n",
      "19/19 [==============================] - 0s 3ms/step - loss: 0.0154 - accuracy: 0.9983\n"
     ]
    },
    {
     "data": {
      "text/plain": [
       "<keras.callbacks.History at 0x7f00344170a0>"
      ]
     },
     "execution_count": 278,
     "metadata": {},
     "output_type": "execute_result"
    }
   ],
   "source": [
    "x_train_reshaped = x_train_norm.reshape(-1, 28, 28, 3)\n",
    "\n",
    "model.compile(optimizer='adam',\n",
    "             loss='sparse_categorical_crossentropy',\n",
    "             metrics=['accuracy'])\n",
    "\n",
    "model.fit(x_train_reshaped, y_train, epochs=20)"
   ]
  },
  {
   "cell_type": "markdown",
   "id": "e9cd0a42",
   "metadata": {},
   "source": [
    "### 4. 얼마나 잘 만들었는지 확인하기(테스트)"
   ]
  },
  {
   "cell_type": "code",
   "execution_count": 269,
   "id": "65b99716",
   "metadata": {},
   "outputs": [
    {
     "name": "stdout",
     "output_type": "stream",
     "text": [
      "100  images to be resized.\n",
      "100  images resized.\n",
      "100  images to be resized.\n",
      "100  images resized.\n",
      "100  images to be resized.\n",
      "100  images resized.\n"
     ]
    }
   ],
   "source": [
    "def resize_images_test(img_path):\n",
    "    images = glob.glob(img_path + \"/*.jpg\")\n",
    "    \n",
    "    print(len(images), \" images to be resized.\")\n",
    "    \n",
    "    count = 0\n",
    "    for img in images:\n",
    "        old_img = Image.open(img)\n",
    "        new_img = old_img.resize(target_size, Image.ANTIALIAS)\n",
    "        new_img.save((img_path + '/' + str(count) + \".jpg\"), \"JPEG\")\n",
    "        count += 1\n",
    "        \n",
    "    print(len(images), \" images resized.\")\n",
    "\n",
    "image_dir_path_scissor = os.getenv(\"HOME\") + \"/aiffel/rock_scissor_paper/test/scissor\"\n",
    "resize_images_test(image_dir_path_scissor)\n",
    "\n",
    "image_dir_path_paper = os.getenv(\"HOME\") + \"/aiffel/rock_scissor_paper/test/paper\"\n",
    "resize_images_test(image_dir_path_paper)\n",
    "\n",
    "image_dir_path_rock = os.getenv(\"HOME\") + \"/aiffel/rock_scissor_paper/test/rock\"\n",
    "resize_images_test(image_dir_path_rock)"
   ]
  },
  {
   "cell_type": "code",
   "execution_count": 270,
   "id": "8a45e89e",
   "metadata": {},
   "outputs": [
    {
     "name": "stdout",
     "output_type": "stream",
     "text": [
      "레이블: 0, mode: scissor\n",
      "레이블: 1, mode: rock\n",
      "레이블: 2, mode: paper\n",
      "학습 데이터(x_train)의 개수는 300개 입니다\n"
     ]
    }
   ],
   "source": [
    "def load_data_test(img_path, number_of_data=600):\n",
    "    # 가위: 0, 바위: 1, 보: 2\n",
    "    img_size = 28\n",
    "    color = 3\n",
    "    \n",
    "    # 이미지 데이터와 레이블 데이터를 담을 행렬을 생성\n",
    "    imgs = np.zeros(number_of_data * img_size * img_size * color, dtype=np.int32).reshape(number_of_data, img_size, img_size, color)\n",
    "    labels = np.zeros(number_of_data, dtype=np.int32)\n",
    "    \n",
    "    idx = 0\n",
    "    \n",
    "    modes = ['scissor', 'rock', 'paper']\n",
    "    for i, mode in enumerate(modes):\n",
    "        print('레이블: {}, mode: {}'.format(i, mode))\n",
    "        for file in glob.iglob(img_path + \"/\" + mode + \"/*.jpg\"):\n",
    "            img = np.array(Image.open(file), dtype=np.int32)\n",
    "            imgs[idx,:,:,:] = img\n",
    "            labels[idx] = i\n",
    "            idx += 1\n",
    "\n",
    "    print(\"학습 데이터(x_train)의 개수는 {}개 입니다\".format(idx))\n",
    "    return imgs, labels\n",
    "\n",
    "\n",
    "test_image_dir_path = os.getenv(\"HOME\") + \"/aiffel/rock_scissor_paper/test\"\n",
    "(x_test, y_test) = load_data_test(test_image_dir_path)\n",
    "\n",
    "x_test_norm = x_test / 255.0\n",
    "#x_test_norm = (x_test - 127) / 127.0\n",
    "\n",
    "x_test_reshaped = x_test_norm.reshape(-1, 28, 28, 3)"
   ]
  },
  {
   "cell_type": "code",
   "execution_count": 279,
   "id": "e30638ae",
   "metadata": {},
   "outputs": [
    {
     "name": "stdout",
     "output_type": "stream",
     "text": [
      "19/19 - 0s - loss: 1.6832 - accuracy: 0.6400\n",
      "test_loss: 1.6832431554794312 \n",
      "test_accuracy: 0.6399999856948853\n"
     ]
    }
   ],
   "source": [
    "test_loss, test_accuracy = model.evaluate(x_test_reshaped,y_test, verbose=2)\n",
    "print(\"test_loss: {} \".format(test_loss))\n",
    "print(\"test_accuracy: {}\".format(test_accuracy))"
   ]
  },
  {
   "cell_type": "code",
   "execution_count": 272,
   "id": "5cc59fcc",
   "metadata": {},
   "outputs": [
    {
     "name": "stdout",
     "output_type": "stream",
     "text": [
      "model.predict() 결과 :  [9.9934286e-01 6.5650541e-04 6.5075682e-07]\n",
      "model이 추론한 가장 가능성이 높은 결과 :  0\n",
      "실제 데이터의 라벨 :  1\n"
     ]
    },
    {
     "data": {
      "image/png": "[encoded data removed]",
      "text/plain": [
       "<Figure size 432x288 with 1 Axes>"
      ]
     },
     "metadata": {
      "needs_background": "light"
     },
     "output_type": "display_data"
    }
   ],
   "source": [
    "predicted_result = model.predict(x_test_reshaped)  # model이 추론한 확률값. \n",
    "predicted_labels = np.argmax(predicted_result, axis=1)\n",
    "\n",
    "idx=130  #1번째 x_test를 살펴보자. \n",
    "print('model.predict() 결과 : ', predicted_result[idx])\n",
    "print('model이 추론한 가장 가능성이 높은 결과 : ', predicted_labels[idx])\n",
    "print('실제 데이터의 라벨 : ', y_test[idx])\n",
    "\n",
    "plt.imshow(x_test[idx],cmap=plt.cm.binary)\n",
    "plt.show()"
   ]
  },
  {
   "cell_type": "code",
   "execution_count": 273,
   "id": "b86a9c18",
   "metadata": {},
   "outputs": [
    {
     "name": "stdout",
     "output_type": "stream",
     "text": [
      "잘못 예측한 경우는 총 267개 입니다.\n",
      "예측확률분포: [0.14327975 0.8396615  0.01705874]\n",
      "라벨: 0, 예측결과: 1\n"
     ]
    },
    {
     "data": {
      "image/png": "[encoded data removed]",
      "text/plain": [
       "<Figure size 432x288 with 1 Axes>"
      ]
     },
     "metadata": {
      "needs_background": "light"
     },
     "output_type": "display_data"
    },
    {
     "name": "stdout",
     "output_type": "stream",
     "text": [
      "예측확률분포: [0.37861213 0.39002556 0.23136233]\n",
      "라벨: 2, 예측결과: 1\n"
     ]
    },
    {
     "data": {
      "image/png": "[encoded data removed]",
      "text/plain": [
       "<Figure size 432x288 with 1 Axes>"
      ]
     },
     "metadata": {
      "needs_background": "light"
     },
     "output_type": "display_data"
    },
    {
     "name": "stdout",
     "output_type": "stream",
     "text": [
      "예측확률분포: [4.6251214e-01 5.3744501e-01 4.2848358e-05]\n",
      "라벨: 2, 예측결과: 1\n"
     ]
    },
    {
     "data": {
      "image/png": "[encoded data removed]",
      "text/plain": [
       "<Figure size 432x288 with 1 Axes>"
      ]
     },
     "metadata": {
      "needs_background": "light"
     },
     "output_type": "display_data"
    },
    {
     "name": "stdout",
     "output_type": "stream",
     "text": [
      "예측확률분포: [0.40460816 0.46766275 0.12772907]\n",
      "라벨: 2, 예측결과: 1\n"
     ]
    },
    {
     "data": {
      "image/png": "[encoded data removed]",
      "text/plain": [
       "<Figure size 432x288 with 1 Axes>"
      ]
     },
     "metadata": {
      "needs_background": "light"
     },
     "output_type": "display_data"
    },
    {
     "name": "stdout",
     "output_type": "stream",
     "text": [
      "예측확률분포: [1.0280248e-01 8.9719433e-01 3.1775337e-06]\n",
      "라벨: 0, 예측결과: 1\n"
     ]
    },
    {
     "data": {
      "image/png": "[encoded data removed]",
      "text/plain": [
       "<Figure size 432x288 with 1 Axes>"
      ]
     },
     "metadata": {
      "needs_background": "light"
     },
     "output_type": "display_data"
    }
   ],
   "source": [
    "import random\n",
    "wrong_predict_list=[]\n",
    "for i, _ in enumerate(predicted_labels):\n",
    "    # i번째 test_labels과 y_test이 다른 경우만 모아 봅시다. \n",
    "    if predicted_labels[i] != y_test[i]:\n",
    "        wrong_predict_list.append(i)\n",
    "\n",
    "print('잘못 예측한 경우는 총 {}개 입니다.'.format(len(wrong_predict_list)))\n",
    "# wrong_predict_list 에서 랜덤하게 5개만 뽑아봅시다.\n",
    "samples = random.choices(population=wrong_predict_list, k=5)\n",
    "\n",
    "for n in samples:\n",
    "    print(\"예측확률분포: \" + str(predicted_result[n]))\n",
    "    print(\"라벨: \" + str(y_test[n]) + \", 예측결과: \" + str(predicted_labels[n]))\n",
    "    plt.imshow(x_test[n], cmap=plt.cm.binary)\n",
    "    plt.show()"
   ]
  },
  {
   "cell_type": "markdown",
   "id": "d5651355",
   "metadata": {},
   "source": [
    "### 5. 더 좋은 네트워크 만들어보기"
   ]
  },
  {
   "cell_type": "code",
   "execution_count": null,
   "id": "3a9e3d21",
   "metadata": {},
   "outputs": [],
   "source": []
  },
  {
   "cell_type": "markdown",
   "id": "953f2b55",
   "metadata": {},
   "source": [
    "### 6. 회고"
   ]
  },
  {
   "cell_type": "code",
   "execution_count": null,
   "id": "0bcee529",
   "metadata": {},
   "outputs": [],
   "source": []
  },
  {
   "cell_type": "code",
   "execution_count": null,
   "id": "54928954",
   "metadata": {},
   "outputs": [],
   "source": []
  }
 ],
 "metadata": {
  "kernelspec": {
   "display_name": "Python 3 (ipykernel)",
   "language": "python",
   "name": "python3"
  },
  "language_info": {
   "codemirror_mode": {
    "name": "ipython",
    "version": 3
   },
   "file_extension": ".py",
   "mimetype": "text/x-python",
   "name": "python",
   "nbconvert_exporter": "python",
   "pygments_lexer": "ipython3",
   "version": "3.9.7"
  }
 },
 "nbformat": 4,
 "nbformat_minor": 5
}
