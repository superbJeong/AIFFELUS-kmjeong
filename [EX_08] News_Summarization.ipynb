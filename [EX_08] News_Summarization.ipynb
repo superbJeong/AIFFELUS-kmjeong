{
  "cells": [
    {
      "cell_type": "markdown",
      "id": "177d80be",
      "metadata": {
        "id": "177d80be"
      },
      "source": [
        "# <a style=\"color:red\"> 프로젝트: 뉴스 기사 요약해보기 </a>"
      ]
    },
    {
      "cell_type": "markdown",
      "id": "ae40d604",
      "metadata": {
        "id": "ae40d604"
      },
      "source": [
        "### 평가 루브릭"
      ]
    },
    {
      "cell_type": "markdown",
      "id": "5ba61af3",
      "metadata": {
        "id": "5ba61af3"
      },
      "source": [
        "(1) Abstractive 모델 구성을 위한 텍스트 전처리 단계가 체계적으로 진행되었다.  \n",
        "-> 분석단계, 정제단계, 정규화와 불용어 제거, 데이터셋 분리, 인코딩 과정이 빠짐없이 체계적으로 진행되었다.\n",
        "\n",
        "\n",
        "(2). 텍스트 요약모델이 성공적으로 학습되었음을 확인하였다.  \n",
        "-> 모델학습이 안정적으로 수렴되었음을 그래프를 통해 확인하였으며, 실제 요약문과 유사한 요약문장을 얻을 수 있었다.\n",
        "\n",
        "\n",
        "(3). Extractive 요약을 시도해 보고 Abstractive 요약 결과과 함께 비교해 보았다.  \n",
        "-> 두 요약 결과를 문법완성도 측면과 핵심단어 포함 측면으로 나누어 비교분석 결과를 제시하였다."
      ]
    },
    {
      "cell_type": "code",
      "source": [
        "import tensorflow as tf\n",
        "import os\n",
        "\n",
        "resolver = tf.distribute.cluster_resolver.TPUClusterResolver(tpu='grpc://' + os.environ['COLAB_TPU_ADDR'])\n",
        "\n",
        "tf.config.experimental_connect_to_cluster(resolver)\n",
        "tf.tpu.experimental.initialize_tpu_system(resolver)"
      ],
      "metadata": {
        "colab": {
          "base_uri": "https://localhost:8080/"
        },
        "id": "MzfhuJM-yBEv",
        "outputId": "984ea974-ca85-4e6e-cb33-479b513ae273"
      },
      "id": "MzfhuJM-yBEv",
      "execution_count": 1,
      "outputs": [
        {
          "output_type": "stream",
          "name": "stdout",
          "text": [
            "INFO:tensorflow:Deallocate tpu buffers before initializing tpu system.\n"
          ]
        },
        {
          "output_type": "stream",
          "name": "stderr",
          "text": [
            "INFO:tensorflow:Deallocate tpu buffers before initializing tpu system.\n"
          ]
        },
        {
          "output_type": "stream",
          "name": "stdout",
          "text": [
            "INFO:tensorflow:Initializing the TPU system: grpc://10.35.137.50:8470\n"
          ]
        },
        {
          "output_type": "stream",
          "name": "stderr",
          "text": [
            "INFO:tensorflow:Initializing the TPU system: grpc://10.35.137.50:8470\n"
          ]
        },
        {
          "output_type": "stream",
          "name": "stdout",
          "text": [
            "INFO:tensorflow:Finished initializing TPU system.\n"
          ]
        },
        {
          "output_type": "stream",
          "name": "stderr",
          "text": [
            "INFO:tensorflow:Finished initializing TPU system.\n"
          ]
        },
        {
          "output_type": "execute_result",
          "data": {
            "text/plain": [
              "<tensorflow.python.tpu.topology.Topology at 0x7f2fdad2a950>"
            ]
          },
          "metadata": {},
          "execution_count": 1
        }
      ]
    },
    {
      "cell_type": "code",
      "source": [
        "strategy = tf.distribute.TPUStrategy(resolver)"
      ],
      "metadata": {
        "colab": {
          "base_uri": "https://localhost:8080/"
        },
        "id": "D73kCXywyGd8",
        "outputId": "1985418c-d5ea-46d3-869a-48a6907b988f"
      },
      "id": "D73kCXywyGd8",
      "execution_count": 2,
      "outputs": [
        {
          "output_type": "stream",
          "name": "stdout",
          "text": [
            "INFO:tensorflow:Found TPU system:\n"
          ]
        },
        {
          "output_type": "stream",
          "name": "stderr",
          "text": [
            "INFO:tensorflow:Found TPU system:\n"
          ]
        },
        {
          "output_type": "stream",
          "name": "stdout",
          "text": [
            "INFO:tensorflow:*** Num TPU Cores: 8\n"
          ]
        },
        {
          "output_type": "stream",
          "name": "stderr",
          "text": [
            "INFO:tensorflow:*** Num TPU Cores: 8\n"
          ]
        },
        {
          "output_type": "stream",
          "name": "stdout",
          "text": [
            "INFO:tensorflow:*** Num TPU Workers: 1\n"
          ]
        },
        {
          "output_type": "stream",
          "name": "stderr",
          "text": [
            "INFO:tensorflow:*** Num TPU Workers: 1\n"
          ]
        },
        {
          "output_type": "stream",
          "name": "stdout",
          "text": [
            "INFO:tensorflow:*** Num TPU Cores Per Worker: 8\n"
          ]
        },
        {
          "output_type": "stream",
          "name": "stderr",
          "text": [
            "INFO:tensorflow:*** Num TPU Cores Per Worker: 8\n"
          ]
        },
        {
          "output_type": "stream",
          "name": "stdout",
          "text": [
            "INFO:tensorflow:*** Available Device: _DeviceAttributes(/job:localhost/replica:0/task:0/device:CPU:0, CPU, 0, 0)\n"
          ]
        },
        {
          "output_type": "stream",
          "name": "stderr",
          "text": [
            "INFO:tensorflow:*** Available Device: _DeviceAttributes(/job:localhost/replica:0/task:0/device:CPU:0, CPU, 0, 0)\n"
          ]
        },
        {
          "output_type": "stream",
          "name": "stdout",
          "text": [
            "INFO:tensorflow:*** Available Device: _DeviceAttributes(/job:worker/replica:0/task:0/device:CPU:0, CPU, 0, 0)\n"
          ]
        },
        {
          "output_type": "stream",
          "name": "stderr",
          "text": [
            "INFO:tensorflow:*** Available Device: _DeviceAttributes(/job:worker/replica:0/task:0/device:CPU:0, CPU, 0, 0)\n"
          ]
        },
        {
          "output_type": "stream",
          "name": "stdout",
          "text": [
            "INFO:tensorflow:*** Available Device: _DeviceAttributes(/job:worker/replica:0/task:0/device:TPU:0, TPU, 0, 0)\n"
          ]
        },
        {
          "output_type": "stream",
          "name": "stderr",
          "text": [
            "INFO:tensorflow:*** Available Device: _DeviceAttributes(/job:worker/replica:0/task:0/device:TPU:0, TPU, 0, 0)\n"
          ]
        },
        {
          "output_type": "stream",
          "name": "stdout",
          "text": [
            "INFO:tensorflow:*** Available Device: _DeviceAttributes(/job:worker/replica:0/task:0/device:TPU:1, TPU, 0, 0)\n"
          ]
        },
        {
          "output_type": "stream",
          "name": "stderr",
          "text": [
            "INFO:tensorflow:*** Available Device: _DeviceAttributes(/job:worker/replica:0/task:0/device:TPU:1, TPU, 0, 0)\n"
          ]
        },
        {
          "output_type": "stream",
          "name": "stdout",
          "text": [
            "INFO:tensorflow:*** Available Device: _DeviceAttributes(/job:worker/replica:0/task:0/device:TPU:2, TPU, 0, 0)\n"
          ]
        },
        {
          "output_type": "stream",
          "name": "stderr",
          "text": [
            "INFO:tensorflow:*** Available Device: _DeviceAttributes(/job:worker/replica:0/task:0/device:TPU:2, TPU, 0, 0)\n"
          ]
        },
        {
          "output_type": "stream",
          "name": "stdout",
          "text": [
            "INFO:tensorflow:*** Available Device: _DeviceAttributes(/job:worker/replica:0/task:0/device:TPU:3, TPU, 0, 0)\n"
          ]
        },
        {
          "output_type": "stream",
          "name": "stderr",
          "text": [
            "INFO:tensorflow:*** Available Device: _DeviceAttributes(/job:worker/replica:0/task:0/device:TPU:3, TPU, 0, 0)\n"
          ]
        },
        {
          "output_type": "stream",
          "name": "stdout",
          "text": [
            "INFO:tensorflow:*** Available Device: _DeviceAttributes(/job:worker/replica:0/task:0/device:TPU:4, TPU, 0, 0)\n"
          ]
        },
        {
          "output_type": "stream",
          "name": "stderr",
          "text": [
            "INFO:tensorflow:*** Available Device: _DeviceAttributes(/job:worker/replica:0/task:0/device:TPU:4, TPU, 0, 0)\n"
          ]
        },
        {
          "output_type": "stream",
          "name": "stdout",
          "text": [
            "INFO:tensorflow:*** Available Device: _DeviceAttributes(/job:worker/replica:0/task:0/device:TPU:5, TPU, 0, 0)\n"
          ]
        },
        {
          "output_type": "stream",
          "name": "stderr",
          "text": [
            "INFO:tensorflow:*** Available Device: _DeviceAttributes(/job:worker/replica:0/task:0/device:TPU:5, TPU, 0, 0)\n"
          ]
        },
        {
          "output_type": "stream",
          "name": "stdout",
          "text": [
            "INFO:tensorflow:*** Available Device: _DeviceAttributes(/job:worker/replica:0/task:0/device:TPU:6, TPU, 0, 0)\n"
          ]
        },
        {
          "output_type": "stream",
          "name": "stderr",
          "text": [
            "INFO:tensorflow:*** Available Device: _DeviceAttributes(/job:worker/replica:0/task:0/device:TPU:6, TPU, 0, 0)\n"
          ]
        },
        {
          "output_type": "stream",
          "name": "stdout",
          "text": [
            "INFO:tensorflow:*** Available Device: _DeviceAttributes(/job:worker/replica:0/task:0/device:TPU:7, TPU, 0, 0)\n"
          ]
        },
        {
          "output_type": "stream",
          "name": "stderr",
          "text": [
            "INFO:tensorflow:*** Available Device: _DeviceAttributes(/job:worker/replica:0/task:0/device:TPU:7, TPU, 0, 0)\n"
          ]
        },
        {
          "output_type": "stream",
          "name": "stdout",
          "text": [
            "INFO:tensorflow:*** Available Device: _DeviceAttributes(/job:worker/replica:0/task:0/device:TPU_SYSTEM:0, TPU_SYSTEM, 0, 0)\n"
          ]
        },
        {
          "output_type": "stream",
          "name": "stderr",
          "text": [
            "INFO:tensorflow:*** Available Device: _DeviceAttributes(/job:worker/replica:0/task:0/device:TPU_SYSTEM:0, TPU_SYSTEM, 0, 0)\n"
          ]
        },
        {
          "output_type": "stream",
          "name": "stdout",
          "text": [
            "INFO:tensorflow:*** Available Device: _DeviceAttributes(/job:worker/replica:0/task:0/device:XLA_CPU:0, XLA_CPU, 0, 0)\n"
          ]
        },
        {
          "output_type": "stream",
          "name": "stderr",
          "text": [
            "INFO:tensorflow:*** Available Device: _DeviceAttributes(/job:worker/replica:0/task:0/device:XLA_CPU:0, XLA_CPU, 0, 0)\n"
          ]
        }
      ]
    },
    {
      "cell_type": "markdown",
      "id": "0be4ccf3",
      "metadata": {
        "id": "0be4ccf3"
      },
      "source": [
        "# Step 1. 데이터 수집하기"
      ]
    },
    {
      "cell_type": "code",
      "execution_count": 3,
      "id": "def6e25f",
      "metadata": {
        "colab": {
          "base_uri": "https://localhost:8080/"
        },
        "id": "def6e25f",
        "outputId": "0032da73-5ed0-4486-e481-f6cdf62cb89a"
      },
      "outputs": [
        {
          "output_type": "stream",
          "name": "stdout",
          "text": [
            "[nltk_data] Downloading package stopwords to /root/nltk_data...\n",
            "[nltk_data]   Package stopwords is already up-to-date!\n"
          ]
        }
      ],
      "source": [
        "import nltk\n",
        "nltk.download('stopwords')\n",
        "\n",
        "import numpy as np\n",
        "import pandas as pd\n",
        "import os\n",
        "import re\n",
        "import matplotlib.pyplot as plt\n",
        "from nltk.corpus import stopwords\n",
        "from bs4 import BeautifulSoup \n",
        "from tensorflow.keras.preprocessing.text import Tokenizer \n",
        "from tensorflow.keras.preprocessing.sequence import pad_sequences\n",
        "import urllib.request\n",
        "import warnings\n",
        "warnings.filterwarnings(\"ignore\", category=UserWarning, module='bs4')"
      ]
    },
    {
      "cell_type": "code",
      "execution_count": 4,
      "id": "b0ae2e92",
      "metadata": {
        "id": "b0ae2e92"
      },
      "outputs": [],
      "source": [
        "urllib.request.urlretrieve(\"https://raw.githubusercontent.com/sunnysai12345/News_Summary/master/news_summary_more.csv\", filename=\"news_summary_more.csv\")\n",
        "data = pd.read_csv('news_summary_more.csv', encoding='iso-8859-1')"
      ]
    },
    {
      "cell_type": "code",
      "execution_count": 5,
      "id": "56e7f869",
      "metadata": {
        "scrolled": true,
        "colab": {
          "base_uri": "https://localhost:8080/",
          "height": 363
        },
        "id": "56e7f869",
        "outputId": "80609c77-242f-413d-f81b-cce31965ceb0"
      },
      "outputs": [
        {
          "output_type": "execute_result",
          "data": {
            "text/html": [
              "\n",
              "  <div id=\"df-bc877809-8ba5-4374-8a66-1ee81e941329\">\n",
              "    <div class=\"colab-df-container\">\n",
              "      <div>\n",
              "<style scoped>\n",
              "    .dataframe tbody tr th:only-of-type {\n",
              "        vertical-align: middle;\n",
              "    }\n",
              "\n",
              "    .dataframe tbody tr th {\n",
              "        vertical-align: top;\n",
              "    }\n",
              "\n",
              "    .dataframe thead th {\n",
              "        text-align: right;\n",
              "    }\n",
              "</style>\n",
              "<table border=\"1\" class=\"dataframe\">\n",
              "  <thead>\n",
              "    <tr style=\"text-align: right;\">\n",
              "      <th></th>\n",
              "      <th>headlines</th>\n",
              "      <th>text</th>\n",
              "    </tr>\n",
              "  </thead>\n",
              "  <tbody>\n",
              "    <tr>\n",
              "      <th>55713</th>\n",
              "      <td>New Zealand PM gets X-mas decor in nationwide ...</td>\n",
              "      <td>New Zealand's PM Jacinda Ardern has received a...</td>\n",
              "    </tr>\n",
              "    <tr>\n",
              "      <th>56646</th>\n",
              "      <td>Don't trust Kuch Kuch Hota Hai, pyaar dosti na...</td>\n",
              "      <td>Filmmaker Karan Johar, while talking about rel...</td>\n",
              "    </tr>\n",
              "    <tr>\n",
              "      <th>70153</th>\n",
              "      <td>E-vehicle charging pods to be compulsory in K'...</td>\n",
              "      <td>The Karnataka government will reportedly make ...</td>\n",
              "    </tr>\n",
              "    <tr>\n",
              "      <th>47711</th>\n",
              "      <td>Farah turned down chance to choreograph DDLJ s...</td>\n",
              "      <td>Filmmaker Karan Johar has revealed Farah Khan ...</td>\n",
              "    </tr>\n",
              "    <tr>\n",
              "      <th>67044</th>\n",
              "      <td>FIFA launches Hindi Twitter account ahead of U...</td>\n",
              "      <td>World football body FIFA has launched a Twitte...</td>\n",
              "    </tr>\n",
              "    <tr>\n",
              "      <th>73163</th>\n",
              "      <td>I have no regrets: Hrithik on his Bollywood ca...</td>\n",
              "      <td>Actor Hrithik Roshan, while talking about his ...</td>\n",
              "    </tr>\n",
              "    <tr>\n",
              "      <th>70868</th>\n",
              "      <td>I'm a public figure, not public property: Ilea...</td>\n",
              "      <td>Actress Ileana D'Cruz, while speaking about an...</td>\n",
              "    </tr>\n",
              "    <tr>\n",
              "      <th>83511</th>\n",
              "      <td>After Jaipur, Pakistan Police trolls Bumrah fo...</td>\n",
              "      <td>After Jaipur Traffic Police, Indian bowler Jas...</td>\n",
              "    </tr>\n",
              "    <tr>\n",
              "      <th>6891</th>\n",
              "      <td>It was a massive shock: Gambhir on Dhoni's 201...</td>\n",
              "      <td>Recalling the then India captain MS Dhoni's se...</td>\n",
              "    </tr>\n",
              "    <tr>\n",
              "      <th>57583</th>\n",
              "      <td>Kumbh Mela in UNESCO's Intangible Cultural Her...</td>\n",
              "      <td>The Kumbh Mela has been included in the UNESCO...</td>\n",
              "    </tr>\n",
              "  </tbody>\n",
              "</table>\n",
              "</div>\n",
              "      <button class=\"colab-df-convert\" onclick=\"convertToInteractive('df-bc877809-8ba5-4374-8a66-1ee81e941329')\"\n",
              "              title=\"Convert this dataframe to an interactive table.\"\n",
              "              style=\"display:none;\">\n",
              "        \n",
              "  <svg xmlns=\"http://www.w3.org/2000/svg\" height=\"24px\"viewBox=\"0 0 24 24\"\n",
              "       width=\"24px\">\n",
              "    <path d=\"M0 0h24v24H0V0z\" fill=\"none\"/>\n",
              "    <path d=\"M18.56 5.44l.94 2.06.94-2.06 2.06-.94-2.06-.94-.94-2.06-.94 2.06-2.06.94zm-11 1L8.5 8.5l.94-2.06 2.06-.94-2.06-.94L8.5 2.5l-.94 2.06-2.06.94zm10 10l.94 2.06.94-2.06 2.06-.94-2.06-.94-.94-2.06-.94 2.06-2.06.94z\"/><path d=\"M17.41 7.96l-1.37-1.37c-.4-.4-.92-.59-1.43-.59-.52 0-1.04.2-1.43.59L10.3 9.45l-7.72 7.72c-.78.78-.78 2.05 0 2.83L4 21.41c.39.39.9.59 1.41.59.51 0 1.02-.2 1.41-.59l7.78-7.78 2.81-2.81c.8-.78.8-2.07 0-2.86zM5.41 20L4 18.59l7.72-7.72 1.47 1.35L5.41 20z\"/>\n",
              "  </svg>\n",
              "      </button>\n",
              "      \n",
              "  <style>\n",
              "    .colab-df-container {\n",
              "      display:flex;\n",
              "      flex-wrap:wrap;\n",
              "      gap: 12px;\n",
              "    }\n",
              "\n",
              "    .colab-df-convert {\n",
              "      background-color: #E8F0FE;\n",
              "      border: none;\n",
              "      border-radius: 50%;\n",
              "      cursor: pointer;\n",
              "      display: none;\n",
              "      fill: #1967D2;\n",
              "      height: 32px;\n",
              "      padding: 0 0 0 0;\n",
              "      width: 32px;\n",
              "    }\n",
              "\n",
              "    .colab-df-convert:hover {\n",
              "      background-color: #E2EBFA;\n",
              "      box-shadow: 0px 1px 2px rgba(60, 64, 67, 0.3), 0px 1px 3px 1px rgba(60, 64, 67, 0.15);\n",
              "      fill: #174EA6;\n",
              "    }\n",
              "\n",
              "    [theme=dark] .colab-df-convert {\n",
              "      background-color: #3B4455;\n",
              "      fill: #D2E3FC;\n",
              "    }\n",
              "\n",
              "    [theme=dark] .colab-df-convert:hover {\n",
              "      background-color: #434B5C;\n",
              "      box-shadow: 0px 1px 3px 1px rgba(0, 0, 0, 0.15);\n",
              "      filter: drop-shadow(0px 1px 2px rgba(0, 0, 0, 0.3));\n",
              "      fill: #FFFFFF;\n",
              "    }\n",
              "  </style>\n",
              "\n",
              "      <script>\n",
              "        const buttonEl =\n",
              "          document.querySelector('#df-bc877809-8ba5-4374-8a66-1ee81e941329 button.colab-df-convert');\n",
              "        buttonEl.style.display =\n",
              "          google.colab.kernel.accessAllowed ? 'block' : 'none';\n",
              "\n",
              "        async function convertToInteractive(key) {\n",
              "          const element = document.querySelector('#df-bc877809-8ba5-4374-8a66-1ee81e941329');\n",
              "          const dataTable =\n",
              "            await google.colab.kernel.invokeFunction('convertToInteractive',\n",
              "                                                     [key], {});\n",
              "          if (!dataTable) return;\n",
              "\n",
              "          const docLinkHtml = 'Like what you see? Visit the ' +\n",
              "            '<a target=\"_blank\" href=https://colab.research.google.com/notebooks/data_table.ipynb>data table notebook</a>'\n",
              "            + ' to learn more about interactive tables.';\n",
              "          element.innerHTML = '';\n",
              "          dataTable['output_type'] = 'display_data';\n",
              "          await google.colab.output.renderOutput(dataTable, element);\n",
              "          const docLink = document.createElement('div');\n",
              "          docLink.innerHTML = docLinkHtml;\n",
              "          element.appendChild(docLink);\n",
              "        }\n",
              "      </script>\n",
              "    </div>\n",
              "  </div>\n",
              "  "
            ],
            "text/plain": [
              "                                               headlines                                               text\n",
              "55713  New Zealand PM gets X-mas decor in nationwide ...  New Zealand's PM Jacinda Ardern has received a...\n",
              "56646  Don't trust Kuch Kuch Hota Hai, pyaar dosti na...  Filmmaker Karan Johar, while talking about rel...\n",
              "70153  E-vehicle charging pods to be compulsory in K'...  The Karnataka government will reportedly make ...\n",
              "47711  Farah turned down chance to choreograph DDLJ s...  Filmmaker Karan Johar has revealed Farah Khan ...\n",
              "67044  FIFA launches Hindi Twitter account ahead of U...  World football body FIFA has launched a Twitte...\n",
              "73163  I have no regrets: Hrithik on his Bollywood ca...  Actor Hrithik Roshan, while talking about his ...\n",
              "70868  I'm a public figure, not public property: Ilea...  Actress Ileana D'Cruz, while speaking about an...\n",
              "83511  After Jaipur, Pakistan Police trolls Bumrah fo...  After Jaipur Traffic Police, Indian bowler Jas...\n",
              "6891   It was a massive shock: Gambhir on Dhoni's 201...  Recalling the then India captain MS Dhoni's se...\n",
              "57583  Kumbh Mela in UNESCO's Intangible Cultural Her...  The Kumbh Mela has been included in the UNESCO..."
            ]
          },
          "metadata": {},
          "execution_count": 5
        }
      ],
      "source": [
        "data.sample(10)"
      ]
    },
    {
      "cell_type": "code",
      "execution_count": 6,
      "id": "ea00b315",
      "metadata": {
        "colab": {
          "base_uri": "https://localhost:8080/"
        },
        "id": "ea00b315",
        "outputId": "2bc0e3b6-35b7-4123-c2cf-f97c4534d275"
      },
      "outputs": [
        {
          "output_type": "stream",
          "name": "stdout",
          "text": [
            "전체 샘플수 : 98401\n"
          ]
        }
      ],
      "source": [
        "print('전체 샘플수 :', (len(data)))"
      ]
    },
    {
      "cell_type": "markdown",
      "id": "85cd4733",
      "metadata": {
        "id": "85cd4733"
      },
      "source": [
        "데이터는 제목(headlines)과 내용(text)로 구성되었다.  \n",
        "여기서 내용(text)을 훈련을 위한 X 데이터로 하고, 제목(headlines)을 타겟 데이터인 y로 하여 학습한다."
      ]
    },
    {
      "cell_type": "markdown",
      "id": "dd63b8e6",
      "metadata": {
        "id": "dd63b8e6"
      },
      "source": [
        "# Step 2. 데이터 전처리하기(추상적 요약)"
      ]
    },
    {
      "cell_type": "markdown",
      "id": "8b805d2a",
      "metadata": {
        "id": "8b805d2a"
      },
      "source": [
        "중복 샘플 유무 확인"
      ]
    },
    {
      "cell_type": "code",
      "execution_count": 7,
      "id": "f3a39026",
      "metadata": {
        "scrolled": true,
        "colab": {
          "base_uri": "https://localhost:8080/"
        },
        "id": "f3a39026",
        "outputId": "fe1ae93a-ac3d-476d-9426-ed492a85062c"
      },
      "outputs": [
        {
          "output_type": "stream",
          "name": "stdout",
          "text": [
            "text 열에서 중복을 배제한 유일한 샘플의 수 : 98360\n",
            "headlines 열에서 중복을 배제한 유일한 샘플의 수 : 98280\n"
          ]
        }
      ],
      "source": [
        "print('text 열에서 중복을 배제한 유일한 샘플의 수 :', data['text'].nunique())\n",
        "print('headlines 열에서 중복을 배제한 유일한 샘플의 수 :', data['headlines'].nunique())"
      ]
    },
    {
      "cell_type": "markdown",
      "id": "a84240f2",
      "metadata": {
        "id": "a84240f2"
      },
      "source": [
        "다른 text에도 같은 headline이 있다는 결과  \n",
        "text 자체도 중복되는 것이 40여개 있다 -> 본문이 같다는 말이므로 제거해줘야 함"
      ]
    },
    {
      "cell_type": "markdown",
      "id": "38a7f160",
      "metadata": {
        "id": "38a7f160"
      },
      "source": [
        "중복 샘플 제거"
      ]
    },
    {
      "cell_type": "code",
      "execution_count": 8,
      "id": "61c23f8a",
      "metadata": {
        "colab": {
          "base_uri": "https://localhost:8080/"
        },
        "id": "61c23f8a",
        "outputId": "fb12a923-9d0f-44ff-d355-e3d6bd9d6e4b"
      },
      "outputs": [
        {
          "output_type": "stream",
          "name": "stdout",
          "text": [
            "전체 샘플수 : 98360\n"
          ]
        }
      ],
      "source": [
        "# inplace=True 를 설정하면 DataFrame 타입 값을 return 하지 않고 data 내부를 직접적으로 바꿉니다\n",
        "data.drop_duplicates(subset = ['text'], inplace=True)\n",
        "print('전체 샘플수 :', (len(data)))"
      ]
    },
    {
      "cell_type": "markdown",
      "id": "4767d262",
      "metadata": {
        "id": "4767d262"
      },
      "source": [
        "Null값이 있는지 확인"
      ]
    },
    {
      "cell_type": "code",
      "execution_count": 9,
      "id": "c992daad",
      "metadata": {
        "colab": {
          "base_uri": "https://localhost:8080/"
        },
        "id": "c992daad",
        "outputId": "435fd9e8-8b74-44fa-a8dc-52970705ea8b"
      },
      "outputs": [
        {
          "output_type": "stream",
          "name": "stdout",
          "text": [
            "headlines    0\n",
            "text         0\n",
            "dtype: int64\n"
          ]
        }
      ],
      "source": [
        "print(data.isnull().sum())"
      ]
    },
    {
      "cell_type": "markdown",
      "id": "64eaec24",
      "metadata": {
        "id": "64eaec24"
      },
      "source": [
        "Null 값은 없으므로 따로 처리하지 않음"
      ]
    },
    {
      "cell_type": "markdown",
      "id": "ec86504c",
      "metadata": {
        "id": "ec86504c"
      },
      "source": [
        "텍스트 정규화 준비(it'll = it will 과 같은 사례를 동일시 하기 위해)"
      ]
    },
    {
      "cell_type": "code",
      "execution_count": 10,
      "id": "a4a2cd81",
      "metadata": {
        "colab": {
          "base_uri": "https://localhost:8080/"
        },
        "id": "a4a2cd81",
        "outputId": "582ed227-f4cf-4e17-d121-d214e5d747d7"
      },
      "outputs": [
        {
          "output_type": "stream",
          "name": "stdout",
          "text": [
            "정규화 사전의 수:  120\n"
          ]
        }
      ],
      "source": [
        "contractions = {\"ain't\": \"is not\", \"aren't\": \"are not\",\"can't\": \"cannot\", \"'cause\": \"because\", \"could've\": \"could have\", \"couldn't\": \"could not\",\n",
        "                           \"didn't\": \"did not\",  \"doesn't\": \"does not\", \"don't\": \"do not\", \"hadn't\": \"had not\", \"hasn't\": \"has not\", \"haven't\": \"have not\",\n",
        "                           \"he'd\": \"he would\",\"he'll\": \"he will\", \"he's\": \"he is\", \"how'd\": \"how did\", \"how'd'y\": \"how do you\", \"how'll\": \"how will\", \"how's\": \"how is\",\n",
        "                           \"I'd\": \"I would\", \"I'd've\": \"I would have\", \"I'll\": \"I will\", \"I'll've\": \"I will have\",\"I'm\": \"I am\", \"I've\": \"I have\", \"i'd\": \"i would\",\n",
        "                           \"i'd've\": \"i would have\", \"i'll\": \"i will\",  \"i'll've\": \"i will have\",\"i'm\": \"i am\", \"i've\": \"i have\", \"isn't\": \"is not\", \"it'd\": \"it would\",\n",
        "                           \"it'd've\": \"it would have\", \"it'll\": \"it will\", \"it'll've\": \"it will have\",\"it's\": \"it is\", \"let's\": \"let us\", \"ma'am\": \"madam\",\n",
        "                           \"mayn't\": \"may not\", \"might've\": \"might have\",\"mightn't\": \"might not\",\"mightn't've\": \"might not have\", \"must've\": \"must have\",\n",
        "                           \"mustn't\": \"must not\", \"mustn't've\": \"must not have\", \"needn't\": \"need not\", \"needn't've\": \"need not have\",\"o'clock\": \"of the clock\",\n",
        "                           \"oughtn't\": \"ought not\", \"oughtn't've\": \"ought not have\", \"shan't\": \"shall not\", \"sha'n't\": \"shall not\", \"shan't've\": \"shall not have\",\n",
        "                           \"she'd\": \"she would\", \"she'd've\": \"she would have\", \"she'll\": \"she will\", \"she'll've\": \"she will have\", \"she's\": \"she is\",\n",
        "                           \"should've\": \"should have\", \"shouldn't\": \"should not\", \"shouldn't've\": \"should not have\", \"so've\": \"so have\",\"so's\": \"so as\",\n",
        "                           \"this's\": \"this is\",\"that'd\": \"that would\", \"that'd've\": \"that would have\", \"that's\": \"that is\", \"there'd\": \"there would\",\n",
        "                           \"there'd've\": \"there would have\", \"there's\": \"there is\", \"here's\": \"here is\",\"they'd\": \"they would\", \"they'd've\": \"they would have\",\n",
        "                           \"they'll\": \"they will\", \"they'll've\": \"they will have\", \"they're\": \"they are\", \"they've\": \"they have\", \"to've\": \"to have\",\n",
        "                           \"wasn't\": \"was not\", \"we'd\": \"we would\", \"we'd've\": \"we would have\", \"we'll\": \"we will\", \"we'll've\": \"we will have\", \"we're\": \"we are\",\n",
        "                           \"we've\": \"we have\", \"weren't\": \"were not\", \"what'll\": \"what will\", \"what'll've\": \"what will have\", \"what're\": \"what are\",\n",
        "                           \"what's\": \"what is\", \"what've\": \"what have\", \"when's\": \"when is\", \"when've\": \"when have\", \"where'd\": \"where did\", \"where's\": \"where is\",\n",
        "                           \"where've\": \"where have\", \"who'll\": \"who will\", \"who'll've\": \"who will have\", \"who's\": \"who is\", \"who've\": \"who have\",\n",
        "                           \"why's\": \"why is\", \"why've\": \"why have\", \"will've\": \"will have\", \"won't\": \"will not\", \"won't've\": \"will not have\",\n",
        "                           \"would've\": \"would have\", \"wouldn't\": \"would not\", \"wouldn't've\": \"would not have\", \"y'all\": \"you all\",\n",
        "                           \"y'all'd\": \"you all would\",\"y'all'd've\": \"you all would have\",\"y'all're\": \"you all are\",\"y'all've\": \"you all have\",\n",
        "                           \"you'd\": \"you would\", \"you'd've\": \"you would have\", \"you'll\": \"you will\", \"you'll've\": \"you will have\",\n",
        "                           \"you're\": \"you are\", \"you've\": \"you have\"}\n",
        "\n",
        "print(\"정규화 사전의 수: \", len(contractions))"
      ]
    },
    {
      "cell_type": "markdown",
      "id": "0af6e561",
      "metadata": {
        "id": "0af6e561"
      },
      "source": [
        "불용어 알아보기(NLTK에서 미리 정의하여 제공하는 불용어) "
      ]
    },
    {
      "cell_type": "code",
      "execution_count": 11,
      "id": "44e348a5",
      "metadata": {
        "colab": {
          "base_uri": "https://localhost:8080/"
        },
        "id": "44e348a5",
        "outputId": "eb658f71-6315-45af-d977-861e366b2c1c"
      },
      "outputs": [
        {
          "output_type": "stream",
          "name": "stdout",
          "text": [
            "불용어 개수 : 179\n",
            "['i', 'me', 'my', 'myself', 'we', 'our', 'ours', 'ourselves', 'you', \"you're\", \"you've\", \"you'll\", \"you'd\", 'your', 'yours', 'yourself', 'yourselves', 'he', 'him', 'his', 'himself', 'she', \"she's\", 'her', 'hers', 'herself', 'it', \"it's\", 'its', 'itself', 'they', 'them', 'their', 'theirs', 'themselves', 'what', 'which', 'who', 'whom', 'this', 'that', \"that'll\", 'these', 'those', 'am', 'is', 'are', 'was', 'were', 'be', 'been', 'being', 'have', 'has', 'had', 'having', 'do', 'does', 'did', 'doing', 'a', 'an', 'the', 'and', 'but', 'if', 'or', 'because', 'as', 'until', 'while', 'of', 'at', 'by', 'for', 'with', 'about', 'against', 'between', 'into', 'through', 'during', 'before', 'after', 'above', 'below', 'to', 'from', 'up', 'down', 'in', 'out', 'on', 'off', 'over', 'under', 'again', 'further', 'then', 'once', 'here', 'there', 'when', 'where', 'why', 'how', 'all', 'any', 'both', 'each', 'few', 'more', 'most', 'other', 'some', 'such', 'no', 'nor', 'not', 'only', 'own', 'same', 'so', 'than', 'too', 'very', 's', 't', 'can', 'will', 'just', 'don', \"don't\", 'should', \"should've\", 'now', 'd', 'll', 'm', 'o', 're', 've', 'y', 'ain', 'aren', \"aren't\", 'couldn', \"couldn't\", 'didn', \"didn't\", 'doesn', \"doesn't\", 'hadn', \"hadn't\", 'hasn', \"hasn't\", 'haven', \"haven't\", 'isn', \"isn't\", 'ma', 'mightn', \"mightn't\", 'mustn', \"mustn't\", 'needn', \"needn't\", 'shan', \"shan't\", 'shouldn', \"shouldn't\", 'wasn', \"wasn't\", 'weren', \"weren't\", 'won', \"won't\", 'wouldn', \"wouldn't\"]\n"
          ]
        }
      ],
      "source": [
        "print('불용어 개수 :', len(stopwords.words('english') ))\n",
        "print(stopwords.words('english'))"
      ]
    },
    {
      "cell_type": "markdown",
      "id": "7eaf259e",
      "metadata": {
        "id": "7eaf259e"
      },
      "source": [
        "데이터 전처리 함수 정의  \n",
        "(길이가 짧은 summary에서는 불용어를 없애지 않는 것이 자연스러울 것이라고 판단하여 불용어 제거하지 않음)"
      ]
    },
    {
      "cell_type": "code",
      "execution_count": 12,
      "id": "bd112f33",
      "metadata": {
        "id": "bd112f33"
      },
      "outputs": [],
      "source": [
        "# 데이터 전처리 함수\n",
        "def preprocess_sentence(sentence, remove_stopwords=True):\n",
        "    sentence = sentence.lower() # 텍스트 소문자화\n",
        "    sentence = BeautifulSoup(sentence, \"lxml\").text # <br />, <a href = ...> 등의 html 태그 제거\n",
        "    sentence = re.sub(r'\\([^)]*\\)', '', sentence) # 괄호로 닫힌 문자열 (...) 제거 Ex) my husband (and myself!) for => my husband for\n",
        "    sentence = re.sub('\"','', sentence) # 쌍따옴표 \" 제거\n",
        "    sentence = ' '.join([contractions[t] if t in contractions else t for t in sentence.split(\" \")]) # 약어 정규화\n",
        "    sentence = re.sub(r\"'s\\b\",\"\", sentence) # 소유격 제거. Ex) roland's -> roland\n",
        "    sentence = re.sub(\"[^a-zA-Z]\", \" \", sentence) # 영어 외 문자(숫자, 특수문자 등) 공백으로 변환\n",
        "    sentence = re.sub('[m]{2,}', 'mm', sentence) # m이 3개 이상이면 2개로 변경. Ex) ummmmmmm yeah -> umm yeah\n",
        "    \n",
        "    # 불용어 제거 (Text)\n",
        "    if remove_stopwords:\n",
        "        tokens = ' '.join(word for word in sentence.split() if not word in stopwords.words('english') if len(word) > 1)\n",
        "    # 불용어 미제거 (Summary) -> 길이가 짧으므로 불용어를 제거하면 자연스럽지 않을 것이라 예상\n",
        "    else:\n",
        "        tokens = ' '.join(word for word in sentence.split() if len(word) > 1)\n",
        "    return tokens"
      ]
    },
    {
      "cell_type": "markdown",
      "id": "1bdf4403",
      "metadata": {
        "id": "1bdf4403"
      },
      "source": [
        "전처리 함수의 성능을 확인하기"
      ]
    },
    {
      "cell_type": "code",
      "execution_count": 13,
      "id": "a46393dd",
      "metadata": {
        "colab": {
          "base_uri": "https://localhost:8080/"
        },
        "id": "a46393dd",
        "outputId": "95ea6192-bbc9-4cec-9335-0bec1d39455d"
      },
      "outputs": [
        {
          "output_type": "stream",
          "name": "stdout",
          "text": [
            "text:  everything bought great infact ordered twice third ordered wasfor mother father\n",
            "summary: great way to start the day\n"
          ]
        }
      ],
      "source": [
        "temp_text = 'Everything I bought was great, infact I ordered twice and the third ordered was<br />for my mother and father.'\n",
        "temp_summary = 'Great way to start (or finish) the day!!!'\n",
        "\n",
        "print(\"text: \", preprocess_sentence(temp_text))\n",
        "print(\"summary:\", preprocess_sentence(temp_summary, False))  # 불용어를 제거하지 않습니다."
      ]
    },
    {
      "cell_type": "markdown",
      "id": "ed9792b4",
      "metadata": {
        "id": "ed9792b4"
      },
      "source": [
        "Text 전처리!"
      ]
    },
    {
      "cell_type": "code",
      "execution_count": 14,
      "id": "c1c58879",
      "metadata": {
        "colab": {
          "base_uri": "https://localhost:8080/"
        },
        "id": "c1c58879",
        "outputId": "c5ccb839-469e-4655-db35-54582c560899"
      },
      "outputs": [
        {
          "output_type": "stream",
          "name": "stdout",
          "text": [
            "text 전처리 후 결과:  ['saurav kant alumnus upgrad iiit pg program machine learning artificial intelligence sr systems engineer infosys almost years work experience program upgrad degree career support helped transition data scientist tech mahindra salary hike upgrad online power learning powered lakh careers', 'kunal shah credit card bill payment platform cred gave users chance win free food swiggy one year pranav kaushik delhi techie bagged reward spending cred coins users get one cred coin per rupee bill paid used avail rewards brands like ixigo bookmyshow ubereats cult fit', 'new zealand defeated india wickets fourth odi hamilton thursday win first match five match odi series india lost international match rohit sharma captaincy consecutive victories dating back march match witnessed india getting seventh lowest total odi cricket history', 'aegon life iterm insurance plan customers enjoy tax benefits premiums paid save taxes plan provides life cover age years also customers options insure critical illnesses disability accidental death benefit rider life cover age years', 'speaking sexual harassment allegations rajkumar hirani sonam kapoor said known hirani many years true metoo movement get derailed metoo movement always believe woman case need reserve judgment added hirani accused assistant worked sanju']\n"
          ]
        }
      ],
      "source": [
        "clean_text = []\n",
        "# 전체 Text 데이터에 대한 전처리 : 10분 이상 시간이 걸릴 수 있습니다. \n",
        "for s in data['text']:\n",
        "    clean_text.append(preprocess_sentence(s))\n",
        "\n",
        "# 전처리 후 출력\n",
        "print(\"text 전처리 후 결과: \", clean_text[:5])"
      ]
    },
    {
      "cell_type": "markdown",
      "id": "d7d7fe8a",
      "metadata": {
        "id": "d7d7fe8a"
      },
      "source": [
        "summary 전처리!"
      ]
    },
    {
      "cell_type": "code",
      "execution_count": 15,
      "id": "34fa6c7d",
      "metadata": {
        "colab": {
          "base_uri": "https://localhost:8080/"
        },
        "id": "34fa6c7d",
        "outputId": "60cdbfa0-8613-4dc6-f2cb-8070bc2ab030"
      },
      "outputs": [
        {
          "output_type": "stream",
          "name": "stdout",
          "text": [
            "headlines 전처리 후 결과:  ['upgrad learner switches to career in ml al with salary hike', 'delhi techie wins free food from swiggy for one year on cred', 'new zealand end rohit sharma led india match winning streak', 'aegon life iterm insurance plan helps customers save tax', 'have known hirani for yrs what if metoo claims are not true sonam']\n"
          ]
        }
      ],
      "source": [
        "clean_summary = []\n",
        "# 전체 Summary 데이터에 대한 전처리 : 5분 이상 시간이 걸릴 수 있습니다. \n",
        "for s in data['headlines']:\n",
        "    clean_summary.append(preprocess_sentence(s, False))\n",
        "\n",
        "print(\"headlines 전처리 후 결과: \", clean_summary[:5])"
      ]
    },
    {
      "cell_type": "markdown",
      "id": "502917f3",
      "metadata": {
        "id": "502917f3"
      },
      "source": [
        "다시 한번 빈(empty) 샘플이 생겼는지 확인  \n",
        "보다 쉽게 확인하기 위해 데이터들을 데이터프레임에 재저장\n",
        "빈(empty) 샘플은 Null로 대체"
      ]
    },
    {
      "cell_type": "code",
      "execution_count": 16,
      "id": "3f55b967",
      "metadata": {
        "id": "3f55b967"
      },
      "outputs": [],
      "source": [
        "data['text'] = clean_text\n",
        "data['headlines'] = clean_summary\n",
        "\n",
        "# 빈 값을 Null 값으로 변환\n",
        "data.replace('', np.nan, inplace=True)"
      ]
    },
    {
      "cell_type": "code",
      "execution_count": 17,
      "id": "b881d7d4",
      "metadata": {
        "colab": {
          "base_uri": "https://localhost:8080/"
        },
        "id": "b881d7d4",
        "outputId": "585744ff-7fe5-4d71-df09-d581875016a2"
      },
      "outputs": [
        {
          "output_type": "execute_result",
          "data": {
            "text/plain": [
              "headlines    0\n",
              "text         0\n",
              "dtype: int64"
            ]
          },
          "metadata": {},
          "execution_count": 17
        }
      ],
      "source": [
        "data.isnull().sum()"
      ]
    },
    {
      "cell_type": "markdown",
      "id": "fa93812f",
      "metadata": {
        "id": "fa93812f"
      },
      "source": [
        "Null 값 없으므로 건너뛰기"
      ]
    },
    {
      "cell_type": "markdown",
      "id": "49d41c07",
      "metadata": {
        "id": "49d41c07"
      },
      "source": [
        "#### 샘플의 최대 길이 정하기"
      ]
    },
    {
      "cell_type": "markdown",
      "id": "f723969b",
      "metadata": {
        "id": "f723969b"
      },
      "source": [
        "길이 분포 시각화"
      ]
    },
    {
      "cell_type": "code",
      "execution_count": 18,
      "id": "6a52e57d",
      "metadata": {
        "colab": {
          "base_uri": "https://localhost:8080/",
          "height": 1000
        },
        "id": "6a52e57d",
        "outputId": "2dab45c9-a060-4349-a775-38a5b9004a79"
      },
      "outputs": [
        {
          "output_type": "stream",
          "name": "stdout",
          "text": [
            "텍스트의 최소 길이 : 1\n",
            "텍스트의 최대 길이 : 60\n",
            "텍스트의 평균 길이 : 35.09968483123221\n",
            "텍스트 길이의 표준편차 : 3.7993861876499637\n",
            "헤드라인의 최소 길이 : 1\n",
            "헤드라인의 최대 길이 : 16\n",
            "헤드라인의 평균 길이 : 9.299532330215534\n",
            "헤드라인 길이의 표준편차 : 1.3900944321771693\n"
          ]
        },
        {
          "output_type": "display_data",
          "data": {
            "image/png": "[encoded data removed]",
            "text/plain": [
              "<Figure size 432x288 with 2 Axes>"
            ]
          },
          "metadata": {
            "needs_background": "light"
          }
        },
        {
          "output_type": "display_data",
          "data": {
            "image/png": "[encoded data removed]",
            "text/plain": [
              "<Figure size 432x288 with 1 Axes>"
            ]
          },
          "metadata": {
            "needs_background": "light"
          }
        },
        {
          "output_type": "display_data",
          "data": {
            "image/png": "[encoded data removed]",
            "text/plain": [
              "<Figure size 432x288 with 1 Axes>"
            ]
          },
          "metadata": {
            "needs_background": "light"
          }
        }
      ],
      "source": [
        "# 길이 분포 출력\n",
        "import matplotlib.pyplot as plt\n",
        "\n",
        "text_len = [len(s.split()) for s in data['text']]\n",
        "summary_len = [len(s.split()) for s in data['headlines']]\n",
        "\n",
        "print('텍스트의 최소 길이 : {}'.format(np.min(text_len)))\n",
        "print('텍스트의 최대 길이 : {}'.format(np.max(text_len)))\n",
        "print('텍스트의 평균 길이 : {}'.format(np.mean(text_len)))\n",
        "print('텍스트 길이의 표준편차 : {}'.format(np.std(text_len)))\n",
        "\n",
        "print('헤드라인의 최소 길이 : {}'.format(np.min(summary_len)))\n",
        "print('헤드라인의 최대 길이 : {}'.format(np.max(summary_len)))\n",
        "print('헤드라인의 평균 길이 : {}'.format(np.mean(summary_len)))\n",
        "print('헤드라인 길이의 표준편차 : {}'.format(np.std(summary_len)))\n",
        "\n",
        "\n",
        "plt.subplot(1,2,1)\n",
        "plt.boxplot(text_len)\n",
        "plt.title('text')\n",
        "plt.subplot(1,2,2)\n",
        "plt.boxplot(summary_len)\n",
        "plt.title('headlines')\n",
        "plt.tight_layout()\n",
        "plt.show()\n",
        "\n",
        "plt.title('text')\n",
        "plt.hist(text_len, bins = 40)\n",
        "plt.xlabel('length of samples')\n",
        "plt.ylabel('number of samples')\n",
        "plt.show()\n",
        "\n",
        "plt.title('headlines')\n",
        "plt.hist(summary_len, bins = 40)\n",
        "plt.xlabel('length of samples')\n",
        "plt.ylabel('number of samples')\n",
        "plt.show()"
      ]
    },
    {
      "cell_type": "markdown",
      "id": "e3d5c5d8",
      "metadata": {
        "id": "e3d5c5d8"
      },
      "source": [
        "분포를 확인하고 최대 길이를 설정  \n",
        "평균+(표준편차\\*1.5)값으로 설정한다!"
      ]
    },
    {
      "cell_type": "code",
      "execution_count": 19,
      "id": "a89346e1",
      "metadata": {
        "colab": {
          "base_uri": "https://localhost:8080/"
        },
        "id": "a89346e1",
        "outputId": "f058c12b-0ad0-451d-b81d-db890eafcf4f"
      },
      "outputs": [
        {
          "output_type": "stream",
          "name": "stdout",
          "text": [
            "text의 최대 길이: 40\n",
            "headlines의 최대 길이: 11\n"
          ]
        }
      ],
      "source": [
        "text_max_len = int(np.mean(text_len) + (np.std(text_len)*1.5))\n",
        "print('text의 최대 길이: {}'.format(text_max_len))\n",
        "summary_max_len = int(np.mean(summary_len) + (np.std(summary_len)*1.5))\n",
        "print('headlines의 최대 길이: {}'.format(summary_max_len))"
      ]
    },
    {
      "cell_type": "markdown",
      "id": "86603ce9",
      "metadata": {
        "id": "86603ce9"
      },
      "source": [
        "최대 길이가 어느정도 데이터를 포함하는지 확인하는 함수 정의"
      ]
    },
    {
      "cell_type": "code",
      "execution_count": 20,
      "id": "e5db0736",
      "metadata": {
        "id": "e5db0736"
      },
      "outputs": [],
      "source": [
        "def below_threshold_len(max_len, nested_list):\n",
        "  cnt = 0\n",
        "  for s in nested_list:\n",
        "    if(len(s.split()) <= max_len):\n",
        "        cnt = cnt + 1\n",
        "  print('전체 샘플 중 길이가 %s 이하인 샘플의 비율: %s'%(max_len, (cnt / len(nested_list))))"
      ]
    },
    {
      "cell_type": "code",
      "execution_count": 21,
      "id": "5f146ac4",
      "metadata": {
        "scrolled": true,
        "colab": {
          "base_uri": "https://localhost:8080/"
        },
        "id": "5f146ac4",
        "outputId": "28df7a8c-c99c-486f-af34-3ab319f9ff8c"
      },
      "outputs": [
        {
          "output_type": "stream",
          "name": "stdout",
          "text": [
            "전체 샘플 중 길이가 40 이하인 샘플의 비율: 0.9238714924766165\n",
            "전체 샘플 중 길이가 11 이하인 샘플의 비율: 0.9449877999186661\n"
          ]
        }
      ],
      "source": [
        "below_threshold_len(text_max_len, data['text'])\n",
        "below_threshold_len(summary_max_len, data['headlines'])"
      ]
    },
    {
      "cell_type": "markdown",
      "source": [
        "길이를 제한하면 일부 데이터들은 망가지게 되는데,  \n",
        "이를 방지하기 위해 길이가 긴 데이터를 자르지 않고 제외시킴"
      ],
      "metadata": {
        "id": "otAZr9gjGjFR"
      },
      "id": "otAZr9gjGjFR"
    },
    {
      "cell_type": "code",
      "source": [
        "data = data[data['text'].apply(lambda x: len(x.split()) <= text_max_len)]\n",
        "\n",
        "data = data[data['headlines'].apply(lambda x: len(x.split()) <= summary_max_len)]\n",
        "print('전체 샘플수 :', (len(data)))"
      ],
      "metadata": {
        "colab": {
          "base_uri": "https://localhost:8080/"
        },
        "id": "Bdi2NQJmGiJp",
        "outputId": "b5cd9ce8-467c-497b-9ab7-01b469fbe99d"
      },
      "id": "Bdi2NQJmGiJp",
      "execution_count": 22,
      "outputs": [
        {
          "output_type": "stream",
          "name": "stdout",
          "text": [
            "전체 샘플수 : 85843\n"
          ]
        }
      ]
    },
    {
      "cell_type": "markdown",
      "id": "8117db87",
      "metadata": {
        "id": "8117db87"
      },
      "source": [
        "#### 시작 토큰과 종료 토큰 추가하기"
      ]
    },
    {
      "cell_type": "markdown",
      "id": "79552499",
      "metadata": {
        "id": "79552499"
      },
      "source": [
        "시작 토큰은 sostoken, 종료 토큰은 eostoken이라 임의로 명명하고 앞, 뒤로 추가  \n",
        "디코더의 입력에 해당하면서 시작 토큰이 맨 앞에 있는 문장의 이름을 decoder_input,  \n",
        "디코더의 출력 또는 레이블에 해당되면서 종료 토큰이 맨 뒤에 붙는 문장의 이름을 decoder_target이라고 명명"
      ]
    },
    {
      "cell_type": "code",
      "execution_count": 23,
      "id": "280a257b",
      "metadata": {
        "colab": {
          "base_uri": "https://localhost:8080/",
          "height": 206
        },
        "id": "280a257b",
        "outputId": "19e96c52-1e2c-4fb4-dc18-f151d1250818"
      },
      "outputs": [
        {
          "output_type": "execute_result",
          "data": {
            "text/html": [
              "\n",
              "  <div id=\"df-f8babd9d-ea10-4825-959a-e58deab08ac3\">\n",
              "    <div class=\"colab-df-container\">\n",
              "      <div>\n",
              "<style scoped>\n",
              "    .dataframe tbody tr th:only-of-type {\n",
              "        vertical-align: middle;\n",
              "    }\n",
              "\n",
              "    .dataframe tbody tr th {\n",
              "        vertical-align: top;\n",
              "    }\n",
              "\n",
              "    .dataframe thead th {\n",
              "        text-align: right;\n",
              "    }\n",
              "</style>\n",
              "<table border=\"1\" class=\"dataframe\">\n",
              "  <thead>\n",
              "    <tr style=\"text-align: right;\">\n",
              "      <th></th>\n",
              "      <th>headlines</th>\n",
              "      <th>text</th>\n",
              "      <th>decoder_input</th>\n",
              "      <th>decoder_target</th>\n",
              "    </tr>\n",
              "  </thead>\n",
              "  <tbody>\n",
              "    <tr>\n",
              "      <th>0</th>\n",
              "      <td>upgrad learner switches to career in ml al wit...</td>\n",
              "      <td>saurav kant alumnus upgrad iiit pg program mac...</td>\n",
              "      <td>sostoken upgrad learner switches to career in ...</td>\n",
              "      <td>upgrad learner switches to career in ml al wit...</td>\n",
              "    </tr>\n",
              "    <tr>\n",
              "      <th>2</th>\n",
              "      <td>new zealand end rohit sharma led india match w...</td>\n",
              "      <td>new zealand defeated india wickets fourth odi ...</td>\n",
              "      <td>sostoken new zealand end rohit sharma led indi...</td>\n",
              "      <td>new zealand end rohit sharma led india match w...</td>\n",
              "    </tr>\n",
              "    <tr>\n",
              "      <th>3</th>\n",
              "      <td>aegon life iterm insurance plan helps customer...</td>\n",
              "      <td>aegon life iterm insurance plan customers enjo...</td>\n",
              "      <td>sostoken aegon life iterm insurance plan helps...</td>\n",
              "      <td>aegon life iterm insurance plan helps customer...</td>\n",
              "    </tr>\n",
              "    <tr>\n",
              "      <th>5</th>\n",
              "      <td>rahat fateh ali khan denies getting notice for...</td>\n",
              "      <td>pakistani singer rahat fateh ali khan denied r...</td>\n",
              "      <td>sostoken rahat fateh ali khan denies getting n...</td>\n",
              "      <td>rahat fateh ali khan denies getting notice for...</td>\n",
              "    </tr>\n",
              "    <tr>\n",
              "      <th>7</th>\n",
              "      <td>govt directs alok verma to join work day befor...</td>\n",
              "      <td>weeks ex cbi director alok verma told departme...</td>\n",
              "      <td>sostoken govt directs alok verma to join work ...</td>\n",
              "      <td>govt directs alok verma to join work day befor...</td>\n",
              "    </tr>\n",
              "  </tbody>\n",
              "</table>\n",
              "</div>\n",
              "      <button class=\"colab-df-convert\" onclick=\"convertToInteractive('df-f8babd9d-ea10-4825-959a-e58deab08ac3')\"\n",
              "              title=\"Convert this dataframe to an interactive table.\"\n",
              "              style=\"display:none;\">\n",
              "        \n",
              "  <svg xmlns=\"http://www.w3.org/2000/svg\" height=\"24px\"viewBox=\"0 0 24 24\"\n",
              "       width=\"24px\">\n",
              "    <path d=\"M0 0h24v24H0V0z\" fill=\"none\"/>\n",
              "    <path d=\"M18.56 5.44l.94 2.06.94-2.06 2.06-.94-2.06-.94-.94-2.06-.94 2.06-2.06.94zm-11 1L8.5 8.5l.94-2.06 2.06-.94-2.06-.94L8.5 2.5l-.94 2.06-2.06.94zm10 10l.94 2.06.94-2.06 2.06-.94-2.06-.94-.94-2.06-.94 2.06-2.06.94z\"/><path d=\"M17.41 7.96l-1.37-1.37c-.4-.4-.92-.59-1.43-.59-.52 0-1.04.2-1.43.59L10.3 9.45l-7.72 7.72c-.78.78-.78 2.05 0 2.83L4 21.41c.39.39.9.59 1.41.59.51 0 1.02-.2 1.41-.59l7.78-7.78 2.81-2.81c.8-.78.8-2.07 0-2.86zM5.41 20L4 18.59l7.72-7.72 1.47 1.35L5.41 20z\"/>\n",
              "  </svg>\n",
              "      </button>\n",
              "      \n",
              "  <style>\n",
              "    .colab-df-container {\n",
              "      display:flex;\n",
              "      flex-wrap:wrap;\n",
              "      gap: 12px;\n",
              "    }\n",
              "\n",
              "    .colab-df-convert {\n",
              "      background-color: #E8F0FE;\n",
              "      border: none;\n",
              "      border-radius: 50%;\n",
              "      cursor: pointer;\n",
              "      display: none;\n",
              "      fill: #1967D2;\n",
              "      height: 32px;\n",
              "      padding: 0 0 0 0;\n",
              "      width: 32px;\n",
              "    }\n",
              "\n",
              "    .colab-df-convert:hover {\n",
              "      background-color: #E2EBFA;\n",
              "      box-shadow: 0px 1px 2px rgba(60, 64, 67, 0.3), 0px 1px 3px 1px rgba(60, 64, 67, 0.15);\n",
              "      fill: #174EA6;\n",
              "    }\n",
              "\n",
              "    [theme=dark] .colab-df-convert {\n",
              "      background-color: #3B4455;\n",
              "      fill: #D2E3FC;\n",
              "    }\n",
              "\n",
              "    [theme=dark] .colab-df-convert:hover {\n",
              "      background-color: #434B5C;\n",
              "      box-shadow: 0px 1px 3px 1px rgba(0, 0, 0, 0.15);\n",
              "      filter: drop-shadow(0px 1px 2px rgba(0, 0, 0, 0.3));\n",
              "      fill: #FFFFFF;\n",
              "    }\n",
              "  </style>\n",
              "\n",
              "      <script>\n",
              "        const buttonEl =\n",
              "          document.querySelector('#df-f8babd9d-ea10-4825-959a-e58deab08ac3 button.colab-df-convert');\n",
              "        buttonEl.style.display =\n",
              "          google.colab.kernel.accessAllowed ? 'block' : 'none';\n",
              "\n",
              "        async function convertToInteractive(key) {\n",
              "          const element = document.querySelector('#df-f8babd9d-ea10-4825-959a-e58deab08ac3');\n",
              "          const dataTable =\n",
              "            await google.colab.kernel.invokeFunction('convertToInteractive',\n",
              "                                                     [key], {});\n",
              "          if (!dataTable) return;\n",
              "\n",
              "          const docLinkHtml = 'Like what you see? Visit the ' +\n",
              "            '<a target=\"_blank\" href=https://colab.research.google.com/notebooks/data_table.ipynb>data table notebook</a>'\n",
              "            + ' to learn more about interactive tables.';\n",
              "          element.innerHTML = '';\n",
              "          dataTable['output_type'] = 'display_data';\n",
              "          await google.colab.output.renderOutput(dataTable, element);\n",
              "          const docLink = document.createElement('div');\n",
              "          docLink.innerHTML = docLinkHtml;\n",
              "          element.appendChild(docLink);\n",
              "        }\n",
              "      </script>\n",
              "    </div>\n",
              "  </div>\n",
              "  "
            ],
            "text/plain": [
              "                                           headlines  ...                                     decoder_target\n",
              "0  upgrad learner switches to career in ml al wit...  ...  upgrad learner switches to career in ml al wit...\n",
              "2  new zealand end rohit sharma led india match w...  ...  new zealand end rohit sharma led india match w...\n",
              "3  aegon life iterm insurance plan helps customer...  ...  aegon life iterm insurance plan helps customer...\n",
              "5  rahat fateh ali khan denies getting notice for...  ...  rahat fateh ali khan denies getting notice for...\n",
              "7  govt directs alok verma to join work day befor...  ...  govt directs alok verma to join work day befor...\n",
              "\n",
              "[5 rows x 4 columns]"
            ]
          },
          "metadata": {},
          "execution_count": 23
        }
      ],
      "source": [
        "# summary 열에서 수행\n",
        "# 요약 데이터에는 시작 토큰과 종료 토큰을 추가한다.\n",
        "data['decoder_input'] = data['headlines'].apply(lambda x : 'sostoken '+ x)\n",
        "data['decoder_target'] = data['headlines'].apply(lambda x : x + ' eostoken')\n",
        "data.head()"
      ]
    },
    {
      "cell_type": "markdown",
      "id": "48f14968",
      "metadata": {
        "id": "48f14968"
      },
      "source": [
        "인코더 입력과 디코더 입력, 디코더 레이블을 numpy 형식으로 저장"
      ]
    },
    {
      "cell_type": "code",
      "execution_count": 24,
      "id": "d81fa339",
      "metadata": {
        "id": "d81fa339"
      },
      "outputs": [],
      "source": [
        "encoder_input = np.array(data['text']) # 인코더의 입력\n",
        "decoder_input = np.array(data['decoder_input']) # 디코더의 입력\n",
        "decoder_target = np.array(data['decoder_target']) # 디코더의 레이블"
      ]
    },
    {
      "cell_type": "markdown",
      "id": "cc52c2cc",
      "metadata": {
        "id": "cc52c2cc"
      },
      "source": [
        "훈련 데이터와 테스트 데이터를 직접 분리  \n",
        "encoder_input과 크기와 형태가 같은 순서가 섞인 정수 시퀀스 만들기"
      ]
    },
    {
      "cell_type": "code",
      "execution_count": 25,
      "id": "2cac0556",
      "metadata": {
        "colab": {
          "base_uri": "https://localhost:8080/"
        },
        "id": "2cac0556",
        "outputId": "acbe7da5-256b-446b-da6f-fa64293cf5cf"
      },
      "outputs": [
        {
          "output_type": "stream",
          "name": "stdout",
          "text": [
            "[33534 52518 63962 ... 44073 11872 42026]\n"
          ]
        }
      ],
      "source": [
        "indices = np.arange(encoder_input.shape[0])\n",
        "np.random.shuffle(indices) # 순서를 랜덤하게 섞어준다\n",
        "print(indices)"
      ]
    },
    {
      "cell_type": "markdown",
      "id": "f85f2702",
      "metadata": {
        "id": "f85f2702"
      },
      "source": [
        "데이터의 순서 섞어주기"
      ]
    },
    {
      "cell_type": "code",
      "execution_count": 26,
      "id": "aef70d9b",
      "metadata": {
        "id": "aef70d9b"
      },
      "outputs": [],
      "source": [
        "encoder_input = encoder_input[indices]\n",
        "decoder_input = decoder_input[indices]\n",
        "decoder_target = decoder_target[indices]"
      ]
    },
    {
      "cell_type": "markdown",
      "id": "d7feea85",
      "metadata": {
        "id": "d7feea85"
      },
      "source": [
        "훈련과 테스트를 8:2로 나누기 위해 테스트 데이터의 크기를 정해줌"
      ]
    },
    {
      "cell_type": "code",
      "execution_count": 27,
      "id": "766f82af",
      "metadata": {
        "colab": {
          "base_uri": "https://localhost:8080/"
        },
        "id": "766f82af",
        "outputId": "f256640a-9aed-4884-a3d5-41c8e6e50810"
      },
      "outputs": [
        {
          "output_type": "stream",
          "name": "stdout",
          "text": [
            "테스트 데이터의 수 : 17168\n"
          ]
        }
      ],
      "source": [
        "n_of_val = int(len(encoder_input)*0.2)\n",
        "print('테스트 데이터의 수 :', n_of_val)"
      ]
    },
    {
      "cell_type": "markdown",
      "id": "a84984e3",
      "metadata": {
        "id": "a84984e3"
      },
      "source": [
        "데이터 분리하기"
      ]
    },
    {
      "cell_type": "code",
      "execution_count": 28,
      "id": "5a110055",
      "metadata": {
        "scrolled": true,
        "colab": {
          "base_uri": "https://localhost:8080/"
        },
        "id": "5a110055",
        "outputId": "f94beb39-60ce-4a0b-8332-38a41e463314"
      },
      "outputs": [
        {
          "output_type": "stream",
          "name": "stdout",
          "text": [
            "훈련 데이터의 개수 : 68675\n",
            "훈련 레이블의 개수 : 68675\n",
            "테스트 데이터의 개수 : 17168\n",
            "테스트 레이블의 개수 : 17168\n"
          ]
        }
      ],
      "source": [
        "encoder_input_train = encoder_input[:-n_of_val]\n",
        "decoder_input_train = decoder_input[:-n_of_val]\n",
        "decoder_target_train = decoder_target[:-n_of_val]\n",
        "\n",
        "encoder_input_test = encoder_input[-n_of_val:]\n",
        "decoder_input_test = decoder_input[-n_of_val:]\n",
        "decoder_target_test = decoder_target[-n_of_val:]\n",
        "\n",
        "print('훈련 데이터의 개수 :', len(encoder_input_train))\n",
        "print('훈련 레이블의 개수 :', len(decoder_input_train))\n",
        "print('테스트 데이터의 개수 :', len(encoder_input_test))\n",
        "print('테스트 레이블의 개수 :', len(decoder_input_test))"
      ]
    },
    {
      "cell_type": "markdown",
      "id": "8270098b",
      "metadata": {
        "id": "8270098b"
      },
      "source": [
        "디코더의input과 target 데이터의 수는 같다"
      ]
    },
    {
      "cell_type": "markdown",
      "id": "9698c3c6",
      "metadata": {
        "id": "9698c3c6"
      },
      "source": [
        "#### 단어 집합(vocabulary) 만들기 및 정수 인코딩"
      ]
    },
    {
      "cell_type": "code",
      "execution_count": 29,
      "id": "bdcd98de",
      "metadata": {
        "id": "bdcd98de"
      },
      "outputs": [],
      "source": [
        "# keras의 토크나이저를 활용\n",
        "src_tokenizer = Tokenizer() # 토크나이저 정의\n",
        "src_tokenizer.fit_on_texts(encoder_input_train) # 입력된 데이터로부터 단어 집합 생성"
      ]
    },
    {
      "cell_type": "markdown",
      "id": "bec33b3f",
      "metadata": {
        "id": "bec33b3f"
      },
      "source": [
        "빈도수가 낮은 단어를 제외하기 위해 빈도수가 8번 미만인 단어를 확인"
      ]
    },
    {
      "cell_type": "code",
      "execution_count": 30,
      "id": "d3d4e9d3",
      "metadata": {
        "colab": {
          "base_uri": "https://localhost:8080/"
        },
        "id": "d3d4e9d3",
        "outputId": "ba46f511-0363-4aa7-ae84-c3c3d968ce22"
      },
      "outputs": [
        {
          "output_type": "stream",
          "name": "stdout",
          "text": [
            "단어 집합(vocabulary)의 크기 : 64594\n",
            "등장 빈도가 7번 이하인 희귀 단어의 수: 45443\n",
            "단어 집합에서 희귀 단어를 제외시킬 경우의 단어 집합의 크기 19151\n",
            "단어 집합에서 희귀 단어의 비율: 70.35173545530544\n",
            "전체 등장 빈도에서 희귀 단어 등장 빈도 비율: 4.185828475167603\n"
          ]
        }
      ],
      "source": [
        "threshold = 8\n",
        "total_cnt = len(src_tokenizer.word_index) # 단어의 수\n",
        "rare_cnt = 0 # 등장 빈도수가 threshold보다 작은 단어의 개수를 카운트\n",
        "total_freq = 0 # 훈련 데이터의 전체 단어 빈도수 총 합\n",
        "rare_freq = 0 # 등장 빈도수가 threshold보다 작은 단어의 등장 빈도수의 총 합\n",
        "\n",
        "# 단어와 빈도수의 쌍(pair)을 key와 value로 받는다.\n",
        "for key, value in src_tokenizer.word_counts.items():\n",
        "    total_freq = total_freq + value\n",
        "\n",
        "    # 단어의 등장 빈도수가 threshold보다 작으면\n",
        "    if(value < threshold):\n",
        "        rare_cnt = rare_cnt + 1\n",
        "        rare_freq = rare_freq + value\n",
        "\n",
        "print('단어 집합(vocabulary)의 크기 :', total_cnt)\n",
        "print('등장 빈도가 %s번 이하인 희귀 단어의 수: %s'%(threshold - 1, rare_cnt))\n",
        "print('단어 집합에서 희귀 단어를 제외시킬 경우의 단어 집합의 크기 %s'%(total_cnt - rare_cnt))\n",
        "print(\"단어 집합에서 희귀 단어의 비율:\", (rare_cnt / total_cnt)*100)\n",
        "print(\"전체 등장 빈도에서 희귀 단어 등장 빈도 비율:\", (rare_freq / total_freq)*100)"
      ]
    },
    {
      "cell_type": "markdown",
      "id": "244c7586",
      "metadata": {
        "id": "244c7586"
      },
      "source": [
        "빈도수가 7번 이하인 단어의 비율이 약 70% 정도로 높지만, 전체 빈도수 중에는 약 3.9% 밖에 되지 않는다.  \n",
        "그러므로 이 단어들을 제외!"
      ]
    },
    {
      "cell_type": "markdown",
      "id": "5c3cbc19",
      "metadata": {
        "id": "5c3cbc19"
      },
      "source": [
        "노드상에는 8000여개라고 했지만 프로젝트에서는 20629개 였기에 단어 크기를 20500개로 제한"
      ]
    },
    {
      "cell_type": "code",
      "execution_count": 31,
      "id": "70657cc2",
      "metadata": {
        "id": "70657cc2"
      },
      "outputs": [],
      "source": [
        "src_vocab = 20500\n",
        "src_tokenizer = Tokenizer(num_words=src_vocab) # 단어 집합의 크기를 20,500으로 제한\n",
        "src_tokenizer.fit_on_texts(encoder_input_train) # 단어 집합 재생성"
      ]
    },
    {
      "cell_type": "markdown",
      "id": "4631a4f3",
      "metadata": {
        "id": "4631a4f3"
      },
      "source": [
        "텍스트 시퀀스를 정수 시퀀스로 변환"
      ]
    },
    {
      "cell_type": "code",
      "execution_count": 32,
      "id": "18c5c9a3",
      "metadata": {
        "colab": {
          "base_uri": "https://localhost:8080/"
        },
        "id": "18c5c9a3",
        "outputId": "75425ecb-0220-4f7b-8b31-0b5fa9ca25ed"
      },
      "outputs": [
        {
          "output_type": "stream",
          "name": "stdout",
          "text": [
            "[[1094, 671, 74, 149, 108, 363, 155, 1116, 139, 1280, 1290, 199, 10053, 5012, 2701, 2438, 1116, 810, 52, 1425, 19152, 9391, 9823, 810, 1280, 10053, 1173, 4093, 19152, 16979, 7194, 96, 1948, 162, 155, 671, 1443, 12682, 1116, 810], [40, 99, 1196, 1880, 942, 1117, 7, 65, 715, 15384, 11, 1973, 197, 293, 860, 149, 108, 65, 1880, 158, 2236, 11, 197, 14740, 3617, 8500, 16980, 8334, 1271, 704, 7, 4025, 3124, 99], [1207, 1646, 7653, 1434, 974, 208, 1759, 72, 355, 1669, 261, 1109, 1396, 73, 131, 880, 11538, 2701, 70, 7653, 1202, 16981, 681, 1207, 1646, 248, 2981, 1835, 5582, 2352, 314, 1214, 9392, 3589]]\n"
          ]
        }
      ],
      "source": [
        "# 텍스트 시퀀스를 정수 시퀀스로 변환\n",
        "encoder_input_train = src_tokenizer.texts_to_sequences(encoder_input_train) \n",
        "encoder_input_test = src_tokenizer.texts_to_sequences(encoder_input_test)\n",
        "\n",
        "# 잘 진행되었는지 샘플 출력\n",
        "print(encoder_input_train[:3])"
      ]
    },
    {
      "cell_type": "markdown",
      "id": "138bfd3b",
      "metadata": {
        "id": "138bfd3b"
      },
      "source": [
        "headlines 데이터에 대해서도 동일한 작업 수행"
      ]
    },
    {
      "cell_type": "code",
      "execution_count": 33,
      "id": "58b296df",
      "metadata": {
        "id": "58b296df"
      },
      "outputs": [],
      "source": [
        "tar_tokenizer = Tokenizer()\n",
        "tar_tokenizer.fit_on_texts(decoder_input_train)\n",
        "# tar_tokenizer.word_index에 단어데 대해 생성된 고유 정수 저장되어 있음"
      ]
    },
    {
      "cell_type": "markdown",
      "id": "da7c7bd5",
      "metadata": {
        "id": "da7c7bd5"
      },
      "source": [
        "빈도수가 8 미만인 데이터 확인"
      ]
    },
    {
      "cell_type": "code",
      "execution_count": 34,
      "id": "16cd099f",
      "metadata": {
        "colab": {
          "base_uri": "https://localhost:8080/"
        },
        "id": "16cd099f",
        "outputId": "e9ee5458-685f-4736-b9cf-8bdd116c0e4c"
      },
      "outputs": [
        {
          "output_type": "stream",
          "name": "stdout",
          "text": [
            "단어 집합(vocabulary)의 크기 : 28397\n",
            "등장 빈도가 7번 이하인 희귀 단어의 수: 20226\n",
            "단어 집합에서 희귀 단어를 제외시킬 경우의 단어 집합의 크기 8171\n",
            "단어 집합에서 희귀 단어의 비율: 71.22583371482904\n",
            "전체 등장 빈도에서 희귀 단어 등장 빈도 비율: 6.603263371076131\n"
          ]
        }
      ],
      "source": [
        "threshold = 8\n",
        "total_cnt = len(tar_tokenizer.word_index) # 단어의 수\n",
        "rare_cnt = 0 # 등장 빈도수가 threshold보다 작은 단어의 개수를 카운트\n",
        "total_freq = 0 # 훈련 데이터의 전체 단어 빈도수 총 합\n",
        "rare_freq = 0 # 등장 빈도수가 threshold보다 작은 단어의 등장 빈도수의 총 합\n",
        "\n",
        "# 단어와 빈도수의 쌍(pair)을 key와 value로 받는다.\n",
        "for key, value in tar_tokenizer.word_counts.items():\n",
        "    total_freq = total_freq + value\n",
        "\n",
        "    # 단어의 등장 빈도수가 threshold보다 작으면\n",
        "    if(value < threshold):\n",
        "        rare_cnt = rare_cnt + 1\n",
        "        rare_freq = rare_freq + value\n",
        "\n",
        "print('단어 집합(vocabulary)의 크기 :', total_cnt)\n",
        "print('등장 빈도가 %s번 이하인 희귀 단어의 수: %s'%(threshold - 1, rare_cnt))\n",
        "print('단어 집합에서 희귀 단어를 제외시킬 경우의 단어 집합의 크기 %s'%(total_cnt - rare_cnt))\n",
        "print(\"단어 집합에서 희귀 단어의 비율:\", (rare_cnt / total_cnt)*100)\n",
        "print(\"전체 등장 빈도에서 희귀 단어 등장 빈도 비율:\", (rare_freq / total_freq)*100)"
      ]
    },
    {
      "cell_type": "markdown",
      "id": "3e96347d",
      "metadata": {
        "id": "3e96347d"
      },
      "source": [
        "빈도수가 7번 이하인 비율이 약 70% 이지만 정체 빈도에 대한 비율을 약 6%가 채 되지 않는다.  \n",
        "그러므로 어림잡아 8700개로 단어를 제한!"
      ]
    },
    {
      "cell_type": "code",
      "execution_count": 35,
      "id": "27ac68d4",
      "metadata": {
        "colab": {
          "base_uri": "https://localhost:8080/"
        },
        "id": "27ac68d4",
        "outputId": "11ec0783-b3db-43da-df71-e7ffa2174361"
      },
      "outputs": [
        {
          "output_type": "stream",
          "name": "stdout",
          "text": [
            "input\n",
            "input  [[1, 285, 106, 164, 8, 481, 5666, 3, 141, 17, 334], [1, 35, 116, 443, 5, 3427, 4, 814], [1, 525, 849, 5984, 1061, 405, 1774, 254, 1276, 104, 4, 1216], [1, 329, 832, 6661, 3, 176, 804, 832], [1, 1553, 19, 6, 359, 739, 883, 3428]]\n",
            "target\n",
            "decoder  [[285, 106, 164, 8, 481, 5666, 3, 141, 17, 334, 2], [35, 116, 443, 5, 3427, 4, 814, 2], [525, 849, 5984, 1061, 405, 1774, 254, 1276, 104, 4, 1216, 2], [329, 832, 6661, 3, 176, 804, 832, 2], [1553, 19, 6, 359, 739, 883, 3428, 2]]\n"
          ]
        }
      ],
      "source": [
        "tar_vocab = 8700\n",
        "tar_tokenizer = Tokenizer(num_words=tar_vocab) \n",
        "tar_tokenizer.fit_on_texts(decoder_input_train)\n",
        "tar_tokenizer.fit_on_texts(decoder_target_train)\n",
        "\n",
        "# 텍스트 시퀀스를 정수 시퀀스로 변환\n",
        "decoder_input_train = tar_tokenizer.texts_to_sequences(decoder_input_train) \n",
        "decoder_target_train = tar_tokenizer.texts_to_sequences(decoder_target_train)\n",
        "decoder_input_test = tar_tokenizer.texts_to_sequences(decoder_input_test)\n",
        "decoder_target_test = tar_tokenizer.texts_to_sequences(decoder_target_test)\n",
        "\n",
        "# 잘 변환되었는지 확인\n",
        "print('input')\n",
        "print('input ',decoder_input_train[:5])\n",
        "print('target')\n",
        "print('decoder ',decoder_target_train[:5])"
      ]
    },
    {
      "cell_type": "markdown",
      "id": "b64113f9",
      "metadata": {
        "id": "b64113f9"
      },
      "source": [
        "평균 길이가 약 9 정도이기에 headlines는 단어수를 제한해도 빈 샘플이 발생했을 가능성이 높지는 않다.  \n",
        "그래도 시작 토큰이나 종료 토큰만 남은 길이가 1인 샘플들을 제거해야 하므로 확인해보자!"
      ]
    },
    {
      "cell_type": "code",
      "execution_count": 36,
      "id": "17020149",
      "metadata": {
        "colab": {
          "base_uri": "https://localhost:8080/"
        },
        "id": "17020149",
        "outputId": "7e71caea-6a6e-41cb-830a-7c696da312a9"
      },
      "outputs": [
        {
          "output_type": "stream",
          "name": "stdout",
          "text": [
            "삭제할 훈련 데이터의 개수 : 0\n",
            "삭제할 테스트 데이터의 개수 : 1\n",
            "훈련 데이터의 개수 : 68675\n",
            "훈련 레이블의 개수 : 68675\n",
            "테스트 데이터의 개수 : 17167\n",
            "테스트 레이블의 개수 : 17167\n"
          ]
        }
      ],
      "source": [
        "drop_train = [index for index, sentence in enumerate(decoder_input_train) if len(sentence) == 1]\n",
        "drop_test = [index for index, sentence in enumerate(decoder_input_test) if len(sentence) == 1]\n",
        "\n",
        "print('삭제할 훈련 데이터의 개수 :', len(drop_train))\n",
        "print('삭제할 테스트 데이터의 개수 :', len(drop_test))\n",
        "\n",
        "encoder_input_train = [sentence for index, sentence in enumerate(encoder_input_train) if index not in drop_train]\n",
        "decoder_input_train = [sentence for index, sentence in enumerate(decoder_input_train) if index not in drop_train]\n",
        "decoder_target_train = [sentence for index, sentence in enumerate(decoder_target_train) if index not in drop_train]\n",
        "\n",
        "encoder_input_test = [sentence for index, sentence in enumerate(encoder_input_test) if index not in drop_test]\n",
        "decoder_input_test = [sentence for index, sentence in enumerate(decoder_input_test) if index not in drop_test]\n",
        "decoder_target_test = [sentence for index, sentence in enumerate(decoder_target_test) if index not in drop_test]\n",
        "\n",
        "print('훈련 데이터의 개수 :', len(encoder_input_train))\n",
        "print('훈련 레이블의 개수 :', len(decoder_input_train))\n",
        "print('테스트 데이터의 개수 :', len(encoder_input_test))\n",
        "print('테스트 레이블의 개수 :', len(decoder_input_test))"
      ]
    },
    {
      "cell_type": "markdown",
      "id": "0e45e6b5",
      "metadata": {
        "id": "0e45e6b5"
      },
      "source": [
        "정제된 데이터를 최대 길이로 패딩하자!"
      ]
    },
    {
      "cell_type": "code",
      "execution_count": 37,
      "id": "124347d1",
      "metadata": {
        "id": "124347d1"
      },
      "outputs": [],
      "source": [
        "encoder_input_train = pad_sequences(encoder_input_train, maxlen=text_max_len, padding='post')\n",
        "encoder_input_test = pad_sequences(encoder_input_test, maxlen=text_max_len, padding='post')\n",
        "decoder_input_train = pad_sequences(decoder_input_train, maxlen=summary_max_len, padding='post')\n",
        "decoder_target_train = pad_sequences(decoder_target_train, maxlen=summary_max_len, padding='post')\n",
        "decoder_input_test = pad_sequences(decoder_input_test, maxlen=summary_max_len, padding='post')\n",
        "decoder_target_test = pad_sequences(decoder_target_test, maxlen=summary_max_len, padding='post')"
      ]
    },
    {
      "cell_type": "markdown",
      "id": "6491596e",
      "metadata": {
        "id": "6491596e"
      },
      "source": [
        "# Step 3. 어텐션 메커니즘 사용하기(추상적 요약)"
      ]
    },
    {
      "cell_type": "markdown",
      "id": "c21b3c11",
      "metadata": {
        "id": "c21b3c11"
      },
      "source": [
        "함수형 API를 활용한 인코더 모델 설계"
      ]
    },
    {
      "cell_type": "code",
      "execution_count": 38,
      "id": "77100055",
      "metadata": {
        "id": "77100055"
      },
      "outputs": [],
      "source": [
        "from tensorflow.keras.layers import Input, LSTM, Embedding, Dense, Concatenate, TimeDistributed\n",
        "from tensorflow.keras.models import Model\n",
        "from tensorflow.keras.callbacks import EarlyStopping, ModelCheckpoint\n",
        "\n",
        "\n",
        "# 인코더 설계 시작\n",
        "embedding_dim = 128\n",
        "hidden_size = 256\n",
        "\n",
        "# 인코더\n",
        "encoder_inputs = Input(shape=(text_max_len,))\n",
        "\n",
        "# 인코더의 임베딩 층\n",
        "enc_emb = Embedding(src_vocab, embedding_dim)(encoder_inputs)\n",
        "\n",
        "# 인코더의 LSTM 1\n",
        "encoder_lstm1 = LSTM(hidden_size, return_sequences=True, return_state=True ,dropout = 0.4, recurrent_dropout = 0.4)\n",
        "encoder_output1, state_h1, state_c1 = encoder_lstm1(enc_emb)\n",
        "\n",
        "# 인코더의 LSTM 2\n",
        "encoder_lstm2 = LSTM(hidden_size, return_sequences=True, return_state=True, dropout=0.4, recurrent_dropout=0.4)\n",
        "encoder_output2, state_h2, state_c2 = encoder_lstm2(encoder_output1)\n",
        "\n",
        "# 인코더의 LSTM 3\n",
        "encoder_lstm3 = LSTM(hidden_size, return_state=True, return_sequences=True, dropout=0.4, recurrent_dropout=0.4)\n",
        "encoder_outputs, state_h, state_c= encoder_lstm3(encoder_output2)"
      ]
    },
    {
      "cell_type": "markdown",
      "id": "91310bbd",
      "metadata": {
        "id": "91310bbd"
      },
      "source": [
        "디코더 설계  \n",
        "time step마다 dropout을 해주는 recurrent dropout을 적용"
      ]
    },
    {
      "cell_type": "code",
      "execution_count": 39,
      "id": "623958d0",
      "metadata": {
        "id": "623958d0"
      },
      "outputs": [],
      "source": [
        "# 디코더 설계\n",
        "decoder_inputs = Input(shape=(None,))\n",
        "\n",
        "# 디코더의 임베딩 층\n",
        "dec_emb_layer = Embedding(tar_vocab, embedding_dim)\n",
        "dec_emb = dec_emb_layer(decoder_inputs)\n",
        "\n",
        "# 디코더의 LSTM\n",
        "decoder_lstm = LSTM(hidden_size, return_sequences=True, return_state=True, dropout=0.4, recurrent_dropout=0.2)\n",
        "decoder_outputs, _, _ = decoder_lstm(dec_emb, initial_state=[state_h, state_c])"
      ]
    },
    {
      "cell_type": "markdown",
      "id": "6ccd2586",
      "metadata": {
        "id": "6ccd2586"
      },
      "source": [
        "디코더 출력층 설계!"
      ]
    },
    {
      "cell_type": "code",
      "execution_count": 40,
      "id": "87c170c3",
      "metadata": {
        "colab": {
          "base_uri": "https://localhost:8080/"
        },
        "id": "87c170c3",
        "outputId": "9f174382-1012-4d3f-9c69-2d6d6e5e857b"
      },
      "outputs": [
        {
          "output_type": "stream",
          "name": "stdout",
          "text": [
            "Model: \"model\"\n",
            "__________________________________________________________________________________________________\n",
            " Layer (type)                   Output Shape         Param #     Connected to                     \n",
            "==================================================================================================\n",
            " input_1 (InputLayer)           [(None, 40)]         0           []                               \n",
            "                                                                                                  \n",
            " embedding (Embedding)          (None, 40, 128)      2624000     ['input_1[0][0]']                \n",
            "                                                                                                  \n",
            " lstm (LSTM)                    [(None, 40, 256),    394240      ['embedding[0][0]']              \n",
            "                                 (None, 256),                                                     \n",
            "                                 (None, 256)]                                                     \n",
            "                                                                                                  \n",
            " input_2 (InputLayer)           [(None, None)]       0           []                               \n",
            "                                                                                                  \n",
            " lstm_1 (LSTM)                  [(None, 40, 256),    525312      ['lstm[0][0]']                   \n",
            "                                 (None, 256),                                                     \n",
            "                                 (None, 256)]                                                     \n",
            "                                                                                                  \n",
            " embedding_1 (Embedding)        (None, None, 128)    1113600     ['input_2[0][0]']                \n",
            "                                                                                                  \n",
            " lstm_2 (LSTM)                  [(None, 40, 256),    525312      ['lstm_1[0][0]']                 \n",
            "                                 (None, 256),                                                     \n",
            "                                 (None, 256)]                                                     \n",
            "                                                                                                  \n",
            " lstm_3 (LSTM)                  [(None, None, 256),  394240      ['embedding_1[0][0]',            \n",
            "                                 (None, 256),                     'lstm_2[0][1]',                 \n",
            "                                 (None, 256)]                     'lstm_2[0][2]']                 \n",
            "                                                                                                  \n",
            " dense (Dense)                  (None, None, 8700)   2235900     ['lstm_3[0][0]']                 \n",
            "                                                                                                  \n",
            "==================================================================================================\n",
            "Total params: 7,812,604\n",
            "Trainable params: 7,812,604\n",
            "Non-trainable params: 0\n",
            "__________________________________________________________________________________________________\n"
          ]
        }
      ],
      "source": [
        "# 디코더의 출력층\n",
        "decoder_softmax_layer = Dense(tar_vocab, activation='softmax')\n",
        "decoder_softmax_outputs = decoder_softmax_layer(decoder_outputs) \n",
        "\n",
        "# 모델 정의\n",
        "model = Model([encoder_inputs, decoder_inputs], decoder_softmax_outputs)\n",
        "model.summary()"
      ]
    },
    {
      "cell_type": "markdown",
      "id": "ca845653",
      "metadata": {
        "id": "ca845653"
      },
      "source": [
        "어텐션 메커니즘\n",
        "- 디코더의 출력층을 조금 바꿔서 성능을 높일 수 있는 방법\n",
        "- Tensorflow에 이미 정의된  Bahdanau 스타일의 어텐션을 불러와서 적용"
      ]
    },
    {
      "cell_type": "markdown",
      "id": "433251f5",
      "metadata": {
        "id": "433251f5"
      },
      "source": [
        "어텐션 층을 만들고 디코더 출력층을 수정"
      ]
    },
    {
      "cell_type": "code",
      "execution_count": 41,
      "id": "4626e162",
      "metadata": {
        "scrolled": true,
        "colab": {
          "base_uri": "https://localhost:8080/"
        },
        "id": "4626e162",
        "outputId": "a8d7cf93-4ca3-4131-aeb0-5cadc5f9c2dc"
      },
      "outputs": [
        {
          "output_type": "stream",
          "name": "stdout",
          "text": [
            "Model: \"model_1\"\n",
            "__________________________________________________________________________________________________\n",
            " Layer (type)                   Output Shape         Param #     Connected to                     \n",
            "==================================================================================================\n",
            " input_1 (InputLayer)           [(None, 40)]         0           []                               \n",
            "                                                                                                  \n",
            " embedding (Embedding)          (None, 40, 128)      2624000     ['input_1[0][0]']                \n",
            "                                                                                                  \n",
            " lstm (LSTM)                    [(None, 40, 256),    394240      ['embedding[0][0]']              \n",
            "                                 (None, 256),                                                     \n",
            "                                 (None, 256)]                                                     \n",
            "                                                                                                  \n",
            " input_2 (InputLayer)           [(None, None)]       0           []                               \n",
            "                                                                                                  \n",
            " lstm_1 (LSTM)                  [(None, 40, 256),    525312      ['lstm[0][0]']                   \n",
            "                                 (None, 256),                                                     \n",
            "                                 (None, 256)]                                                     \n",
            "                                                                                                  \n",
            " embedding_1 (Embedding)        (None, None, 128)    1113600     ['input_2[0][0]']                \n",
            "                                                                                                  \n",
            " lstm_2 (LSTM)                  [(None, 40, 256),    525312      ['lstm_1[0][0]']                 \n",
            "                                 (None, 256),                                                     \n",
            "                                 (None, 256)]                                                     \n",
            "                                                                                                  \n",
            " lstm_3 (LSTM)                  [(None, None, 256),  394240      ['embedding_1[0][0]',            \n",
            "                                 (None, 256),                     'lstm_2[0][1]',                 \n",
            "                                 (None, 256)]                     'lstm_2[0][2]']                 \n",
            "                                                                                                  \n",
            " attention_layer (AdditiveAtten  (None, None, 256)   256         ['lstm_3[0][0]',                 \n",
            " tion)                                                            'lstm_2[0][0]']                 \n",
            "                                                                                                  \n",
            " concat_layer (Concatenate)     (None, None, 512)    0           ['lstm_3[0][0]',                 \n",
            "                                                                  'attention_layer[0][0]']        \n",
            "                                                                                                  \n",
            " dense_1 (Dense)                (None, None, 8700)   4463100     ['concat_layer[0][0]']           \n",
            "                                                                                                  \n",
            "==================================================================================================\n",
            "Total params: 10,040,060\n",
            "Trainable params: 10,040,060\n",
            "Non-trainable params: 0\n",
            "__________________________________________________________________________________________________\n"
          ]
        }
      ],
      "source": [
        "from tensorflow.keras.layers import AdditiveAttention\n",
        "\n",
        "# 어텐션 층(어텐션 함수)\n",
        "attn_layer = AdditiveAttention(name='attention_layer')\n",
        "\n",
        "# 인코더와 디코더의 모든 time step의 hidden state를 어텐션 층에 전달하고 결과를 리턴\n",
        "attn_out = attn_layer([decoder_outputs, encoder_outputs])\n",
        "\n",
        "\n",
        "# 어텐션의 결과와 디코더의 hidden state들을 연결\n",
        "decoder_concat_input = Concatenate(axis=-1, name='concat_layer')([decoder_outputs, attn_out])\n",
        "\n",
        "# 디코더의 출력층\n",
        "decoder_softmax_layer = Dense(tar_vocab, activation='softmax')\n",
        "decoder_softmax_outputs = decoder_softmax_layer(decoder_concat_input)\n",
        "\n",
        "# 모델 정의\n",
        "model = Model([encoder_inputs, decoder_inputs], decoder_softmax_outputs)\n",
        "model.summary()"
      ]
    },
    {
      "cell_type": "markdown",
      "id": "8ee68feb",
      "metadata": {
        "id": "8ee68feb"
      },
      "source": [
        "인코더의 hidden state들과 디코더의 hidden state들을 어텐션 함수의 입력으로 사용하고,  \n",
        "어텐션 함수가 리턴한 값을 예측 시에 디코더의 hidden state와 함께 활용하는 형태로 작동  \n",
        "빠른 속도를 위해 colab의 TPU를 활용!"
      ]
    },
    {
      "cell_type": "code",
      "source": [
        "with strategy.scope():\n",
        "  # 인코더\n",
        "  encoder_inputs = Input(shape=(text_max_len,))\n",
        "\n",
        "  # 인코더의 임베딩 층\n",
        "  enc_emb = Embedding(src_vocab, embedding_dim)(encoder_inputs)\n",
        "\n",
        "  # 인코더의 LSTM 1\n",
        "  encoder_lstm1 = LSTM(hidden_size, return_sequences=True, return_state=True ,dropout = 0.4, recurrent_dropout = 0.4)\n",
        "  encoder_output1, state_h1, state_c1 = encoder_lstm1(enc_emb)\n",
        "\n",
        "  # 인코더의 LSTM 2\n",
        "  encoder_lstm2 = LSTM(hidden_size, return_sequences=True, return_state=True, dropout=0.4, recurrent_dropout=0.4)\n",
        "  encoder_output2, state_h2, state_c2 = encoder_lstm2(encoder_output1)\n",
        "\n",
        "  # 인코더의 LSTM 3\n",
        "  encoder_lstm3 = LSTM(hidden_size, return_state=True, return_sequences=True, dropout=0.4, recurrent_dropout=0.4)\n",
        "  encoder_outputs, state_h, state_c= encoder_lstm3(encoder_output2)\n",
        "\n",
        "  # 디코더 설계\n",
        "  decoder_inputs = Input(shape=(None,))\n",
        "\n",
        "  # 디코더의 임베딩 층\n",
        "  dec_emb_layer = Embedding(tar_vocab, embedding_dim)\n",
        "  dec_emb = dec_emb_layer(decoder_inputs)\n",
        "\n",
        "  # 디코더의 LSTM\n",
        "  decoder_lstm = LSTM(hidden_size, return_sequences=True, return_state=True, dropout=0.4, recurrent_dropout=0.2)\n",
        "  decoder_outputs, _, _ = decoder_lstm(dec_emb, initial_state=[state_h, state_c])\n",
        "\n",
        "  # 어텐션 층(어텐션 함수)\n",
        "  attn_layer = AdditiveAttention(name='attention_layer')\n",
        "\n",
        "  # 인코더와 디코더의 모든 time step의 hidden state를 어텐션 층에 전달하고 결과를 리턴\n",
        "  attn_out = attn_layer([decoder_outputs, encoder_outputs])\n",
        "\n",
        "\n",
        "  # 어텐션의 결과와 디코더의 hidden state들을 연결\n",
        "  decoder_concat_input = Concatenate(axis=-1, name='concat_layer')([decoder_outputs, attn_out])\n",
        "\n",
        "  # 디코더의 출력층\n",
        "  decoder_softmax_layer = Dense(tar_vocab, activation='softmax')\n",
        "  decoder_softmax_outputs = decoder_softmax_layer(decoder_concat_input)\n",
        "\n",
        "  model = Model([encoder_inputs, decoder_inputs], decoder_softmax_outputs)\n",
        "  model.compile(optimizer='rmsprop', loss='sparse_categorical_crossentropy')\n",
        "  es = EarlyStopping(monitor='val_loss', patience=2, verbose=1)\n",
        "  history = model.fit(x=[encoder_input_train, decoder_input_train], y=decoder_target_train, \\\n",
        "          validation_data=([encoder_input_test, decoder_input_test], decoder_target_test), \\\n",
        "          batch_size=256, callbacks=[es], epochs=50)"
      ],
      "metadata": {
        "colab": {
          "base_uri": "https://localhost:8080/"
        },
        "id": "PvKe-pUD40yM",
        "outputId": "10453449-1777-4442-adce-0ca1bc2a2200"
      },
      "id": "PvKe-pUD40yM",
      "execution_count": 42,
      "outputs": [
        {
          "output_type": "stream",
          "name": "stdout",
          "text": [
            "Epoch 1/50\n",
            "WARNING:tensorflow:From /usr/local/lib/python3.7/dist-packages/keras/engine/training.py:2970: StrategyBase.unwrap (from tensorflow.python.distribute.distribute_lib) is deprecated and will be removed in a future version.\n",
            "Instructions for updating:\n",
            "use `experimental_local_results` instead.\n"
          ]
        },
        {
          "output_type": "stream",
          "name": "stderr",
          "text": [
            "WARNING:tensorflow:From /usr/local/lib/python3.7/dist-packages/keras/engine/training.py:2970: StrategyBase.unwrap (from tensorflow.python.distribute.distribute_lib) is deprecated and will be removed in a future version.\n",
            "Instructions for updating:\n",
            "use `experimental_local_results` instead.\n"
          ]
        },
        {
          "output_type": "stream",
          "name": "stdout",
          "text": [
            "269/269 [==============================] - 57s 119ms/step - loss: 5.9276 - val_loss: 5.5256\n",
            "Epoch 2/50\n",
            "269/269 [==============================] - 14s 54ms/step - loss: 5.3905 - val_loss: 5.1839\n",
            "Epoch 3/50\n",
            "269/269 [==============================] - 14s 54ms/step - loss: 5.0617 - val_loss: 4.9128\n",
            "Epoch 4/50\n",
            "269/269 [==============================] - 15s 54ms/step - loss: 4.7866 - val_loss: 4.6996\n",
            "Epoch 5/50\n",
            "269/269 [==============================] - 15s 55ms/step - loss: 4.5551 - val_loss: 4.5587\n",
            "Epoch 6/50\n",
            "269/269 [==============================] - 14s 54ms/step - loss: 4.3687 - val_loss: 4.4222\n",
            "Epoch 7/50\n",
            "269/269 [==============================] - 15s 54ms/step - loss: 4.2072 - val_loss: 4.3154\n",
            "Epoch 8/50\n",
            "269/269 [==============================] - 15s 54ms/step - loss: 4.0653 - val_loss: 4.2495\n",
            "Epoch 9/50\n",
            "269/269 [==============================] - 15s 54ms/step - loss: 3.9410 - val_loss: 4.1713\n",
            "Epoch 10/50\n",
            "269/269 [==============================] - 14s 54ms/step - loss: 3.8304 - val_loss: 4.1232\n",
            "Epoch 11/50\n",
            "269/269 [==============================] - 15s 54ms/step - loss: 3.7332 - val_loss: 4.0806\n",
            "Epoch 12/50\n",
            "269/269 [==============================] - 14s 54ms/step - loss: 3.6420 - val_loss: 4.0349\n",
            "Epoch 13/50\n",
            "269/269 [==============================] - 14s 54ms/step - loss: 3.5580 - val_loss: 4.0018\n",
            "Epoch 14/50\n",
            "269/269 [==============================] - 14s 54ms/step - loss: 3.4843 - val_loss: 3.9703\n",
            "Epoch 15/50\n",
            "269/269 [==============================] - 15s 54ms/step - loss: 3.4127 - val_loss: 3.9416\n",
            "Epoch 16/50\n",
            "269/269 [==============================] - 15s 54ms/step - loss: 3.3493 - val_loss: 3.9289\n",
            "Epoch 17/50\n",
            "269/269 [==============================] - 15s 54ms/step - loss: 3.2895 - val_loss: 3.9420\n",
            "Epoch 18/50\n",
            "269/269 [==============================] - 15s 54ms/step - loss: 3.2329 - val_loss: 3.9056\n",
            "Epoch 19/50\n",
            "269/269 [==============================] - 15s 54ms/step - loss: 3.1820 - val_loss: 3.8906\n",
            "Epoch 20/50\n",
            "269/269 [==============================] - 15s 55ms/step - loss: 3.1329 - val_loss: 3.8876\n",
            "Epoch 21/50\n",
            "269/269 [==============================] - 14s 54ms/step - loss: 3.0889 - val_loss: 3.8724\n",
            "Epoch 22/50\n",
            "269/269 [==============================] - 14s 54ms/step - loss: 3.0449 - val_loss: 3.8721\n",
            "Epoch 23/50\n",
            "269/269 [==============================] - 14s 54ms/step - loss: 3.0041 - val_loss: 3.8718\n",
            "Epoch 24/50\n",
            "269/269 [==============================] - 15s 54ms/step - loss: 2.9633 - val_loss: 3.8586\n",
            "Epoch 25/50\n",
            "269/269 [==============================] - 15s 54ms/step - loss: 2.9231 - val_loss: 3.8651\n",
            "Epoch 26/50\n",
            "269/269 [==============================] - 15s 55ms/step - loss: 2.8854 - val_loss: 3.8580\n",
            "Epoch 27/50\n",
            "269/269 [==============================] - 15s 55ms/step - loss: 2.8506 - val_loss: 3.8608\n",
            "Epoch 28/50\n",
            "269/269 [==============================] - 15s 54ms/step - loss: 2.8169 - val_loss: 3.8697\n",
            "Epoch 00028: early stopping\n"
          ]
        }
      ]
    },
    {
      "cell_type": "markdown",
      "source": [
        "model.compile(optimizer='rmsprop', loss='sparse_categorical_crossentropy')\n",
        "es = EarlyStopping(monitor='val_loss', patience=2, verbose=1)\n",
        "history = model.fit(x=[encoder_input_train, decoder_input_train], y=decoder_target_train, \\\n",
        "          validation_data=([encoder_input_test, decoder_input_test], decoder_target_test), \\\n",
        "          batch_size=256, callbacks=[es], epochs=50)"
      ],
      "metadata": {
        "id": "44c4490d"
      },
      "id": "44c4490d"
    },
    {
      "cell_type": "markdown",
      "id": "b4d27fa4",
      "metadata": {
        "id": "b4d27fa4"
      },
      "source": [
        "훈련 데이터의 손실과 검증 데이터의 손실이 줄어드는 과정을 시각화"
      ]
    },
    {
      "cell_type": "code",
      "execution_count": 43,
      "id": "0b31e1dc",
      "metadata": {
        "colab": {
          "base_uri": "https://localhost:8080/",
          "height": 265
        },
        "id": "0b31e1dc",
        "outputId": "4102df78-2c8e-4be7-e402-eb2ac60c9da0"
      },
      "outputs": [
        {
          "output_type": "display_data",
          "data": {
            "image/png": "[encoded data removed]",
            "text/plain": [
              "<Figure size 432x288 with 1 Axes>"
            ]
          },
          "metadata": {
            "needs_background": "light"
          }
        }
      ],
      "source": [
        "plt.plot(history.history['loss'], label='train')\n",
        "plt.plot(history.history['val_loss'], label='test')\n",
        "plt.legend()\n",
        "plt.show()"
      ]
    },
    {
      "cell_type": "markdown",
      "id": "4158b6d7",
      "metadata": {
        "id": "4158b6d7"
      },
      "source": [
        "# Step 4. 실제 결과와 요약문 비교하기(추상적 요약)"
      ]
    },
    {
      "cell_type": "markdown",
      "id": "b273c8b3",
      "metadata": {
        "id": "b273c8b3"
      },
      "source": [
        "정수로 존재하는 텍스트 데이터를 실제 데이터로 복원하기 위한 사전 준비"
      ]
    },
    {
      "cell_type": "code",
      "execution_count": 44,
      "id": "b2df3f50",
      "metadata": {
        "id": "b2df3f50"
      },
      "outputs": [],
      "source": [
        "src_index_to_word = src_tokenizer.index_word # 원문 단어 집합에서 정수 -> 단어를 얻음\n",
        "tar_word_to_index = tar_tokenizer.word_index # 요약 단어 집합에서 단어 -> 정수를 얻음\n",
        "tar_index_to_word = tar_tokenizer.index_word # 요약 단어 집합에서 정수 -> 단어를 얻음"
      ]
    },
    {
      "cell_type": "markdown",
      "id": "cf7ffadd",
      "metadata": {
        "id": "cf7ffadd"
      },
      "source": [
        "훈련 단계와 다르게 인퍼런스 단계에서는 만들어줘야하는 문장의 길이만큼 디코더가 반복 구조로 동작해야함  \n",
        "그러므로 인퍼런스를 위한 모델 설계를 별도로 해주어야 함  \n",
        "이 때, 인코더와 디코더 모델을 분리해서 설계!"
      ]
    },
    {
      "cell_type": "code",
      "execution_count": 45,
      "id": "b85e031d",
      "metadata": {
        "id": "b85e031d"
      },
      "outputs": [],
      "source": [
        "# 인코더 설계\n",
        "encoder_model = Model(inputs=encoder_inputs, outputs=[encoder_outputs, state_h, state_c])\n",
        "\n",
        "# 이전 시점의 상태들을 저장하는 텐서\n",
        "decoder_state_input_h = Input(shape=(hidden_size,))\n",
        "decoder_state_input_c = Input(shape=(hidden_size,))\n",
        "\n",
        "dec_emb2 = dec_emb_layer(decoder_inputs)\n",
        "\n",
        "# 문장의 다음 단어를 예측하기 위해서 초기 상태(initial_state)를 이전 시점의 상태로 사용. 이는 뒤의 함수 decode_sequence()에 구현\n",
        "# 훈련 과정에서와 달리 LSTM의 리턴하는 은닉 상태와 셀 상태인 state_h와 state_c를 버리지 않음.\n",
        "decoder_outputs2, state_h2, state_c2 = decoder_lstm(dec_emb2, initial_state=[decoder_state_input_h, decoder_state_input_c])"
      ]
    },
    {
      "cell_type": "markdown",
      "id": "3248bc15",
      "metadata": {
        "id": "3248bc15"
      },
      "source": [
        "어텐션 메커니즘을 사용하는 출력층 설계"
      ]
    },
    {
      "cell_type": "code",
      "execution_count": 46,
      "id": "f9f9e326",
      "metadata": {
        "id": "f9f9e326"
      },
      "outputs": [],
      "source": [
        "# 어텐션 함수\n",
        "decoder_hidden_state_input = Input(shape=(text_max_len, hidden_size))\n",
        "attn_out_inf = attn_layer([decoder_outputs2, decoder_hidden_state_input])\n",
        "decoder_inf_concat = Concatenate(axis=-1, name='concat')([decoder_outputs2, attn_out_inf])\n",
        "\n",
        "# 디코더의 출력층\n",
        "decoder_outputs2 = decoder_softmax_layer(decoder_inf_concat) \n",
        "\n",
        "# 최종 디코더 모델\n",
        "decoder_model = Model(\n",
        "    [decoder_inputs] + [decoder_hidden_state_input,decoder_state_input_h, decoder_state_input_c],\n",
        "    [decoder_outputs2] + [state_h2, state_c2])"
      ]
    },
    {
      "cell_type": "markdown",
      "id": "01ba159a",
      "metadata": {
        "id": "01ba159a"
      },
      "source": [
        "인퍼런스 단계에서 시퀀스를 완성하는 함수 정의"
      ]
    },
    {
      "cell_type": "code",
      "execution_count": 47,
      "id": "a53c9b95",
      "metadata": {
        "id": "a53c9b95"
      },
      "outputs": [],
      "source": [
        "def decode_sequence(input_seq):\n",
        "    # 입력으로부터 인코더의 상태를 얻음\n",
        "    e_out, e_h, e_c = encoder_model.predict(input_seq)\n",
        "\n",
        "     # <SOS>에 해당하는 토큰 생성\n",
        "    target_seq = np.zeros((1,1))\n",
        "    target_seq[0, 0] = tar_word_to_index['sostoken']\n",
        "\n",
        "    stop_condition = False\n",
        "    decoded_sentence = ''\n",
        "    while not stop_condition: # stop_condition이 True가 될 때까지 루프 반복\n",
        "\n",
        "        output_tokens, h, c = decoder_model.predict([target_seq] + [e_out, e_h, e_c])\n",
        "        sampled_token_index = np.argmax(output_tokens[0, -1, :])\n",
        "        sampled_token = tar_index_to_word[sampled_token_index]\n",
        "\n",
        "        if (sampled_token!='eostoken'):\n",
        "            decoded_sentence += ' '+sampled_token\n",
        "\n",
        "        #  <eos>에 도달하거나 최대 길이를 넘으면 중단.\n",
        "        if (sampled_token == 'eostoken'  or len(decoded_sentence.split()) >= (summary_max_len-1)):\n",
        "            stop_condition = True\n",
        "\n",
        "        # 길이가 1인 타겟 시퀀스를 업데이트\n",
        "        target_seq = np.zeros((1,1))\n",
        "        target_seq[0, 0] = sampled_token_index\n",
        "\n",
        "        # 상태를 업데이트 합니다.\n",
        "        e_h, e_c = h, c\n",
        "\n",
        "    return decoded_sentence"
      ]
    },
    {
      "cell_type": "markdown",
      "id": "e18a313b",
      "metadata": {
        "id": "e18a313b"
      },
      "source": [
        "모델 테스트하기"
      ]
    },
    {
      "cell_type": "markdown",
      "id": "c9391268",
      "metadata": {
        "id": "c9391268"
      },
      "source": [
        "정수 시퀀스를 텍스트 시퀀스로 변환하는 함수 정의  \n",
        "출력할 때 패딩 0과 시작 토큰, 출력 토큰은 제외되도록!!"
      ]
    },
    {
      "cell_type": "code",
      "execution_count": 48,
      "id": "f7b65b63",
      "metadata": {
        "id": "f7b65b63"
      },
      "outputs": [],
      "source": [
        "# 원문의 정수 시퀀스를 텍스트 시퀀스로 변환\n",
        "def seq2text(input_seq):\n",
        "    temp=''\n",
        "    for i in input_seq:\n",
        "        if (i!=0):\n",
        "            temp = temp + src_index_to_word[i]+' '\n",
        "    return temp\n",
        "\n",
        "# 요약문의 정수 시퀀스를 텍스트 시퀀스로 변환\n",
        "def seq2summary(input_seq):\n",
        "    temp=''\n",
        "    for i in input_seq:\n",
        "        if ((i!=0 and i!=tar_word_to_index['sostoken']) and i!=tar_word_to_index['eostoken']):\n",
        "            temp = temp + tar_index_to_word[i] + ' '\n",
        "    return temp"
      ]
    },
    {
      "cell_type": "markdown",
      "id": "b00199f7",
      "metadata": {
        "id": "b00199f7"
      },
      "source": [
        "테스트 데이터 약 50개에 대해 결과 확인!"
      ]
    },
    {
      "cell_type": "code",
      "execution_count": 49,
      "id": "95f6e6d8",
      "metadata": {
        "colab": {
          "base_uri": "https://localhost:8080/"
        },
        "id": "95f6e6d8",
        "outputId": "c8a347de-3cb4-4aba-93d3-0ac35075a856"
      },
      "outputs": [
        {
          "output_type": "stream",
          "name": "stdout",
          "text": [
            "원문 : actor salman khan among targets lawrence bishnoi gang gangster nehra assigned kill per haryana police went mumbai two days clicked photographs took note actor movement around balcony house galaxy apartment possibly assess distance weapon required added police \n",
            "실제 요약 : gangster to kill salman him for days police \n",
            "예측 요약 :  salman khan brother found in salman khan house\n",
            "\n",
            "\n",
            "원문 : german police tuesday said arrested year old man connection security breach affected estimated people including hundreds country politicians police searched suspect apartment arrested sunday personal data documents politicians including chancellor angela merkel published online part breach \n",
            "실제 요약 : year old arrested over data breach of german politicians \n",
            "예측 요약 :  arrested for duping people in sudan\n",
            "\n",
            "\n",
            "원문 : england limited overs captain eoin morgan tweeted support victims floods kerala morgan tweeted thoughts prayers everyone kerala horrific floods earlier indian cricketer sanju samson hails state donated lakh help relief efforts urged people stay united \n",
            "실제 요약 : prayers with everyone in kerala eng limited overs captain \n",
            "예측 요약 :  dhoni posts kerala flood victims kerala flood victims\n",
            "\n",
            "\n",
            "원문 : china issued new advisory citizens travelling india directing visit restricted areas like andaman nicobar islands take photos military installations advisory posted chinese embassy website first advisory issued china two month long doklam standoff two nations \n",
            "실제 요약 : china issues advisory for citizens travelling to india \n",
            "예측 요약 :  china asks citizens to avoid china belt and road initiative\n",
            "\n",
            "\n",
            "원문 : social activist filed public interest litigation bombay high court demanding hour helpline cow vigilantes activist fearing attacks may follow eid said duty state protect citizens police stations names gau rakshaks jurisdiction petition demanded \n",
            "실제 요약 : pil filed seeking hr helpline against cow vigilantes \n",
            "예측 요약 :  hc seeks permission to ban on cow slaughter in up\n",
            "\n",
            "\n",
            "원문 : delhi high court dismissed pil seeking change removal aam aadmi government schemes capital petitioner alleged aap using words suggest public schemes party government however court ruled government exclusive domain name schemes \n",
            "실제 요약 : hc rejects pil for removal of from govt schemes \n",
            "예측 요약 :  hc dismisses pil against aap mlas over sabarimala\n",
            "\n",
            "\n",
            "원문 : according data released rbi lakh crore lost due bank frauds since number frauds gone total number frauds involving amount lakh year gone around data observed \n",
            "실제 요약 : lakh crore lost to bank frauds since rbi data \n",
            "예측 요약 :  rbi records crore in fy since rbi rbi\n",
            "\n",
            "\n",
            "원문 : robotics maker robot companion cease operations october st company announced blog post unable reach agreement companies help finance develop technology inch tall robot could answer questions gestures play audio used security purposes \n",
            "실제 요약 : robot maker to shut operations by october st \n",
            "예측 요약 :  researchers make its own cryptocurrency\n",
            "\n",
            "\n",
            "원문 : union law minister ravi shankar prasad saturday quoted former pm rajiv gandhi highlight achievement nda government prasad stated use technology nda government ensured every paisa reaches intended beneficiary unlike situation rajiv gandhi said paise rupee reached \n",
            "실제 요약 : law min quotes rajiv gandhi to highlight nda achievement \n",
            "예측 요약 :  no govt on govt sonia gandhi union minister\n",
            "\n",
            "\n",
            "원문 : prime minister narendra modi monday wished congress vice president rahul gandhi th birthday tweeting pray long healthy life rahul currently spending time grandmother relatives italy several days congress celebrating birthday sankalp diwas party leaders distributing fruits patients hospitals \n",
            "실제 요약 : modi wishes rahul gandhi on his th birthday \n",
            "예측 요약 :  rahul gandhi is my birthday pm modi\n",
            "\n",
            "\n",
            "원문 : heavy remain serious risk dementia alzheimer disease per lancet journal article study found cases early onset dementia directly alcohol related overall alcohol use disorders associated three times higher risk types dementia risk decreasing even periods \n",
            "실제 요약 : study links heavy drinking to risks of memory \n",
            "예측 요약 :  study reveals how can be used to drugs\n",
            "\n",
            "\n",
            "원문 : per reports estranged couple brad pitt angelina jolie back talking terms filing divorce september according source put anger hurt aside working towards resolving everything kids currently angelina custody six children \n",
            "실제 요약 : brad angelina back on talking terms post separation report \n",
            "예측 요약 :  queen elizabeth retires from british after divorce\n",
            "\n",
            "\n",
            "원문 : online filing income tax returns recorded surge post demonetisation number filed online till october end fiscal stood crore according official data total number filed online last year till october crore however online filing individual category increased \n",
            "실제 요약 : filing of income tax returns rose after demonetisation \n",
            "예측 요약 :  income tax collection rises to lakh in fy\n",
            "\n",
            "\n",
            "원문 : senior advocate prashant bhushan tuesday said army officers misuse jawans harass speak till commit suicide charge journalist exposed official secrets act remark came journalist booked sections official secrets act carried sting system army \n",
            "실제 요약 : army officers misuse jawans harass who speak out bhushan \n",
            "예측 요약 :  army chief slams army over alleged encounter\n",
            "\n",
            "\n",
            "원문 : slamming state governments towards homeless supreme court wednesday urged utilise funds released centre construct shelters homeless stating crore released shelters state governments court suggested centre scrap funds \n",
            "실제 요약 : have sympathy construct shelters for homeless sc to states \n",
            "예측 요약 :  govt seeks to stop pil for not public sector\n",
            "\n",
            "\n",
            "원문 : artist covered hollywood walk fame nearly stars us president donald trump weeks original star vandalised rip walk fame star try removed pop artist identified part group called faction said \n",
            "실제 요약 : artist covers wood walk of fame with donald trump stars \n",
            "예측 요약 :  video trump wears his own music at billboard\n",
            "\n",
            "\n",
            "원문 : reality television star jenner said interview considering contesting elections us senate state california year old republican said working activist groups improve republican party stance lesbian gay transgender issues added take decision six months \n",
            "실제 요약 : reality star jenner mulls running for senate \n",
            "예측 요약 :  voting for democracy to be held for elections\n",
            "\n",
            "\n",
            "원문 : toilet ka jugaad new song akshay kumar bhumi pednekar starrer upcoming film toilet ek prem katha released song composed vickey prasad vocals akshay kumar vickey garima siddharth singh penned song lyrics directed shree narayan singh film release august \n",
            "실제 요약 : akshay kumar sings in new song from toilet ek prem katha \n",
            "예측 요약 :  toilet ek prem katha unveiled in akshay toilet unveiled\n",
            "\n",
            "\n",
            "원문 : uber sued us allegedly denying service woman cerebral palsy approximately separate occasions lawsuit woman alleged uber drivers cancelled rides requires use service dog uber drivers used excuses like reasons cancelling rides lawsuit said \n",
            "실제 요약 : uber sued for denying rides to woman with \n",
            "예측 요약 :  uber sued for sexual assault victim on walmart rape case\n",
            "\n",
            "\n",
            "원문 : chief justice india dipak misra thursday said conduct senior lawyers babri masjid dispute case hearing supreme court shameful lawyers kapil sibal rajeev dushyant dave sought hearing till general elections threatened leave court directed commence arguments \n",
            "실제 요약 : lawyers conduct in ayodhya case hearing shameful cji misra \n",
            "예측 요약 :  sc rejects plea against cji decision on babri dispute\n",
            "\n",
            "\n",
            "원문 : boards governors indian institutes management would december per iim act hrd ministry approving process monday hrd minister prakash javadekar said process constitution boards iims major development signals complete autonomy quality institutions higher education \n",
            "실제 요약 : iim boards to be in dec as govt clears process \n",
            "예측 요약 :  govt to examine up based national papers to iits schools\n",
            "\n",
            "\n",
            "원문 : delhi recorded total protests less protests held report delhi police revealed delhi police recorded demonstrations rallies among others protests handled smoothly police report added \n",
            "실제 요약 : number of protests in delhi reduced by last year \n",
            "예측 요약 :  delhi police to give out of criminal cases against women\n",
            "\n",
            "\n",
            "원문 : nasa captured image earth iss shows rare phenomenon called image taken altitude kilometres australia shows orange coloured layer light covering earth occurs molecules ultraviolet radiation sunlight release energy atmosphere \n",
            "실제 요약 : nasa captures image of earth in rare from iss \n",
            "예측 요약 :  nasa captures captures image from space\n",
            "\n",
            "\n",
            "원문 : recently revealed apple memo warning employees leak confidential details technology giant wrote apple employee leaks everything lose simply lose jobs apple face extreme difficulty finding employment elsewhere apple emphasised company said leaked information new product negatively impact sales \n",
            "실제 요약 : employee who leaks has everything to lose apple \n",
            "예측 요약 :  apple sued for iphone iphone in apple iphone report\n",
            "\n",
            "\n",
            "원문 : us international trade commission tuesday said would launch probe mahindra mahindra road utility vehicle follows complaint fiat chrysler infringed upon intellectual property rights jeep design mahindra earlier said initiated court proceedings enforce design agreement executed fiat chrysler \n",
            "실제 요약 : us to probe mahindra after complaint it copied jeep design \n",
            "예측 요약 :  us intel agency calls for security tech mahindra\n",
            "\n",
            "\n",
            "원문 : supreme court thursday pronounce verdict pleas challenging validity section indian penal code criminalises consensual gay sex july sc reserved verdict five judge bench headed chief justice dipak misra concluded hearing arguments issue section came force \n",
            "실제 요약 : supreme court to deliver judgement on section tomorrow \n",
            "예측 요약 :  sc rejects plea against sc bench to hear section\n",
            "\n",
            "\n",
            "원문 : former captain sardar singh included member hockey india selection committee team headed bp govinda member world cup winning team yes offered role accepted new challenge always serve indian hockey sardar said \n",
            "실제 요약 : ex captain sardar singh named in hockey india selection committee \n",
            "예측 요약 :  yuvraj singh to represent india team india team for wc\n",
            "\n",
            "\n",
            "원문 : indigo president aditya ghosh airline chief commercial officer sanjay kumar resigned effect july year kumar associated low cost carrier last years leaving job pursue career interests william currently chief strategy officer taking sanjay kumar \n",
            "실제 요약 : after prez indigo chief commercial officer quits \n",
            "예측 요약 :  indigo chief resigns from qatar airways amid new york\n",
            "\n",
            "\n",
            "원문 : following australia series loss india captain tim paine said know guys missing honestly felt coming series australia could beat india faith guys around team right guys keep putting faith trust paine said \n",
            "실제 요약 : felt we could beat india in australia paine \n",
            "예측 요약 :  team india should be aus team\n",
            "\n",
            "\n",
            "원문 : rjd chief lalu prasad yadav taken ranchi rajendra institute medical sciences munda central jail complained health issues saturday december lalu prasad wife rabri said undergone heart surgery concerned health one would give medicine timely jail \n",
            "실제 요약 : jailed rjd lalu prasad yadav hospitalised \n",
            "예측 요약 :  lalu prasad yadav hospitalised after lalu prasad yadav\n",
            "\n",
            "\n",
            "원문 : bombay high court allowed non resident indian give consent mutual divorce husband telecommunications application skype due globalisation since educated young persons crossing borders india possible remain present court observed court allowed woman father pursue case \n",
            "실제 요약 : bombay hc allows nri woman to give divorce via skype \n",
            "예측 요약 :  hc rejects plea to hear plea for women in\n",
            "\n",
            "\n",
            "원문 : year old bengaluru man lay street one leg crushed leg fractured minutes hit speeding truck tuesday video showed passersby making videos instead helping police constable rushed injured hospital one leg man amputated reports said \n",
            "실제 요약 : injured man lies on road for mins make videos \n",
            "예측 요약 :  year old runs in mumbai building attack on highway\n",
            "\n",
            "\n",
            "원문 : punjab national bank saturday said department financial services report ranked best state owned bank terms digital transactions bank fully committed digital india initiative pnb said statement rated sixth best overall category amongst banks india digital performance \n",
            "실제 요약 : govt ranks pnb as best state run bank for digital transactions \n",
            "예측 요약 :  pnb financial list up to pnb post merger\n",
            "\n",
            "\n",
            "원문 : us president donald trump described pm narendra modi world leaders social media referring strong following social media platforms believers giving citizens countries opportunity hear directly elected officials us hear directly said \n",
            "실제 요약 : modi and are social media leaders donald trump \n",
            "예측 요약 :  trump calls pm modi for his speech in india\n",
            "\n",
            "\n",
            "원문 : tata motors two group entities sell stake tata technologies private equity firm warburg pincus affiliate million tata group firms retain stake tata technologies remaining owned employees move comes tata motors seeks raise funds reduce debt \n",
            "실제 요약 : us to buy stake in tata tech for cr \n",
            "예측 요약 :  tata motors sells stake in tata sons for crore\n",
            "\n",
            "\n",
            "원문 : senior congress leader kuldeep singh rathore appointed president himachal pradesh congress committee thursday rathore advocate profession former general secretary party never mla replaced singh whose ouster reportedly demanded former chief minister virbhadra singh last year \n",
            "실제 요약 : kuldeep singh rathore named chief of himachal congress \n",
            "예측 요약 :  congress appoints its party in gujarat\n",
            "\n",
            "\n",
            "원문 : income tax department unearthed black money undisclosed income crore raids major catering tent firms delhi ncr region cash amount crore jewellery worth crore seized department found operators largely dealing cash evading tax reporting sales service charges \n",
            "실제 요약 : dept detects cr evasion by firms in delhi \n",
            "예측 요약 :  dept attaches assets worth crore in crore\n",
            "\n",
            "\n",
            "원문 : hockey india saturday sacked head coach national men hockey team year old india maiden silver medal champions trophy reached knock stages olympics year gap took charge replaced current high performance director david john interim coach \n",
            "실제 요약 : sacked as india men hockey team coach \n",
            "예측 요약 :  india hockey team india coach wins gold in sa\n",
            "\n",
            "\n",
            "원문 : denying rumours getting engaged girlfriend actress ekta kaul actor sumeet vyas said currently dating enjoying phase relationship added us busy careers would like spend time together taking next step sumeet requested media spread false news \n",
            "실제 요약 : sumeet vyas denies rumours of engagement to girlfriend ekta \n",
            "예측 요약 :  felt like girlfriend kriti on dating rumours\n",
            "\n",
            "\n",
            "원문 : french side paris saint germain world record signing neymar shared image playing online poker side thrashing defending champions monaco lift fifth ligue title six years neymar brazil following surgery later shared congratulatory post instagram psg lifted title seventh overall \n",
            "실제 요약 : world costliest player plays as his team wins title \n",
            "예측 요약 :  world costliest player scores goal in psg kick\n",
            "\n",
            "\n",
            "원문 : congress leader chidambaram took dig election commission centre delay announcing gujarat poll dates chidambaram said ec recalled extended holiday government announced concessions lure voters notably ec announced dates himachal pradesh assembly elections even though states due polls \n",
            "실제 요약 : chidambaram hits out at govt and ec over gujarat poll dates \n",
            "예측 요약 :  chidambaram calls chidambaram over rafale deal\n",
            "\n",
            "\n",
            "원문 : elon musk led spacex launched zuma spacecraft commissioned us government undisclosed mission first flight launch followed recovery first stage booster used falcon rocket spacex launched rockets setting record launches one year private company \n",
            "실제 요약 : spacex launches secret satellite on its st flight of \n",
            "예측 요약 :  spacex launches its first ever spacex launch spacex launch\n",
            "\n",
            "\n",
            "원문 : thailand royal police cadet academy announced admit female candidates next academic year academy began admitting female students produced refusing offer reason new rule academy said policy allowed give information \n",
            "실제 요약 : thailand police academy bans women from \n",
            "예측 요약 :  thailand to wear transgenders\n",
            "\n",
            "\n",
            "원문 : american football club philadelphia union sent advertisement seeking applications chief tattoo officer claim permanent position club tattoos vital part sport fan supporter culture tattoos life fans choose club support life club advertisement read \n",
            "실제 요약 : american football club looking for chief tattoo officer \n",
            "예측 요약 :  footballer banned for refusing to support player\n",
            "\n",
            "\n",
            "원문 : indian cricket captain virat kohli shots used teach concepts mathematics course online learning app byju indian skipper hook shot used explain concept students app claim draw examples cricket cartoons make subjects interesting \n",
            "실제 요약 : virat kohli shots being used to teach maths \n",
            "예측 요약 :  kohli users react to kohli tampering of team tampering report\n",
            "\n",
            "\n",
            "원문 : duchess sussex meghan markle father thomas markle claimed meghan cut completely marriage prince harry adding perhaps would easier meghan died said critical words royal family changing meghan cut really hurt said \n",
            "실제 요약 : it would be for meghan if died dad thomas \n",
            "예측 요약 :  meghan markle meghan markle to be called\n",
            "\n",
            "\n",
            "원문 : ranchi municipal corporation sunday launched bol lungi campaign wherein officials snatched men found defecating open imposed fine however returned defaulters pledged never defecate open notably also plant saplings around identified open defecation spots \n",
            "실제 요약 : ranchi starts lungi against open defecation \n",
            "예측 요약 :  bmc to pay for liquor in bengaluru\n",
            "\n",
            "\n",
            "원문 : awaited oneplus available croma outlets across india starting st may one avail cashback offers paytm standard chartered axis icici hdfc cards addition sbi cards first touch feel try experience buy croma \n",
            "실제 요약 : oneplus to be available at outlets starting may \n",
            "예측 요약 :  oneplus announces new zealand offer for india\n",
            "\n",
            "\n",
            "원문 : international olympic committee officially included mixed gender relay racing men women basketball olympic events tokyo games held committee added total events including mixed gender swimming track mixed team events archery mixed doubles table tennis \n",
            "실제 요약 : mixed gender relay basketball included in olympics \n",
            "예측 요약 :  women champ athletes out of athletes for wearing hijab\n",
            "\n",
            "\n",
            "원문 : according reports real life couple amitabh bachchan jaya bachchan seen playing married couple upcoming film film directed shoojit sircar amitabh jaya previously worked together various films together including kabhi khushi kabhie gham among others \n",
            "실제 요약 : big jaya to play married couple in upcoming film report \n",
            "예측 요약 :  priyanka chopra to attend wedding in uk\n",
            "\n",
            "\n"
          ]
        }
      ],
      "source": [
        "for i in range(50, 100):\n",
        "    print(\"원문 :\", seq2text(encoder_input_test[i]))\n",
        "    print(\"실제 요약 :\", seq2summary(decoder_input_test[i]))\n",
        "    print(\"예측 요약 :\", decode_sequence(encoder_input_test[i].reshape(1, text_max_len)))\n",
        "    print(\"\\n\")"
      ]
    },
    {
      "cell_type": "markdown",
      "id": "7005feaf",
      "metadata": {
        "id": "7005feaf"
      },
      "source": [
        "# Step 5. Summa을 이용해서 추출적 요약해보기"
      ]
    },
    {
      "cell_type": "markdown",
      "id": "3abb9105",
      "metadata": {
        "id": "3abb9105"
      },
      "source": [
        "#### 데이터 다운로드하기"
      ]
    },
    {
      "cell_type": "code",
      "source": [
        "pip install summa"
      ],
      "metadata": {
        "colab": {
          "base_uri": "https://localhost:8080/"
        },
        "id": "n4aItXgvPzBE",
        "outputId": "da4a0274-d1df-4d31-869d-ebf5d30a8ed2"
      },
      "id": "n4aItXgvPzBE",
      "execution_count": 56,
      "outputs": [
        {
          "output_type": "stream",
          "name": "stdout",
          "text": [
            "Collecting summa\n",
            "  Downloading summa-1.2.0.tar.gz (54 kB)\n",
            "\u001b[?25l\r\u001b[K     |██████                          | 10 kB 15.8 MB/s eta 0:00:01\r\u001b[K     |████████████                    | 20 kB 17.0 MB/s eta 0:00:01\r\u001b[K     |██████████████████              | 30 kB 10.1 MB/s eta 0:00:01\r\u001b[K     |███████████████████████▉        | 40 kB 8.5 MB/s eta 0:00:01\r\u001b[K     |█████████████████████████████▉  | 51 kB 5.8 MB/s eta 0:00:01\r\u001b[K     |████████████████████████████████| 54 kB 1.8 MB/s \n",
            "\u001b[?25hRequirement already satisfied: scipy>=0.19 in /usr/local/lib/python3.7/dist-packages (from summa) (1.4.1)\n",
            "Requirement already satisfied: numpy>=1.13.3 in /usr/local/lib/python3.7/dist-packages (from scipy>=0.19->summa) (1.19.5)\n",
            "Building wheels for collected packages: summa\n",
            "  Building wheel for summa (setup.py) ... \u001b[?25l\u001b[?25hdone\n",
            "  Created wheel for summa: filename=summa-1.2.0-py3-none-any.whl size=54412 sha256=b5de51fb23e0180a807739f7f6cf59c45e59d0a3ee3c981366e143557eb8975a\n",
            "  Stored in directory: /root/.cache/pip/wheels/29/64/ac/7b443477588d365ef37ada30d456bdf5f07dc5be9f6324cb6e\n",
            "Successfully built summa\n",
            "Installing collected packages: summa\n",
            "Successfully installed summa-1.2.0\n"
          ]
        }
      ]
    },
    {
      "cell_type": "code",
      "execution_count": 57,
      "id": "7e657128",
      "metadata": {
        "id": "7e657128"
      },
      "outputs": [],
      "source": [
        "import requests\n",
        "from summa.summarizer import summarize"
      ]
    },
    {
      "cell_type": "markdown",
      "id": "0857c911",
      "metadata": {
        "id": "0857c911"
      },
      "source": [
        "매트릭스 시놉시스 다운"
      ]
    },
    {
      "cell_type": "code",
      "execution_count": 58,
      "id": "621d7320",
      "metadata": {
        "id": "621d7320"
      },
      "outputs": [],
      "source": [
        "urllib.request.urlretrieve(\"https://raw.githubusercontent.com/sunnysai12345/News_Summary/master/news_summary_more.csv\", filename=\"news_summary_more.csv\")\n",
        "data = pd.read_csv('news_summary_more.csv', encoding='iso-8859-1')"
      ]
    },
    {
      "cell_type": "code",
      "execution_count": 59,
      "id": "157d244c",
      "metadata": {
        "id": "157d244c"
      },
      "outputs": [],
      "source": [
        "text = data[\"text\"]"
      ]
    },
    {
      "cell_type": "markdown",
      "id": "b81d8a23",
      "metadata": {
        "id": "b81d8a23"
      },
      "source": [
        "데이터 출력해보기(하나만)"
      ]
    },
    {
      "cell_type": "code",
      "execution_count": 60,
      "id": "fa9e795b",
      "metadata": {
        "colab": {
          "base_uri": "https://localhost:8080/"
        },
        "id": "fa9e795b",
        "outputId": "c6c78649-3262-40a9-a3c1-fccbf0088282"
      },
      "outputs": [
        {
          "output_type": "stream",
          "name": "stdout",
          "text": [
            "Australia's wicketkeeper-batswoman Alyssa Healy has said that the Australian team needs to be wary of India's women's T20I team captain Harmanpreet Kaur at the ICC Women's T20 World Cup next year. Harmanpreet, who was named in the ICC Team of the Year 2018, helped India reach the semi-finals of the ICC Women's World T20 2018 last November.\n"
          ]
        }
      ],
      "source": [
        "print(text[200])"
      ]
    },
    {
      "cell_type": "markdown",
      "id": "3dbfe1a5",
      "metadata": {
        "id": "3dbfe1a5"
      },
      "source": [
        "#### Summarize 사용하기"
      ]
    },
    {
      "cell_type": "markdown",
      "id": "f12d9dd1",
      "metadata": {
        "id": "f12d9dd1"
      },
      "source": [
        "원문의 50%까지만 출력하도록 설정하여 요약 결과 출력해보기"
      ]
    },
    {
      "cell_type": "code",
      "execution_count": 61,
      "id": "ea9a99cd",
      "metadata": {
        "colab": {
          "base_uri": "https://localhost:8080/"
        },
        "id": "ea9a99cd",
        "outputId": "bf60e8cf-3b11-403a-91f9-df0dbd69c0b6"
      },
      "outputs": [
        {
          "output_type": "stream",
          "name": "stdout",
          "text": [
            "headlines:\n",
            "While speaking about winning awards for his films, Shah Rukh Khan said, \"If I don't get an award, that award is at a loss.\" \"Sometimes, the prestige of an award increases when I receive it,\" the actor jokingly added.\n"
          ]
        }
      ],
      "source": [
        "nums=94\n",
        "\n",
        "print('headlines:')\n",
        "print(summarize(text[nums], ratio=0.5))"
      ]
    },
    {
      "cell_type": "markdown",
      "id": "23719cae",
      "metadata": {
        "id": "23719cae"
      },
      "source": [
        "출력 결과를 리스트로 받기"
      ]
    },
    {
      "cell_type": "code",
      "execution_count": 62,
      "id": "0defcc61",
      "metadata": {
        "colab": {
          "base_uri": "https://localhost:8080/"
        },
        "id": "0defcc61",
        "outputId": "5ceb8680-32bf-4dd7-fb30-f9f331ae7da8"
      },
      "outputs": [
        {
          "output_type": "stream",
          "name": "stdout",
          "text": [
            "headlines:\n",
            "['While speaking about winning awards for his films, Shah Rukh Khan said, \"If I don\\'t get an award, that award is at a loss.\" \"Sometimes, the prestige of an award increases when I receive it,\" the actor jokingly added.']\n"
          ]
        }
      ],
      "source": [
        "print('headlines:')\n",
        "print(summarize(text[nums], ratio=0.5, split=True))"
      ]
    },
    {
      "cell_type": "markdown",
      "id": "5301ef4d",
      "metadata": {
        "id": "5301ef4d"
      },
      "source": [
        "단어수로 요약 결과의 크기를 조절할 수 있음  \n",
        "(30개로 설정)"
      ]
    },
    {
      "cell_type": "code",
      "execution_count": 63,
      "id": "c45fd967",
      "metadata": {
        "colab": {
          "base_uri": "https://localhost:8080/"
        },
        "id": "c45fd967",
        "outputId": "43ea3ee1-51e7-4376-feb4-bed8cb91bae9"
      },
      "outputs": [
        {
          "output_type": "stream",
          "name": "stdout",
          "text": [
            "haedlines:\n",
            "While speaking about winning awards for his films, Shah Rukh Khan said, \"If I don't get an award, that award is at a loss.\" \"Sometimes, the prestige of an award increases when I receive it,\" the actor jokingly added.\n"
          ]
        }
      ],
      "source": [
        "print('haedlines:')\n",
        "print(summarize(text[nums], words=30))"
      ]
    },
    {
      "cell_type": "markdown",
      "id": "5709a96b",
      "metadata": {
        "id": "5709a96b"
      },
      "source": [
        "text 리스트의 텍스트들을 전부 요약하기"
      ]
    },
    {
      "cell_type": "code",
      "execution_count": 64,
      "id": "d4c84bc0",
      "metadata": {
        "id": "d4c84bc0"
      },
      "outputs": [],
      "source": [
        "summaries = []\n",
        "for t in text:\n",
        "    summary = summarize(t, words=int(len(t.split(' '))*0.3))\n",
        "    summaries.append(summary)"
      ]
    },
    {
      "cell_type": "code",
      "execution_count": 65,
      "id": "7c673400",
      "metadata": {
        "scrolled": true,
        "colab": {
          "base_uri": "https://localhost:8080/"
        },
        "id": "7c673400",
        "outputId": "90577d71-35a6-47af-f2d0-209cb6d86b7a"
      },
      "outputs": [
        {
          "output_type": "execute_result",
          "data": {
            "text/plain": [
              "[\"upGrad's Online Power Learning has powered 3 lakh+ careers.\",\n",
              " 'Users get one CRED coin per rupee of bill paid, which can be used to avail rewards from brands like Ixigo, BookMyShow, UberEats, Cult.Fit and more.',\n",
              " 'The match witnessed India getting all out for 92, their seventh lowest total in ODI cricket history.',\n",
              " 'Also, customers have options to insure against Critical Illnesses, Disability and Accidental Death Benefit Rider with a life cover up to the age of 80 years.',\n",
              " '']"
            ]
          },
          "metadata": {},
          "execution_count": 65
        }
      ],
      "source": [
        "summaries[:5]"
      ]
    },
    {
      "cell_type": "code",
      "execution_count": 66,
      "id": "94921e47",
      "metadata": {
        "colab": {
          "base_uri": "https://localhost:8080/"
        },
        "id": "94921e47",
        "outputId": "91d7463f-2f13-4496-8236-2af68a6c8cd2"
      },
      "outputs": [
        {
          "output_type": "stream",
          "name": "stdout",
          "text": [
            "원문 : Former Finance Minister Yashwant Sinha on Tuesday demanded a probe into the alleged diversion of loans worth Ã¢ÂÂ¹31,000 crore by Dewan Housing Finance (DHFL). All agencies including regulators of the government have failed to track nefarious deals, he said. This comes after a media report on Tuesday accused DHFL's controlling shareholders of diverting funds to shell companies to buy assets.\n",
            "실제 요약 : Yashwant Sinha demands probe into alleged fund diversion by DHFL\n",
            "예측 요약 : Former Finance Minister Yashwant Sinha on Tuesday demanded a probe into the alleged diversion of loans worth Ã¢ÂÂ¹31,000 crore by Dewan Housing Finance (DHFL).\n",
            "\n",
            "\n",
            "원문 : US-based Boeing on Wednesday reported annual sales worth $101.12 billion in 2018, the first time the planemaker's sales crossed the $100-billion mark in its 102-year history. The company said it expects to deliver between 895 and 905 commercial aircraft in 2019. Boeing retained its position as the world's largest planemaker for the seventh straight year, delivering 806 aircraft in 2018. \n",
            "실제 요약 : Boeing sales cross $100bn for 1st time in its 102-yr history\n",
            "예측 요약 : Boeing retained its position as the world's largest planemaker for the seventh straight year, delivering 806 aircraft in 2018.\n",
            "\n",
            "\n",
            "원문 : text\n",
            "실제 요약 : headlines\n",
            "예측 요약 : \n",
            "\n",
            "\n",
            "원문 : OnePlus has emerged as India's best-selling premium smartphone brand of 2018, as per a report by Counterpoint. It captured 36% of the market share in the premium segment, in Q4 2018. Further, its OnePlus 6 emerged as the highest selling premium smartphone of 2018 followed by OnePlus 6T.\n",
            "실제 요약 : OnePlus named bestselling premium smartphone brand of 2018: Report\n",
            "예측 요약 : Further, its OnePlus 6 emerged as the highest selling premium smartphone of 2018 followed by OnePlus 6T.\n",
            "\n",
            "\n",
            "원문 : Filmmaker Pooja Bhatt, while talking about the presentation of women in her films, said, \"I can never look at a female body, even if it's naked, in a vulgar manner.\" \"Our audience can say...the women in my films are bold or sensual, but never ever vulgar,\" she added. Pooja further said her censor board is her \"own heart and mind\".\n",
            "실제 요약 : Can never look at female body, even if naked, in vulgar way: Pooja\n",
            "예측 요약 : \n",
            "\n",
            "\n",
            "원문 : Actress Mishti, who has featured in 'Manikarnika: The Queen of Jhansi', has said the film's co-director Kangana Ranaut made false promises to the cast. \"Kangana had said, 'I want dates because all characters look jumbled up...I'm trying my best to give everybody a prominent space on screen.' After watching the movie, there is no scope for other characters,\" Mishti added. \n",
            "실제 요약 : Kangana made fake promises to cast: 'Manikarnika' actress Mishti\n",
            "예측 요약 : Actress Mishti, who has featured in 'Manikarnika: The Queen of Jhansi', has said the film's co-director Kangana Ranaut made false promises to the cast.\n",
            "\n",
            "\n",
            "원문 : The high-powered committee led by PM Narendra Modi to select the next CBI Director will meet again on February 1, Congress leader Mallikarjun Kharge has said. The panel consisting of Kharge and Chief Justice of India Ranjan Gogoi met on January 24, but the meeting ended \"inconclusively\" after Kharge cited lack of details in the list of 80 IPS officers. \n",
            "실제 요약 : PM-led panel to meet on Friday to pick new CBI chief: Kharge\n",
            "예측 요약 : The high-powered committee led by PM Narendra Modi to select the next CBI Director will meet again on February 1, Congress leader Mallikarjun Kharge has said.\n",
            "\n",
            "\n",
            "원문 : Nevada State Athletic Commission has banned MMA fighters Conor McGregor and Khabib Nurmagomedov for six months and nine months respectively over their roles in the mass brawl that occurred after their fight at UFC 229 last October. McGregor and Khabib have been fined $50,000 (Ã¢ÂÂ¹35 lakh) and $500,000 (Ã¢ÂÂ¹3.5 crore) respectively. The brawl occurred after Nurmagomedov confronted McGregor's teammate.\n",
            "실제 요약 : McGregor fined Ã¢ÂÂ¹35 lakh, Khabib Ã¢ÂÂ¹3.5 crore for brawl; both banned\n",
            "예측 요약 : \n",
            "\n",
            "\n",
            "원문 : Pakistan captain Sarfaraz Ahmed, who has been banned for four matches over racist remarks, took an apparent dig at his critics by sharing a video of a child reciting 'log hai na' poem on Twitter. \"Pyaar karna hai to khud se kar...dushmani karne ke liye log hai na,\" the poem read. \"This is how the world is,\" Sarfaraz wrote.\n",
            "실제 요약 : Banned for 4 matches, Sarfaraz shares 'log hai na' poem for critics\n",
            "예측 요약 : \n",
            "\n",
            "\n",
            "원문 : Banned cricketer Sreesanth has told Supreme Court he initially confessed to Delhi Police about his alleged involvement in 2013 IPL spot-fixing scandal to escape continuous police torture. Sreesanth further said the bookie tried dragging him into spot-fixing but he didn't fall for it. Citing Sreesanth not informing BCCI about fixing approach, the apex court said Sreesanth's conduct \"wasn't good\".\n",
            "실제 요약 : Confessed to spot-fixing to escape police torture: Sreesanth to SC\n",
            "예측 요약 : Sreesanth further said the bookie tried dragging him into spot-fixing but he didn't fall for it.\n",
            "\n",
            "\n",
            "원문 : The Finance Ministry on Wednesday said the government will present an Interim Budget on February 1. The clarification came amid speculations that a full Budget may be presented during the session. The government recently assigned Piyush Goyal temporary additional charge of the Finance and Corporate Affairs ministries in the absence of Arun Jaitley, who is in the US for treatment.\n",
            "실제 요약 : Govt to present Interim Budget, not full Budget on February 1\n",
            "예측 요약 : The Finance Ministry on Wednesday said the government will present an Interim Budget on February 1.\n",
            "\n",
            "\n",
            "원문 : US President Donald Trump on Wednesday called his country's top intelligence chiefs \"naive\" and \"wrong\" on Iran and added that they should perhaps \"go back to school\". Trump claimed Iran is testing rockets, calling the country \"a source of potential danger and conflict\". Top US intelligence officials on Tuesday said that Iran isn't currently taking steps towards building nuclear weapons.\n",
            "실제 요약 : US intelligence naive and wrong, should go back to school: Trump\n",
            "예측 요약 : US President Donald Trump on Wednesday called his country's top intelligence chiefs \"naive\" and \"wrong\" on Iran and added that they should perhaps \"go back to school\".\n",
            "\n",
            "\n",
            "원문 : A senior priest at the Vatican who handled cases of sexual abuse has quit after being accused of sexual abuse by a former nun. The accused priest claimed he is innocent and said he would consider taking legal action. The Vatican said in a statement that a Church investigation of the case was underway.\n",
            "실제 요약 : Vatican priest handling sex abuse cases quits over alleged sex abuse\n",
            "예측 요약 : A senior priest at the Vatican who handled cases of sexual abuse has quit after being accused of sexual abuse by a former nun.\n",
            "\n",
            "\n",
            "원문 : A 22-year-old writer turned down a job offer, claiming she was bullied to the point of tears during her two-hour interview by a UK company's CEO. Olivia Bland added the \"brutal\" interview brought back painful memories of her abusive relationship. \"I am so sorry that anyone has been hurt, it is never my intent,\" Web Applications CEO Craig Dean replied. \n",
            "실제 요약 : Woman rejects job after CEO bullies her in interview; he apologises\n",
            "예측 요약 : A 22-year-old writer turned down a job offer, claiming she was bullied to the point of tears during her two-hour interview by a UK company's CEO.\n",
            "\n",
            "\n",
            "원문 : Noida Police has arrested Sector 20 station in-charge Manoj Pant and three journalists for allegedly extorting money from a call centre owner for removing his name from an FIR. The four were caught while taking bribe money of Ã¢ÂÂ¹8 lakh, police said. Pant was the lead investigator in the Paytm extortion case involving Founder Vijay Shekhar Sharma's secretary Sonia Dhawan.\n",
            "실제 요약 : Police officer probing Paytm extortion case arrested for extortion\n",
            "예측 요약 : Noida Police has arrested Sector 20 station in-charge Manoj Pant and three journalists for allegedly extorting money from a call centre owner for removing his name from an FIR.\n",
            "\n",
            "\n",
            "원문 : Airtel on Wednesday said that Qatar's sovereign wealth fund Qatar Investment Authority will invest $200 million through a primary equity issuance in Airtel Africa. India's second-largest telecom operator's Africa unit recently raised $1.25 billion from six investors. Airtel Africa, the holding company for Airtel's operations in 14 African countries, is preparing for an initial public offering.\n",
            "실제 요약 : Qatar to invest $200 million in Airtel Africa\n",
            "예측 요약 : Airtel Africa, the holding company for Airtel's operations in 14 African countries, is preparing for an initial public offering.\n",
            "\n",
            "\n",
            "원문 : Actor Shreyas Talpade said that 'Golmaal' filmmaker Rohit Shetty is still working on the script for the fifth instalment of the 'Golmaal' film franchise. \"He was telling us the other day that he...cracked some story. Once he's done with the...scripting, he'll take a call,Ã¢ÂÂ the actor added. The series features Shreyas along with Ajay Devgn, Arshad Warsi and Tusshar Kapoor.\n",
            "실제 요약 : Rohit Shetty still working on script for Golmaal 5: Shreyas\n",
            "예측 요약 : Actor Shreyas Talpade said that 'Golmaal' filmmaker Rohit Shetty is still working on the script for the fifth instalment of the 'Golmaal' film franchise.\n",
            "\n",
            "\n",
            "원문 : A 72-year-old man named Terry Sanderson has sued 'Avengers' actress Gwyneth Paltrow for allegedly crashing into him while skiing, and is seeking $3.1 million (over Ã¢ÂÂ¹22 crore) in damages. The lawsuit states the actress got up and skied away after knocking the man down, leaving him with broken ribs. The incident reportedly took place in 2016 in Utah, US. \n",
            "실제 요약 : Man sues Avengers actress Gwyneth for Ã¢ÂÂ¹22 crore over ski crash\n",
            "예측 요약 : A 72-year-old man named Terry Sanderson has sued 'Avengers' actress Gwyneth Paltrow for allegedly crashing into him while skiing, and is seeking $3.1 million (over Ã¢ÂÂ¹22 crore) in damages.\n",
            "\n",
            "\n",
            "원문 : Yami Gautam was felicitated by Border Security Force (BSF) in Amritsar for her performance in 'Uri: The Surgical Strike'. \"BSF is the first line of defence of our country and it gives me...pride to have met them,\" Yami said. The film, which also stars Vicky Kaushal, is based on the Indian Army's surgical strike operation which took place in 2016.\n",
            "실제 요약 : Yami Gautam felicitated by BSF for performance in 'Uri...'\n",
            "예측 요약 : Yami Gautam was felicitated by Border Security Force (BSF) in Amritsar for her performance in 'Uri: The Surgical Strike'.\n",
            "\n",
            "\n",
            "원문 : Social media giant Facebook has hired privacy critic Nate Cardozo, formerly the top legal counsel for US privacy watchdog EFF, as a privacy policy manager for WhatsApp. Cardozo had called Facebook a \"faceless corporation\" whose business model depends on user's confusion and indifference about privacy, in October 2015. Facebook has also hired attorney Robyn Greene as its privacy policy manager.\n",
            "실제 요약 : Facebook hires its privacy critic as privacy policy manager\n",
            "예측 요약 : \n",
            "\n",
            "\n",
            "원문 : Apple CEO Tim Cook said the company plans to lower some iPhones' prices in markets with currencies that weakened against the US dollar in the past year. \"WeÃ¢ÂÂve decided to go back to (iPhone prices) more commensurate with...local prices...a year ago,\" Cook added. The price cuts, in hopes of increasing sales, are reportedly occurring for second time in 12 years.\n",
            "실제 요약 : Apple to cut some iPhones' prices outside US over strong dollar\n",
            "예측 요약 : \"WeÃ¢ÂÂve decided to go back to (iPhone prices) more commensurate with...local prices...a year ago,\" Cook added.\n",
            "\n",
            "\n",
            "원문 : Scientists in Australia's Flinders University are testing a wetsuit prototype that could protect its wearer after a shark attack. The suit, made of synthetic material similar to the material used in bulletproof vests, could help reduce blood loss after a shark attack. \"The majority of fatalities from shark bites is due to blood loss...shock from blood loss,\" a scientist said.\n",
            "실제 요약 : Scientists test wetsuit to protect wearer after shark attack\n",
            "예측 요약 : \"The majority of fatalities from shark bites is due to blood loss...shock from blood loss,\" a scientist said.\n",
            "\n",
            "\n",
            "원문 : BJP National Secretary Rahul Sinha on Wednesday asked the party workers in West Bengal to come armed with sticks to PM Narendra Modi's rally in the state on February 2. His statement came a day after clashes broke out following BJP chief Amit Shah's WB rally. Sinha added the TMC is indulged in violence as they're afraid of BJP's strength.\n",
            "실제 요약 : Come armed with sticks for PM Modi's rally in WB: BJP leader\n",
            "예측 요약 : BJP National Secretary Rahul Sinha on Wednesday asked the party workers in West Bengal to come armed with sticks to PM Narendra Modi's rally in the state on February 2.\n",
            "\n",
            "\n",
            "원문 : BJP President Amit Shah on Wednesday took a dig at the Opposition parties saying that the 'mahagathbandhan' for the Opposition is 4B - \"Bua-Bhatija-Bhai-Behen\". He added that 4B for the BJP meant \"Badhta Bharat, Banta Bharat\". He said Opposition's government cannot take the country ahead and \"only Modiji can provide a 'mazboot' (strong) government\".\n",
            "실제 요약 : '4B' for Opposition is 'Bua-Bhatija-Bhai-Behen': Amit Shah\n",
            "예측 요약 : BJP President Amit Shah on Wednesday took a dig at the Opposition parties saying that the 'mahagathbandhan' for the Opposition is 4B - \"Bua-Bhatija-Bhai-Behen\".\n",
            "\n",
            "\n",
            "원문 : German automaker Volkswagen Group has retained the car industry's top spot in global sales, beating its Japanese rival Toyota. Volkswagen's sales, including its MAN and Scania heavy trucks and buses, rose 0.9% to 10.83 million in 2018, the company had said. Toyota came second with around 10.6 million deliveries, including its affiliated brands Daihatsu and Hino, in 2018.\n",
            "실제 요약 : Volkswagen retains top spot in global sales, beats Toyota\n",
            "예측 요약 : Volkswagen's sales, including its MAN and Scania heavy trucks and buses, rose 0.9% to 10.83 million in 2018, the company had said.\n",
            "\n",
            "\n",
            "원문 : Ousted Nissan Chairman Carlos Ghosn has said his arrest over alleged financial misconduct was led by \"plot and treason\" by the Japanese carmaker's executives who opposed its deeper integration with Renault and Mitsubishi. Ghosn added he had discussed the integration plans with Nissan's CEO in September, a month before his arrest. He further said he wouldn't flee if granted bail.\n",
            "실제 요약 : Plot, treason by Nissan executives led to my arrest: Ghosn\n",
            "예측 요약 : Ousted Nissan Chairman Carlos Ghosn has said his arrest over alleged financial misconduct was led by \"plot and treason\" by the Japanese carmaker's executives who opposed its deeper integration with Renault and Mitsubishi.\n",
            "\n",
            "\n",
            "원문 : The government has cut down customs duty on import of parts and components for electric vehicles to 10-15%, down from the previous 15-30%. The Central Board of Indirect Taxes and Customs said disassembled parts will attract 10% duty, whereas 15% will be levied on pre-assembled packs. However, fully built electric vehicles will continue to attract 25% import duty.\n",
            "실제 요약 : Govt cuts customs duty on electric vehicle parts to 10-15%\n",
            "예측 요약 : The government has cut down customs duty on import of parts and components for electric vehicles to 10-15%, down from the previous 15-30%.\n",
            "\n",
            "\n",
            "원문 : Government officials on Wednesday said that a swine flu outbreak has killed 76 people this year in Rajasthan. Colder weather has worsened the seasonal outbreak of the H1N1 virus in the country, officials added. Rajasthan recorded more than a third of all swine flu deaths in India with Jodhpur being the worst affected area in the state, officials said.\n",
            "실제 요약 : Swine flu outbreak kills 76 in Rajasthan\n",
            "예측 요약 : Government officials on Wednesday said that a swine flu outbreak has killed 76 people this year in Rajasthan.\n",
            "\n",
            "\n",
            "원문 : North Korea is \"unlikely to completely give up its nuclear weapons and production capabilities\", Director of US' National Intelligence, Daniel Coats, said. \"North Korean leaders view nuclear arms as critical to regime survival,\" he added. His statements come despite North Korea's agreement with the US at the Singapore summit last year to denuclearise the Korean Peninsula. \n",
            "실제 요약 : N Korea unlikely to give up nuclear weapons: US intelligence chief\n",
            "예측 요약 : \"North Korean leaders view nuclear arms as critical to regime survival,\" he added.\n",
            "\n",
            "\n",
            "원문 : Jet Airways on Wednesday denied it was directed by GE Capital Aviation Services to ground its aircraft due to non-payment of dues. The airline said it's in the process of delivering three aircraft to lessors due to the expiry of lease terms. Further, three aircraft have been temporarily grounded to carry out an engine normalisation exercise, it added.\n",
            "실제 요약 : Jet Airways denies being told to ground aircraft\n",
            "예측 요약 : Further, three aircraft have been temporarily grounded to carry out an engine normalisation exercise, it added.\n",
            "\n",
            "\n",
            "원문 : Retired Justice Srikrishna's enquiry panel has found that ex-CEO Chanda Kochhar violated ICICI Bank's code of conduct. The bank said it'll treat Kochhar's exit as termination and will take back all bonuses paid to her from April 2009 until March 2018. The CBI recently filed a case against Kochhar, her husband, and Videocon MD in the ICICI-Videocon loan case.\n",
            "실제 요약 : ICICI fires Chanda Kochhar, to take back bonuses paid in last 9 yrs\n",
            "예측 요약 : Retired Justice Srikrishna's enquiry panel has found that ex-CEO Chanda Kochhar violated ICICI Bank's code of conduct.\n",
            "\n",
            "\n",
            "원문 : Ex-India cricketer Jacob Martin has been shifted to general ward from the ICU after being on a ventilator for nearly a month following a road accident, wherein he severely injured his lungs. Martin's wife Khyati mentioned there are chances that Jacob will be in hospital for two more months. BCCI, CSK and various cricketers provided financial assistance for Martin's treatment.\n",
            "실제 요약 : Ex-cricketer Martin out of ICU after being on ventilator for a month\n",
            "예측 요약 : Ex-India cricketer Jacob Martin has been shifted to general ward from the ICU after being on a ventilator for nearly a month following a road accident, wherein he severely injured his lungs.\n",
            "\n",
            "\n",
            "원문 : Sri Lanka all-rounder Thisara Perera has written to Sri Lanka Cricket CEO Ashley de Silva, asking the board to intervene after ODI captain Lasith Malinga's wife Tanya targeted him on Facebook. Tanya accused Perera of meeting country's Sports Minister to secure his place in the team. \"We've become laughing stock of whole country...because of one person's personal vendetta,\" Perera wrote.\n",
            "실제 요약 : Malinga's wife targets Perera on Facebook, he seeks board's help\n",
            "예측 요약 : Tanya accused Perera of meeting country's Sports Minister to secure his place in the team.\n",
            "\n",
            "\n",
            "원문 : Goa CM and ex-Defence Minister Manohar Parrikar has written a letter to Congress President Rahul Gandhi over his claim that Parrikar told him he has nothing to do with new Rafale deal. Parrikar wrote, \"Kindly do not use your visit to an ailing person to feed political opportunism.\" In their five-minute meeting, they didn't discuss anything about Rafale, he added.\n",
            "실제 요약 : Don't use visit to ailing man for political gains: Goa CM to Rahul\n",
            "예측 요약 : Goa CM and ex-Defence Minister Manohar Parrikar has written a letter to Congress President Rahul Gandhi over his claim that Parrikar told him he has nothing to do with new Rafale deal.\n",
            "\n",
            "\n",
            "원문 : Prime Minister Narendra Modi stopped his speech at the inauguration of the new terminal building at Surat airport after observing that a cameraman had fainted. PM Modi then asked his officers to urgently arrange for an ambulance for the cameraman. \"It's good that PM was paying attention to his surroundings during his speech,\" the cameraman later said from a hospital. \n",
            "실제 요약 : PM Modi stops speech after cameraman faints, asks officers to help\n",
            "예측 요약 : PM Modi then asked his officers to urgently arrange for an ambulance for the cameraman.\n",
            "\n",
            "\n",
            "원문 : A couple got divorced minutes after their wedding ceremony got over in Gujarat's Gondal as a disagreement broke out and relatives from both sides started throwing dishes at each other during lunch. The advocates representing both sides arrived at the marriage hall and got the couple divorced within minutes. The couple even reportedly returned the gifts exchanged during the ceremony.\n",
            "실제 요약 : Couple divorces minutes after marriage as families fight over lunch\n",
            "예측 요약 : A couple got divorced minutes after their wedding ceremony got over in Gujarat's Gondal as a disagreement broke out and relatives from both sides started throwing dishes at each other during lunch.\n",
            "\n",
            "\n",
            "원문 : Gujarat Education Minister Bhupendrasinh Chudasma has written a congratulatory message to a yoga ashram run by rape-convict Asaram's organisation for observing February 14 as \"Matru-Pitru Pujan Divas\" (Mother-Father worship day). After the Congress termed the letter as \"unfortunate\", saying it \"shows the nexus between BJP and godman\", Chudasma clarified, \"All I have done is sent best wishes.\" \n",
            "실제 요약 : Minister praises rape-convict Asaram over Matru-Pitru Divas\n",
            "예측 요약 : Gujarat Education Minister Bhupendrasinh Chudasma has written a congratulatory message to a yoga ashram run by rape-convict Asaram's organisation for observing February 14 as \"Matru-Pitru Pujan Divas\" (Mother-Father worship day).\n",
            "\n",
            "\n",
            "원문 : Venezuelan President NicolÃÂ¡s Maduro has claimed that his American counterpart Donald Trump ordered the Colombian government and the Colombian mafia to kill him. \"If something happens to me, Trump and Colombian President IvÃÂ¡n MÃÂ¡rquez will bear responsibility,\" he added. The US has blamed Maduro for the economic crisis in Venezuela and recognised opposition leader Juan GuaidÃÂ³ as interim President.\n",
            "실제 요약 : Trump ordered to kill me: Venezuela President Maduro\n",
            "예측 요약 : Venezuelan President NicolÃÂ¡s Maduro has claimed that his American counterpart Donald Trump ordered the Colombian government and the Colombian mafia to kill him.\n",
            "\n",
            "\n",
            "원문 : Eight Asian billionaires aged 90 or above on the Bloomberg Billionaires Index of world's 500 richest people have a combined net worth of $125 billion. The richest among them is Hong Kong's Li Ka Shing with a net worth of $30.5 billion. India's 90-year-old Pallonji Mistry, who controls 18.3% of Tata Sons through Shapoorji Pallonji Group, is worth $20.1 billion.\n",
            "실제 요약 : 8 Asian billionaires aged over 90, including Mistry, control $125bn\n",
            "예측 요약 : The richest among them is Hong Kong's Li Ka Shing with a net worth of $30.5 billion.\n",
            "\n",
            "\n",
            "원문 : Tamil Nadu food safety officials on Wednesday raided and seized 1,000 kgs of banned plastic items from Hotel Saravana Bhavan in Chennai's Vadapalani. Officials began a surprise check in the branch at 8 am. The state government had banned single-use plastics from January 1 and said the banned items should be handed over at the offices of the city corporation.\n",
            "실제 요약 : 1,000 kg banned plastic seized from Saravana Bhavan in Chennai\n",
            "예측 요약 : Tamil Nadu food safety officials on Wednesday raided and seized 1,000 kgs of banned plastic items from Hotel Saravana Bhavan in Chennai's Vadapalani.\n",
            "\n",
            "\n",
            "원문 : Actress Shamita Shetty was verbally abused and her driver was slapped in an incident of road rage in Mumbai on Tuesday, as per reports. The incident reportedly took place after a motorist who was accompanied by two friends, rammed his vehicle into Shamita's car. The men allegedly manhandled and threatened Shamita's driver when he stepped out to inspect the damage. \n",
            "실제 요약 : Shamita Shetty abused, driver slapped after accident: Report\n",
            "예측 요약 : Actress Shamita Shetty was verbally abused and her driver was slapped in an incident of road rage in Mumbai on Tuesday, as per reports.\n",
            "\n",
            "\n",
            "원문 : Actress Vaani Kapoor said that trolling has become a norm on social media, adding, \"There's no one who hasn't got trolled on social media.\" \"Everybody is out there to pull the other person down but it'll only bother [you] if you let it bother you,\" Vaani added. She further said, social media offers a platform \"where people enjoy belittling everybody\". \n",
            "실제 요약 : Trolling has become the norm on social media: Vaani\n",
            "예측 요약 : \n",
            "\n",
            "\n",
            "원문 : Actress Sushmita Sen took to Instagram to share a joke on the subject of marriage. \"Whoever invented marriage was creepy as hell. Like I love you so much IÃ¢ÂÂm gonna get the government involved so you canÃ¢ÂÂt leave,\" Sushmita's post read. \"This is an insult to [the] beauty of marriage,\" an Instagram user commented on her post.\n",
            "실제 요약 : Whoever invented marriage was creepy as hell: Sushmita posts joke\n",
            "예측 요약 : \"This is an insult to [the] beauty of marriage,\" an Instagram user commented on her post.\n",
            "\n",
            "\n",
            "원문 : Television actor Karanvir Bohra, who flew to Russia on Tuesday to attend a film festival, has been detained in Moscow due to passport damage. \"They [are] contemplating to deport me back to India,\" the actor wrote on Twitter. The Indian embassy in Russia's capital responded to his tweet and said that they were looking into the issue. \n",
            "실제 요약 : Actor Karanvir Bohra detained in Russia over passport damage\n",
            "예측 요약 : Television actor Karanvir Bohra, who flew to Russia on Tuesday to attend a film festival, has been detained in Moscow due to passport damage.\n",
            "\n",
            "\n",
            "원문 : While speaking about winning awards for his films, Shah Rukh Khan said, \"If I don't get an award, that award is at a loss.\" \"Sometimes, the prestige of an award increases when I receive it,\" the actor jokingly added. Shah Rukh further said that he was \"extremely ambitious\" but in a \"fair manner\". \n",
            "실제 요약 : If I don't get an award, that award is at loss: SRK\n",
            "예측 요약 : \n",
            "\n",
            "\n",
            "원문 : Actress Patralekhaa will make her debut in the Kannada film industry with the action-comedy film 'Where is my Kannadaka?' \"I can definitely say that itÃ¢ÂÂs a kind of role that I havenÃ¢ÂÂt portrayed on screen so far and that makes it special for me,\" the actress said in a statement. Shooting for the film will reportedly begin in April.\n",
            "실제 요약 : Actress Patralekhaa to make her Kannada film debut \n",
            "예측 요약 : \n",
            "\n",
            "\n",
            "원문 : Gmail on Tuesday faced a global outage, which also affected India, wherein certain users complained they faced a '404 error' message while trying to sign-in to their accounts. The error message read: \"The requested URL was not found on this server. That's all we know.\" Google responded saying \"problem with Gmail should be resolved (now). We apologise for the inconvenience\".\n",
            "실제 요약 : Gmail faces temporary global outage, users face '404 error'\n",
            "예측 요약 : Gmail on Tuesday faced a global outage, which also affected India, wherein certain users complained they faced a '404 error' message while trying to sign-in to their accounts.\n",
            "\n",
            "\n",
            "원문 : Shiv Sena chief Uddhav Thackeray has asked the BJP to decide about the alliance with the Sena within 15 days and said the BJP should make a concrete proposal on the alliance. Thackeray added that only if the BJP agrees to Sena's terms and conditions, the party will agree for an alliance. Sena is free to fight independently, he said. \n",
            "실제 요약 : Decide about an alliance within 15 days: Uddhav to BJP\n",
            "예측 요약 : Shiv Sena chief Uddhav Thackeray has asked the BJP to decide about the alliance with the Sena within 15 days and said the BJP should make a concrete proposal on the alliance.\n",
            "\n",
            "\n",
            "원문 : BJP President Amit Shah on Wednesday took a dig at the Opposition's proposed grand alliance saying if the \"mahagathbandhan comes to power, each opposition leader will be a Prime Minister every day of the week\". He added, \"[The] country will go on...holiday on Sunday\". He said the Opposition is thinking about leading the country but does not have a leader.\n",
            "실제 요약 : Grand alliance, if wins, will see a new PM every day: Shah\n",
            "예측 요약 : He said the Opposition is thinking about leading the country but does not have a leader.\n",
            "\n",
            "\n",
            "원문 : Prime Minister Narendra Modi on Wednesday said his government's demonetisation decision made houses affordable for the aspiring youth. He added decisions like demonetisation and RERA have put a check on black money that used to be \"parked in the real estate sector\". He said 'UDAN' (Ude Desh ka Aam Nagrik) scheme has boosted the development of the country's aviation sector.\n",
            "실제 요약 : Demonetisation made homes affordable for youth: PM Modi\n",
            "예측 요약 : He added decisions like demonetisation and RERA have put a check on black money that used to be \"parked in the real estate sector\".\n",
            "\n",
            "\n"
          ]
        }
      ],
      "source": [
        "for i in range(50, 100):\n",
        "    print(\"원문 :\", data[\"text\"][i])\n",
        "    print(\"실제 요약 :\", data[\"headlines\"][i])\n",
        "    print(\"예측 요약 :\", summaries[i])\n",
        "    print(\"\\n\")"
      ]
    },
    {
      "cell_type": "markdown",
      "id": "581cd09c",
      "metadata": {
        "id": "581cd09c"
      },
      "source": [
        "---\n",
        "---"
      ]
    },
    {
      "cell_type": "markdown",
      "id": "966b191e",
      "metadata": {
        "id": "966b191e"
      },
      "source": [
        "# 회고"
      ]
    },
    {
      "cell_type": "markdown",
      "id": "1af74667",
      "metadata": {
        "id": "1af74667"
      },
      "source": [
        "(1) 기본적으로 노드에서 제시한 단게를 모두 알맞게 수행했다.  \n",
        "미리 정의된 정규화 사전을 활용했고, 불용어 제거도 NLTK에 정의된 불용어를 활용하여 전처리 과정을 수행했다.  \n",
        "이렇게 미리 정의된 것들이 있어 활용하는 것이 굉장히 수월했다.  \n",
        "인코더와 디코더, 어텐션 메커니즘까지 활용하여 모델을 학습했다."
      ]
    },
    {
      "cell_type": "markdown",
      "id": "f48fb45b",
      "metadata": {
        "id": "f48fb45b"
      },
      "source": [
        "(2) loss 변화를 그래프로 확인해보았을 때, train loss는 계속해서 줄어드는 모습을 보였지만,  \n",
        "test loss는 약 20번의 epoch 후 부터는 거의 수렴하는 모습을 볼 수 있다.  \n",
        "학습한 모델을 이용하여 헤드라인을 예측해보았을 때, 어느정도 의미있는 문장을 보여주는 것을 확인할 수 있다.  "
      ]
    },
    {
      "cell_type": "markdown",
      "id": "ae73566f",
      "metadata": {
        "id": "ae73566f"
      },
      "source": [
        "(3) 추상적 요약방법의 결과는 실제 헤드라인과 차이가 꽤 있었고, 같은 단어가 반복되는 문제가 발생하기도 했다.  \n",
        "또한, 문법적으로도 어색한 부분이 있었다.  \n",
        "LSTM 층을 더 쌓거나, 양방향 RNN을 활용하면 성능이 개선될 것이라고 생각한다. \n",
        "추가적으로 테스트 데이터에도 불용어를 제거하면 좀 더 자연스러운 결과가 나오지 않을까 한다.\n",
        "\n",
        "\n",
        "추출적 요약방법은 말 그대로 텍스트 전문에서 일부분을 추출하는 것이므로, 문법적으로는 어색하지 않다.  \n",
        "아무래도 추상적 요약에 비해 좀 더 의미있는 문장이 나온 것들도 많으나 그렇지 않은 것도 많다.  \n",
        "또한, 출력 문장의 길이를 제한하다보니 아예 출력을 못하는 경우도 적지 않게 발생한다.\n",
        "\n",
        "\n",
        "그러므로 조금의 어색함은 있어도 추상적 요약방법의 성능을 개선하여 활용하는 편이 더 좋은 결과를 볼 것이라고 생각한다"
      ]
    }
  ],
  "metadata": {
    "kernelspec": {
      "display_name": "Python 3 (ipykernel)",
      "language": "python",
      "name": "python3"
    },
    "language_info": {
      "codemirror_mode": {
        "name": "ipython",
        "version": 3
      },
      "file_extension": ".py",
      "mimetype": "text/x-python",
      "name": "python",
      "nbconvert_exporter": "python",
      "pygments_lexer": "ipython3",
      "version": "3.9.7"
    },
    "colab": {
      "name": "[EX_08] News_Summarization.ipynb",
      "provenance": []
    },
    "accelerator": "TPU"
  },
  "nbformat": 4,
  "nbformat_minor": 5
}