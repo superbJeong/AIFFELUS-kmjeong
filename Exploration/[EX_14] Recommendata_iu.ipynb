{
 "cells": [
  {
   "cell_type": "markdown",
   "id": "4ebca5e4",
   "metadata": {},
   "source": [
    "# [EX_14] 프로젝트 - Movielens 영화 추천 실습"
   ]
  },
  {
   "cell_type": "markdown",
   "id": "50b9b42f",
   "metadata": {},
   "source": [
    "# 1) 데이터 준비와 전처리"
   ]
  },
  {
   "cell_type": "code",
   "execution_count": 1,
   "id": "fea24935",
   "metadata": {},
   "outputs": [
    {
     "data": {
      "text/html": [
       "<div>\n",
       "<style scoped>\n",
       "    .dataframe tbody tr th:only-of-type {\n",
       "        vertical-align: middle;\n",
       "    }\n",
       "\n",
       "    .dataframe tbody tr th {\n",
       "        vertical-align: top;\n",
       "    }\n",
       "\n",
       "    .dataframe thead th {\n",
       "        text-align: right;\n",
       "    }\n",
       "</style>\n",
       "<table border=\"1\" class=\"dataframe\">\n",
       "  <thead>\n",
       "    <tr style=\"text-align: right;\">\n",
       "      <th></th>\n",
       "      <th>user_id</th>\n",
       "      <th>movie_id</th>\n",
       "      <th>ratings</th>\n",
       "      <th>timestamp</th>\n",
       "    </tr>\n",
       "  </thead>\n",
       "  <tbody>\n",
       "    <tr>\n",
       "      <th>0</th>\n",
       "      <td>1</td>\n",
       "      <td>1193</td>\n",
       "      <td>5</td>\n",
       "      <td>978300760</td>\n",
       "    </tr>\n",
       "    <tr>\n",
       "      <th>1</th>\n",
       "      <td>1</td>\n",
       "      <td>661</td>\n",
       "      <td>3</td>\n",
       "      <td>978302109</td>\n",
       "    </tr>\n",
       "    <tr>\n",
       "      <th>2</th>\n",
       "      <td>1</td>\n",
       "      <td>914</td>\n",
       "      <td>3</td>\n",
       "      <td>978301968</td>\n",
       "    </tr>\n",
       "    <tr>\n",
       "      <th>3</th>\n",
       "      <td>1</td>\n",
       "      <td>3408</td>\n",
       "      <td>4</td>\n",
       "      <td>978300275</td>\n",
       "    </tr>\n",
       "    <tr>\n",
       "      <th>4</th>\n",
       "      <td>1</td>\n",
       "      <td>2355</td>\n",
       "      <td>5</td>\n",
       "      <td>978824291</td>\n",
       "    </tr>\n",
       "  </tbody>\n",
       "</table>\n",
       "</div>"
      ],
      "text/plain": [
       "   user_id  movie_id  ratings  timestamp\n",
       "0        1      1193        5  978300760\n",
       "1        1       661        3  978302109\n",
       "2        1       914        3  978301968\n",
       "3        1      3408        4  978300275\n",
       "4        1      2355        5  978824291"
      ]
     },
     "execution_count": 1,
     "metadata": {},
     "output_type": "execute_result"
    }
   ],
   "source": [
    "import pandas as pd\n",
    "import os\n",
    "import numpy as np\n",
    "\n",
    "rating_file_path=os.getenv('HOME') + '/aiffel/recommendata_iu/data/ml-1m/ratings.dat'\n",
    "ratings_cols = ['user_id', 'movie_id', 'ratings', 'timestamp']\n",
    "ratings = pd.read_csv(rating_file_path, sep='::', names=ratings_cols, engine='python', encoding = \"ISO-8859-1\")\n",
    "orginal_data_size = len(ratings)\n",
    "ratings.head()"
   ]
  },
  {
   "cell_type": "code",
   "execution_count": 2,
   "id": "5943ff28",
   "metadata": {},
   "outputs": [
    {
     "name": "stdout",
     "output_type": "stream",
     "text": [
      "orginal_data_size: 1000209, filtered_data_size: 836478\n",
      "Ratio of Remaining Data is 83.63%\n"
     ]
    }
   ],
   "source": [
    "# 3점 이상만 남깁니다.\n",
    "ratings = ratings[ratings['ratings']>=3]\n",
    "filtered_data_size = len(ratings)\n",
    "\n",
    "print(f'orginal_data_size: {orginal_data_size}, filtered_data_size: {filtered_data_size}')\n",
    "print(f'Ratio of Remaining Data is {filtered_data_size / orginal_data_size:.2%}')"
   ]
  },
  {
   "cell_type": "code",
   "execution_count": 3,
   "id": "ff7d3f2c",
   "metadata": {},
   "outputs": [],
   "source": [
    "# ratings 컬럼의 이름을 counts로 바꿉니다.\n",
    "ratings.rename(columns={'ratings':'counts'}, inplace=True)"
   ]
  },
  {
   "cell_type": "code",
   "execution_count": 4,
   "id": "8d6b1a8c",
   "metadata": {},
   "outputs": [
    {
     "data": {
      "text/plain": [
       "0          5\n",
       "1          3\n",
       "2          3\n",
       "3          4\n",
       "4          5\n",
       "          ..\n",
       "1000203    3\n",
       "1000205    5\n",
       "1000206    5\n",
       "1000207    4\n",
       "1000208    4\n",
       "Name: counts, Length: 836478, dtype: int64"
      ]
     },
     "execution_count": 4,
     "metadata": {},
     "output_type": "execute_result"
    }
   ],
   "source": [
    "ratings['counts']"
   ]
  },
  {
   "cell_type": "code",
   "execution_count": 5,
   "id": "c5bbd59f",
   "metadata": {},
   "outputs": [],
   "source": [
    "del ratings['timestamp']"
   ]
  },
  {
   "cell_type": "code",
   "execution_count": 6,
   "id": "ac6a847c",
   "metadata": {},
   "outputs": [
    {
     "data": {
      "text/html": [
       "<div>\n",
       "<style scoped>\n",
       "    .dataframe tbody tr th:only-of-type {\n",
       "        vertical-align: middle;\n",
       "    }\n",
       "\n",
       "    .dataframe tbody tr th {\n",
       "        vertical-align: top;\n",
       "    }\n",
       "\n",
       "    .dataframe thead th {\n",
       "        text-align: right;\n",
       "    }\n",
       "</style>\n",
       "<table border=\"1\" class=\"dataframe\">\n",
       "  <thead>\n",
       "    <tr style=\"text-align: right;\">\n",
       "      <th></th>\n",
       "      <th>movie_id</th>\n",
       "      <th>title</th>\n",
       "      <th>genre</th>\n",
       "    </tr>\n",
       "  </thead>\n",
       "  <tbody>\n",
       "    <tr>\n",
       "      <th>0</th>\n",
       "      <td>1</td>\n",
       "      <td>Toy Story (1995)</td>\n",
       "      <td>Animation|Children's|Comedy</td>\n",
       "    </tr>\n",
       "    <tr>\n",
       "      <th>1</th>\n",
       "      <td>2</td>\n",
       "      <td>Jumanji (1995)</td>\n",
       "      <td>Adventure|Children's|Fantasy</td>\n",
       "    </tr>\n",
       "    <tr>\n",
       "      <th>2</th>\n",
       "      <td>3</td>\n",
       "      <td>Grumpier Old Men (1995)</td>\n",
       "      <td>Comedy|Romance</td>\n",
       "    </tr>\n",
       "    <tr>\n",
       "      <th>3</th>\n",
       "      <td>4</td>\n",
       "      <td>Waiting to Exhale (1995)</td>\n",
       "      <td>Comedy|Drama</td>\n",
       "    </tr>\n",
       "    <tr>\n",
       "      <th>4</th>\n",
       "      <td>5</td>\n",
       "      <td>Father of the Bride Part II (1995)</td>\n",
       "      <td>Comedy</td>\n",
       "    </tr>\n",
       "  </tbody>\n",
       "</table>\n",
       "</div>"
      ],
      "text/plain": [
       "   movie_id                               title                         genre\n",
       "0         1                    Toy Story (1995)   Animation|Children's|Comedy\n",
       "1         2                      Jumanji (1995)  Adventure|Children's|Fantasy\n",
       "2         3             Grumpier Old Men (1995)                Comedy|Romance\n",
       "3         4            Waiting to Exhale (1995)                  Comedy|Drama\n",
       "4         5  Father of the Bride Part II (1995)                        Comedy"
      ]
     },
     "execution_count": 6,
     "metadata": {},
     "output_type": "execute_result"
    }
   ],
   "source": [
    "# 영화 제목을 보기 위해 메타 데이터를 읽어옵니다.\n",
    "movie_file_path=os.getenv('HOME') + '/aiffel/recommendata_iu/data/ml-1m/movies.dat'\n",
    "cols = ['movie_id', 'title', 'genre'] \n",
    "movies = pd.read_csv(movie_file_path, sep='::', names=cols, engine='python', encoding='ISO-8859-1')\n",
    "movies.head()"
   ]
  },
  {
   "cell_type": "code",
   "execution_count": 7,
   "id": "935f19fc",
   "metadata": {},
   "outputs": [
    {
     "name": "stdout",
     "output_type": "stream",
     "text": [
      "<class 'pandas.core.frame.DataFrame'>\n",
      "RangeIndex: 3883 entries, 0 to 3882\n",
      "Data columns (total 3 columns):\n",
      " #   Column    Non-Null Count  Dtype \n",
      "---  ------    --------------  ----- \n",
      " 0   movie_id  3883 non-null   int64 \n",
      " 1   title     3883 non-null   object\n",
      " 2   genre     3883 non-null   object\n",
      "dtypes: int64(1), object(2)\n",
      "memory usage: 91.1+ KB\n"
     ]
    }
   ],
   "source": [
    "movies.info()"
   ]
  },
  {
   "cell_type": "markdown",
   "id": "fe2ee4a2",
   "metadata": {},
   "source": [
    "# 2) 분석해 봅시다."
   ]
  },
  {
   "cell_type": "markdown",
   "id": "4fb552bc",
   "metadata": {},
   "source": [
    "* ratings에 있는 유니크한 영화 개수\n",
    "* ratings에 있는 유니크한 사용자 수\n",
    "* 가장 인기 있는 영화 30개(인기순)"
   ]
  },
  {
   "cell_type": "code",
   "execution_count": 8,
   "id": "c8200f92",
   "metadata": {},
   "outputs": [
    {
     "data": {
      "text/plain": [
       "3628"
      ]
     },
     "execution_count": 8,
     "metadata": {},
     "output_type": "execute_result"
    }
   ],
   "source": [
    "ratings['movie_id'].nunique()"
   ]
  },
  {
   "cell_type": "code",
   "execution_count": 9,
   "id": "461508d9",
   "metadata": {},
   "outputs": [
    {
     "data": {
      "text/plain": [
       "6039"
      ]
     },
     "execution_count": 9,
     "metadata": {},
     "output_type": "execute_result"
    }
   ],
   "source": [
    "ratings['user_id'].nunique()"
   ]
  },
  {
   "cell_type": "code",
   "execution_count": 10,
   "id": "51bcb212",
   "metadata": {},
   "outputs": [
    {
     "data": {
      "text/plain": [
       "movie_id\n",
       "2858    3211\n",
       "260     2910\n",
       "1196    2885\n",
       "1210    2716\n",
       "2028    2561\n",
       "589     2509\n",
       "593     2498\n",
       "1198    2473\n",
       "1270    2460\n",
       "2571    2434\n",
       "480     2413\n",
       "2762    2385\n",
       "608     2371\n",
       "110     2314\n",
       "1580    2297\n",
       "527     2257\n",
       "1197    2252\n",
       "2396    2213\n",
       "1617    2210\n",
       "318     2194\n",
       "858     2167\n",
       "1265    2121\n",
       "1097    2102\n",
       "2997    2066\n",
       "2716    2051\n",
       "296     2030\n",
       "356     2022\n",
       "1240    2019\n",
       "1       2000\n",
       "457     1941\n",
       "Name: user_id, dtype: int64"
      ]
     },
     "execution_count": 10,
     "metadata": {},
     "output_type": "execute_result"
    }
   ],
   "source": [
    "# 인기 많은 영화\n",
    "movie_count = ratings.groupby('movie_id')['user_id'].count()\n",
    "movie_count.sort_values(ascending=False).head(30)"
   ]
  },
  {
   "cell_type": "code",
   "execution_count": 11,
   "id": "adf1b26c",
   "metadata": {},
   "outputs": [
    {
     "data": {
      "text/html": [
       "<div>\n",
       "<style scoped>\n",
       "    .dataframe tbody tr th:only-of-type {\n",
       "        vertical-align: middle;\n",
       "    }\n",
       "\n",
       "    .dataframe tbody tr th {\n",
       "        vertical-align: top;\n",
       "    }\n",
       "\n",
       "    .dataframe thead th {\n",
       "        text-align: right;\n",
       "    }\n",
       "</style>\n",
       "<table border=\"1\" class=\"dataframe\">\n",
       "  <thead>\n",
       "    <tr style=\"text-align: right;\">\n",
       "      <th></th>\n",
       "      <th>movie_id</th>\n",
       "      <th>title</th>\n",
       "      <th>genre</th>\n",
       "    </tr>\n",
       "  </thead>\n",
       "  <tbody>\n",
       "    <tr>\n",
       "      <th>2789</th>\n",
       "      <td>2858</td>\n",
       "      <td>American Beauty (1999)</td>\n",
       "      <td>Comedy|Drama</td>\n",
       "    </tr>\n",
       "  </tbody>\n",
       "</table>\n",
       "</div>"
      ],
      "text/plain": [
       "      movie_id                   title         genre\n",
       "2789      2858  American Beauty (1999)  Comedy|Drama"
      ]
     },
     "execution_count": 11,
     "metadata": {},
     "output_type": "execute_result"
    }
   ],
   "source": [
    "movies[movies['movie_id']==2858]"
   ]
  },
  {
   "cell_type": "code",
   "execution_count": 12,
   "id": "7463c95b",
   "metadata": {},
   "outputs": [
    {
     "data": {
      "text/html": [
       "<div>\n",
       "<style scoped>\n",
       "    .dataframe tbody tr th:only-of-type {\n",
       "        vertical-align: middle;\n",
       "    }\n",
       "\n",
       "    .dataframe tbody tr th {\n",
       "        vertical-align: top;\n",
       "    }\n",
       "\n",
       "    .dataframe thead th {\n",
       "        text-align: right;\n",
       "    }\n",
       "</style>\n",
       "<table border=\"1\" class=\"dataframe\">\n",
       "  <thead>\n",
       "    <tr style=\"text-align: right;\">\n",
       "      <th></th>\n",
       "      <th>movie_id</th>\n",
       "      <th>title</th>\n",
       "      <th>genre</th>\n",
       "    </tr>\n",
       "  </thead>\n",
       "  <tbody>\n",
       "    <tr>\n",
       "      <th>257</th>\n",
       "      <td>260</td>\n",
       "      <td>Star Wars: Episode IV - A New Hope (1977)</td>\n",
       "      <td>Action|Adventure|Fantasy|Sci-Fi</td>\n",
       "    </tr>\n",
       "  </tbody>\n",
       "</table>\n",
       "</div>"
      ],
      "text/plain": [
       "     movie_id                                      title  \\\n",
       "257       260  Star Wars: Episode IV - A New Hope (1977)   \n",
       "\n",
       "                               genre  \n",
       "257  Action|Adventure|Fantasy|Sci-Fi  "
      ]
     },
     "execution_count": 12,
     "metadata": {},
     "output_type": "execute_result"
    }
   ],
   "source": [
    "movies[movies['movie_id']==260]"
   ]
  },
  {
   "cell_type": "code",
   "execution_count": 13,
   "id": "7d1b0d81",
   "metadata": {},
   "outputs": [
    {
     "data": {
      "text/html": [
       "<div>\n",
       "<style scoped>\n",
       "    .dataframe tbody tr th:only-of-type {\n",
       "        vertical-align: middle;\n",
       "    }\n",
       "\n",
       "    .dataframe tbody tr th {\n",
       "        vertical-align: top;\n",
       "    }\n",
       "\n",
       "    .dataframe thead th {\n",
       "        text-align: right;\n",
       "    }\n",
       "</style>\n",
       "<table border=\"1\" class=\"dataframe\">\n",
       "  <thead>\n",
       "    <tr style=\"text-align: right;\">\n",
       "      <th></th>\n",
       "      <th>movie_id</th>\n",
       "      <th>title</th>\n",
       "      <th>genre</th>\n",
       "    </tr>\n",
       "  </thead>\n",
       "  <tbody>\n",
       "    <tr>\n",
       "      <th>1178</th>\n",
       "      <td>1196</td>\n",
       "      <td>Star Wars: Episode V - The Empire Strikes Back...</td>\n",
       "      <td>Action|Adventure|Drama|Sci-Fi|War</td>\n",
       "    </tr>\n",
       "  </tbody>\n",
       "</table>\n",
       "</div>"
      ],
      "text/plain": [
       "      movie_id                                              title  \\\n",
       "1178      1196  Star Wars: Episode V - The Empire Strikes Back...   \n",
       "\n",
       "                                  genre  \n",
       "1178  Action|Adventure|Drama|Sci-Fi|War  "
      ]
     },
     "execution_count": 13,
     "metadata": {},
     "output_type": "execute_result"
    }
   ],
   "source": [
    "movies[movies['movie_id']==1196]"
   ]
  },
  {
   "cell_type": "markdown",
   "id": "28424634",
   "metadata": {},
   "source": [
    "# 3) 내가 선호하는 영화를 5가지 골라서 ratings에 추가해 줍시다."
   ]
  },
  {
   "cell_type": "code",
   "execution_count": 14,
   "id": "5c622983",
   "metadata": {},
   "outputs": [],
   "source": [
    "movies['title'] = movies['title'].str.lower()\n",
    "movies['genre'] = movies['genre'].str.lower()"
   ]
  },
  {
   "cell_type": "code",
   "execution_count": 15,
   "id": "5d2a9ebf",
   "metadata": {},
   "outputs": [
    {
     "data": {
      "text/html": [
       "<div>\n",
       "<style scoped>\n",
       "    .dataframe tbody tr th:only-of-type {\n",
       "        vertical-align: middle;\n",
       "    }\n",
       "\n",
       "    .dataframe tbody tr th {\n",
       "        vertical-align: top;\n",
       "    }\n",
       "\n",
       "    .dataframe thead th {\n",
       "        text-align: right;\n",
       "    }\n",
       "</style>\n",
       "<table border=\"1\" class=\"dataframe\">\n",
       "  <thead>\n",
       "    <tr style=\"text-align: right;\">\n",
       "      <th></th>\n",
       "      <th>movie_id</th>\n",
       "      <th>title</th>\n",
       "      <th>genre</th>\n",
       "    </tr>\n",
       "  </thead>\n",
       "  <tbody>\n",
       "    <tr>\n",
       "      <th>213</th>\n",
       "      <td>215</td>\n",
       "      <td>before sunrise (1995)</td>\n",
       "      <td>drama|romance</td>\n",
       "    </tr>\n",
       "  </tbody>\n",
       "</table>\n",
       "</div>"
      ],
      "text/plain": [
       "     movie_id                  title          genre\n",
       "213       215  before sunrise (1995)  drama|romance"
      ]
     },
     "execution_count": 15,
     "metadata": {},
     "output_type": "execute_result"
    }
   ],
   "source": [
    "movies[movies['title'].str.contains('before sunrise')]"
   ]
  },
  {
   "cell_type": "code",
   "execution_count": 16,
   "id": "49d39da7",
   "metadata": {},
   "outputs": [
    {
     "data": {
      "text/html": [
       "<div>\n",
       "<style scoped>\n",
       "    .dataframe tbody tr th:only-of-type {\n",
       "        vertical-align: middle;\n",
       "    }\n",
       "\n",
       "    .dataframe tbody tr th {\n",
       "        vertical-align: top;\n",
       "    }\n",
       "\n",
       "    .dataframe thead th {\n",
       "        text-align: right;\n",
       "    }\n",
       "</style>\n",
       "<table border=\"1\" class=\"dataframe\">\n",
       "  <thead>\n",
       "    <tr style=\"text-align: right;\">\n",
       "      <th></th>\n",
       "      <th>movie_id</th>\n",
       "      <th>title</th>\n",
       "      <th>genre</th>\n",
       "    </tr>\n",
       "  </thead>\n",
       "  <tbody>\n",
       "    <tr>\n",
       "      <th>2602</th>\n",
       "      <td>2671</td>\n",
       "      <td>notting hill (1999)</td>\n",
       "      <td>comedy|romance</td>\n",
       "    </tr>\n",
       "  </tbody>\n",
       "</table>\n",
       "</div>"
      ],
      "text/plain": [
       "      movie_id                title           genre\n",
       "2602      2671  notting hill (1999)  comedy|romance"
      ]
     },
     "execution_count": 16,
     "metadata": {},
     "output_type": "execute_result"
    }
   ],
   "source": [
    "movies[movies['title'].str.contains('notting hill')]"
   ]
  },
  {
   "cell_type": "code",
   "execution_count": 17,
   "id": "b1bbd2c2",
   "metadata": {},
   "outputs": [
    {
     "data": {
      "text/html": [
       "<div>\n",
       "<style scoped>\n",
       "    .dataframe tbody tr th:only-of-type {\n",
       "        vertical-align: middle;\n",
       "    }\n",
       "\n",
       "    .dataframe tbody tr th {\n",
       "        vertical-align: top;\n",
       "    }\n",
       "\n",
       "    .dataframe thead th {\n",
       "        text-align: right;\n",
       "    }\n",
       "</style>\n",
       "<table border=\"1\" class=\"dataframe\">\n",
       "  <thead>\n",
       "    <tr style=\"text-align: right;\">\n",
       "      <th></th>\n",
       "      <th>movie_id</th>\n",
       "      <th>title</th>\n",
       "      <th>genre</th>\n",
       "    </tr>\n",
       "  </thead>\n",
       "  <tbody>\n",
       "    <tr>\n",
       "      <th>373</th>\n",
       "      <td>377</td>\n",
       "      <td>speed (1994)</td>\n",
       "      <td>action|romance|thriller</td>\n",
       "    </tr>\n",
       "    <tr>\n",
       "      <th>1517</th>\n",
       "      <td>1556</td>\n",
       "      <td>speed 2: cruise control (1997)</td>\n",
       "      <td>action|romance|thriller</td>\n",
       "    </tr>\n",
       "    <tr>\n",
       "      <th>1675</th>\n",
       "      <td>1724</td>\n",
       "      <td>full speed (1996)</td>\n",
       "      <td>drama</td>\n",
       "    </tr>\n",
       "  </tbody>\n",
       "</table>\n",
       "</div>"
      ],
      "text/plain": [
       "      movie_id                           title                    genre\n",
       "373        377                    speed (1994)  action|romance|thriller\n",
       "1517      1556  speed 2: cruise control (1997)  action|romance|thriller\n",
       "1675      1724               full speed (1996)                    drama"
      ]
     },
     "execution_count": 17,
     "metadata": {},
     "output_type": "execute_result"
    }
   ],
   "source": [
    "movies[movies['title'].str.contains('speed')]"
   ]
  },
  {
   "cell_type": "code",
   "execution_count": 18,
   "id": "831d94b4",
   "metadata": {},
   "outputs": [
    {
     "data": {
      "text/html": [
       "<div>\n",
       "<style scoped>\n",
       "    .dataframe tbody tr th:only-of-type {\n",
       "        vertical-align: middle;\n",
       "    }\n",
       "\n",
       "    .dataframe tbody tr th {\n",
       "        vertical-align: top;\n",
       "    }\n",
       "\n",
       "    .dataframe thead th {\n",
       "        text-align: right;\n",
       "    }\n",
       "</style>\n",
       "<table border=\"1\" class=\"dataframe\">\n",
       "  <thead>\n",
       "    <tr style=\"text-align: right;\">\n",
       "      <th></th>\n",
       "      <th>movie_id</th>\n",
       "      <th>title</th>\n",
       "      <th>genre</th>\n",
       "    </tr>\n",
       "  </thead>\n",
       "  <tbody>\n",
       "    <tr>\n",
       "      <th>1636</th>\n",
       "      <td>1682</td>\n",
       "      <td>truman show, the (1998)</td>\n",
       "      <td>drama</td>\n",
       "    </tr>\n",
       "  </tbody>\n",
       "</table>\n",
       "</div>"
      ],
      "text/plain": [
       "      movie_id                    title  genre\n",
       "1636      1682  truman show, the (1998)  drama"
      ]
     },
     "execution_count": 18,
     "metadata": {},
     "output_type": "execute_result"
    }
   ],
   "source": [
    "movies[movies['title'].str.contains('truman show')]"
   ]
  },
  {
   "cell_type": "code",
   "execution_count": 19,
   "id": "8727a40e",
   "metadata": {},
   "outputs": [
    {
     "data": {
      "text/html": [
       "<div>\n",
       "<style scoped>\n",
       "    .dataframe tbody tr th:only-of-type {\n",
       "        vertical-align: middle;\n",
       "    }\n",
       "\n",
       "    .dataframe tbody tr th {\n",
       "        vertical-align: top;\n",
       "    }\n",
       "\n",
       "    .dataframe thead th {\n",
       "        text-align: right;\n",
       "    }\n",
       "</style>\n",
       "<table border=\"1\" class=\"dataframe\">\n",
       "  <thead>\n",
       "    <tr style=\"text-align: right;\">\n",
       "      <th></th>\n",
       "      <th>movie_id</th>\n",
       "      <th>title</th>\n",
       "      <th>genre</th>\n",
       "    </tr>\n",
       "  </thead>\n",
       "  <tbody>\n",
       "    <tr>\n",
       "      <th>352</th>\n",
       "      <td>356</td>\n",
       "      <td>forrest gump (1994)</td>\n",
       "      <td>comedy|romance|war</td>\n",
       "    </tr>\n",
       "  </tbody>\n",
       "</table>\n",
       "</div>"
      ],
      "text/plain": [
       "     movie_id                title               genre\n",
       "352       356  forrest gump (1994)  comedy|romance|war"
      ]
     },
     "execution_count": 19,
     "metadata": {},
     "output_type": "execute_result"
    }
   ],
   "source": [
    "movies[movies['title'].str.contains('forrest gump')]"
   ]
  },
  {
   "cell_type": "code",
   "execution_count": 20,
   "id": "8866809f",
   "metadata": {},
   "outputs": [
    {
     "data": {
      "text/html": [
       "<div>\n",
       "<style scoped>\n",
       "    .dataframe tbody tr th:only-of-type {\n",
       "        vertical-align: middle;\n",
       "    }\n",
       "\n",
       "    .dataframe tbody tr th {\n",
       "        vertical-align: top;\n",
       "    }\n",
       "\n",
       "    .dataframe thead th {\n",
       "        text-align: right;\n",
       "    }\n",
       "</style>\n",
       "<table border=\"1\" class=\"dataframe\">\n",
       "  <thead>\n",
       "    <tr style=\"text-align: right;\">\n",
       "      <th></th>\n",
       "      <th>user_id</th>\n",
       "      <th>movie_id</th>\n",
       "      <th>counts</th>\n",
       "    </tr>\n",
       "  </thead>\n",
       "  <tbody>\n",
       "    <tr>\n",
       "      <th>1000203</th>\n",
       "      <td>6040</td>\n",
       "      <td>1090</td>\n",
       "      <td>3</td>\n",
       "    </tr>\n",
       "    <tr>\n",
       "      <th>1000205</th>\n",
       "      <td>6040</td>\n",
       "      <td>1094</td>\n",
       "      <td>5</td>\n",
       "    </tr>\n",
       "    <tr>\n",
       "      <th>1000206</th>\n",
       "      <td>6040</td>\n",
       "      <td>562</td>\n",
       "      <td>5</td>\n",
       "    </tr>\n",
       "    <tr>\n",
       "      <th>1000207</th>\n",
       "      <td>6040</td>\n",
       "      <td>1096</td>\n",
       "      <td>4</td>\n",
       "    </tr>\n",
       "    <tr>\n",
       "      <th>1000208</th>\n",
       "      <td>6040</td>\n",
       "      <td>1097</td>\n",
       "      <td>4</td>\n",
       "    </tr>\n",
       "    <tr>\n",
       "      <th>0</th>\n",
       "      <td>jkm</td>\n",
       "      <td>215</td>\n",
       "      <td>5</td>\n",
       "    </tr>\n",
       "    <tr>\n",
       "      <th>1</th>\n",
       "      <td>jkm</td>\n",
       "      <td>2671</td>\n",
       "      <td>5</td>\n",
       "    </tr>\n",
       "    <tr>\n",
       "      <th>2</th>\n",
       "      <td>jkm</td>\n",
       "      <td>377</td>\n",
       "      <td>5</td>\n",
       "    </tr>\n",
       "    <tr>\n",
       "      <th>3</th>\n",
       "      <td>jkm</td>\n",
       "      <td>1682</td>\n",
       "      <td>5</td>\n",
       "    </tr>\n",
       "    <tr>\n",
       "      <th>4</th>\n",
       "      <td>jkm</td>\n",
       "      <td>356</td>\n",
       "      <td>5</td>\n",
       "    </tr>\n",
       "  </tbody>\n",
       "</table>\n",
       "</div>"
      ],
      "text/plain": [
       "        user_id  movie_id  counts\n",
       "1000203    6040      1090       3\n",
       "1000205    6040      1094       5\n",
       "1000206    6040       562       5\n",
       "1000207    6040      1096       4\n",
       "1000208    6040      1097       4\n",
       "0           jkm       215       5\n",
       "1           jkm      2671       5\n",
       "2           jkm       377       5\n",
       "3           jkm      1682       5\n",
       "4           jkm       356       5"
      ]
     },
     "execution_count": 20,
     "metadata": {},
     "output_type": "execute_result"
    }
   ],
   "source": [
    "my_favorite_title = ['before sunrise (1995)' , 'notting hill (1999)' ,'speed (1994)' ,'truman show, the (1998)' ,'forrest gump (1994)']\n",
    "my_favorite = [215, 2671, 377, 1682, 356]\n",
    "\n",
    "# 'jkm'이라는 user_id가 위 영화의 별점을 5점씩 주었다고 가정 가정하겠습니다.\n",
    "my_playlist = pd.DataFrame({'user_id': ['jkm']*5, 'movie_id': my_favorite, 'counts':[5]*5})\n",
    "\n",
    "if not ratings.isin({'user_id':['jkm']})['user_id'].any():  # user_id에 'jkm'이라는 데이터가 없다면\n",
    "    ratings = ratings.append(my_playlist)                           # 위에 임의로 만든 my_favorite 데이터를 추가해 줍니다. \n",
    "\n",
    "ratings.tail(10)       # 잘 추가되었는지 확인해 봅시다."
   ]
  },
  {
   "cell_type": "code",
   "execution_count": 21,
   "id": "04978905",
   "metadata": {},
   "outputs": [
    {
     "data": {
      "text/html": [
       "<div>\n",
       "<style scoped>\n",
       "    .dataframe tbody tr th:only-of-type {\n",
       "        vertical-align: middle;\n",
       "    }\n",
       "\n",
       "    .dataframe tbody tr th {\n",
       "        vertical-align: top;\n",
       "    }\n",
       "\n",
       "    .dataframe thead th {\n",
       "        text-align: right;\n",
       "    }\n",
       "</style>\n",
       "<table border=\"1\" class=\"dataframe\">\n",
       "  <thead>\n",
       "    <tr style=\"text-align: right;\">\n",
       "      <th></th>\n",
       "      <th>user_id</th>\n",
       "      <th>movie_id</th>\n",
       "      <th>counts</th>\n",
       "      <th>title</th>\n",
       "      <th>genre</th>\n",
       "    </tr>\n",
       "  </thead>\n",
       "  <tbody>\n",
       "    <tr>\n",
       "      <th>836473</th>\n",
       "      <td>5494</td>\n",
       "      <td>3530</td>\n",
       "      <td>4</td>\n",
       "      <td>smoking/no smoking (1993)</td>\n",
       "      <td>comedy</td>\n",
       "    </tr>\n",
       "    <tr>\n",
       "      <th>836474</th>\n",
       "      <td>5556</td>\n",
       "      <td>2198</td>\n",
       "      <td>3</td>\n",
       "      <td>modulations (1998)</td>\n",
       "      <td>documentary</td>\n",
       "    </tr>\n",
       "    <tr>\n",
       "      <th>836475</th>\n",
       "      <td>5949</td>\n",
       "      <td>2198</td>\n",
       "      <td>5</td>\n",
       "      <td>modulations (1998)</td>\n",
       "      <td>documentary</td>\n",
       "    </tr>\n",
       "    <tr>\n",
       "      <th>836476</th>\n",
       "      <td>5675</td>\n",
       "      <td>2703</td>\n",
       "      <td>3</td>\n",
       "      <td>broken vessels (1998)</td>\n",
       "      <td>drama</td>\n",
       "    </tr>\n",
       "    <tr>\n",
       "      <th>836477</th>\n",
       "      <td>5717</td>\n",
       "      <td>2258</td>\n",
       "      <td>4</td>\n",
       "      <td>master ninja i (1984)</td>\n",
       "      <td>action</td>\n",
       "    </tr>\n",
       "    <tr>\n",
       "      <th>836478</th>\n",
       "      <td>5851</td>\n",
       "      <td>3607</td>\n",
       "      <td>5</td>\n",
       "      <td>one little indian (1973)</td>\n",
       "      <td>comedy|drama|western</td>\n",
       "    </tr>\n",
       "    <tr>\n",
       "      <th>836479</th>\n",
       "      <td>5854</td>\n",
       "      <td>3026</td>\n",
       "      <td>4</td>\n",
       "      <td>slaughterhouse (1987)</td>\n",
       "      <td>horror</td>\n",
       "    </tr>\n",
       "    <tr>\n",
       "      <th>836480</th>\n",
       "      <td>5854</td>\n",
       "      <td>690</td>\n",
       "      <td>3</td>\n",
       "      <td>promise, the (versprechen, das) (1994)</td>\n",
       "      <td>romance</td>\n",
       "    </tr>\n",
       "    <tr>\n",
       "      <th>836481</th>\n",
       "      <td>5938</td>\n",
       "      <td>2909</td>\n",
       "      <td>4</td>\n",
       "      <td>five wives, three secretaries and me (1998)</td>\n",
       "      <td>documentary</td>\n",
       "    </tr>\n",
       "    <tr>\n",
       "      <th>836482</th>\n",
       "      <td>5948</td>\n",
       "      <td>1360</td>\n",
       "      <td>5</td>\n",
       "      <td>identification of a woman (identificazione di ...</td>\n",
       "      <td>drama</td>\n",
       "    </tr>\n",
       "  </tbody>\n",
       "</table>\n",
       "</div>"
      ],
      "text/plain": [
       "       user_id  movie_id  counts  \\\n",
       "836473    5494      3530       4   \n",
       "836474    5556      2198       3   \n",
       "836475    5949      2198       5   \n",
       "836476    5675      2703       3   \n",
       "836477    5717      2258       4   \n",
       "836478    5851      3607       5   \n",
       "836479    5854      3026       4   \n",
       "836480    5854       690       3   \n",
       "836481    5938      2909       4   \n",
       "836482    5948      1360       5   \n",
       "\n",
       "                                                    title  \\\n",
       "836473                          smoking/no smoking (1993)   \n",
       "836474                                 modulations (1998)   \n",
       "836475                                 modulations (1998)   \n",
       "836476                              broken vessels (1998)   \n",
       "836477                              master ninja i (1984)   \n",
       "836478                           one little indian (1973)   \n",
       "836479                              slaughterhouse (1987)   \n",
       "836480             promise, the (versprechen, das) (1994)   \n",
       "836481        five wives, three secretaries and me (1998)   \n",
       "836482  identification of a woman (identificazione di ...   \n",
       "\n",
       "                       genre  \n",
       "836473                comedy  \n",
       "836474           documentary  \n",
       "836475           documentary  \n",
       "836476                 drama  \n",
       "836477                action  \n",
       "836478  comedy|drama|western  \n",
       "836479                horror  \n",
       "836480               romance  \n",
       "836481           documentary  \n",
       "836482                 drama  "
      ]
     },
     "execution_count": 21,
     "metadata": {},
     "output_type": "execute_result"
    }
   ],
   "source": [
    "ratings = pd.merge(ratings, movies)\n",
    "ratings.tail(10)"
   ]
  },
  {
   "cell_type": "code",
   "execution_count": 22,
   "id": "4a4556eb",
   "metadata": {},
   "outputs": [
    {
     "data": {
      "text/html": [
       "<div>\n",
       "<style scoped>\n",
       "    .dataframe tbody tr th:only-of-type {\n",
       "        vertical-align: middle;\n",
       "    }\n",
       "\n",
       "    .dataframe tbody tr th {\n",
       "        vertical-align: top;\n",
       "    }\n",
       "\n",
       "    .dataframe thead th {\n",
       "        text-align: right;\n",
       "    }\n",
       "</style>\n",
       "<table border=\"1\" class=\"dataframe\">\n",
       "  <thead>\n",
       "    <tr style=\"text-align: right;\">\n",
       "      <th></th>\n",
       "      <th>user_id</th>\n",
       "      <th>movie_id</th>\n",
       "      <th>counts</th>\n",
       "      <th>title</th>\n",
       "      <th>genre</th>\n",
       "    </tr>\n",
       "  </thead>\n",
       "  <tbody>\n",
       "    <tr>\n",
       "      <th>154344</th>\n",
       "      <td>jkm</td>\n",
       "      <td>356</td>\n",
       "      <td>5</td>\n",
       "      <td>forrest gump (1994)</td>\n",
       "      <td>comedy|romance|war</td>\n",
       "    </tr>\n",
       "    <tr>\n",
       "      <th>199500</th>\n",
       "      <td>jkm</td>\n",
       "      <td>215</td>\n",
       "      <td>5</td>\n",
       "      <td>before sunrise (1995)</td>\n",
       "      <td>drama|romance</td>\n",
       "    </tr>\n",
       "    <tr>\n",
       "      <th>214705</th>\n",
       "      <td>jkm</td>\n",
       "      <td>377</td>\n",
       "      <td>5</td>\n",
       "      <td>speed (1994)</td>\n",
       "      <td>action|romance|thriller</td>\n",
       "    </tr>\n",
       "    <tr>\n",
       "      <th>298495</th>\n",
       "      <td>jkm</td>\n",
       "      <td>1682</td>\n",
       "      <td>5</td>\n",
       "      <td>truman show, the (1998)</td>\n",
       "      <td>drama</td>\n",
       "    </tr>\n",
       "    <tr>\n",
       "      <th>622897</th>\n",
       "      <td>jkm</td>\n",
       "      <td>2671</td>\n",
       "      <td>5</td>\n",
       "      <td>notting hill (1999)</td>\n",
       "      <td>comedy|romance</td>\n",
       "    </tr>\n",
       "  </tbody>\n",
       "</table>\n",
       "</div>"
      ],
      "text/plain": [
       "       user_id  movie_id  counts                    title  \\\n",
       "154344     jkm       356       5      forrest gump (1994)   \n",
       "199500     jkm       215       5    before sunrise (1995)   \n",
       "214705     jkm       377       5             speed (1994)   \n",
       "298495     jkm      1682       5  truman show, the (1998)   \n",
       "622897     jkm      2671       5      notting hill (1999)   \n",
       "\n",
       "                          genre  \n",
       "154344       comedy|romance|war  \n",
       "199500            drama|romance  \n",
       "214705  action|romance|thriller  \n",
       "298495                    drama  \n",
       "622897           comedy|romance  "
      ]
     },
     "execution_count": 22,
     "metadata": {},
     "output_type": "execute_result"
    }
   ],
   "source": [
    "check = ratings[ratings['user_id']=='jkm']\n",
    "check"
   ]
  },
  {
   "cell_type": "code",
   "execution_count": 23,
   "id": "940ded49",
   "metadata": {},
   "outputs": [],
   "source": [
    "# 고유한 유저, 아티스트를 찾아내는 코드\n",
    "user_unique = ratings['user_id'].unique()\n",
    "title_unique = ratings['title'].unique()\n",
    "\n",
    "# 유저, 아티스트 indexing 하는 코드 idx는 index의 약자입니다.\n",
    "user_to_idx = {v:k for k,v in enumerate(user_unique)}\n",
    "title_to_idx = {v:k for k,v in enumerate(title_unique)}"
   ]
  },
  {
   "cell_type": "code",
   "execution_count": 24,
   "id": "e8d78b0a",
   "metadata": {},
   "outputs": [
    {
     "name": "stdout",
     "output_type": "stream",
     "text": [
      "user_id column indexing OK!!\n",
      "title column indexing OK!!\n"
     ]
    },
    {
     "data": {
      "text/html": [
       "<div>\n",
       "<style scoped>\n",
       "    .dataframe tbody tr th:only-of-type {\n",
       "        vertical-align: middle;\n",
       "    }\n",
       "\n",
       "    .dataframe tbody tr th {\n",
       "        vertical-align: top;\n",
       "    }\n",
       "\n",
       "    .dataframe thead th {\n",
       "        text-align: right;\n",
       "    }\n",
       "</style>\n",
       "<table border=\"1\" class=\"dataframe\">\n",
       "  <thead>\n",
       "    <tr style=\"text-align: right;\">\n",
       "      <th></th>\n",
       "      <th>user_id</th>\n",
       "      <th>movie_id</th>\n",
       "      <th>counts</th>\n",
       "      <th>title</th>\n",
       "      <th>genre</th>\n",
       "    </tr>\n",
       "  </thead>\n",
       "  <tbody>\n",
       "    <tr>\n",
       "      <th>0</th>\n",
       "      <td>0</td>\n",
       "      <td>1193</td>\n",
       "      <td>5</td>\n",
       "      <td>0</td>\n",
       "      <td>drama</td>\n",
       "    </tr>\n",
       "    <tr>\n",
       "      <th>1</th>\n",
       "      <td>1</td>\n",
       "      <td>1193</td>\n",
       "      <td>5</td>\n",
       "      <td>0</td>\n",
       "      <td>drama</td>\n",
       "    </tr>\n",
       "    <tr>\n",
       "      <th>2</th>\n",
       "      <td>2</td>\n",
       "      <td>1193</td>\n",
       "      <td>4</td>\n",
       "      <td>0</td>\n",
       "      <td>drama</td>\n",
       "    </tr>\n",
       "    <tr>\n",
       "      <th>3</th>\n",
       "      <td>3</td>\n",
       "      <td>1193</td>\n",
       "      <td>4</td>\n",
       "      <td>0</td>\n",
       "      <td>drama</td>\n",
       "    </tr>\n",
       "    <tr>\n",
       "      <th>4</th>\n",
       "      <td>4</td>\n",
       "      <td>1193</td>\n",
       "      <td>5</td>\n",
       "      <td>0</td>\n",
       "      <td>drama</td>\n",
       "    </tr>\n",
       "    <tr>\n",
       "      <th>...</th>\n",
       "      <td>...</td>\n",
       "      <td>...</td>\n",
       "      <td>...</td>\n",
       "      <td>...</td>\n",
       "      <td>...</td>\n",
       "    </tr>\n",
       "    <tr>\n",
       "      <th>836478</th>\n",
       "      <td>1621</td>\n",
       "      <td>3607</td>\n",
       "      <td>5</td>\n",
       "      <td>3623</td>\n",
       "      <td>comedy|drama|western</td>\n",
       "    </tr>\n",
       "    <tr>\n",
       "      <th>836479</th>\n",
       "      <td>3481</td>\n",
       "      <td>3026</td>\n",
       "      <td>4</td>\n",
       "      <td>3624</td>\n",
       "      <td>horror</td>\n",
       "    </tr>\n",
       "    <tr>\n",
       "      <th>836480</th>\n",
       "      <td>3481</td>\n",
       "      <td>690</td>\n",
       "      <td>3</td>\n",
       "      <td>3625</td>\n",
       "      <td>romance</td>\n",
       "    </tr>\n",
       "    <tr>\n",
       "      <th>836481</th>\n",
       "      <td>4159</td>\n",
       "      <td>2909</td>\n",
       "      <td>4</td>\n",
       "      <td>3626</td>\n",
       "      <td>documentary</td>\n",
       "    </tr>\n",
       "    <tr>\n",
       "      <th>836482</th>\n",
       "      <td>1648</td>\n",
       "      <td>1360</td>\n",
       "      <td>5</td>\n",
       "      <td>3627</td>\n",
       "      <td>drama</td>\n",
       "    </tr>\n",
       "  </tbody>\n",
       "</table>\n",
       "<p>836483 rows × 5 columns</p>\n",
       "</div>"
      ],
      "text/plain": [
       "        user_id  movie_id  counts  title                 genre\n",
       "0             0      1193       5      0                 drama\n",
       "1             1      1193       5      0                 drama\n",
       "2             2      1193       4      0                 drama\n",
       "3             3      1193       4      0                 drama\n",
       "4             4      1193       5      0                 drama\n",
       "...         ...       ...     ...    ...                   ...\n",
       "836478     1621      3607       5   3623  comedy|drama|western\n",
       "836479     3481      3026       4   3624                horror\n",
       "836480     3481       690       3   3625               romance\n",
       "836481     4159      2909       4   3626           documentary\n",
       "836482     1648      1360       5   3627                 drama\n",
       "\n",
       "[836483 rows x 5 columns]"
      ]
     },
     "execution_count": 24,
     "metadata": {},
     "output_type": "execute_result"
    }
   ],
   "source": [
    "# indexing을 통해 데이터 컬럼 내 값을 바꾸는 코드\n",
    "# dictionary 자료형의 get 함수는 https://wikidocs.net/16 을 참고하세요.\n",
    "\n",
    "# user_to_idx.get을 통해 user_id 컬럼의 모든 값을 인덱싱한 Series를 구해 봅시다. \n",
    "# 혹시 정상적으로 인덱싱되지 않은 row가 있다면 인덱스가 NaN이 될 테니 dropna()로 제거합니다. \n",
    "temp_user_data = ratings['user_id'].map(user_to_idx.get).dropna()\n",
    "if len(temp_user_data) == len(ratings):   # 모든 row가 정상적으로 인덱싱되었다면\n",
    "    print('user_id column indexing OK!!')\n",
    "    ratings['user_id'] = temp_user_data   # data['user_id']을 인덱싱된 Series로 교체해 줍니다. \n",
    "else:\n",
    "    print('user_id column indexing Fail!!')\n",
    "\n",
    "# title_to_idx을 통해 title 컬럼도 동일한 방식으로 인덱싱해 줍니다. \n",
    "temp_title_data = ratings['title'].map(title_to_idx.get).dropna()\n",
    "if len(temp_title_data) == len(ratings):\n",
    "    print('title column indexing OK!!')\n",
    "    ratings['title'] = temp_title_data\n",
    "else:\n",
    "    print('title column indexing Fail!!')\n",
    "\n",
    "ratings"
   ]
  },
  {
   "cell_type": "code",
   "execution_count": 25,
   "id": "92b271b7",
   "metadata": {},
   "outputs": [
    {
     "data": {
      "text/html": [
       "<div>\n",
       "<style scoped>\n",
       "    .dataframe tbody tr th:only-of-type {\n",
       "        vertical-align: middle;\n",
       "    }\n",
       "\n",
       "    .dataframe tbody tr th {\n",
       "        vertical-align: top;\n",
       "    }\n",
       "\n",
       "    .dataframe thead th {\n",
       "        text-align: right;\n",
       "    }\n",
       "</style>\n",
       "<table border=\"1\" class=\"dataframe\">\n",
       "  <thead>\n",
       "    <tr style=\"text-align: right;\">\n",
       "      <th></th>\n",
       "      <th>user_id</th>\n",
       "      <th>movie_id</th>\n",
       "      <th>counts</th>\n",
       "      <th>title</th>\n",
       "      <th>genre</th>\n",
       "    </tr>\n",
       "  </thead>\n",
       "  <tbody>\n",
       "    <tr>\n",
       "      <th>154344</th>\n",
       "      <td>6022</td>\n",
       "      <td>356</td>\n",
       "      <td>5</td>\n",
       "      <td>160</td>\n",
       "      <td>comedy|romance|war</td>\n",
       "    </tr>\n",
       "  </tbody>\n",
       "</table>\n",
       "</div>"
      ],
      "text/plain": [
       "        user_id  movie_id  counts  title               genre\n",
       "154344     6022       356       5    160  comedy|romance|war"
      ]
     },
     "execution_count": 25,
     "metadata": {},
     "output_type": "execute_result"
    }
   ],
   "source": [
    "ratings[154344:154345]"
   ]
  },
  {
   "cell_type": "markdown",
   "id": "f66748db",
   "metadata": {},
   "source": [
    "# 4) CSR matrix를 직접 만들어 봅시다."
   ]
  },
  {
   "cell_type": "code",
   "execution_count": 26,
   "id": "adbb06f2",
   "metadata": {},
   "outputs": [
    {
     "data": {
      "text/plain": [
       "<6040x3628 sparse matrix of type '<class 'numpy.int64'>'\n",
       "\twith 836483 stored elements in Compressed Sparse Row format>"
      ]
     },
     "execution_count": 26,
     "metadata": {},
     "output_type": "execute_result"
    }
   ],
   "source": [
    "# 실습 위에 설명보고 이해해서 만들어보기\n",
    "from scipy.sparse import csr_matrix\n",
    "\n",
    "num_user = ratings['user_id'].nunique()\n",
    "num_title = ratings['title'].nunique()\n",
    "\n",
    "csr_data = csr_matrix((ratings.counts, (ratings.user_id, ratings.title)), shape= (num_user, num_title))\n",
    "csr_data"
   ]
  },
  {
   "cell_type": "markdown",
   "id": "4b89accb",
   "metadata": {},
   "source": [
    "# 5) als_model = AlternatingLeastSquares 모델을 직접 구성하여 훈련시켜 봅시다."
   ]
  },
  {
   "cell_type": "code",
   "execution_count": 27,
   "id": "7cb3a852",
   "metadata": {},
   "outputs": [],
   "source": [
    "from implicit.als import AlternatingLeastSquares\n",
    "\n",
    "# implicit 라이브러리에서 권장하고 있는 부분입니다. 학습 내용과는 무관합니다.\n",
    "os.environ['OPENBLAS_NUM_THREADS']='1'\n",
    "os.environ['KMP_DUPLICATE_LIB_OK']='True'\n",
    "os.environ['MKL_NUM_THREADS']='1'"
   ]
  },
  {
   "cell_type": "code",
   "execution_count": 35,
   "id": "7a099188",
   "metadata": {},
   "outputs": [],
   "source": [
    "# Implicit AlternatingLeastSquares 모델의 선언\n",
    "als_model = AlternatingLeastSquares(factors=100, regularization=0.01, use_gpu=False, iterations=15, dtype=np.float32)"
   ]
  },
  {
   "cell_type": "code",
   "execution_count": 36,
   "id": "82e546e2",
   "metadata": {},
   "outputs": [
    {
     "data": {
      "text/plain": [
       "<3628x6040 sparse matrix of type '<class 'numpy.int64'>'\n",
       "\twith 836483 stored elements in Compressed Sparse Column format>"
      ]
     },
     "execution_count": 36,
     "metadata": {},
     "output_type": "execute_result"
    }
   ],
   "source": [
    "# als 모델은 input으로 (item X user 꼴의 matrix를 받기 때문에 Transpose해줍니다.)\n",
    "csr_data_transpose = csr_data.T\n",
    "csr_data_transpose"
   ]
  },
  {
   "cell_type": "code",
   "execution_count": 37,
   "id": "bcd436f0",
   "metadata": {},
   "outputs": [
    {
     "data": {
      "application/vnd.jupyter.widget-view+json": {
       "model_id": "",
       "version_major": 2,
       "version_minor": 0
      },
      "text/plain": [
       "  0%|          | 0/15 [00:00<?, ?it/s]"
      ]
     },
     "metadata": {},
     "output_type": "display_data"
    }
   ],
   "source": [
    "# 모델 훈련\n",
    "als_model.fit(csr_data_transpose)"
   ]
  },
  {
   "cell_type": "markdown",
   "id": "b6ea1558",
   "metadata": {},
   "source": [
    "# 6) 내가 선호하는 5가지 영화 중 하나와 그 외의 영화 하나를 골라 훈련된 모델이 예측한 나의 선호도를 파악해 보세요."
   ]
  },
  {
   "cell_type": "code",
   "execution_count": 38,
   "id": "3870b53c",
   "metadata": {},
   "outputs": [],
   "source": [
    "jkm, before_sunrise = user_to_idx['jkm'], title_to_idx['before sunrise (1995)']\n",
    "jkm_vector, before_sunrise_vector = als_model.user_factors[jkm], als_model.item_factors[before_sunrise]"
   ]
  },
  {
   "cell_type": "code",
   "execution_count": 39,
   "id": "16ec5071",
   "metadata": {},
   "outputs": [
    {
     "data": {
      "text/plain": [
       "array([ 6.7161024e-02, -2.8864270e-02,  7.1996704e-02,  4.3278456e-01,\n",
       "        1.2645477e+00,  4.8168918e-01,  4.0344214e-01, -4.6367094e-01,\n",
       "        5.8477527e-01, -1.1569973e-02,  5.9715426e-01, -6.2981814e-01,\n",
       "       -5.4119951e-01, -2.1036556e-01,  7.7049518e-01, -3.3206972e-01,\n",
       "        2.3165464e-01,  6.6070372e-01, -2.5676352e-01, -5.3195632e-01,\n",
       "       -8.9827023e-02,  2.1227957e-01,  4.9853814e-01, -1.6093746e-01,\n",
       "        2.7108511e-01,  3.9139390e-01,  1.3390206e-01,  4.5429063e-01,\n",
       "       -4.6284392e-01,  3.2052755e-01, -7.0108312e-01,  3.9459157e-01,\n",
       "       -8.9429390e-01, -6.6397786e-02, -2.4912640e-01,  3.1020954e-01,\n",
       "       -5.8772832e-01, -6.8034135e-02,  5.0106341e-01,  1.9193724e-01,\n",
       "       -2.8376463e-01, -3.3998847e-01, -4.4340196e-01, -8.9136157e-03,\n",
       "       -6.2171304e-01,  8.0343790e-02, -9.0217955e-02,  1.2613122e-01,\n",
       "       -4.8585248e-01,  6.6189331e-01,  1.3647260e-02,  5.3271331e-05,\n",
       "       -2.0157461e-01,  1.4434196e-01,  9.3388200e-01, -3.0254120e-01,\n",
       "       -7.3040849e-01,  3.6714587e-01, -8.4829986e-01, -8.8355936e-02,\n",
       "        5.4121417e-01,  2.8004360e-01, -2.8202817e-01,  5.2229613e-01,\n",
       "       -1.5086573e-01,  3.0613965e-01, -3.3388987e-01,  3.6561590e-01,\n",
       "        4.8080149e-01, -8.7233031e-01, -4.5590304e-02,  7.2392988e-01,\n",
       "       -1.3840854e+00,  3.2520738e-01, -3.7167713e-01, -1.1795061e-01,\n",
       "        8.1213009e-01, -1.8181543e-01, -3.4262735e-01,  2.1410494e-01,\n",
       "        2.9563144e-01,  2.8541425e-01, -3.6112604e-01, -2.8941592e-02,\n",
       "        3.4111601e-01,  3.0144371e-02,  8.1675535e-01, -8.2083642e-02,\n",
       "       -2.3514759e-02,  4.3468714e-01, -1.2009697e+00, -4.6969783e-01,\n",
       "       -3.1630370e-01, -3.1981555e-01, -7.5623512e-02,  2.2010960e-01,\n",
       "       -2.8431576e-01,  8.4798628e-01,  1.8402952e-01,  3.1049693e-01],\n",
       "      dtype=float32)"
      ]
     },
     "execution_count": 39,
     "metadata": {},
     "output_type": "execute_result"
    }
   ],
   "source": [
    "jkm_vector"
   ]
  },
  {
   "cell_type": "code",
   "execution_count": 40,
   "id": "2761870a",
   "metadata": {},
   "outputs": [
    {
     "data": {
      "text/plain": [
       "array([ 1.51423039e-02,  1.32873915e-02,  1.27061587e-02,  5.32309338e-03,\n",
       "        9.25560296e-03, -6.89565763e-03,  1.39595242e-02, -7.74855586e-03,\n",
       "        2.65614036e-02,  1.71031002e-02,  1.67471301e-02,  2.95381690e-03,\n",
       "       -3.63025768e-03,  1.03865061e-02,  1.24856818e-03, -4.33352352e-06,\n",
       "        1.45924743e-02,  9.22925491e-03,  1.25999446e-04, -2.71464931e-03,\n",
       "        1.78397205e-02,  9.09768697e-03,  8.63874611e-03, -1.38753362e-03,\n",
       "        2.22981645e-04,  7.29834288e-03,  7.35008391e-03,  4.13678645e-04,\n",
       "       -6.19436207e-04, -2.02395860e-03,  1.51869177e-03,  1.48323737e-02,\n",
       "        7.22858915e-03, -8.84370238e-04,  9.34964791e-03,  1.93699487e-02,\n",
       "       -4.52796137e-03,  1.17802834e-02,  6.94235507e-03,  1.76178198e-02,\n",
       "        2.82800174e-03,  4.13594674e-03,  1.36197833e-02,  8.93607736e-03,\n",
       "       -7.45443907e-03, -7.44391326e-03,  1.44475047e-02,  1.69166774e-02,\n",
       "        1.40013974e-02, -1.66371968e-02,  8.85288406e-04,  8.44297837e-03,\n",
       "       -5.70391584e-03, -4.27908060e-04,  1.27504701e-02,  5.42806229e-03,\n",
       "        1.19497580e-02,  1.13498829e-02, -6.51003048e-03, -2.35286169e-03,\n",
       "        3.78054823e-03,  5.78472158e-03,  4.01087711e-03,  4.80923243e-03,\n",
       "        6.86247833e-04, -2.08606920e-03,  1.50624942e-02,  1.56681258e-02,\n",
       "        1.34262117e-02, -8.07852857e-03, -1.73320726e-03,  1.41096953e-02,\n",
       "       -1.79338705e-04,  1.22391724e-03,  4.34573693e-03,  1.20542133e-02,\n",
       "        6.84896065e-03,  7.70537136e-03, -5.84622193e-03, -1.19919032e-02,\n",
       "        9.66926292e-03,  1.15472618e-02,  5.25290146e-03,  7.76300859e-03,\n",
       "        1.80352926e-02,  5.10680955e-03,  7.74778426e-03, -4.04918194e-03,\n",
       "       -4.67666332e-03,  1.30958632e-02, -6.46996684e-03, -6.36668690e-03,\n",
       "        1.56135776e-03,  3.24390666e-03,  2.64796778e-03,  1.43854823e-02,\n",
       "        3.95438448e-03,  7.34531973e-03,  4.49794950e-03,  1.40494956e-02],\n",
       "      dtype=float32)"
      ]
     },
     "execution_count": 40,
     "metadata": {},
     "output_type": "execute_result"
    }
   ],
   "source": [
    "before_sunrise_vector"
   ]
  },
  {
   "cell_type": "code",
   "execution_count": 41,
   "id": "9a10f908",
   "metadata": {},
   "outputs": [
    {
     "data": {
      "text/plain": [
       "0.14249186"
      ]
     },
     "execution_count": 41,
     "metadata": {},
     "output_type": "execute_result"
    }
   ],
   "source": [
    "np.dot(jkm_vector, before_sunrise_vector)"
   ]
  },
  {
   "cell_type": "markdown",
   "id": "98fd16a2",
   "metadata": {},
   "source": [
    "내가 평점을 높게 준 영화인데 스코어가 너무 낮게 나온다"
   ]
  },
  {
   "cell_type": "code",
   "execution_count": 42,
   "id": "636e9720",
   "metadata": {},
   "outputs": [],
   "source": [
    "# Implicit AlternatingLeastSquares 모델의 선언\n",
    "als_model = AlternatingLeastSquares(factors=500, regularization=0.01, use_gpu=False, iterations=15, dtype=np.float32)"
   ]
  },
  {
   "cell_type": "code",
   "execution_count": 43,
   "id": "c19eea3a",
   "metadata": {},
   "outputs": [
    {
     "data": {
      "application/vnd.jupyter.widget-view+json": {
       "model_id": "",
       "version_major": 2,
       "version_minor": 0
      },
      "text/plain": [
       "  0%|          | 0/15 [00:00<?, ?it/s]"
      ]
     },
     "metadata": {},
     "output_type": "display_data"
    }
   ],
   "source": [
    "# 모델 훈련\n",
    "als_model.fit(csr_data_transpose)"
   ]
  },
  {
   "cell_type": "code",
   "execution_count": 44,
   "id": "8e4ce74c",
   "metadata": {},
   "outputs": [
    {
     "data": {
      "text/plain": [
       "0.48228255"
      ]
     },
     "execution_count": 44,
     "metadata": {},
     "output_type": "execute_result"
    }
   ],
   "source": [
    "jkm_vector, before_sunrise_vector = als_model.user_factors[jkm], als_model.item_factors[before_sunrise]\n",
    "np.dot(jkm_vector, before_sunrise_vector)"
   ]
  },
  {
   "cell_type": "markdown",
   "id": "2d076854",
   "metadata": {},
   "source": [
    "스코어가 조금은 높아졌지만 아직 0.5가 넘지 않는다."
   ]
  },
  {
   "cell_type": "code",
   "execution_count": 45,
   "id": "4149cd92",
   "metadata": {},
   "outputs": [],
   "source": [
    "# Implicit AlternatingLeastSquares 모델의 선언\n",
    "als_model = AlternatingLeastSquares(factors=1000, regularization=0.01, use_gpu=False, iterations=30, dtype=np.float32)"
   ]
  },
  {
   "cell_type": "code",
   "execution_count": 46,
   "id": "81d826d4",
   "metadata": {},
   "outputs": [
    {
     "data": {
      "application/vnd.jupyter.widget-view+json": {
       "model_id": "c32718acae7344e3b41d51ab12a722a2",
       "version_major": 2,
       "version_minor": 0
      },
      "text/plain": [
       "  0%|          | 0/30 [00:00<?, ?it/s]"
      ]
     },
     "metadata": {},
     "output_type": "display_data"
    }
   ],
   "source": [
    "# 모델 훈련\n",
    "als_model.fit(csr_data_transpose)"
   ]
  },
  {
   "cell_type": "code",
   "execution_count": 47,
   "id": "f054040a",
   "metadata": {},
   "outputs": [
    {
     "data": {
      "text/plain": [
       "0.6958496"
      ]
     },
     "execution_count": 47,
     "metadata": {},
     "output_type": "execute_result"
    }
   ],
   "source": [
    "jkm_vector, before_sunrise_vector = als_model.user_factors[jkm], als_model.item_factors[before_sunrise]\n",
    "np.dot(jkm_vector, before_sunrise_vector)"
   ]
  },
  {
   "cell_type": "markdown",
   "id": "e7a44586",
   "metadata": {},
   "source": [
    "스코어가 약 0.7에 달하므로 만족스럽지만, 조금 더 개선이 가능할 것 같다."
   ]
  },
  {
   "cell_type": "code",
   "execution_count": 48,
   "id": "a0a53d47",
   "metadata": {},
   "outputs": [],
   "source": [
    "# Implicit AlternatingLeastSquares 모델의 선언\n",
    "als_model = AlternatingLeastSquares(factors=1000, regularization=0.01, use_gpu=False, iterations=50, dtype=np.float32)"
   ]
  },
  {
   "cell_type": "code",
   "execution_count": 49,
   "id": "3d2c43ee",
   "metadata": {},
   "outputs": [
    {
     "data": {
      "application/vnd.jupyter.widget-view+json": {
       "model_id": "742f230fbbf94892949b8e659950edc2",
       "version_major": 2,
       "version_minor": 0
      },
      "text/plain": [
       "  0%|          | 0/50 [00:00<?, ?it/s]"
      ]
     },
     "metadata": {},
     "output_type": "display_data"
    }
   ],
   "source": [
    "# 모델 훈련\n",
    "als_model.fit(csr_data_transpose)"
   ]
  },
  {
   "cell_type": "code",
   "execution_count": 50,
   "id": "a34554e5",
   "metadata": {},
   "outputs": [
    {
     "data": {
      "text/plain": [
       "0.7014602"
      ]
     },
     "execution_count": 50,
     "metadata": {},
     "output_type": "execute_result"
    }
   ],
   "source": [
    "jkm_vector, before_sunrise_vector = als_model.user_factors[jkm], als_model.item_factors[before_sunrise]\n",
    "np.dot(jkm_vector, before_sunrise_vector)"
   ]
  },
  {
   "cell_type": "markdown",
   "id": "58f6826d",
   "metadata": {},
   "source": [
    "epoch만 높이는 것은 큰 개선이 되지 않는것 같다."
   ]
  },
  {
   "cell_type": "code",
   "execution_count": 51,
   "id": "d70ed585",
   "metadata": {},
   "outputs": [
    {
     "data": {
      "application/vnd.jupyter.widget-view+json": {
       "model_id": "1ec65ce63da048d7a71efd6ea2b51568",
       "version_major": 2,
       "version_minor": 0
      },
      "text/plain": [
       "  0%|          | 0/30 [00:00<?, ?it/s]"
      ]
     },
     "metadata": {},
     "output_type": "display_data"
    }
   ],
   "source": [
    "# Implicit AlternatingLeastSquares 모델의 선언\n",
    "als_model = AlternatingLeastSquares(factors=1500, regularization=0.01, use_gpu=False, iterations=30, dtype=np.float32)\n",
    "\n",
    "# 모델 훈련\n",
    "als_model.fit(csr_data_transpose)"
   ]
  },
  {
   "cell_type": "code",
   "execution_count": 52,
   "id": "b73a7e6f",
   "metadata": {},
   "outputs": [
    {
     "data": {
      "text/plain": [
       "0.8614682"
      ]
     },
     "execution_count": 52,
     "metadata": {},
     "output_type": "execute_result"
    }
   ],
   "source": [
    "jkm_vector, before_sunrise_vector = als_model.user_factors[jkm], als_model.item_factors[before_sunrise]\n",
    "np.dot(jkm_vector, before_sunrise_vector)"
   ]
  },
  {
   "cell_type": "markdown",
   "id": "ce878b3f",
   "metadata": {},
   "source": [
    "역시나 factor 값을 올리니 스코어가 훨씬 높아졌다.  \n",
    "만족스러우므로 다른 영화도 확인해보자."
   ]
  },
  {
   "cell_type": "code",
   "execution_count": 53,
   "id": "6522ab4b",
   "metadata": {},
   "outputs": [
    {
     "data": {
      "text/plain": [
       "0.9777871"
      ]
     },
     "execution_count": 53,
     "metadata": {},
     "output_type": "execute_result"
    }
   ],
   "source": [
    "notting_hill = title_to_idx['notting hill (1999)']\n",
    "notting_hill_vector = als_model.item_factors[notting_hill]\n",
    "np.dot(jkm_vector, notting_hill_vector)"
   ]
  },
  {
   "cell_type": "code",
   "execution_count": 54,
   "id": "ba4d9ec0",
   "metadata": {},
   "outputs": [
    {
     "data": {
      "text/plain": [
       "0.99146086"
      ]
     },
     "execution_count": 54,
     "metadata": {},
     "output_type": "execute_result"
    }
   ],
   "source": [
    "speed = title_to_idx['speed (1994)']\n",
    "speed_vector = als_model.item_factors[speed]\n",
    "np.dot(jkm_vector, speed_vector)"
   ]
  },
  {
   "cell_type": "code",
   "execution_count": 55,
   "id": "fef4300a",
   "metadata": {},
   "outputs": [
    {
     "data": {
      "text/plain": [
       "0.9879666"
      ]
     },
     "execution_count": 55,
     "metadata": {},
     "output_type": "execute_result"
    }
   ],
   "source": [
    "truman_show = title_to_idx['truman show, the (1998)']\n",
    "truman_show_vector = als_model.item_factors[truman_show]\n",
    "np.dot(jkm_vector, truman_show_vector)"
   ]
  },
  {
   "cell_type": "code",
   "execution_count": 56,
   "id": "a6d45d06",
   "metadata": {},
   "outputs": [
    {
     "data": {
      "text/plain": [
       "0.99452615"
      ]
     },
     "execution_count": 56,
     "metadata": {},
     "output_type": "execute_result"
    }
   ],
   "source": [
    "forrest_gump = title_to_idx['forrest gump (1994)']\n",
    "forrest_gump_vector = als_model.item_factors[forrest_gump]\n",
    "np.dot(jkm_vector, forrest_gump_vector)"
   ]
  },
  {
   "cell_type": "markdown",
   "id": "0a7d22e6",
   "metadata": {},
   "source": [
    "스코어가 너무 높게 나오는것을 보니 불안하다.  \n",
    "overfitting인가...??  \n",
    "일단 평점을 주지 않은 다른 영화에 대해 스코어를 확인해보자!"
   ]
  },
  {
   "cell_type": "code",
   "execution_count": 57,
   "id": "7ddd7161",
   "metadata": {},
   "outputs": [
    {
     "data": {
      "text/plain": [
       "0.0028973932"
      ]
     },
     "execution_count": 57,
     "metadata": {},
     "output_type": "execute_result"
    }
   ],
   "source": [
    "toy_story = title_to_idx['toy story (1995)']\n",
    "toy_story_vector = als_model.item_factors[toy_story]\n",
    "np.dot(jkm_vector, toy_story_vector)"
   ]
  },
  {
   "cell_type": "code",
   "execution_count": 58,
   "id": "cb843546",
   "metadata": {},
   "outputs": [
    {
     "data": {
      "text/plain": [
       "-0.0047357483"
      ]
     },
     "execution_count": 58,
     "metadata": {},
     "output_type": "execute_result"
    }
   ],
   "source": [
    "american_beauty = title_to_idx['american beauty (1999)']\n",
    "american_beauty_vector = als_model.item_factors[american_beauty]\n",
    "np.dot(jkm_vector, american_beauty_vector)"
   ]
  },
  {
   "cell_type": "markdown",
   "id": "01b42b70",
   "metadata": {},
   "source": [
    "스코어가 터무니없이 낮게 나온것을 보니 학습이 제대로 된 것 같지 않다."
   ]
  },
  {
   "cell_type": "code",
   "execution_count": 59,
   "id": "ee45e39f",
   "metadata": {},
   "outputs": [
    {
     "data": {
      "application/vnd.jupyter.widget-view+json": {
       "model_id": "e6b4122e10ec455f98e91c52a6340e6b",
       "version_major": 2,
       "version_minor": 0
      },
      "text/plain": [
       "  0%|          | 0/15 [00:00<?, ?it/s]"
      ]
     },
     "metadata": {},
     "output_type": "display_data"
    }
   ],
   "source": [
    "# Implicit AlternatingLeastSquares 모델의 선언\n",
    "als_model_0 = AlternatingLeastSquares(factors=1000, regularization=0.01, use_gpu=False, iterations=15, dtype=np.float32)\n",
    "\n",
    "# 모델 훈련\n",
    "als_model_0.fit(csr_data_transpose)"
   ]
  },
  {
   "cell_type": "code",
   "execution_count": 60,
   "id": "badc8287",
   "metadata": {},
   "outputs": [
    {
     "data": {
      "text/plain": [
       "0.7139281"
      ]
     },
     "execution_count": 60,
     "metadata": {},
     "output_type": "execute_result"
    }
   ],
   "source": [
    "jkm_vector_0, before_sunrise_vector_0 = als_model_0.user_factors[jkm], als_model_0.item_factors[before_sunrise]\n",
    "np.dot(jkm_vector_0, before_sunrise_vector_0)"
   ]
  },
  {
   "cell_type": "code",
   "execution_count": 61,
   "id": "4f8b761a",
   "metadata": {},
   "outputs": [
    {
     "data": {
      "text/plain": [
       "0.009165236"
      ]
     },
     "execution_count": 61,
     "metadata": {},
     "output_type": "execute_result"
    }
   ],
   "source": [
    "toy_story_vector_0 = als_model_0.item_factors[toy_story]\n",
    "np.dot(jkm_vector_0, toy_story_vector_0)"
   ]
  },
  {
   "cell_type": "markdown",
   "id": "63838b27",
   "metadata": {},
   "source": [
    "일단 영화 추천 받아보자!"
   ]
  },
  {
   "cell_type": "markdown",
   "id": "9ac2226c",
   "metadata": {},
   "source": [
    "# 7) 내가 좋아하는 영화와 비슷한 영화를 추천받아 봅시다."
   ]
  },
  {
   "cell_type": "code",
   "execution_count": 62,
   "id": "224b15cf",
   "metadata": {},
   "outputs": [
    {
     "data": {
      "text/plain": [
       "[(213, 0.99999976),\n",
       " (3609, 0.59217805),\n",
       " (3455, 0.5889652),\n",
       " (3454, 0.5878187),\n",
       " (3324, 0.5874258),\n",
       " (2371, 0.5865199),\n",
       " (3477, 0.58556956),\n",
       " (3567, 0.58525395),\n",
       " (3489, 0.5850325),\n",
       " (3606, 0.58499295)]"
      ]
     },
     "execution_count": 62,
     "metadata": {},
     "output_type": "execute_result"
    }
   ],
   "source": [
    "favorite_title = 'before sunrise (1995)'\n",
    "title_id = title_to_idx[favorite_title]\n",
    "similar_title = als_model.similar_items(title_id, N=10)\n",
    "similar_title"
   ]
  },
  {
   "cell_type": "code",
   "execution_count": 63,
   "id": "c91cf36d",
   "metadata": {},
   "outputs": [
    {
     "data": {
      "text/plain": [
       "['before sunrise (1995)',\n",
       " '24-hour woman (1998)',\n",
       " 'sunset park (1996)',\n",
       " 'blood and sand (sangre y arena) (1989)',\n",
       " 'race the sun (1996)',\n",
       " 'gate of heavenly peace, the (1995)',\n",
       " 'joyriders, the (1999)',\n",
       " 'bye-bye (1995)',\n",
       " 'angela (1995)',\n",
       " 'truce, the (1996)']"
      ]
     },
     "execution_count": 63,
     "metadata": {},
     "output_type": "execute_result"
    }
   ],
   "source": [
    "#title_to_idx 를 뒤집어, index로부터 title 이름을 얻는 dict를 생성합니다. \n",
    "idx_to_title = {v:k for k,v in title_to_idx.items()}\n",
    "[idx_to_title[i[0]] for i in similar_title]"
   ]
  },
  {
   "cell_type": "code",
   "execution_count": 64,
   "id": "05a6c032",
   "metadata": {},
   "outputs": [],
   "source": [
    "def get_similar_title(title_name: str):\n",
    "    title_id = title_to_idx[title_name]\n",
    "    similar_title = als_model.similar_items(title_id)\n",
    "    similar_title = [idx_to_title[i[0]] for i in similar_title]\n",
    "    return similar_title"
   ]
  },
  {
   "cell_type": "code",
   "execution_count": 66,
   "id": "5d3ae0ba",
   "metadata": {},
   "outputs": [
    {
     "data": {
      "text/plain": [
       "['notting hill (1999)',\n",
       " 'woo (1998)',\n",
       " 'five wives, three secretaries and me (1998)',\n",
       " 'snows of kilimanjaro, the (1952)',\n",
       " 'an unforgettable summer (1994)',\n",
       " 'master ninja i (1984)',\n",
       " 'i, worst of all (yo, la peor de todas) (1990)',\n",
       " 'mascara (1999)',\n",
       " 'bittersweet motel (2000)',\n",
       " 'late bloomers (1996)']"
      ]
     },
     "execution_count": 66,
     "metadata": {},
     "output_type": "execute_result"
    }
   ],
   "source": [
    "get_similar_title('notting hill (1999)')"
   ]
  },
  {
   "cell_type": "markdown",
   "id": "3100bf75",
   "metadata": {},
   "source": [
    "# 8) 내가 가장 좋아할 만한 영화들을 추천받아 봅시다."
   ]
  },
  {
   "cell_type": "code",
   "execution_count": 67,
   "id": "c1b07fc3",
   "metadata": {},
   "outputs": [
    {
     "data": {
      "text/plain": [
       "[(319, 0.06325967),\n",
       " (2759, 0.05742381),\n",
       " (2726, 0.05689116),\n",
       " (241, 0.055702254),\n",
       " (2136, 0.054745235),\n",
       " (1228, 0.051868934),\n",
       " (2887, 0.051728215),\n",
       " (1561, 0.051348887),\n",
       " (2317, 0.050847962),\n",
       " (1967, 0.050710276),\n",
       " (2692, 0.05004067),\n",
       " (1464, 0.04965952),\n",
       " (439, 0.04832155),\n",
       " (296, 0.04775565),\n",
       " (309, 0.04739391),\n",
       " (2573, 0.046833813),\n",
       " (894, 0.046723098),\n",
       " (2269, 0.04672057),\n",
       " (2372, 0.046190266),\n",
       " (2702, 0.045143872)]"
      ]
     },
     "execution_count": 67,
     "metadata": {},
     "output_type": "execute_result"
    }
   ],
   "source": [
    "user = user_to_idx['jkm']\n",
    "# recommend에서는 user*item CSR Matrix를 받습니다.\n",
    "title_recommended = als_model.recommend(user, csr_data, N=20, filter_already_liked_items=True)\n",
    "title_recommended"
   ]
  },
  {
   "cell_type": "code",
   "execution_count": 68,
   "id": "57cdaee0",
   "metadata": {},
   "outputs": [
    {
     "data": {
      "text/plain": [
       "['high art (1998)',\n",
       " 'indian summer (a.k.a. alive & kicking) (1996)',\n",
       " 'daytrippers, the (1996)',\n",
       " 'pillow book, the (1995)',\n",
       " 'song of the south (1946)',\n",
       " 'it could happen to you (1994)',\n",
       " 'guinevere (1999)',\n",
       " 'object of my affection, the (1998)',\n",
       " 'burnt by the sun (utomlyonnye solntsem) (1994)',\n",
       " 'bloodsport (1988)',\n",
       " 'amateur (1994)',\n",
       " 'home fries (1998)',\n",
       " 'my crazy life (mi vida loca) (1993)',\n",
       " 'afterglow (1997)',\n",
       " 'cruise, the (1998)',\n",
       " 'van, the (1996)',\n",
       " 'laura (1944)',\n",
       " \"young poisoner's handbook, the (1995)\",\n",
       " '42 up (1998)',\n",
       " 'breakfast of champions (1999)']"
      ]
     },
     "execution_count": 68,
     "metadata": {},
     "output_type": "execute_result"
    }
   ],
   "source": [
    "[idx_to_title[i[0]] for i in title_recommended]"
   ]
  },
  {
   "cell_type": "markdown",
   "id": "903ddd75",
   "metadata": {},
   "source": [
    "값이 너무 낮은걸 보니 문제가 있다.  \n",
    "factor를 낮추고 epoch을 늘려보자."
   ]
  },
  {
   "cell_type": "code",
   "execution_count": 69,
   "id": "47c7646d",
   "metadata": {},
   "outputs": [
    {
     "data": {
      "application/vnd.jupyter.widget-view+json": {
       "model_id": "e3210cf3be4044db8da7ce506b197a80",
       "version_major": 2,
       "version_minor": 0
      },
      "text/plain": [
       "  0%|          | 0/100 [00:00<?, ?it/s]"
      ]
     },
     "metadata": {},
     "output_type": "display_data"
    }
   ],
   "source": [
    "# Implicit AlternatingLeastSquares 모델의 선언\n",
    "als_model_1 = AlternatingLeastSquares(factors=500, regularization=0.01, use_gpu=False, iterations=100, dtype=np.float32)\n",
    "\n",
    "# 모델 훈련\n",
    "als_model_1.fit(csr_data_transpose)"
   ]
  },
  {
   "cell_type": "code",
   "execution_count": 70,
   "id": "531e637a",
   "metadata": {},
   "outputs": [
    {
     "data": {
      "text/plain": [
       "0.46240532"
      ]
     },
     "execution_count": 70,
     "metadata": {},
     "output_type": "execute_result"
    }
   ],
   "source": [
    "jkm_vector, before_sunrise_vector = als_model_1.user_factors[jkm], als_model_1.item_factors[before_sunrise]\n",
    "np.dot(jkm_vector, before_sunrise_vector)"
   ]
  },
  {
   "cell_type": "code",
   "execution_count": 96,
   "id": "235dfe01",
   "metadata": {},
   "outputs": [],
   "source": [
    "def get_similar_title_1(title_name: str):\n",
    "    title_id = title_to_idx[title_name]\n",
    "    similar_title = als_model_1.similar_items(title_id)\n",
    "    similar_title = [[idx_to_title[i[0]], \"score: \"+ str(i[1])] for i in similar_title]\n",
    "    return similar_title"
   ]
  },
  {
   "cell_type": "code",
   "execution_count": 97,
   "id": "41b95910",
   "metadata": {},
   "outputs": [
    {
     "data": {
      "text/plain": [
       "[['before sunrise (1995)', 'score: 1.0'],\n",
       " ['sunset park (1996)', 'score: 0.45140925'],\n",
       " ['blood and sand (sangre y arena) (1989)', 'score: 0.45066008'],\n",
       " ['24-hour woman (1998)', 'score: 0.44889316'],\n",
       " ['truce, the (1996)', 'score: 0.4439045'],\n",
       " ['joyriders, the (1999)', 'score: 0.43962327'],\n",
       " ['naked in new york (1994)', 'score: 0.43924743'],\n",
       " ['1-900 (1994)', 'score: 0.43726677'],\n",
       " ['301, 302 (1995)', 'score: 0.43724307'],\n",
       " ['horror hotel (a.k.a. the city of the dead) (1960)', 'score: 0.43626896']]"
      ]
     },
     "execution_count": 97,
     "metadata": {},
     "output_type": "execute_result"
    }
   ],
   "source": [
    "get_similar_title_1('before sunrise (1995)')"
   ]
  },
  {
   "cell_type": "code",
   "execution_count": 100,
   "id": "169d5c7d",
   "metadata": {},
   "outputs": [
    {
     "data": {
      "text/plain": [
       "[['enemy of the state (1998)', 'score: 0.18063974'],\n",
       " ['ghost (1990)', 'score: 0.14897114'],\n",
       " ['payback (1999)', 'score: 0.14731687'],\n",
       " ['die hard (1988)', 'score: 0.14299801'],\n",
       " ['four weddings and a funeral (1994)', 'score: 0.12997118'],\n",
       " ['101 dalmatians (1961)', 'score: 0.12879157'],\n",
       " ['cider house rules, the (1999)', 'score: 0.1282058'],\n",
       " ['daytrippers, the (1996)', 'score: 0.12531233'],\n",
       " ['man in the iron mask, the (1998)', 'score: 0.12234634'],\n",
       " ['october sky (1999)', 'score: 0.11957215'],\n",
       " ['wag the dog (1997)', 'score: 0.11930028'],\n",
       " ['sliding doors (1998)', 'score: 0.11486637'],\n",
       " ['piano, the (1993)', 'score: 0.11223497'],\n",
       " ['runaway bride (1999)', 'score: 0.11180338'],\n",
       " ['little women (1994)', 'score: 0.11028056'],\n",
       " ['fried green tomatoes (1991)', 'score: 0.10944751'],\n",
       " ['brady bunch movie, the (1995)', 'score: 0.106386386'],\n",
       " ['do the right thing (1989)', 'score: 0.10635714'],\n",
       " ['pretty woman (1990)', 'score: 0.10566403'],\n",
       " ['johnny mnemonic (1995)', 'score: 0.104895286']]"
      ]
     },
     "execution_count": 100,
     "metadata": {},
     "output_type": "execute_result"
    }
   ],
   "source": [
    "title_recommended_1 = als_model_1.recommend(user, csr_data, N=20, filter_already_liked_items=True)\n",
    "[[idx_to_title[i[0]], 'score: '+ str(i[1])] for i in title_recommended_1]"
   ]
  },
  {
   "cell_type": "markdown",
   "id": "b60fee14",
   "metadata": {},
   "source": [
    "그래도 스코어가 너무 낮다....학습을 다시 한 번 해보자"
   ]
  },
  {
   "cell_type": "code",
   "execution_count": 101,
   "id": "bb264e67",
   "metadata": {},
   "outputs": [
    {
     "data": {
      "application/vnd.jupyter.widget-view+json": {
       "model_id": "2e6f84015d14419b99a1018ae78ab265",
       "version_major": 2,
       "version_minor": 0
      },
      "text/plain": [
       "  0%|          | 0/200 [00:00<?, ?it/s]"
      ]
     },
     "metadata": {},
     "output_type": "display_data"
    }
   ],
   "source": [
    "# Implicit AlternatingLeastSquares 모델의 선언\n",
    "als_model_2 = AlternatingLeastSquares(factors=300, regularization=0.01, use_gpu=False, iterations=200, dtype=np.float32)\n",
    "\n",
    "# 모델 훈련\n",
    "als_model_2.fit(csr_data_transpose)"
   ]
  },
  {
   "cell_type": "code",
   "execution_count": 102,
   "id": "a9236598",
   "metadata": {},
   "outputs": [
    {
     "data": {
      "text/plain": [
       "0.3328108"
      ]
     },
     "execution_count": 102,
     "metadata": {},
     "output_type": "execute_result"
    }
   ],
   "source": [
    "jkm_vector, before_sunrise_vector = als_model_2.user_factors[jkm], als_model_2.item_factors[before_sunrise]\n",
    "np.dot(jkm_vector, before_sunrise_vector)"
   ]
  },
  {
   "cell_type": "code",
   "execution_count": 103,
   "id": "8c450973",
   "metadata": {},
   "outputs": [],
   "source": [
    "def get_similar_title_2(title_name: str):\n",
    "    title_id = title_to_idx[title_name]\n",
    "    similar_title = als_model_2.similar_items(title_id)\n",
    "    similar_title = [[idx_to_title[i[0]], \"score: \"+ str(i[1])] for i in similar_title]\n",
    "    return similar_title"
   ]
  },
  {
   "cell_type": "code",
   "execution_count": 104,
   "id": "d5a2b58f",
   "metadata": {},
   "outputs": [
    {
     "data": {
      "text/plain": [
       "[['before sunrise (1995)', 'score: 1.0'],\n",
       " ['heavy (1995)', 'score: 0.40456784'],\n",
       " ['pillow book, the (1995)', 'score: 0.38540584'],\n",
       " ['guinevere (1999)', 'score: 0.35095745'],\n",
       " ['amateur (1994)', 'score: 0.35077566'],\n",
       " ['whole wide world, the (1996)', 'score: 0.34817305'],\n",
       " ['bitter moon (1992)', 'score: 0.34675047'],\n",
       " ['naked in new york (1994)', 'score: 0.33168024'],\n",
       " ['career girls (1997)', 'score: 0.3273006'],\n",
       " ['leading man, the (1996)', 'score: 0.32708752']]"
      ]
     },
     "execution_count": 104,
     "metadata": {},
     "output_type": "execute_result"
    }
   ],
   "source": [
    "get_similar_title_2('before sunrise (1995)')"
   ]
  },
  {
   "cell_type": "code",
   "execution_count": 105,
   "id": "e817e9ea",
   "metadata": {},
   "outputs": [
    {
     "data": {
      "text/plain": [
       "[['pretty woman (1990)', 'score: 0.24704778'],\n",
       " ['sliding doors (1998)', 'score: 0.23318802'],\n",
       " ['jerry maguire (1996)', 'score: 0.20774767'],\n",
       " ['october sky (1999)', 'score: 0.19897364'],\n",
       " ['ghost (1990)', 'score: 0.19265862'],\n",
       " ['four weddings and a funeral (1994)', 'score: 0.18301342'],\n",
       " ['enemy of the state (1998)', 'score: 0.16463971'],\n",
       " ['mask, the (1994)', 'score: 0.16135544'],\n",
       " ['apollo 13 (1995)', 'score: 0.15650007'],\n",
       " ['star wars: episode iv - a new hope (1977)', 'score: 0.15482706'],\n",
       " ['runaway bride (1999)', 'score: 0.1546706'],\n",
       " ['twister (1996)', 'score: 0.15181325'],\n",
       " ['boat, the (das boot) (1981)', 'score: 0.15159811'],\n",
       " ['spartacus (1960)', 'score: 0.14044496'],\n",
       " ['piano, the (1993)', 'score: 0.13891043'],\n",
       " ['back to the future (1985)', 'score: 0.13865188'],\n",
       " ['while you were sleeping (1995)', 'score: 0.13499326'],\n",
       " ['me, myself and irene (2000)', 'score: 0.13329956'],\n",
       " ['shadowlands (1993)', 'score: 0.13229819'],\n",
       " ['strangers on a train (1951)', 'score: 0.13202818']]"
      ]
     },
     "execution_count": 105,
     "metadata": {},
     "output_type": "execute_result"
    }
   ],
   "source": [
    "title_recommended_2 = als_model_2.recommend(user, csr_data, N=20, filter_already_liked_items=True)\n",
    "[[idx_to_title[i[0]], 'score: '+ str(i[1])] for i in title_recommended_2]"
   ]
  },
  {
   "cell_type": "markdown",
   "id": "6f3fb351",
   "metadata": {},
   "source": [
    "선호하는 영화로 로맨스 영화를 많이 넣었는데, 스코어는 낮지만 추천 영화로 로맨스 영화들이 상위권에 위치했다.  \n",
    "학습이 잘 된 것으로 보인다."
   ]
  },
  {
   "cell_type": "markdown",
   "id": "edb62269",
   "metadata": {},
   "source": [
    "---"
   ]
  },
  {
   "cell_type": "markdown",
   "id": "aec6be30",
   "metadata": {},
   "source": [
    "# 회고"
   ]
  },
  {
   "cell_type": "markdown",
   "id": "d5f46ff9",
   "metadata": {},
   "source": [
    "* 해당 프로젝트를 나중에 진행하다보니 MF와 CSR을 접한 것이 이번 노드인지 그 전인지 잘 생각이 나지 않는다.  \n",
    "행렬 연산을 통해 서로의 연관성을 찾아 스코어를 나열하여 맞춤 상품을 추천하는 시스템을 구성해보니, 생각보다 잘 동작했다.  \n",
    "또한, factor가 커질수록 행렬 자체가 매우 커지기에 학습에 적합하지 않게 되는데 이 때 CSR을 이용하니 크기도 작아지고 훨씬 효율적으로 동작했다."
   ]
  },
  {
   "cell_type": "markdown",
   "id": "114ef501",
   "metadata": {},
   "source": [
    "* 이렇게 데이터를 다루는 프로젝트를 여러번 진행해왔는데 그때마다 느끼는 것은 데이터를 분석하고 정제하는 과정이 정말 중요하다는 것이다.  \n",
    "정말 중요한 과정이면서도 정말 어려운 과정이기에 데이터를 다루는 연습이 필요해보인다.  \n",
    "데이터톤에서 제대로 연습이 될 것 같다."
   ]
  }
 ],
 "metadata": {
  "kernelspec": {
   "display_name": "Python 3 (ipykernel)",
   "language": "python",
   "name": "python3"
  },
  "language_info": {
   "codemirror_mode": {
    "name": "ipython",
    "version": 3
   },
   "file_extension": ".py",
   "mimetype": "text/x-python",
   "name": "python",
   "nbconvert_exporter": "python",
   "pygments_lexer": "ipython3",
   "version": "3.9.7"
  }
 },
 "nbformat": 4,
 "nbformat_minor": 5
}
