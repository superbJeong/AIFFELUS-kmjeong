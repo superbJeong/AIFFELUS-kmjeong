{
 "cells": [
  {
   "cell_type": "markdown",
   "id": "27b6de7c",
   "metadata": {},
   "source": [
    "# 노드 따라하기!! (프로젝트는 아래쪽에!)"
   ]
  },
  {
   "cell_type": "code",
   "execution_count": 16,
   "id": "8aa42808",
   "metadata": {},
   "outputs": [
    {
     "name": "stdout",
     "output_type": "stream",
     "text": [
      "['i', 'feel', 'hungry']\n"
     ]
    }
   ],
   "source": [
    "sentences = ['i feel hungry', 'i eat lunch', 'now i feel happy']\n",
    "\n",
    "word_list = 'i feel hungry'.split()\n",
    "print(word_list)"
   ]
  },
  {
   "cell_type": "code",
   "execution_count": 17,
   "id": "dc26edf6",
   "metadata": {},
   "outputs": [
    {
     "name": "stdout",
     "output_type": "stream",
     "text": [
      "{0: '<PAD>', 1: '<BOS>', 2: '<UNK>', 3: 'i', 4: 'feel', 5: 'hungry', 6: 'eat', 7: 'lunch', 8: 'now', 9: 'happy'}\n"
     ]
    }
   ],
   "source": [
    "index_to_word = {}\n",
    "\n",
    "index_to_word[0] = '<PAD>'\n",
    "index_to_word[1] = '<BOS>'\n",
    "index_to_word[2] = '<UNK>'\n",
    "index_to_word[3] = 'i'\n",
    "index_to_word[4] = 'feel'\n",
    "index_to_word[5] = 'hungry'\n",
    "index_to_word[6] = 'eat'\n",
    "index_to_word[7] = 'lunch'\n",
    "index_to_word[8] = 'now'\n",
    "index_to_word[9] = 'happy'\n",
    "\n",
    "print(index_to_word)"
   ]
  },
  {
   "cell_type": "code",
   "execution_count": 18,
   "id": "e44b6a5a",
   "metadata": {},
   "outputs": [
    {
     "name": "stdout",
     "output_type": "stream",
     "text": [
      "{'<PAD>': 0, '<BOS>': 1, '<UNK>': 2, 'i': 3, 'feel': 4, 'hungry': 5, 'eat': 6, 'lunch': 7, 'now': 8, 'happy': 9}\n"
     ]
    }
   ],
   "source": [
    "word_to_index = {word:index for index, word in index_to_word.items()}\n",
    "print(word_to_index)"
   ]
  },
  {
   "cell_type": "code",
   "execution_count": 19,
   "id": "fcff8116",
   "metadata": {},
   "outputs": [
    {
     "name": "stdout",
     "output_type": "stream",
     "text": [
      "4\n"
     ]
    }
   ],
   "source": [
    "print(word_to_index['feel'])"
   ]
  },
  {
   "cell_type": "code",
   "execution_count": 20,
   "id": "e73f5d44",
   "metadata": {},
   "outputs": [
    {
     "name": "stdout",
     "output_type": "stream",
     "text": [
      "[1, 3, 6, 7]\n"
     ]
    }
   ],
   "source": [
    "def get_encoded_sentence(sentence, word_to_index):\n",
    "    return [word_to_index['<BOS>']] + [word_to_index[word] if word in word_to_index else word_to_index['<UNK>'] for word in sentence.split()]\n",
    "\n",
    "print(get_encoded_sentence('i eat lunch', word_to_index))"
   ]
  },
  {
   "cell_type": "code",
   "execution_count": 21,
   "id": "bd3ece51",
   "metadata": {},
   "outputs": [
    {
     "name": "stdout",
     "output_type": "stream",
     "text": [
      "[[1, 3, 4, 5], [1, 3, 6, 7], [1, 8, 3, 4, 9]]\n"
     ]
    }
   ],
   "source": [
    "def get_encoded_sentences(sentences, word_to_index):\n",
    "    return [get_encoded_sentence(sentence, word_to_index) for sentence in sentences]\n",
    "\n",
    "encoded_sentences = get_encoded_sentences(sentences, word_to_index)\n",
    "print(encoded_sentences)"
   ]
  },
  {
   "cell_type": "code",
   "execution_count": 22,
   "id": "47c99acd",
   "metadata": {},
   "outputs": [
    {
     "name": "stdout",
     "output_type": "stream",
     "text": [
      "i feel hungry\n"
     ]
    }
   ],
   "source": [
    "def get_decoded_sentence(encoded_sentence, index_to_word):\n",
    "    return ' '.join(index_to_word[index] if index in index_to_word else '<UNK>' for index in encoded_sentence[1:])\n",
    "\n",
    "print(get_decoded_sentence([1, 3, 4, 5], index_to_word))"
   ]
  },
  {
   "cell_type": "code",
   "execution_count": 23,
   "id": "8508e91b",
   "metadata": {},
   "outputs": [
    {
     "name": "stdout",
     "output_type": "stream",
     "text": [
      "['i feel hungry', 'i eat lunch', 'now i feel happy']\n"
     ]
    }
   ],
   "source": [
    "def get_decoded_sentences(encoded_sentences, index_to_word):\n",
    "    return [get_decoded_sentence(encoded_sentence, index_to_word) for encoded_sentence in encoded_sentences]\n",
    "\n",
    "print(get_decoded_sentences(encoded_sentences, index_to_word))"
   ]
  },
  {
   "cell_type": "code",
   "execution_count": 25,
   "id": "3107aa7e",
   "metadata": {},
   "outputs": [
    {
     "name": "stdout",
     "output_type": "stream",
     "text": [
      "tf.Tensor(\n",
      "[[[-0.04473978  0.033767    0.031716    0.0356977 ]\n",
      "  [ 0.04800184 -0.01293838  0.04369137  0.03882836]\n",
      "  [ 0.00045777  0.04117789 -0.02848302 -0.01127741]\n",
      "  [ 0.02161782 -0.02938337  0.04670374  0.03789597]\n",
      "  [ 0.04983613  0.00269065 -0.01978065  0.03196811]]\n",
      "\n",
      " [[-0.04473978  0.033767    0.031716    0.0356977 ]\n",
      "  [ 0.04800184 -0.01293838  0.04369137  0.03882836]\n",
      "  [-0.03751893 -0.0097582   0.03523333  0.04517848]\n",
      "  [-0.02500234 -0.00887238  0.02023629  0.04723766]\n",
      "  [ 0.04983613  0.00269065 -0.01978065  0.03196811]]\n",
      "\n",
      " [[-0.04473978  0.033767    0.031716    0.0356977 ]\n",
      "  [ 0.01397545 -0.01816612 -0.00253273  0.04015949]\n",
      "  [ 0.04800184 -0.01293838  0.04369137  0.03882836]\n",
      "  [ 0.00045777  0.04117789 -0.02848302 -0.01127741]\n",
      "  [ 0.0405844  -0.02010299  0.00163462  0.04791028]]], shape=(3, 5, 4), dtype=float32)\n"
     ]
    }
   ],
   "source": [
    "import numpy as np\n",
    "import tensorflow as tf\n",
    "import os\n",
    "\n",
    "vocab_size = len(word_to_index)\n",
    "word_vector_dim = 4\n",
    "\n",
    "embedding = tf.keras.layers.Embedding(input_dim=vocab_size, output_dim=word_vector_dim, mask_zero=True)\n",
    "\n",
    "raw_inputs = np.array(get_encoded_sentences(sentences, word_to_index), dtype='object')\n",
    "raw_inputs = tf.keras.preprocessing.sequence.pad_sequences(raw_inputs, \n",
    "                                              value=word_to_index['<PAD>'],\n",
    "                                              padding='post',\n",
    "                                              maxlen=5)\n",
    "output = embedding(raw_inputs)\n",
    "print(output)"
   ]
  },
  {
   "cell_type": "code",
   "execution_count": 26,
   "id": "c10c7d37",
   "metadata": {},
   "outputs": [
    {
     "name": "stdout",
     "output_type": "stream",
     "text": [
      "Model: \"sequential\"\n",
      "_________________________________________________________________\n",
      "Layer (type)                 Output Shape              Param #   \n",
      "=================================================================\n",
      "embedding_5 (Embedding)      (None, None, 4)           40        \n",
      "_________________________________________________________________\n",
      "lstm (LSTM)                  (None, 8)                 416       \n",
      "_________________________________________________________________\n",
      "dense (Dense)                (None, 8)                 72        \n",
      "_________________________________________________________________\n",
      "dense_1 (Dense)              (None, 1)                 9         \n",
      "=================================================================\n",
      "Total params: 537\n",
      "Trainable params: 537\n",
      "Non-trainable params: 0\n",
      "_________________________________________________________________\n"
     ]
    }
   ],
   "source": [
    "vocab_size = 10  # 어휘 사전의 크기입니다(10개의 단어)\n",
    "word_vector_dim = 4  # 단어 하나를 표현하는 임베딩 벡터의 차원수입니다. \n",
    "\n",
    "model = tf.keras.Sequential()\n",
    "model.add(tf.keras.layers.Embedding(vocab_size, word_vector_dim, input_shape=(None,)))\n",
    "model.add(tf.keras.layers.LSTM(8))   # 가장 널리 쓰이는 RNN인 LSTM 레이어를 사용하였습니다. 이때 LSTM state 벡터의 차원수는 8로 하였습니다. (변경 가능)\n",
    "model.add(tf.keras.layers.Dense(8, activation='relu'))\n",
    "model.add(tf.keras.layers.Dense(1, activation='sigmoid'))  # 최종 출력은 긍정/부정을 나타내는 1dim 입니다.\n",
    "\n",
    "model.summary()"
   ]
  },
  {
   "cell_type": "code",
   "execution_count": 27,
   "id": "e65c60e0",
   "metadata": {},
   "outputs": [
    {
     "name": "stdout",
     "output_type": "stream",
     "text": [
      "Model: \"sequential_1\"\n",
      "_________________________________________________________________\n",
      "Layer (type)                 Output Shape              Param #   \n",
      "=================================================================\n",
      "embedding_6 (Embedding)      (None, None, 4)           40        \n",
      "_________________________________________________________________\n",
      "conv1d (Conv1D)              (None, None, 16)          464       \n",
      "_________________________________________________________________\n",
      "max_pooling1d (MaxPooling1D) (None, None, 16)          0         \n",
      "_________________________________________________________________\n",
      "conv1d_1 (Conv1D)            (None, None, 16)          1808      \n",
      "_________________________________________________________________\n",
      "global_max_pooling1d (Global (None, 16)                0         \n",
      "_________________________________________________________________\n",
      "dense_2 (Dense)              (None, 8)                 136       \n",
      "_________________________________________________________________\n",
      "dense_3 (Dense)              (None, 1)                 9         \n",
      "=================================================================\n",
      "Total params: 2,457\n",
      "Trainable params: 2,457\n",
      "Non-trainable params: 0\n",
      "_________________________________________________________________\n"
     ]
    }
   ],
   "source": [
    "vocab_size = 10  # 어휘 사전의 크기입니다(10개의 단어)\n",
    "word_vector_dim = 4   # 단어 하나를 표현하는 임베딩 벡터의 차원 수입니다. \n",
    "\n",
    "model = tf.keras.Sequential()\n",
    "model.add(tf.keras.layers.Embedding(vocab_size, word_vector_dim, input_shape=(None,)))\n",
    "model.add(tf.keras.layers.Conv1D(16, 7, activation='relu'))\n",
    "model.add(tf.keras.layers.MaxPooling1D(5))\n",
    "model.add(tf.keras.layers.Conv1D(16, 7, activation='relu'))\n",
    "model.add(tf.keras.layers.GlobalMaxPooling1D())\n",
    "model.add(tf.keras.layers.Dense(8, activation='relu'))\n",
    "model.add(tf.keras.layers.Dense(1, activation='sigmoid'))  # 최종 출력은 긍정/부정을 나타내는 1dim 입니다.\n",
    "\n",
    "model.summary()"
   ]
  },
  {
   "cell_type": "code",
   "execution_count": 28,
   "id": "1d709be2",
   "metadata": {},
   "outputs": [
    {
     "name": "stdout",
     "output_type": "stream",
     "text": [
      "Model: \"sequential_2\"\n",
      "_________________________________________________________________\n",
      "Layer (type)                 Output Shape              Param #   \n",
      "=================================================================\n",
      "embedding_7 (Embedding)      (None, None, 4)           40        \n",
      "_________________________________________________________________\n",
      "global_max_pooling1d_1 (Glob (None, 4)                 0         \n",
      "_________________________________________________________________\n",
      "dense_4 (Dense)              (None, 8)                 40        \n",
      "_________________________________________________________________\n",
      "dense_5 (Dense)              (None, 1)                 9         \n",
      "=================================================================\n",
      "Total params: 89\n",
      "Trainable params: 89\n",
      "Non-trainable params: 0\n",
      "_________________________________________________________________\n"
     ]
    }
   ],
   "source": [
    "vocab_size = 10  # 어휘 사전의 크기입니다(10개의 단어)\n",
    "word_vector_dim = 4   # 단어 하나를 표현하는 임베딩 벡터의 차원 수입니다. \n",
    "\n",
    "model = tf.keras.Sequential()\n",
    "model.add(tf.keras.layers.Embedding(vocab_size, word_vector_dim, input_shape=(None,)))\n",
    "model.add(tf.keras.layers.GlobalMaxPooling1D())\n",
    "model.add(tf.keras.layers.Dense(8, activation='relu'))\n",
    "model.add(tf.keras.layers.Dense(1, activation='sigmoid'))  # 최종 출력은 긍정/부정을 나타내는 1dim 입니다.\n",
    "\n",
    "model.summary()"
   ]
  },
  {
   "cell_type": "code",
   "execution_count": 29,
   "id": "307ea00e",
   "metadata": {},
   "outputs": [
    {
     "name": "stdout",
     "output_type": "stream",
     "text": [
      "Downloading data from https://storage.googleapis.com/tensorflow/tf-keras-datasets/imdb.npz\n",
      "17465344/17464789 [==============================] - 0s 0us/step\n",
      "17473536/17464789 [==============================] - 0s 0us/step\n",
      "훈련 샘플 개수: 25000, 테스트 개수: 25000\n"
     ]
    }
   ],
   "source": [
    "imdb = tf.keras.datasets.imdb\n",
    "\n",
    "# IMDb 데이터셋 다운로드 \n",
    "(x_train, y_train), (x_test, y_test) = imdb.load_data(num_words=10000)\n",
    "print(\"훈련 샘플 개수: {}, 테스트 개수: {}\".format(len(x_train), len(x_test)))"
   ]
  },
  {
   "cell_type": "code",
   "execution_count": 30,
   "id": "6bf2ea54",
   "metadata": {},
   "outputs": [
    {
     "name": "stdout",
     "output_type": "stream",
     "text": [
      "[1, 14, 22, 16, 43, 530, 973, 1622, 1385, 65, 458, 4468, 66, 3941, 4, 173, 36, 256, 5, 25, 100, 43, 838, 112, 50, 670, 2, 9, 35, 480, 284, 5, 150, 4, 172, 112, 167, 2, 336, 385, 39, 4, 172, 4536, 1111, 17, 546, 38, 13, 447, 4, 192, 50, 16, 6, 147, 2025, 19, 14, 22, 4, 1920, 4613, 469, 4, 22, 71, 87, 12, 16, 43, 530, 38, 76, 15, 13, 1247, 4, 22, 17, 515, 17, 12, 16, 626, 18, 2, 5, 62, 386, 12, 8, 316, 8, 106, 5, 4, 2223, 5244, 16, 480, 66, 3785, 33, 4, 130, 12, 16, 38, 619, 5, 25, 124, 51, 36, 135, 48, 25, 1415, 33, 6, 22, 12, 215, 28, 77, 52, 5, 14, 407, 16, 82, 2, 8, 4, 107, 117, 5952, 15, 256, 4, 2, 7, 3766, 5, 723, 36, 71, 43, 530, 476, 26, 400, 317, 46, 7, 4, 2, 1029, 13, 104, 88, 4, 381, 15, 297, 98, 32, 2071, 56, 26, 141, 6, 194, 7486, 18, 4, 226, 22, 21, 134, 476, 26, 480, 5, 144, 30, 5535, 18, 51, 36, 28, 224, 92, 25, 104, 4, 226, 65, 16, 38, 1334, 88, 12, 16, 283, 5, 16, 4472, 113, 103, 32, 15, 16, 5345, 19, 178, 32]\n",
      "라벨:  1\n",
      "1번째 리뷰 문장 길이:  218\n",
      "2번째 리뷰 문장 길이:  189\n"
     ]
    }
   ],
   "source": [
    "print(x_train[0])  # 1번째 리뷰데이터\n",
    "print('라벨: ', y_train[0])  # 1번째 리뷰데이터의 라벨\n",
    "print('1번째 리뷰 문장 길이: ', len(x_train[0]))\n",
    "print('2번째 리뷰 문장 길이: ', len(x_train[1]))"
   ]
  },
  {
   "cell_type": "code",
   "execution_count": 31,
   "id": "f5c84b7a",
   "metadata": {},
   "outputs": [
    {
     "name": "stdout",
     "output_type": "stream",
     "text": [
      "Downloading data from https://storage.googleapis.com/tensorflow/tf-keras-datasets/imdb_word_index.json\n",
      "1646592/1641221 [==============================] - 0s 0us/step\n",
      "1654784/1641221 [==============================] - 0s 0us/step\n",
      "the\n",
      "1\n"
     ]
    }
   ],
   "source": [
    "word_to_index = imdb.get_word_index()\n",
    "index_to_word = {index:word for word, index in word_to_index.items()}\n",
    "print(index_to_word[1])     # 'the' 가 출력됩니다. \n",
    "print(word_to_index['the'])  # 1 이 출력됩니다."
   ]
  },
  {
   "cell_type": "code",
   "execution_count": 32,
   "id": "8c5f89ee",
   "metadata": {},
   "outputs": [
    {
     "name": "stdout",
     "output_type": "stream",
     "text": [
      "<BOS>\n",
      "4\n",
      "the\n"
     ]
    }
   ],
   "source": [
    "#실제 인코딩 인덱스는 제공된 word_to_index에서 index 기준으로 3씩 뒤로 밀려 있습니다.  \n",
    "word_to_index = {k:(v+3) for k,v in word_to_index.items()}\n",
    "\n",
    "# 처음 몇 개 인덱스는 사전에 정의되어 있습니다\n",
    "word_to_index[\"<PAD>\"] = 0\n",
    "word_to_index[\"<BOS>\"] = 1\n",
    "word_to_index[\"<UNK>\"] = 2  # unknown\n",
    "word_to_index[\"<UNUSED>\"] = 3\n",
    "\n",
    "index_to_word = {index:word for word, index in word_to_index.items()}\n",
    "\n",
    "print(index_to_word[1])     # '<BOS>' 가 출력됩니다. \n",
    "print(word_to_index['the'])  # 4 이 출력됩니다. \n",
    "print(index_to_word[4])     # 'the' 가 출력됩니다."
   ]
  },
  {
   "cell_type": "code",
   "execution_count": 33,
   "id": "e07667c9",
   "metadata": {},
   "outputs": [
    {
     "name": "stdout",
     "output_type": "stream",
     "text": [
      "this film was just brilliant casting location scenery story direction everyone's really suited the part they played and you could just imagine being there robert <UNK> is an amazing actor and now the same being director <UNK> father came from the same scottish island as myself so i loved the fact there was a real connection with this film the witty remarks throughout the film were great it was just brilliant so much that i bought the film as soon as it was released for <UNK> and would recommend it to everyone to watch and the fly fishing was amazing really cried at the end it was so sad and you know what they say if you cry at a film it must have been good and this definitely was also <UNK> to the two little boy's that played the <UNK> of norman and paul they were just brilliant children are often left out of the <UNK> list i think because the stars that play them all grown up are such a big profile for the whole film but these children are amazing and should be praised for what they have done don't you think the whole story was so lovely because it was true and was someone's life after all that was shared with us all\n",
      "라벨:  1\n"
     ]
    }
   ],
   "source": [
    "print(get_decoded_sentence(x_train[0], index_to_word))\n",
    "print('라벨: ', y_train[0])  # 1번째 리뷰데이터의 라벨"
   ]
  },
  {
   "cell_type": "code",
   "execution_count": 34,
   "id": "82c8ebe7",
   "metadata": {},
   "outputs": [
    {
     "name": "stdout",
     "output_type": "stream",
     "text": [
      "문장길이 평균 :  234.75892\n",
      "문장길이 최대 :  2494\n",
      "문장길이 표준편차 :  172.91149458735703\n",
      "pad_sequences maxlen :  580\n",
      "전체 문장의 0.94536%가 maxlen 설정값 이내에 포함됩니다. \n"
     ]
    }
   ],
   "source": [
    "total_data_text = list(x_train) + list(x_test)\n",
    "# 텍스트데이터 문장길이의 리스트를 생성한 후\n",
    "num_tokens = [len(tokens) for tokens in total_data_text]\n",
    "num_tokens = np.array(num_tokens)\n",
    "# 문장길이의 평균값, 최대값, 표준편차를 계산해 본다. \n",
    "print('문장길이 평균 : ', np.mean(num_tokens))\n",
    "print('문장길이 최대 : ', np.max(num_tokens))\n",
    "print('문장길이 표준편차 : ', np.std(num_tokens))\n",
    "\n",
    "# 예를들어, 최대 길이를 (평균 + 2*표준편차)로 한다면,  \n",
    "max_tokens = np.mean(num_tokens) + 2 * np.std(num_tokens)\n",
    "maxlen = int(max_tokens)\n",
    "print('pad_sequences maxlen : ', maxlen)\n",
    "print('전체 문장의 {}%가 maxlen 설정값 이내에 포함됩니다. '.format(np.sum(num_tokens < max_tokens) / len(num_tokens)))"
   ]
  },
  {
   "cell_type": "code",
   "execution_count": 35,
   "id": "ec87835e",
   "metadata": {},
   "outputs": [
    {
     "name": "stdout",
     "output_type": "stream",
     "text": [
      "(25000, 580)\n"
     ]
    }
   ],
   "source": [
    "x_train = tf.keras.preprocessing.sequence.pad_sequences(x_train,\n",
    "                                                        value=word_to_index[\"<PAD>\"],\n",
    "                                                        padding='post', # 혹은 'pre'\n",
    "                                                        maxlen=maxlen)\n",
    "\n",
    "x_test = tf.keras.preprocessing.sequence.pad_sequences(x_test,\n",
    "                                                       value=word_to_index[\"<PAD>\"],\n",
    "                                                       padding='post', # 혹은 'pre'\n",
    "                                                       maxlen=maxlen)\n",
    "\n",
    "print(x_train.shape)"
   ]
  },
  {
   "cell_type": "code",
   "execution_count": 36,
   "id": "c05dac70",
   "metadata": {},
   "outputs": [
    {
     "name": "stdout",
     "output_type": "stream",
     "text": [
      "Model: \"sequential_3\"\n",
      "_________________________________________________________________\n",
      "Layer (type)                 Output Shape              Param #   \n",
      "=================================================================\n",
      "embedding_8 (Embedding)      (None, None, 16)          160000    \n",
      "_________________________________________________________________\n",
      "lstm_1 (LSTM)                (None, 8)                 800       \n",
      "_________________________________________________________________\n",
      "dense_6 (Dense)              (None, 8)                 72        \n",
      "_________________________________________________________________\n",
      "dense_7 (Dense)              (None, 1)                 9         \n",
      "=================================================================\n",
      "Total params: 160,881\n",
      "Trainable params: 160,881\n",
      "Non-trainable params: 0\n",
      "_________________________________________________________________\n"
     ]
    }
   ],
   "source": [
    "vocab_size = 10000    # 어휘 사전의 크기입니다(10,000개의 단어)\n",
    "word_vector_dim = 16  # 워드 벡터의 차원 수 (변경 가능한 하이퍼파라미터)\n",
    "\n",
    "# model 설계 - 딥러닝 모델 코드를 직접 작성해 주세요.\n",
    "model = tf.keras.Sequential()\n",
    "# [[YOUR CODE]]\n",
    "model.add(tf.keras.layers.Embedding(vocab_size, word_vector_dim, input_shape=(None,)))\n",
    "model.add(tf.keras.layers.LSTM(8))   # 가장 널리 쓰이는 RNN인 LSTM 레이어를 사용하였습니다. 이때 LSTM state 벡터의 차원수는 8로 하였습니다. (변경 가능)\n",
    "model.add(tf.keras.layers.Dense(8, activation='relu'))\n",
    "model.add(tf.keras.layers.Dense(1, activation='sigmoid'))  # 최종 출력은 긍정/부정을 나타내는 1dim 입니다.\n",
    "\n",
    "model.summary()"
   ]
  },
  {
   "cell_type": "code",
   "execution_count": 37,
   "id": "def3542e",
   "metadata": {},
   "outputs": [
    {
     "name": "stdout",
     "output_type": "stream",
     "text": [
      "(15000, 580)\n",
      "(15000,)\n"
     ]
    }
   ],
   "source": [
    "# validation set 10000건 분리\n",
    "x_val = x_train[:10000]   \n",
    "y_val = y_train[:10000]\n",
    "\n",
    "# validation set을 제외한 나머지 15000건\n",
    "partial_x_train = x_train[10000:]  \n",
    "partial_y_train = y_train[10000:]\n",
    "\n",
    "print(partial_x_train.shape)\n",
    "print(partial_y_train.shape)"
   ]
  },
  {
   "cell_type": "code",
   "execution_count": 38,
   "id": "25073e90",
   "metadata": {},
   "outputs": [
    {
     "name": "stdout",
     "output_type": "stream",
     "text": [
      "Epoch 1/20\n",
      "30/30 [==============================] - 21s 47ms/step - loss: 0.6932 - accuracy: 0.5001 - val_loss: 0.6932 - val_accuracy: 0.4959\n",
      "Epoch 2/20\n",
      "30/30 [==============================] - 1s 32ms/step - loss: 0.6929 - accuracy: 0.5120 - val_loss: 0.6930 - val_accuracy: 0.5014\n",
      "Epoch 3/20\n",
      "30/30 [==============================] - 1s 30ms/step - loss: 0.6923 - accuracy: 0.5060 - val_loss: 0.6923 - val_accuracy: 0.5021\n",
      "Epoch 4/20\n",
      "30/30 [==============================] - 1s 29ms/step - loss: 0.6888 - accuracy: 0.5184 - val_loss: 0.6890 - val_accuracy: 0.5118\n",
      "Epoch 5/20\n",
      "30/30 [==============================] - 1s 30ms/step - loss: 0.6819 - accuracy: 0.5445 - val_loss: 0.6879 - val_accuracy: 0.5119\n",
      "Epoch 6/20\n",
      "30/30 [==============================] - 1s 30ms/step - loss: 0.6807 - accuracy: 0.5286 - val_loss: 0.6870 - val_accuracy: 0.5112\n",
      "Epoch 7/20\n",
      "30/30 [==============================] - 1s 30ms/step - loss: 0.6771 - accuracy: 0.5329 - val_loss: 0.6874 - val_accuracy: 0.5106\n",
      "Epoch 8/20\n",
      "30/30 [==============================] - 1s 29ms/step - loss: 0.6740 - accuracy: 0.5355 - val_loss: 0.6870 - val_accuracy: 0.5119\n",
      "Epoch 9/20\n",
      "30/30 [==============================] - 1s 29ms/step - loss: 0.6717 - accuracy: 0.5382 - val_loss: 0.6902 - val_accuracy: 0.5125\n",
      "Epoch 10/20\n",
      "30/30 [==============================] - 1s 29ms/step - loss: 0.6694 - accuracy: 0.5417 - val_loss: 0.6891 - val_accuracy: 0.5158\n",
      "Epoch 11/20\n",
      "30/30 [==============================] - 1s 30ms/step - loss: 0.6669 - accuracy: 0.5458 - val_loss: 0.6949 - val_accuracy: 0.5226\n",
      "Epoch 12/20\n",
      "30/30 [==============================] - 1s 30ms/step - loss: 0.6648 - accuracy: 0.5912 - val_loss: 0.6182 - val_accuracy: 0.7074\n",
      "Epoch 13/20\n",
      "30/30 [==============================] - 1s 30ms/step - loss: 0.6223 - accuracy: 0.6651 - val_loss: 1.0094 - val_accuracy: 0.6540\n",
      "Epoch 14/20\n",
      "30/30 [==============================] - 1s 30ms/step - loss: 0.9198 - accuracy: 0.6051 - val_loss: 0.7444 - val_accuracy: 0.6032\n",
      "Epoch 15/20\n",
      "30/30 [==============================] - 1s 30ms/step - loss: 0.6817 - accuracy: 0.6162 - val_loss: 0.6465 - val_accuracy: 0.6344\n",
      "Epoch 16/20\n",
      "30/30 [==============================] - 1s 30ms/step - loss: 0.6326 - accuracy: 0.6439 - val_loss: 0.6303 - val_accuracy: 0.6529\n",
      "Epoch 17/20\n",
      "30/30 [==============================] - 1s 30ms/step - loss: 0.6184 - accuracy: 0.6644 - val_loss: 0.6314 - val_accuracy: 0.6427\n",
      "Epoch 18/20\n",
      "30/30 [==============================] - 1s 30ms/step - loss: 0.6443 - accuracy: 0.6079 - val_loss: 0.6469 - val_accuracy: 0.6073\n",
      "Epoch 19/20\n",
      "30/30 [==============================] - 1s 30ms/step - loss: 0.6385 - accuracy: 0.6132 - val_loss: 0.6429 - val_accuracy: 0.6132\n",
      "Epoch 20/20\n",
      "30/30 [==============================] - 1s 30ms/step - loss: 0.6310 - accuracy: 0.6248 - val_loss: 0.6284 - val_accuracy: 0.6402\n"
     ]
    }
   ],
   "source": [
    "model.compile(optimizer='adam',\n",
    "              loss='binary_crossentropy',\n",
    "              metrics=['accuracy'])\n",
    "              \n",
    "epochs=20  # 몇 epoch를 훈련하면 좋을지 결과를 보면서 바꾸어 봅시다. \n",
    "\n",
    "history = model.fit(partial_x_train,\n",
    "                    partial_y_train,\n",
    "                    epochs=epochs,\n",
    "                    batch_size=512,\n",
    "                    validation_data=(x_val, y_val),\n",
    "                    verbose=1)"
   ]
  },
  {
   "cell_type": "code",
   "execution_count": 39,
   "id": "7126a385",
   "metadata": {},
   "outputs": [
    {
     "name": "stdout",
     "output_type": "stream",
     "text": [
      "782/782 - 5s - loss: 0.6305 - accuracy: 0.6355\n",
      "[0.6304698586463928, 0.6354799866676331]\n"
     ]
    }
   ],
   "source": [
    "results = model.evaluate(x_test,  y_test, verbose=2)\n",
    "\n",
    "print(results)"
   ]
  },
  {
   "cell_type": "code",
   "execution_count": 40,
   "id": "887eb600",
   "metadata": {},
   "outputs": [
    {
     "name": "stdout",
     "output_type": "stream",
     "text": [
      "dict_keys(['loss', 'accuracy', 'val_loss', 'val_accuracy'])\n"
     ]
    }
   ],
   "source": [
    "history_dict = history.history\n",
    "print(history_dict.keys()) # epoch에 따른 그래프를 그려볼 수 있는 항목들"
   ]
  },
  {
   "cell_type": "code",
   "execution_count": 41,
   "id": "f5c9b5ff",
   "metadata": {},
   "outputs": [
    {
     "data": {
      "image/png": "[encoded data removed]",
      "text/plain": [
       "<Figure size 432x288 with 1 Axes>"
      ]
     },
     "metadata": {
      "needs_background": "light"
     },
     "output_type": "display_data"
    }
   ],
   "source": [
    "import matplotlib.pyplot as plt\n",
    "\n",
    "acc = history_dict['accuracy']\n",
    "val_acc = history_dict['val_accuracy']\n",
    "loss = history_dict['loss']\n",
    "val_loss = history_dict['val_loss']\n",
    "\n",
    "epochs = range(1, len(acc) + 1)\n",
    "\n",
    "# \"bo\"는 \"파란색 점\"입니다\n",
    "plt.plot(epochs, loss, 'bo', label='Training loss')\n",
    "# b는 \"파란 실선\"입니다\n",
    "plt.plot(epochs, val_loss, 'b', label='Validation loss')\n",
    "plt.title('Training and validation loss')\n",
    "plt.xlabel('Epochs')\n",
    "plt.ylabel('Loss')\n",
    "plt.legend()\n",
    "\n",
    "plt.show()"
   ]
  },
  {
   "cell_type": "code",
   "execution_count": 42,
   "id": "1a25881b",
   "metadata": {},
   "outputs": [
    {
     "data": {
      "image/png": "[encoded data removed]",
      "text/plain": [
       "<Figure size 432x288 with 1 Axes>"
      ]
     },
     "metadata": {
      "needs_background": "light"
     },
     "output_type": "display_data"
    }
   ],
   "source": [
    "plt.clf()   # 그림을 초기화합니다\n",
    "\n",
    "plt.plot(epochs, acc, 'bo', label='Training acc')\n",
    "plt.plot(epochs, val_acc, 'b', label='Validation acc')\n",
    "plt.title('Training and validation accuracy')\n",
    "plt.xlabel('Epochs')\n",
    "plt.ylabel('Accuracy')\n",
    "plt.legend()\n",
    "\n",
    "plt.show()"
   ]
  },
  {
   "cell_type": "code",
   "execution_count": 43,
   "id": "f7096992",
   "metadata": {},
   "outputs": [
    {
     "name": "stdout",
     "output_type": "stream",
     "text": [
      "Requirement already satisfied: gensim in /opt/conda/lib/python3.9/site-packages (4.1.2)\n",
      "Requirement already satisfied: smart-open>=1.8.1 in /opt/conda/lib/python3.9/site-packages (from gensim) (5.2.1)\n",
      "Requirement already satisfied: numpy>=1.17.0 in /opt/conda/lib/python3.9/site-packages (from gensim) (1.21.4)\n",
      "Requirement already satisfied: scipy>=0.18.1 in /opt/conda/lib/python3.9/site-packages (from gensim) (1.7.1)\n",
      "\u001b[33mWARNING: Running pip as the 'root' user can result in broken permissions and conflicting behaviour with the system package manager. It is recommended to use a virtual environment instead: https://pip.pypa.io/warnings/venv\u001b[0m\n",
      "Collecting gensim==3.8.3\n",
      "  Downloading gensim-3.8.3.tar.gz (23.4 MB)\n",
      "     |████████████████████████████████| 23.4 MB 5.5 MB/s            \n",
      "\u001b[?25h  Preparing metadata (setup.py) ... \u001b[?25ldone\n",
      "\u001b[?25hRequirement already satisfied: numpy>=1.11.3 in /opt/conda/lib/python3.9/site-packages (from gensim==3.8.3) (1.21.4)\n",
      "Requirement already satisfied: scipy>=0.18.1 in /opt/conda/lib/python3.9/site-packages (from gensim==3.8.3) (1.7.1)\n",
      "Requirement already satisfied: six>=1.5.0 in /opt/conda/lib/python3.9/site-packages (from gensim==3.8.3) (1.16.0)\n",
      "Requirement already satisfied: smart_open>=1.8.1 in /opt/conda/lib/python3.9/site-packages (from gensim==3.8.3) (5.2.1)\n",
      "Building wheels for collected packages: gensim\n",
      "  Building wheel for gensim (setup.py) ... \u001b[?25ldone\n",
      "\u001b[?25h  Created wheel for gensim: filename=gensim-3.8.3-cp39-cp39-linux_x86_64.whl size=24328218 sha256=f05bf77a8e75ff01fc13428838a4fb02f8e927dcf5e14affcc8879ddfefd2bca\n",
      "  Stored in directory: /aiffel/.cache/pip/wheels/ca/5d/af/618594ec2f28608c1d6ee7d2b7e95a3e9b06551e3b80a491d6\n",
      "Successfully built gensim\n",
      "Installing collected packages: gensim\n",
      "  Attempting uninstall: gensim\n",
      "    Found existing installation: gensim 4.1.2\n",
      "    Uninstalling gensim-4.1.2:\n",
      "      Successfully uninstalled gensim-4.1.2\n",
      "Successfully installed gensim-3.8.3\n",
      "\u001b[33mWARNING: Running pip as the 'root' user can result in broken permissions and conflicting behaviour with the system package manager. It is recommended to use a virtual environment instead: https://pip.pypa.io/warnings/venv\u001b[0m\n"
     ]
    }
   ],
   "source": [
    "# 제대로 된 동작을 위해 버젼을 다운그레이드\n",
    "!pip install gensim\n",
    "\n",
    "!pip install --upgrade gensim==3.8.3"
   ]
  },
  {
   "cell_type": "code",
   "execution_count": 44,
   "id": "3345760d",
   "metadata": {},
   "outputs": [
    {
     "name": "stdout",
     "output_type": "stream",
     "text": [
      "(10000, 16)\n"
     ]
    }
   ],
   "source": [
    "embedding_layer = model.layers[0]\n",
    "weights = embedding_layer.get_weights()[0]\n",
    "print(weights.shape)    # shape: (vocab_size, embedding_dim)"
   ]
  },
  {
   "cell_type": "code",
   "execution_count": 45,
   "id": "a491ab5b",
   "metadata": {},
   "outputs": [],
   "source": [
    "# 학습한 Embedding 파라미터를 파일에 써서 저장합니다. \n",
    "word2vec_file_path = os.getenv('HOME')+'/aiffel/sentiment_classification/data/word2vec.txt'\n",
    "f = open(word2vec_file_path, 'w')\n",
    "f.write('{} {}\\n'.format(vocab_size-4, word_vector_dim))  # 몇개의 벡터를 얼마 사이즈로 기재할지 타이틀을 씁니다.\n",
    "\n",
    "# 단어 개수(에서 특수문자 4개는 제외하고)만큼의 워드 벡터를 파일에 기록합니다. \n",
    "vectors = model.get_weights()[0]\n",
    "for i in range(4,vocab_size):\n",
    "    f.write('{} {}\\n'.format(index_to_word[i], ' '.join(map(str, list(vectors[i, :])))))\n",
    "f.close()"
   ]
  },
  {
   "cell_type": "code",
   "execution_count": 46,
   "id": "53f05b69",
   "metadata": {},
   "outputs": [
    {
     "data": {
      "text/plain": [
       "array([-0.03432446,  0.04224148, -0.002476  ,  0.084374  , -0.05866981,\n",
       "        0.00873459,  0.07701198,  0.04851301,  0.04174719,  0.01149173,\n",
       "        0.07911645,  0.07712336,  0.04568939,  0.04858962, -0.07104567,\n",
       "       -0.03551871], dtype=float32)"
      ]
     },
     "execution_count": 46,
     "metadata": {},
     "output_type": "execute_result"
    }
   ],
   "source": [
    "from gensim.models.keyedvectors import Word2VecKeyedVectors\n",
    "\n",
    "word_vectors = Word2VecKeyedVectors.load_word2vec_format(word2vec_file_path, binary=False)\n",
    "vector = word_vectors['computer']\n",
    "vector"
   ]
  },
  {
   "cell_type": "code",
   "execution_count": 47,
   "id": "5ddf7d1f",
   "metadata": {},
   "outputs": [
    {
     "data": {
      "text/plain": [
       "[('county', 0.8777061700820923),\n",
       " ('featuring', 0.8740423917770386),\n",
       " ('torment', 0.8698670864105225),\n",
       " ('condemned', 0.8678135871887207),\n",
       " ('mandy', 0.865607738494873),\n",
       " ('affairs', 0.8629537224769592),\n",
       " ('geeky', 0.8611271977424622),\n",
       " ('often', 0.8494324684143066),\n",
       " ('essential', 0.8424042463302612),\n",
       " ('charge', 0.8341334462165833)]"
      ]
     },
     "execution_count": 47,
     "metadata": {},
     "output_type": "execute_result"
    }
   ],
   "source": [
    "word_vectors.similar_by_word(\"love\")"
   ]
  },
  {
   "cell_type": "code",
   "execution_count": 48,
   "id": "23c09bfe",
   "metadata": {},
   "outputs": [
    {
     "data": {
      "text/plain": [
       "array([ 1.07421875e-01, -2.01171875e-01,  1.23046875e-01,  2.11914062e-01,\n",
       "       -9.13085938e-02,  2.16796875e-01, -1.31835938e-01,  8.30078125e-02,\n",
       "        2.02148438e-01,  4.78515625e-02,  3.66210938e-02, -2.45361328e-02,\n",
       "        2.39257812e-02, -1.60156250e-01, -2.61230469e-02,  9.71679688e-02,\n",
       "       -6.34765625e-02,  1.84570312e-01,  1.70898438e-01, -1.63085938e-01,\n",
       "       -1.09375000e-01,  1.49414062e-01, -4.65393066e-04,  9.61914062e-02,\n",
       "        1.68945312e-01,  2.60925293e-03,  8.93554688e-02,  6.49414062e-02,\n",
       "        3.56445312e-02, -6.93359375e-02, -1.46484375e-01, -1.21093750e-01,\n",
       "       -2.27539062e-01,  2.45361328e-02, -1.24511719e-01, -3.18359375e-01,\n",
       "       -2.20703125e-01,  1.30859375e-01,  3.66210938e-02, -3.63769531e-02,\n",
       "       -1.13281250e-01,  1.95312500e-01,  9.76562500e-02,  1.26953125e-01,\n",
       "        6.59179688e-02,  6.93359375e-02,  1.02539062e-02,  1.75781250e-01,\n",
       "       -1.68945312e-01,  1.21307373e-03, -2.98828125e-01, -1.15234375e-01,\n",
       "        5.66406250e-02, -1.77734375e-01, -2.08984375e-01,  1.76757812e-01,\n",
       "        2.38037109e-02, -2.57812500e-01, -4.46777344e-02,  1.88476562e-01,\n",
       "        5.51757812e-02,  5.02929688e-02, -1.06933594e-01,  1.89453125e-01,\n",
       "       -1.16210938e-01,  8.49609375e-02, -1.71875000e-01,  2.45117188e-01,\n",
       "       -1.73828125e-01, -8.30078125e-03,  4.56542969e-02, -1.61132812e-02,\n",
       "        1.86523438e-01, -6.05468750e-02, -4.17480469e-02,  1.82617188e-01,\n",
       "        2.20703125e-01, -1.22558594e-01, -2.55126953e-02, -3.08593750e-01,\n",
       "        9.13085938e-02,  1.60156250e-01,  1.70898438e-01,  1.19628906e-01,\n",
       "        7.08007812e-02, -2.64892578e-02, -3.08837891e-02,  4.06250000e-01,\n",
       "       -1.01562500e-01,  5.71289062e-02, -7.26318359e-03, -9.17968750e-02,\n",
       "       -1.50390625e-01, -2.55859375e-01,  2.16796875e-01, -3.63769531e-02,\n",
       "        2.24609375e-01,  8.00781250e-02,  1.56250000e-01,  5.27343750e-02,\n",
       "        1.50390625e-01, -1.14746094e-01, -8.64257812e-02,  1.19140625e-01,\n",
       "       -7.17773438e-02,  2.73437500e-01, -1.64062500e-01,  7.29370117e-03,\n",
       "        4.21875000e-01, -1.12792969e-01, -1.35742188e-01, -1.31835938e-01,\n",
       "       -1.37695312e-01, -7.66601562e-02,  6.25000000e-02,  4.98046875e-02,\n",
       "       -1.91406250e-01, -6.03027344e-02,  2.27539062e-01,  5.88378906e-02,\n",
       "       -3.24218750e-01,  5.41992188e-02, -1.35742188e-01,  8.17871094e-03,\n",
       "       -5.24902344e-02, -1.74713135e-03, -9.81445312e-02, -2.86865234e-02,\n",
       "        3.61328125e-02,  2.15820312e-01,  5.98144531e-02, -3.08593750e-01,\n",
       "       -2.27539062e-01,  2.61718750e-01,  9.86328125e-02, -5.07812500e-02,\n",
       "        1.78222656e-02,  1.31835938e-01, -5.35156250e-01, -1.81640625e-01,\n",
       "        1.38671875e-01, -3.10546875e-01, -9.71679688e-02,  1.31835938e-01,\n",
       "       -1.16210938e-01,  7.03125000e-02,  2.85156250e-01,  3.51562500e-02,\n",
       "       -1.01562500e-01, -3.75976562e-02,  1.41601562e-01,  1.42578125e-01,\n",
       "       -5.68847656e-02,  2.65625000e-01, -2.09960938e-01,  9.64355469e-03,\n",
       "       -6.68945312e-02, -4.83398438e-02, -6.10351562e-02,  2.45117188e-01,\n",
       "       -9.66796875e-02,  1.78222656e-02, -1.27929688e-01, -4.78515625e-02,\n",
       "       -7.26318359e-03,  1.79687500e-01,  2.78320312e-02, -2.10937500e-01,\n",
       "       -1.43554688e-01, -1.27929688e-01,  1.73339844e-02, -3.60107422e-03,\n",
       "       -2.04101562e-01,  3.63159180e-03, -1.19628906e-01, -6.15234375e-02,\n",
       "        5.93261719e-02, -3.23486328e-03, -1.70898438e-01, -3.14941406e-02,\n",
       "       -8.88671875e-02, -2.89062500e-01,  3.44238281e-02, -1.87500000e-01,\n",
       "        2.94921875e-01,  1.58203125e-01, -1.19628906e-01,  7.61718750e-02,\n",
       "        6.39648438e-02, -4.68750000e-02, -6.83593750e-02,  1.21459961e-02,\n",
       "       -1.44531250e-01,  4.54101562e-02,  3.68652344e-02,  3.88671875e-01,\n",
       "        1.45507812e-01, -2.55859375e-01, -4.46777344e-02, -1.33789062e-01,\n",
       "       -1.38671875e-01,  6.59179688e-02,  1.37695312e-01,  1.14746094e-01,\n",
       "        2.03125000e-01, -4.78515625e-02,  1.80664062e-02, -8.54492188e-02,\n",
       "       -2.48046875e-01, -3.39843750e-01, -2.83203125e-02,  1.05468750e-01,\n",
       "       -2.14843750e-01, -8.74023438e-02,  7.12890625e-02,  1.87500000e-01,\n",
       "       -1.12304688e-01,  2.73437500e-01, -3.26171875e-01, -1.77734375e-01,\n",
       "       -4.24804688e-02, -2.69531250e-01,  6.64062500e-02, -6.88476562e-02,\n",
       "       -1.99218750e-01, -7.03125000e-02, -2.43164062e-01, -3.66210938e-02,\n",
       "       -7.37304688e-02, -1.77734375e-01,  9.17968750e-02, -1.25000000e-01,\n",
       "       -1.65039062e-01, -3.57421875e-01, -2.85156250e-01, -1.66992188e-01,\n",
       "        1.97265625e-01, -1.53320312e-01,  2.31933594e-02,  2.06054688e-01,\n",
       "        1.80664062e-01, -2.74658203e-02, -1.92382812e-01, -9.61914062e-02,\n",
       "       -1.06811523e-02, -4.73632812e-02,  6.54296875e-02, -1.25732422e-02,\n",
       "        1.78222656e-02, -8.00781250e-02, -2.59765625e-01,  9.37500000e-02,\n",
       "       -7.81250000e-02,  4.68750000e-02, -2.22167969e-02,  1.86767578e-02,\n",
       "        3.11279297e-02,  1.04980469e-02, -1.69921875e-01,  2.58789062e-02,\n",
       "       -3.41796875e-02, -1.44042969e-02, -5.46875000e-02, -8.78906250e-02,\n",
       "        1.96838379e-03,  2.23632812e-01, -1.36718750e-01,  1.75781250e-01,\n",
       "       -1.63085938e-01,  1.87500000e-01,  3.44238281e-02, -5.63964844e-02,\n",
       "       -2.27689743e-05,  4.27246094e-02,  5.81054688e-02, -1.07910156e-01,\n",
       "       -3.88183594e-02, -2.69531250e-01,  3.34472656e-02,  9.81445312e-02,\n",
       "        5.63964844e-02,  2.23632812e-01, -5.49316406e-02,  1.46484375e-01,\n",
       "        5.93261719e-02, -2.19726562e-01,  6.39648438e-02,  1.66015625e-02,\n",
       "        4.56542969e-02,  3.26171875e-01, -3.80859375e-01,  1.70898438e-01,\n",
       "        5.66406250e-02, -1.04492188e-01,  1.38671875e-01, -1.57226562e-01,\n",
       "        3.23486328e-03, -4.80957031e-02, -2.48046875e-01, -6.20117188e-02],\n",
       "      dtype=float32)"
      ]
     },
     "execution_count": 48,
     "metadata": {},
     "output_type": "execute_result"
    }
   ],
   "source": [
    "from gensim.models import KeyedVectors\n",
    "\n",
    "word2vec_path = os.getenv('HOME')+'/aiffel/sentiment_classification/data/GoogleNews-vectors-negative300.bin.gz'\n",
    "word2vec = KeyedVectors.load_word2vec_format(word2vec_path, binary=True, limit=1000000)\n",
    "vector = word2vec['computer']\n",
    "vector     # 무려 300dim의 워드 벡터입니다."
   ]
  },
  {
   "cell_type": "code",
   "execution_count": 49,
   "id": "f6eb0053",
   "metadata": {
    "scrolled": true
   },
   "outputs": [
    {
     "data": {
      "text/plain": [
       "[('loved', 0.6907792091369629),\n",
       " ('adore', 0.6816873550415039),\n",
       " ('loves', 0.6618633270263672),\n",
       " ('passion', 0.6100709438323975),\n",
       " ('hate', 0.600395679473877),\n",
       " ('loving', 0.5886635780334473),\n",
       " ('affection', 0.5664337873458862),\n",
       " ('undying_love', 0.5547305345535278),\n",
       " ('absolutely_adore', 0.5536839962005615),\n",
       " ('adores', 0.5440906882286072)]"
      ]
     },
     "execution_count": 49,
     "metadata": {},
     "output_type": "execute_result"
    }
   ],
   "source": [
    "# 메모리를 다소 많이 소비하는 작업이니 유의해 주세요.\n",
    "word2vec.similar_by_word(\"love\")"
   ]
  },
  {
   "cell_type": "code",
   "execution_count": 51,
   "id": "82a40b23",
   "metadata": {},
   "outputs": [],
   "source": [
    "vocab_size = 10000    # 어휘 사전의 크기입니다(10,000개의 단어)\n",
    "word_vector_dim = 300  # 워드 벡터의 차원수\n",
    "embedding_matrix = np.random.rand(vocab_size, word_vector_dim)\n",
    "\n",
    "# embedding_matrix에 Word2Vec 워드 벡터를 단어 하나씩마다 차례차례 카피한다.\n",
    "for i in range(4,vocab_size):\n",
    "    if index_to_word[i] in word2vec:\n",
    "        embedding_matrix[i] = word2vec[index_to_word[i]]"
   ]
  },
  {
   "cell_type": "code",
   "execution_count": 52,
   "id": "ab528687",
   "metadata": {},
   "outputs": [
    {
     "name": "stdout",
     "output_type": "stream",
     "text": [
      "Model: \"sequential_4\"\n",
      "_________________________________________________________________\n",
      "Layer (type)                 Output Shape              Param #   \n",
      "=================================================================\n",
      "embedding_9 (Embedding)      (None, 580, 300)          3000000   \n",
      "_________________________________________________________________\n",
      "conv1d_2 (Conv1D)            (None, 574, 16)           33616     \n",
      "_________________________________________________________________\n",
      "max_pooling1d_1 (MaxPooling1 (None, 114, 16)           0         \n",
      "_________________________________________________________________\n",
      "conv1d_3 (Conv1D)            (None, 108, 16)           1808      \n",
      "_________________________________________________________________\n",
      "global_max_pooling1d_2 (Glob (None, 16)                0         \n",
      "_________________________________________________________________\n",
      "dense_8 (Dense)              (None, 8)                 136       \n",
      "_________________________________________________________________\n",
      "dense_9 (Dense)              (None, 1)                 9         \n",
      "=================================================================\n",
      "Total params: 3,035,569\n",
      "Trainable params: 3,035,569\n",
      "Non-trainable params: 0\n",
      "_________________________________________________________________\n"
     ]
    }
   ],
   "source": [
    "from tensorflow.keras.initializers import Constant\n",
    "\n",
    "vocab_size = 10000    # 어휘 사전의 크기입니다(10,000개의 단어)\n",
    "word_vector_dim = 300  # 워드 벡터의 차원 수 \n",
    "\n",
    "# 모델 구성\n",
    "model = tf.keras.Sequential()\n",
    "model.add(tf.keras.layers.Embedding(vocab_size, \n",
    "                                 word_vector_dim, \n",
    "                                 embeddings_initializer=Constant(embedding_matrix),  # 카피한 임베딩을 여기서 활용\n",
    "                                 input_length=maxlen, \n",
    "                                 trainable=True))   # trainable을 True로 주면 Fine-tuning\n",
    "model.add(tf.keras.layers.Conv1D(16, 7, activation='relu'))\n",
    "model.add(tf.keras.layers.MaxPooling1D(5))\n",
    "model.add(tf.keras.layers.Conv1D(16, 7, activation='relu'))\n",
    "model.add(tf.keras.layers.GlobalMaxPooling1D())\n",
    "model.add(tf.keras.layers.Dense(8, activation='relu'))\n",
    "model.add(tf.keras.layers.Dense(1, activation='sigmoid')) \n",
    "\n",
    "model.summary()"
   ]
  },
  {
   "cell_type": "code",
   "execution_count": 53,
   "id": "f783e93f",
   "metadata": {},
   "outputs": [
    {
     "name": "stdout",
     "output_type": "stream",
     "text": [
      "Epoch 1/20\n",
      "30/30 [==============================] - 16s 90ms/step - loss: 0.6922 - accuracy: 0.5322 - val_loss: 0.6873 - val_accuracy: 0.5420\n",
      "Epoch 2/20\n",
      "30/30 [==============================] - 2s 72ms/step - loss: 0.6736 - accuracy: 0.5881 - val_loss: 0.6504 - val_accuracy: 0.6353\n",
      "Epoch 3/20\n",
      "30/30 [==============================] - 2s 73ms/step - loss: 0.5888 - accuracy: 0.7169 - val_loss: 0.5278 - val_accuracy: 0.7416\n",
      "Epoch 4/20\n",
      "30/30 [==============================] - 2s 73ms/step - loss: 0.4077 - accuracy: 0.8323 - val_loss: 0.3557 - val_accuracy: 0.8499\n",
      "Epoch 5/20\n",
      "30/30 [==============================] - 2s 73ms/step - loss: 0.2895 - accuracy: 0.8813 - val_loss: 0.3301 - val_accuracy: 0.8591\n",
      "Epoch 6/20\n",
      "30/30 [==============================] - 2s 73ms/step - loss: 0.2137 - accuracy: 0.9193 - val_loss: 0.3036 - val_accuracy: 0.8721\n",
      "Epoch 7/20\n",
      "30/30 [==============================] - 2s 74ms/step - loss: 0.1615 - accuracy: 0.9434 - val_loss: 0.3085 - val_accuracy: 0.8731\n",
      "Epoch 8/20\n",
      "30/30 [==============================] - 2s 73ms/step - loss: 0.1231 - accuracy: 0.9615 - val_loss: 0.3363 - val_accuracy: 0.8685\n",
      "Epoch 9/20\n",
      "30/30 [==============================] - 2s 74ms/step - loss: 0.0979 - accuracy: 0.9716 - val_loss: 0.3317 - val_accuracy: 0.8718\n",
      "Epoch 10/20\n",
      "30/30 [==============================] - 2s 73ms/step - loss: 0.0706 - accuracy: 0.9835 - val_loss: 0.3578 - val_accuracy: 0.8714\n",
      "Epoch 11/20\n",
      "30/30 [==============================] - 2s 74ms/step - loss: 0.0498 - accuracy: 0.9919 - val_loss: 0.3714 - val_accuracy: 0.8689\n",
      "Epoch 12/20\n",
      "30/30 [==============================] - 2s 74ms/step - loss: 0.0370 - accuracy: 0.9952 - val_loss: 0.3972 - val_accuracy: 0.8688\n",
      "Epoch 13/20\n",
      "30/30 [==============================] - 2s 74ms/step - loss: 0.0256 - accuracy: 0.9981 - val_loss: 0.4200 - val_accuracy: 0.8670\n",
      "Epoch 14/20\n",
      "30/30 [==============================] - 2s 73ms/step - loss: 0.0184 - accuracy: 0.9989 - val_loss: 0.4439 - val_accuracy: 0.8659\n",
      "Epoch 15/20\n",
      "30/30 [==============================] - 2s 73ms/step - loss: 0.0138 - accuracy: 0.9991 - val_loss: 0.4594 - val_accuracy: 0.8661\n",
      "Epoch 16/20\n",
      "30/30 [==============================] - 2s 72ms/step - loss: 0.0104 - accuracy: 0.9996 - val_loss: 0.4804 - val_accuracy: 0.8648\n",
      "Epoch 17/20\n",
      "30/30 [==============================] - 2s 72ms/step - loss: 0.0084 - accuracy: 0.9997 - val_loss: 0.4939 - val_accuracy: 0.8669\n",
      "Epoch 18/20\n",
      "30/30 [==============================] - 2s 72ms/step - loss: 0.0068 - accuracy: 0.9997 - val_loss: 0.5091 - val_accuracy: 0.8647\n",
      "Epoch 19/20\n",
      "30/30 [==============================] - 2s 72ms/step - loss: 0.0056 - accuracy: 0.9997 - val_loss: 0.5233 - val_accuracy: 0.8650\n",
      "Epoch 20/20\n",
      "30/30 [==============================] - 2s 72ms/step - loss: 0.0047 - accuracy: 0.9998 - val_loss: 0.5349 - val_accuracy: 0.8657\n"
     ]
    }
   ],
   "source": [
    "# 학습의 진행\n",
    "model.compile(optimizer='adam',\n",
    "              loss='binary_crossentropy',\n",
    "              metrics=['accuracy'])\n",
    "              \n",
    "epochs=20  # 몇 epoch를 훈련하면 좋을지 결과를 보면서 바꾸어 봅시다. \n",
    "\n",
    "history = model.fit(partial_x_train,\n",
    "                    partial_y_train,\n",
    "                    epochs=epochs,\n",
    "                    batch_size=512,\n",
    "                    validation_data=(x_val, y_val),\n",
    "                    verbose=1)"
   ]
  },
  {
   "cell_type": "code",
   "execution_count": 54,
   "id": "d0328aed",
   "metadata": {},
   "outputs": [
    {
     "name": "stdout",
     "output_type": "stream",
     "text": [
      "782/782 - 2s - loss: 0.5798 - accuracy: 0.8537\n",
      "[0.5798423290252686, 0.8536800146102905]\n"
     ]
    }
   ],
   "source": [
    "# 테스트셋을 통한 모델 평가\n",
    "results = model.evaluate(x_test,  y_test, verbose=2)\n",
    "\n",
    "print(results)"
   ]
  },
  {
   "cell_type": "markdown",
   "id": "88b7569f",
   "metadata": {},
   "source": [
    "---\n",
    "---"
   ]
  },
  {
   "cell_type": "markdown",
   "id": "1c3e58ff",
   "metadata": {},
   "source": [
    "# 프로젝트 : 네이버 영화리뷰 감성분석 도전하기"
   ]
  },
  {
   "cell_type": "markdown",
   "id": "ca75b1a8",
   "metadata": {},
   "source": [
    "## 1) 데이터 준비와 확인"
   ]
  },
  {
   "cell_type": "code",
   "execution_count": 278,
   "id": "29e48562",
   "metadata": {},
   "outputs": [
    {
     "data": {
      "text/html": [
       "<div>\n",
       "<style scoped>\n",
       "    .dataframe tbody tr th:only-of-type {\n",
       "        vertical-align: middle;\n",
       "    }\n",
       "\n",
       "    .dataframe tbody tr th {\n",
       "        vertical-align: top;\n",
       "    }\n",
       "\n",
       "    .dataframe thead th {\n",
       "        text-align: right;\n",
       "    }\n",
       "</style>\n",
       "<table border=\"1\" class=\"dataframe\">\n",
       "  <thead>\n",
       "    <tr style=\"text-align: right;\">\n",
       "      <th></th>\n",
       "      <th>id</th>\n",
       "      <th>document</th>\n",
       "      <th>label</th>\n",
       "    </tr>\n",
       "  </thead>\n",
       "  <tbody>\n",
       "    <tr>\n",
       "      <th>0</th>\n",
       "      <td>9976970</td>\n",
       "      <td>아 더빙.. 진짜 짜증나네요 목소리</td>\n",
       "      <td>0</td>\n",
       "    </tr>\n",
       "    <tr>\n",
       "      <th>1</th>\n",
       "      <td>3819312</td>\n",
       "      <td>흠...포스터보고 초딩영화줄....오버연기조차 가볍지 않구나</td>\n",
       "      <td>1</td>\n",
       "    </tr>\n",
       "    <tr>\n",
       "      <th>2</th>\n",
       "      <td>10265843</td>\n",
       "      <td>너무재밓었다그래서보는것을추천한다</td>\n",
       "      <td>0</td>\n",
       "    </tr>\n",
       "    <tr>\n",
       "      <th>3</th>\n",
       "      <td>9045019</td>\n",
       "      <td>교도소 이야기구먼 ..솔직히 재미는 없다..평점 조정</td>\n",
       "      <td>0</td>\n",
       "    </tr>\n",
       "    <tr>\n",
       "      <th>4</th>\n",
       "      <td>6483659</td>\n",
       "      <td>사이몬페그의 익살스런 연기가 돋보였던 영화!스파이더맨에서 늙어보이기만 했던 커스틴 ...</td>\n",
       "      <td>1</td>\n",
       "    </tr>\n",
       "  </tbody>\n",
       "</table>\n",
       "</div>"
      ],
      "text/plain": [
       "         id                                           document  label\n",
       "0   9976970                                아 더빙.. 진짜 짜증나네요 목소리      0\n",
       "1   3819312                  흠...포스터보고 초딩영화줄....오버연기조차 가볍지 않구나      1\n",
       "2  10265843                                  너무재밓었다그래서보는것을추천한다      0\n",
       "3   9045019                      교도소 이야기구먼 ..솔직히 재미는 없다..평점 조정      0\n",
       "4   6483659  사이몬페그의 익살스런 연기가 돋보였던 영화!스파이더맨에서 늙어보이기만 했던 커스틴 ...      1"
      ]
     },
     "execution_count": 278,
     "metadata": {},
     "output_type": "execute_result"
    }
   ],
   "source": [
    "import pandas as pd\n",
    "\n",
    "# 데이터를 읽어봅시다. \n",
    "train_data = pd.read_table('~/aiffel/sentiment_classification/data/ratings_train.txt')\n",
    "test_data = pd.read_table('~/aiffel/sentiment_classification/data/ratings_test.txt')\n",
    "\n",
    "train_data.head()"
   ]
  },
  {
   "cell_type": "markdown",
   "id": "f1635e8a",
   "metadata": {},
   "source": [
    "## 2) 데이터로더 구성"
   ]
  },
  {
   "cell_type": "code",
   "execution_count": 279,
   "id": "da573fc7",
   "metadata": {},
   "outputs": [],
   "source": [
    "from konlpy.tag import Mecab\n",
    "import numpy as np\n",
    "from collections import Counter\n",
    "\n",
    "tokenizer = Mecab()\n",
    "stopwords = ['의','가','이','은','들','는','좀','잘','걍','과','도','를','으로','자','에','와','한','하다']\n",
    "\n",
    "def load_data(train_data, test_data, num_words=10000):\n",
    "    # [[YOUR CODE]]\n",
    "    train_data.drop_duplicates(subset=['document'], inplace=True)\n",
    "    train_data = train_data.dropna(how = 'any') \n",
    "    test_data.drop_duplicates(subset=['document'], inplace=True)\n",
    "    test_data = test_data.dropna(how = 'any') \n",
    "    \n",
    "    X_train = []\n",
    "    for sentence in train_data['document']:\n",
    "        temp_X = tokenizer.morphs(sentence) # 토큰화\n",
    "        temp_X = [word for word in temp_X if not word in stopwords] # 불용어 제거\n",
    "        X_train.append(temp_X)\n",
    "\n",
    "    X_test = []\n",
    "    for sentence in test_data['document']:\n",
    "        temp_X = tokenizer.morphs(sentence) # 토큰화\n",
    "        temp_X = [word for word in temp_X if not word in stopwords] # 불용어 제거\n",
    "        X_test.append(temp_X)\n",
    "    \n",
    "    words = np.concatenate(X_train).tolist()\n",
    "    counter = Counter(words)\n",
    "    counter = counter.most_common(10000-4)\n",
    "    vocab = ['<PAD>', '<BOS>', '<UNK>', '<UNUSED>'] + [key for key, _ in counter]\n",
    "    word_to_index = {word:index for index, word in enumerate(vocab)}\n",
    "        \n",
    "    def wordlist_to_indexlist(wordlist):\n",
    "        return [word_to_index[word] if word in word_to_index else word_to_index['<UNK>'] for word in wordlist]\n",
    "        \n",
    "    X_train = list(map(wordlist_to_indexlist, X_train))\n",
    "    X_test = list(map(wordlist_to_indexlist, X_test))\n",
    "        \n",
    "    return X_train, np.array(list(train_data['label'])), X_test, np.array(list(test_data['label'])), word_to_index\n",
    "        \n",
    "X_train, y_train, X_test, y_test, word_to_index = load_data(train_data, test_data)\n",
    "index_to_word = {index:word for word, index in word_to_index.items()}"
   ]
  },
  {
   "cell_type": "code",
   "execution_count": 280,
   "id": "c069e698",
   "metadata": {},
   "outputs": [],
   "source": [
    "# 문장 1개를 활용할 딕셔너리와 함께 주면, 단어 인덱스 리스트 벡터로 변환해 주는 함수입니다. \n",
    "# 단, 모든 문장은 <BOS>로 시작하는 것으로 합니다. \n",
    "def get_encoded_sentence(sentence, word_to_index):\n",
    "    return [word_to_index['<BOS>']]+[word_to_index[word] if word in word_to_index else word_to_index['<UNK>'] for word in sentence.split()]\n",
    "\n",
    "# 여러 개의 문장 리스트를 한꺼번에 단어 인덱스 리스트 벡터로 encode해 주는 함수입니다. \n",
    "def get_encoded_sentences(sentences, word_to_index):\n",
    "    return [get_encoded_sentence(sentence, word_to_index) for sentence in sentences]\n",
    "\n",
    "# 숫자 벡터로 encode된 문장을 원래대로 decode하는 함수입니다. \n",
    "def get_decoded_sentence(encoded_sentence, index_to_word):\n",
    "    return ' '.join(index_to_word[index] if index in index_to_word else '<UNK>' for index in encoded_sentence[1:])  #[1:]를 통해 <BOS>를 제외\n",
    "\n",
    "# 여러 개의 숫자 벡터로 encode된 문장을 한꺼번에 원래대로 decode하는 함수입니다. \n",
    "def get_decoded_sentences(encoded_sentences, index_to_word):\n",
    "    return [get_decoded_sentence(encoded_sentence, index_to_word) for encoded_sentence in encoded_sentences]"
   ]
  },
  {
   "cell_type": "code",
   "execution_count": 281,
   "id": "a982faab",
   "metadata": {},
   "outputs": [
    {
     "name": "stdout",
     "output_type": "stream",
     "text": [
      "더 빙 . . 진짜 짜증 나 네요 목소리\n",
      "0\n"
     ]
    }
   ],
   "source": [
    "print(get_decoded_sentence(X_train[0], index_to_word))\n",
    "print(y_train[0])"
   ]
  },
  {
   "cell_type": "markdown",
   "id": "375ecbb4",
   "metadata": {},
   "source": [
    "## 3) 모델 구성을 위한 데이터 분석 및 가공"
   ]
  },
  {
   "cell_type": "markdown",
   "id": "59b9e00b",
   "metadata": {},
   "source": [
    "* 데이터셋 내 문장 길이 분포\n",
    "* 적절한 최대 문장 길이 지정"
   ]
  },
  {
   "cell_type": "code",
   "execution_count": 283,
   "id": "be818d2a",
   "metadata": {},
   "outputs": [
    {
     "name": "stdout",
     "output_type": "stream",
     "text": [
      "문장길이 평균 :  15.96940191154864\n",
      "문장길이 최대 :  116\n",
      "문장길이 표준편차 :  12.843571191092\n",
      "pad_sequences maxlen :  48\n",
      "전체 문장의 0.9548784420929768%가 maxlen 설정값 이내에 포함됩니다. \n"
     ]
    }
   ],
   "source": [
    "total_data_text = list(X_train) + list(X_test)\n",
    "# 텍스트데이터 문장길이의 리스트를 생성한 후\n",
    "num_tokens = [len(tokens) for tokens in total_data_text]\n",
    "num_tokens = np.array(num_tokens)\n",
    "# 문장길이의 평균값, 최대값, 표준편차를 계산해 본다. \n",
    "print('문장길이 평균 : ', np.mean(num_tokens))\n",
    "print('문장길이 최대 : ', np.max(num_tokens))\n",
    "print('문장길이 표준편차 : ', np.std(num_tokens))\n",
    "\n",
    "# 예를들어, 최대 길이를 (평균 + 2.5*표준편차)로 한다면,  \n",
    "max_tokens = np.mean(num_tokens) + 2.5 * np.std(num_tokens)\n",
    "maxlen = int(max_tokens)\n",
    "print('pad_sequences maxlen : ', maxlen)\n",
    "print('전체 문장의 {}%가 maxlen 설정값 이내에 포함됩니다. '.format(np.sum(num_tokens < max_tokens) / len(num_tokens)))"
   ]
  },
  {
   "cell_type": "code",
   "execution_count": 285,
   "id": "e0dc7e98",
   "metadata": {},
   "outputs": [
    {
     "name": "stdout",
     "output_type": "stream",
     "text": [
      "(146182, 48)\n",
      "(49157, 48)\n"
     ]
    }
   ],
   "source": [
    "X_train = tf.keras.preprocessing.sequence.pad_sequences(X_train,\n",
    "                                                        value=word_to_index[\"<PAD>\"],\n",
    "                                                        padding='pre', # pre 성능이 좋다고 함\n",
    "                                                        maxlen=maxlen)\n",
    "\n",
    "X_test = tf.keras.preprocessing.sequence.pad_sequences(X_test,\n",
    "                                                       value=word_to_index[\"<PAD>\"],\n",
    "                                                       padding='pre', # pre 성능이 좋다고 함\n",
    "                                                       maxlen=maxlen)\n",
    "\n",
    "print(X_train.shape)\n",
    "print(X_test.shape)"
   ]
  },
  {
   "cell_type": "markdown",
   "id": "ce2d00b7",
   "metadata": {},
   "source": [
    "## 4) 모델 구성 및 validation set 구성"
   ]
  },
  {
   "cell_type": "code",
   "execution_count": 286,
   "id": "f79db69c",
   "metadata": {},
   "outputs": [
    {
     "name": "stdout",
     "output_type": "stream",
     "text": [
      "21927.3\n"
     ]
    }
   ],
   "source": [
    "print(len(X_train)*0.15)"
   ]
  },
  {
   "cell_type": "code",
   "execution_count": 287,
   "id": "1eb35a53",
   "metadata": {},
   "outputs": [
    {
     "name": "stdout",
     "output_type": "stream",
     "text": [
      "(124182, 48)\n",
      "(124182,)\n"
     ]
    }
   ],
   "source": [
    "# 22000개를 validation set으로 지정\n",
    "X_val = X_train[:22000]\n",
    "y_val = y_train[:22000]\n",
    "\n",
    "partial_X_train = X_train[22000:]\n",
    "partial_y_train = y_train[22000:]\n",
    "\n",
    "print(partial_X_train.shape)\n",
    "print(partial_y_train.shape)"
   ]
  },
  {
   "cell_type": "markdown",
   "id": "e61a8636",
   "metadata": {},
   "source": [
    "### RNN with GRU"
   ]
  },
  {
   "cell_type": "code",
   "execution_count": 288,
   "id": "672ed485",
   "metadata": {},
   "outputs": [
    {
     "name": "stdout",
     "output_type": "stream",
     "text": [
      "Model: \"sequential_49\"\n",
      "_________________________________________________________________\n",
      "Layer (type)                 Output Shape              Param #   \n",
      "=================================================================\n",
      "embedding_56 (Embedding)     (None, None, 200)         2000000   \n",
      "_________________________________________________________________\n",
      "gru_17 (GRU)                 (None, 128)               126720    \n",
      "_________________________________________________________________\n",
      "dense_78 (Dense)             (None, 16)                2064      \n",
      "_________________________________________________________________\n",
      "dense_79 (Dense)             (None, 1)                 17        \n",
      "=================================================================\n",
      "Total params: 2,128,801\n",
      "Trainable params: 2,128,801\n",
      "Non-trainable params: 0\n",
      "_________________________________________________________________\n"
     ]
    }
   ],
   "source": [
    "vocab_size = 10000  # 어휘 사전의 크기(10,000개의 단어)\n",
    "word_vector_dim = 200  # 단어 하나를 표현하는 임베딩 벡터의 차원 \n",
    "\n",
    "model_0 = tf.keras.Sequential()\n",
    "model_0.add(tf.keras.layers.Embedding(vocab_size, word_vector_dim, input_shape=(None,)))\n",
    "model_0.add(tf.keras.layers.GRU(128))           # RNN에서 가장 많이 쓰는 LSTM 모델\n",
    "model_0.add(tf.keras.layers.Dense(16, activation='relu'))\n",
    "model_0.add(tf.keras.layers.Dense(1, activation='sigmoid'))  # 최종 출력은 긍정/부정을 나타내는 1 dim \n",
    "\n",
    "model_0.summary()"
   ]
  },
  {
   "cell_type": "markdown",
   "id": "df21dad6",
   "metadata": {},
   "source": [
    "### 1-D CNN"
   ]
  },
  {
   "cell_type": "code",
   "execution_count": 289,
   "id": "3d828399",
   "metadata": {},
   "outputs": [
    {
     "name": "stdout",
     "output_type": "stream",
     "text": [
      "Model: \"sequential_50\"\n",
      "_________________________________________________________________\n",
      "Layer (type)                 Output Shape              Param #   \n",
      "=================================================================\n",
      "embedding_57 (Embedding)     (None, None, 200)         2000000   \n",
      "_________________________________________________________________\n",
      "conv1d_10 (Conv1D)           (None, None, 16)          22416     \n",
      "_________________________________________________________________\n",
      "max_pooling1d_5 (MaxPooling1 (None, None, 16)          0         \n",
      "_________________________________________________________________\n",
      "conv1d_11 (Conv1D)           (None, None, 16)          1808      \n",
      "_________________________________________________________________\n",
      "global_max_pooling1d_8 (Glob (None, 16)                0         \n",
      "_________________________________________________________________\n",
      "dense_80 (Dense)             (None, 8)                 136       \n",
      "_________________________________________________________________\n",
      "dense_81 (Dense)             (None, 1)                 9         \n",
      "=================================================================\n",
      "Total params: 2,024,369\n",
      "Trainable params: 2,024,369\n",
      "Non-trainable params: 0\n",
      "_________________________________________________________________\n"
     ]
    }
   ],
   "source": [
    "model_1 = tf.keras.Sequential()\n",
    "model_1.add(tf.keras.layers.Embedding(vocab_size, word_vector_dim, input_shape=(None,)))\n",
    "model_1.add(tf.keras.layers.Conv1D(16, 7, activation='relu'))\n",
    "model_1.add(tf.keras.layers.MaxPooling1D(5))\n",
    "model_1.add(tf.keras.layers.Conv1D(16, 7, activation='relu'))\n",
    "model_1.add(tf.keras.layers.GlobalMaxPooling1D())\n",
    "model_1.add(tf.keras.layers.Dense(8, activation='relu'))\n",
    "model_1.add(tf.keras.layers.Dense(1, activation='sigmoid'))  # 최종 출력은 긍정/부정을 나타내는 1dim 입니다.\n",
    "\n",
    "model_1.summary()"
   ]
  },
  {
   "cell_type": "markdown",
   "id": "42df5a59",
   "metadata": {},
   "source": [
    "### GlobalMaxPooling1D 이용한 모델"
   ]
  },
  {
   "cell_type": "code",
   "execution_count": 290,
   "id": "5f7a9a39",
   "metadata": {},
   "outputs": [
    {
     "name": "stdout",
     "output_type": "stream",
     "text": [
      "Model: \"sequential_51\"\n",
      "_________________________________________________________________\n",
      "Layer (type)                 Output Shape              Param #   \n",
      "=================================================================\n",
      "embedding_58 (Embedding)     (None, None, 200)         2000000   \n",
      "_________________________________________________________________\n",
      "global_max_pooling1d_9 (Glob (None, 200)               0         \n",
      "_________________________________________________________________\n",
      "dense_82 (Dense)             (None, 8)                 1608      \n",
      "_________________________________________________________________\n",
      "dense_83 (Dense)             (None, 1)                 9         \n",
      "=================================================================\n",
      "Total params: 2,001,617\n",
      "Trainable params: 2,001,617\n",
      "Non-trainable params: 0\n",
      "_________________________________________________________________\n"
     ]
    }
   ],
   "source": [
    "model_2 = tf.keras.Sequential()\n",
    "model_2.add(tf.keras.layers.Embedding(vocab_size, word_vector_dim, input_shape=(None,)))\n",
    "model_2.add(tf.keras.layers.GlobalMaxPooling1D())\n",
    "model_2.add(tf.keras.layers.Dense(8, activation='relu'))\n",
    "model_2.add(tf.keras.layers.Dense(1, activation='sigmoid'))  # 최종 출력은 긍정/부정을 나타내는 1dim 입니다.\n",
    "\n",
    "model_2.summary()"
   ]
  },
  {
   "cell_type": "markdown",
   "id": "65078030",
   "metadata": {},
   "source": [
    "## 5) 모델 훈련 개시"
   ]
  },
  {
   "cell_type": "markdown",
   "id": "dce39718",
   "metadata": {},
   "source": [
    "### RNN with GRU"
   ]
  },
  {
   "cell_type": "code",
   "execution_count": 292,
   "id": "d2fddb76",
   "metadata": {},
   "outputs": [
    {
     "name": "stdout",
     "output_type": "stream",
     "text": [
      "Epoch 1/10\n",
      "486/486 [==============================] - 7s 11ms/step - loss: 0.1374 - accuracy: 0.9459 - val_loss: 0.4130 - val_accuracy: 0.8640\n",
      "Epoch 2/10\n",
      "486/486 [==============================] - 5s 11ms/step - loss: 0.1019 - accuracy: 0.9611 - val_loss: 0.4919 - val_accuracy: 0.8592\n",
      "Epoch 3/10\n",
      "486/486 [==============================] - 5s 11ms/step - loss: 0.0781 - accuracy: 0.9699 - val_loss: 0.6137 - val_accuracy: 0.8561\n",
      "Epoch 4/10\n",
      "486/486 [==============================] - 5s 11ms/step - loss: 0.0619 - accuracy: 0.9762 - val_loss: 0.7365 - val_accuracy: 0.8573\n",
      "Epoch 5/10\n",
      "486/486 [==============================] - 5s 11ms/step - loss: 0.0498 - accuracy: 0.9802 - val_loss: 0.8518 - val_accuracy: 0.8503\n",
      "Epoch 6/10\n",
      "486/486 [==============================] - 5s 11ms/step - loss: 0.0408 - accuracy: 0.9837 - val_loss: 0.9489 - val_accuracy: 0.8490\n",
      "Epoch 00006: early stopping\n"
     ]
    }
   ],
   "source": [
    "model_0.compile(optimizer='adam',\n",
    "              loss='binary_crossentropy',\n",
    "              metrics=['accuracy'])\n",
    "\n",
    "early = tf.keras.callbacks.EarlyStopping(monitor='val_loss', mode='min', verbose=1, patience=5)              \n",
    "epochs=10  # 몇 epoch를 훈련하면 좋을지 결과를 보면서 바꾸어 봅시다. \n",
    "\n",
    "history = model_0.fit(partial_X_train,\n",
    "                    partial_y_train,\n",
    "                    epochs=epochs,\n",
    "                    callbacks = early,\n",
    "                    batch_size=256,\n",
    "                    validation_data=(X_val, y_val),\n",
    "                    verbose=1)"
   ]
  },
  {
   "cell_type": "markdown",
   "id": "d59a9cfa",
   "metadata": {},
   "source": [
    "### 1-D CNN"
   ]
  },
  {
   "cell_type": "code",
   "execution_count": 295,
   "id": "a0a63c60",
   "metadata": {},
   "outputs": [
    {
     "name": "stdout",
     "output_type": "stream",
     "text": [
      "Epoch 1/10\n",
      "486/486 [==============================] - 4s 6ms/step - loss: 0.4515 - accuracy: 0.7766 - val_loss: 0.3811 - val_accuracy: 0.8218\n",
      "Epoch 2/10\n",
      "486/486 [==============================] - 3s 5ms/step - loss: 0.3322 - accuracy: 0.8519 - val_loss: 0.3733 - val_accuracy: 0.8276\n",
      "Epoch 3/10\n",
      "486/486 [==============================] - 3s 5ms/step - loss: 0.2581 - accuracy: 0.8908 - val_loss: 0.3992 - val_accuracy: 0.8235\n",
      "Epoch 4/10\n",
      "486/486 [==============================] - 3s 6ms/step - loss: 0.1811 - accuracy: 0.9264 - val_loss: 0.4612 - val_accuracy: 0.8166\n",
      "Epoch 5/10\n",
      "486/486 [==============================] - 3s 6ms/step - loss: 0.1277 - accuracy: 0.9484 - val_loss: 0.5661 - val_accuracy: 0.8126\n",
      "Epoch 6/10\n",
      "486/486 [==============================] - 3s 6ms/step - loss: 0.0965 - accuracy: 0.9600 - val_loss: 0.6504 - val_accuracy: 0.8085\n",
      "Epoch 7/10\n",
      "486/486 [==============================] - 3s 6ms/step - loss: 0.0800 - accuracy: 0.9658 - val_loss: 0.7577 - val_accuracy: 0.8012\n",
      "Epoch 00007: early stopping\n"
     ]
    }
   ],
   "source": [
    "model_1.compile(optimizer='adam',\n",
    "              loss='binary_crossentropy',\n",
    "              metrics=['accuracy'])\n",
    "\n",
    "early = tf.keras.callbacks.EarlyStopping(monitor='val_loss', mode='min', verbose=1, patience=5)              \n",
    "epochs=10  # 몇 epoch를 훈련하면 좋을지 결과를 보면서 바꾸어 봅시다. \n",
    "\n",
    "history_1 = model_1.fit(partial_X_train,\n",
    "                    partial_y_train,\n",
    "                    epochs=epochs,\n",
    "                    callbacks = early,\n",
    "                    batch_size=256,\n",
    "                    validation_data=(X_val, y_val),\n",
    "                    verbose=1)"
   ]
  },
  {
   "cell_type": "markdown",
   "id": "5c43a201",
   "metadata": {},
   "source": [
    "### GlobalMaxPooling1D 이용한 모델"
   ]
  },
  {
   "cell_type": "code",
   "execution_count": 296,
   "id": "4564bdc8",
   "metadata": {},
   "outputs": [
    {
     "name": "stdout",
     "output_type": "stream",
     "text": [
      "Epoch 1/10\n",
      "486/486 [==============================] - 2s 4ms/step - loss: 0.4236 - accuracy: 0.8096 - val_loss: 0.3366 - val_accuracy: 0.8522\n",
      "Epoch 2/10\n",
      "486/486 [==============================] - 2s 4ms/step - loss: 0.2992 - accuracy: 0.8745 - val_loss: 0.3342 - val_accuracy: 0.8557\n",
      "Epoch 3/10\n",
      "486/486 [==============================] - 2s 4ms/step - loss: 0.2500 - accuracy: 0.8994 - val_loss: 0.3443 - val_accuracy: 0.8565\n",
      "Epoch 4/10\n",
      "486/486 [==============================] - 2s 4ms/step - loss: 0.2035 - accuracy: 0.9221 - val_loss: 0.3660 - val_accuracy: 0.8536\n",
      "Epoch 5/10\n",
      "486/486 [==============================] - 2s 4ms/step - loss: 0.1553 - accuracy: 0.9442 - val_loss: 0.4022 - val_accuracy: 0.8497\n",
      "Epoch 6/10\n",
      "486/486 [==============================] - 2s 4ms/step - loss: 0.1096 - accuracy: 0.9641 - val_loss: 0.4538 - val_accuracy: 0.8470\n",
      "Epoch 7/10\n",
      "486/486 [==============================] - 2s 4ms/step - loss: 0.0727 - accuracy: 0.9784 - val_loss: 0.5151 - val_accuracy: 0.8447\n",
      "Epoch 00007: early stopping\n"
     ]
    }
   ],
   "source": [
    "model_2.compile(optimizer='adam',\n",
    "              loss='binary_crossentropy',\n",
    "              metrics=['accuracy'])\n",
    "\n",
    "early = tf.keras.callbacks.EarlyStopping(monitor='val_loss', mode='min', verbose=1, patience=5)              \n",
    "epochs=10  # 몇 epoch를 훈련하면 좋을지 결과를 보면서 바꾸어 봅시다. \n",
    "\n",
    "history_2 = model_2.fit(partial_X_train,\n",
    "                    partial_y_train,\n",
    "                    epochs=epochs,\n",
    "                    callbacks = early,\n",
    "                    batch_size=256,\n",
    "                    validation_data=(X_val, y_val),\n",
    "                    verbose=1)"
   ]
  },
  {
   "cell_type": "markdown",
   "id": "55183dad",
   "metadata": {},
   "source": [
    "## 6) Loss, Accuracy 그래프 시각화"
   ]
  },
  {
   "cell_type": "markdown",
   "id": "f397b48c",
   "metadata": {},
   "source": [
    "#### RNN"
   ]
  },
  {
   "cell_type": "code",
   "execution_count": 293,
   "id": "e716e997",
   "metadata": {},
   "outputs": [
    {
     "name": "stdout",
     "output_type": "stream",
     "text": [
      "dict_keys(['loss', 'accuracy', 'val_loss', 'val_accuracy'])\n"
     ]
    },
    {
     "data": {
      "image/png": "[encoded data removed]",
      "text/plain": [
       "<Figure size 432x288 with 1 Axes>"
      ]
     },
     "metadata": {
      "needs_background": "light"
     },
     "output_type": "display_data"
    },
    {
     "data": {
      "image/png": "[encoded data removed]",
      "text/plain": [
       "<Figure size 432x288 with 1 Axes>"
      ]
     },
     "metadata": {
      "needs_background": "light"
     },
     "output_type": "display_data"
    }
   ],
   "source": [
    "## Loss, Accuracy 그래프 시각화\n",
    "\n",
    "history_dict = history.history\n",
    "print(history_dict.keys()) # epoch에 따른 그래프를 그려볼 수 있는 항목들\n",
    "\n",
    "acc = history_dict['accuracy']\n",
    "val_acc = history_dict['val_accuracy']\n",
    "loss = history_dict['loss']\n",
    "val_loss = history_dict['val_loss']\n",
    "\n",
    "epochs = range(1, len(acc) + 1)\n",
    "\n",
    "# \"bo\"는 \"파란색 점\"입니다\n",
    "plt.plot(epochs, loss, 'ro', label='Training loss')\n",
    "# b는 \"파란 실선\"입니다\n",
    "plt.plot(epochs, val_loss, 'r', label='Validation loss')\n",
    "plt.title('RNN Training and validation loss')\n",
    "plt.xlabel('Epochs')\n",
    "plt.ylabel('Loss')\n",
    "plt.legend()\n",
    "\n",
    "plt.show()\n",
    "\n",
    "plt.clf()   # 그림을 초기화합니다\n",
    "\n",
    "plt.plot(epochs, acc, 'bo', label='Training acc')\n",
    "plt.plot(epochs, val_acc, 'b', label='Validation acc')\n",
    "plt.title('RNN Training and validation accuracy')\n",
    "plt.xlabel('Epochs')\n",
    "plt.ylabel('Accuracy')\n",
    "plt.legend()\n",
    "\n",
    "plt.show()"
   ]
  },
  {
   "cell_type": "code",
   "execution_count": 294,
   "id": "3a7599c2",
   "metadata": {},
   "outputs": [
    {
     "name": "stdout",
     "output_type": "stream",
     "text": [
      "1537/1537 - 3s - loss: 0.9371 - accuracy: 0.8477\n",
      "[0.9370606541633606, 0.8477124571800232]\n"
     ]
    }
   ],
   "source": [
    "# test 결과\n",
    "results = model_0.evaluate(X_test, y_test, verbose=2)\n",
    "\n",
    "print(results)"
   ]
  },
  {
   "cell_type": "markdown",
   "id": "f274647c",
   "metadata": {},
   "source": [
    "처음엔 배치사이즈를 256으로 했었는데 validation 성능의 개선이 없어 배치사이즈를 32로 대폭 줄였다.  \n",
    "그럼에도 성능에서 큰 차이를 보이지 않고 3 epochs 이후부터는 오히려 성능이 하락하는 모습을 보인다."
   ]
  },
  {
   "cell_type": "markdown",
   "id": "5484f47d",
   "metadata": {},
   "source": [
    "#### 1-D CNN"
   ]
  },
  {
   "cell_type": "code",
   "execution_count": 297,
   "id": "33e5761d",
   "metadata": {
    "scrolled": true
   },
   "outputs": [
    {
     "name": "stdout",
     "output_type": "stream",
     "text": [
      "dict_keys(['loss', 'accuracy', 'val_loss', 'val_accuracy'])\n"
     ]
    },
    {
     "data": {
      "image/png": "[encoded data removed]",
      "text/plain": [
       "<Figure size 432x288 with 1 Axes>"
      ]
     },
     "metadata": {
      "needs_background": "light"
     },
     "output_type": "display_data"
    },
    {
     "data": {
      "image/png": "[encoded data removed]",
      "text/plain": [
       "<Figure size 432x288 with 1 Axes>"
      ]
     },
     "metadata": {
      "needs_background": "light"
     },
     "output_type": "display_data"
    }
   ],
   "source": [
    "## Loss, Accuracy 그래프 시각화\n",
    "\n",
    "history_dict_1 = history_1.history\n",
    "print(history_dict_1.keys()) # epoch에 따른 그래프를 그려볼 수 있는 항목들\n",
    "\n",
    "acc = history_dict_1['accuracy']\n",
    "val_acc = history_dict_1['val_accuracy']\n",
    "loss = history_dict_1['loss']\n",
    "val_loss = history_dict_1['val_loss']\n",
    "\n",
    "epochs = range(1, len(acc) + 1)\n",
    "\n",
    "# \"bo\"는 \"파란색 점\"입니다\n",
    "plt.plot(epochs, loss, 'ro', label='Training loss')\n",
    "# b는 \"파란 실선\"입니다\n",
    "plt.plot(epochs, val_loss, 'r', label='Validation loss')\n",
    "plt.title('1-D CNN Traing and validation loss')\n",
    "plt.xlabel('Epochs')\n",
    "plt.ylabel('Loss')\n",
    "plt.legend()\n",
    "\n",
    "plt.show()\n",
    "\n",
    "plt.clf()   # 그림을 초기화합니다\n",
    "\n",
    "plt.plot(epochs, acc, 'bo', label='Training acc')\n",
    "plt.plot(epochs, val_acc, 'b', label='Validation acc')\n",
    "plt.title('1-D Training and validation accuracy')\n",
    "plt.xlabel('Epochs')\n",
    "plt.ylabel('Accuracy')\n",
    "plt.legend()\n",
    "\n",
    "plt.show()"
   ]
  },
  {
   "cell_type": "code",
   "execution_count": 298,
   "id": "cf663ab1",
   "metadata": {},
   "outputs": [
    {
     "name": "stdout",
     "output_type": "stream",
     "text": [
      "1537/1537 - 3s - loss: 0.7765 - accuracy: 0.8006\n",
      "[0.9370606541633606, 0.8477124571800232]\n"
     ]
    }
   ],
   "source": [
    "# test 결과\n",
    "results_1 = model_1.evaluate(X_test, y_test, verbose=2)\n",
    "\n",
    "print(results)"
   ]
  },
  {
   "cell_type": "markdown",
   "id": "bc0f5fdb",
   "metadata": {},
   "source": [
    "### GlobalMaxPooling1D"
   ]
  },
  {
   "cell_type": "code",
   "execution_count": 299,
   "id": "3bdb4587",
   "metadata": {},
   "outputs": [
    {
     "name": "stdout",
     "output_type": "stream",
     "text": [
      "dict_keys(['loss', 'accuracy', 'val_loss', 'val_accuracy'])\n"
     ]
    },
    {
     "data": {
      "image/png": "[encoded data removed]",
      "text/plain": [
       "<Figure size 432x288 with 1 Axes>"
      ]
     },
     "metadata": {
      "needs_background": "light"
     },
     "output_type": "display_data"
    },
    {
     "data": {
      "image/png": "[encoded data removed]",
      "text/plain": [
       "<Figure size 432x288 with 1 Axes>"
      ]
     },
     "metadata": {
      "needs_background": "light"
     },
     "output_type": "display_data"
    }
   ],
   "source": [
    "## Loss, Accuracy 그래프 시각화\n",
    "\n",
    "history_dict_2 = history_2.history\n",
    "print(history_dict_2.keys()) # epoch에 따른 그래프를 그려볼 수 있는 항목들\n",
    "\n",
    "acc = history_dict_2['accuracy']\n",
    "val_acc = history_dict_2['val_accuracy']\n",
    "loss = history_dict_2['loss']\n",
    "val_loss = history_dict_2['val_loss']\n",
    "\n",
    "epochs = range(1, len(acc) + 1)\n",
    "\n",
    "# \"bo\"는 \"파란색 점\"입니다\n",
    "plt.plot(epochs, loss, 'ro', label='Training loss')\n",
    "# b는 \"파란 실선\"입니다\n",
    "plt.plot(epochs, val_loss, 'r', label='Validation loss')\n",
    "plt.title('GMP1D CNN Traing and validation loss')\n",
    "plt.xlabel('Epochs')\n",
    "plt.ylabel('Loss')\n",
    "plt.legend()\n",
    "\n",
    "plt.show()\n",
    "\n",
    "plt.clf()   # 그림을 초기화합니다\n",
    "\n",
    "plt.plot(epochs, acc, 'bo', label='Training acc')\n",
    "plt.plot(epochs, val_acc, 'b', label='Validation acc')\n",
    "plt.title('GMP1D Training and validation accuracy')\n",
    "plt.xlabel('Epochs')\n",
    "plt.ylabel('Accuracy')\n",
    "plt.legend()\n",
    "\n",
    "plt.show()"
   ]
  },
  {
   "cell_type": "code",
   "execution_count": 300,
   "id": "70f8b673",
   "metadata": {},
   "outputs": [
    {
     "name": "stdout",
     "output_type": "stream",
     "text": [
      "1537/1537 - 2s - loss: 0.5202 - accuracy: 0.8414\n",
      "[0.9370606541633606, 0.8477124571800232]\n"
     ]
    }
   ],
   "source": [
    "# test 결과\n",
    "results_2 = model_2.evaluate(X_test, y_test, verbose=2)\n",
    "\n",
    "print(results)"
   ]
  },
  {
   "cell_type": "markdown",
   "id": "fd92671f",
   "metadata": {},
   "source": []
  },
  {
   "cell_type": "markdown",
   "id": "cbd72d01",
   "metadata": {},
   "source": [
    "## 7) 학습된 Embedding 레이어 분석"
   ]
  },
  {
   "cell_type": "code",
   "execution_count": null,
   "id": "254ee1dc",
   "metadata": {},
   "outputs": [],
   "source": [
    "# 제대로 된 동작을 위해 버젼을 다운그레이드\n",
    "# 위에서 수행해주었기에 건너뜀\n",
    "#!pip install gensim\n",
    "#!pip install --upgrade gensim==3.8.3"
   ]
  },
  {
   "cell_type": "code",
   "execution_count": 302,
   "id": "7e5b1d84",
   "metadata": {},
   "outputs": [
    {
     "name": "stdout",
     "output_type": "stream",
     "text": [
      "(10000, 200)\n"
     ]
    }
   ],
   "source": [
    "embedding_layer = model_0.layers[0]\n",
    "weights = embedding_layer.get_weights()[0]\n",
    "print(weights.shape)    # shape: (vocab_size, embedding_dim)"
   ]
  },
  {
   "cell_type": "code",
   "execution_count": 303,
   "id": "6edbfb19",
   "metadata": {},
   "outputs": [],
   "source": [
    "# 학습한 Embedding 파라미터를 파일에 써서 저장합니다. \n",
    "word2vec_file_path = os.getenv('HOME')+'/aiffel/sentiment_classification/data/word2vec.txt'\n",
    "f = open(word2vec_file_path, 'w')\n",
    "f.write('{} {}\\n'.format(vocab_size-4, word_vector_dim))  # 몇개의 벡터를 얼마 사이즈로 기재할지 타이틀을 씁니다.\n",
    "\n",
    "# 단어 개수(에서 특수문자 4개는 제외하고)만큼의 워드 벡터를 파일에 기록합니다. \n",
    "vectors = model_0.get_weights()[0]\n",
    "for i in range(4,vocab_size):\n",
    "    f.write('{} {}\\n'.format(index_to_word[i], ' '.join(map(str, list(vectors[i, :])))))\n",
    "f.close()"
   ]
  },
  {
   "cell_type": "code",
   "execution_count": 305,
   "id": "0c520499",
   "metadata": {},
   "outputs": [
    {
     "name": "stdout",
     "output_type": "stream",
     "text": [
      "[ 0.09303488  0.11226439 -0.14461125 -0.01034935  0.17099279  0.16874948\n",
      "  0.07331345  0.05238518 -0.1526046   0.05265008 -0.11662525 -0.04014652\n",
      "  0.17379928 -0.18306373  0.21060051  0.08134997 -0.09312661 -0.05729796\n",
      " -0.15048337 -0.05917407 -0.14463818 -0.11725764  0.17214611 -0.16570346\n",
      " -0.22153911 -0.08180784 -0.19435255  0.13462299  0.1323443   0.08340842\n",
      " -0.0956464   0.2896274  -0.05161378 -0.24549794  0.21973419  0.05814346\n",
      " -0.13509732  0.2947406  -0.00632603  0.19925994 -0.05230223 -0.09497326\n",
      " -0.16806538  0.19501805 -0.25471586 -0.02157324 -0.12078029  0.02421105\n",
      " -0.07810222 -0.14105077  0.02026598  0.08733696  0.1386075   0.03223716\n",
      " -0.16870937  0.14957407 -0.14688338 -0.0277502  -0.12144175 -0.12996809\n",
      " -0.25861993  0.1210236  -0.01873659 -0.12909257 -0.2597795  -0.12792194\n",
      " -0.05494439  0.12313418  0.25588626  0.14744562 -0.15495443  0.0146777\n",
      "  0.01767084 -0.15807788 -0.10619538  0.20337923  0.23458655  0.16803838\n",
      "  0.02549509 -0.10254306 -0.1564999   0.04348457 -0.04508828  0.11245143\n",
      "  0.3209937  -0.08494342 -0.11061087  0.23690742  0.07225656 -0.06352526\n",
      " -0.10299572 -0.075445    0.10017212  0.11159973 -0.17299333  0.01702276\n",
      "  0.25847438 -0.21842866 -0.06272872 -0.07763846  0.09464271 -0.01249746\n",
      "  0.08362812 -0.17450832  0.02807131 -0.17317902  0.21054277 -0.0712442\n",
      " -0.11219642  0.00496841 -0.02852739  0.2033347   0.20588122 -0.01093715\n",
      " -0.29533067 -0.23572966 -0.274447    0.02625871  0.03087997 -0.23243123\n",
      "  0.14835247  0.05772401  0.19515812  0.07476098  0.12062978  0.16408311\n",
      " -0.11834708  0.06863721  0.06422108 -0.11015471  0.26504314 -0.1615052\n",
      "  0.17737259 -0.36231163 -0.23758714  0.12316799  0.16085467  0.11926433\n",
      " -0.10597061 -0.0694413   0.07341047 -0.13177533 -0.07907648  0.12963316\n",
      "  0.02009585  0.20871237  0.0994029   0.10515219  0.06361619  0.14650218\n",
      "  0.10699039 -0.14390923  0.31240755 -0.0017836   0.05424421 -0.125742\n",
      "  0.14591026  0.05169673 -0.04966092  0.11602353  0.14185268 -0.0869572\n",
      " -0.06381738  0.21652143 -0.1113911   0.06544116 -0.02332912  0.06195961\n",
      " -0.06090749  0.22432229 -0.07162307 -0.02047314 -0.12620685  0.0690736\n",
      " -0.0846381  -0.13715532 -0.03484092  0.12335113  0.13981527 -0.2788117\n",
      " -0.18128128 -0.08448147  0.16008395  0.16509853  0.01223202 -0.16483124\n",
      " -0.15748833  0.0712768  -0.03796184 -0.09771938 -0.14646228  0.15059267\n",
      "  0.218081    0.10580274  0.06375192 -0.13555002 -0.06060168 -0.09509737\n",
      " -0.11758099 -0.12191508]\n"
     ]
    }
   ],
   "source": [
    "from gensim.models.keyedvectors import Word2VecKeyedVectors\n",
    "\n",
    "word_vectors = Word2VecKeyedVectors.load_word2vec_format(word2vec_file_path, binary=False)\n",
    "print(word_vectors['사랑'])"
   ]
  },
  {
   "cell_type": "code",
   "execution_count": 306,
   "id": "ac7cf296",
   "metadata": {},
   "outputs": [
    {
     "data": {
      "text/plain": [
       "[('눈물', 0.8379384279251099),\n",
       " ('소장', 0.8142290115356445),\n",
       " ('재밌', 0.8055227994918823),\n",
       " ('토로', 0.8043040037155151),\n",
       " ('좋', 0.8008660078048706),\n",
       " ('밋', 0.7988518476486206),\n",
       " ('조기', 0.7987930774688721),\n",
       " ('명작', 0.7960962057113647),\n",
       " ('통일', 0.7936319708824158),\n",
       " ('묘', 0.7934836745262146)]"
      ]
     },
     "execution_count": 306,
     "metadata": {},
     "output_type": "execute_result"
    }
   ],
   "source": [
    "word_vectors.similar_by_word(\"사랑\")"
   ]
  },
  {
   "cell_type": "markdown",
   "id": "1211990c",
   "metadata": {},
   "source": [
    "## 8) 한국어 Word2Vec 임베딩 활용하여 성능 개선"
   ]
  },
  {
   "cell_type": "markdown",
   "id": "9fad6935",
   "metadata": {},
   "source": [
    "https://github.com/Kyubyong/wordvectors 에서 한국어 Word2vec 자료 확보"
   ]
  },
  {
   "cell_type": "code",
   "execution_count": 307,
   "id": "67b10cfa",
   "metadata": {},
   "outputs": [
    {
     "name": "stdout",
     "output_type": "stream",
     "text": [
      "[-1.3740246  -1.7353463   3.3915305  -2.569253   -1.4016607   1.4556127\n",
      "  0.9414557   1.9207907   0.16471806  0.4838317  -0.8547181   2.0879807\n",
      "  0.86741775  0.87539405 -0.09962013  0.22928311 -1.1858722   0.00858838\n",
      "  1.4999928  -0.16196461 -0.35184434 -0.92390764  1.0849575   0.3025011\n",
      "  2.7021565  -1.0263684   0.32864776 -0.76589465 -2.510981   -0.66225356\n",
      "  2.8434615   0.50130975 -1.021874   -1.4366034   1.1110784   0.5812605\n",
      " -0.5830406  -0.5785423   1.3634988   2.3074338  -1.4314893   0.45745876\n",
      "  1.1073523  -3.2135262  -0.2898375  -1.1622221   1.2369208  -0.7622987\n",
      " -0.37757635  1.1376442   0.01065568 -0.69105595  1.5159112   1.1534518\n",
      " -1.0119992  -0.5757404   1.1349088  -1.1289831   0.13004152  2.0451715\n",
      " -0.23940353  1.3604902   0.72700524  0.32545742  1.0612459   0.42252553\n",
      "  1.1442151   2.8774905   2.4377263  -1.340305    0.12629706 -0.07772489\n",
      " -0.59053177 -0.19007324  0.1396541  -1.8655105   0.9401054   0.5150856\n",
      "  0.7795373  -0.86505556  0.11842118 -1.8303713   1.337177   -1.0102932\n",
      " -0.37180334  0.00893255 -0.49141577 -1.05802    -2.5987291   0.9731856\n",
      "  0.34080654 -2.5973568   1.0046519  -1.3914212  -0.6504351  -0.9010805\n",
      " -1.1341541   0.75565654  1.2941337   0.0880572  -1.0341461  -0.1750075\n",
      " -0.01880708 -1.0835075  -2.0333962   1.1372623   1.0626172  -1.8369784\n",
      " -2.2662086  -3.382057    1.6751666  -0.2988223  -0.25563756 -1.5594274\n",
      "  0.6313433  -1.2667153  -1.6857744  -1.0949599   0.7742313  -0.6095523\n",
      "  3.19503     0.13200459  1.7937473  -2.8782516   1.3821276   2.2895143\n",
      "  0.0741943  -0.41046414  1.438796    0.19373988  1.4294034   1.5025262\n",
      "  1.4849502   1.5754777   2.7793512  -0.6885003  -0.30154693 -1.708323\n",
      "  1.1030879  -2.2597387   1.1909146   2.4399316   0.3990314   0.904154\n",
      "  0.5454401  -1.3235748  -0.64812386  0.22390233  0.9657619  -0.47360668\n",
      " -0.10278235 -1.0679734  -0.91414386  0.92069     0.3549338   0.32858834\n",
      "  0.84870636  3.596926   -1.6651102   0.23658653  1.0515738   0.40531915\n",
      " -0.773514   -0.93460965 -0.3946274  -1.5657727   1.183652    2.5277\n",
      "  0.57700926  1.7051374  -1.8249958  -2.0328498   0.6617798   0.85747904\n",
      "  0.31782728 -1.1660796   0.32923874  2.2055087  -0.12782003  2.0455444\n",
      " -0.1724252   0.46001154  1.559042   -1.6152996  -0.84242785  0.7553168\n",
      "  0.39734274  0.07714175  0.05610155  0.32837135  1.0220716   1.3816743\n",
      "  0.8049544   0.28728685 -0.97610044  0.8861181  -0.01250968 -1.4845604\n",
      " -1.5236791  -1.5451258 ]\n"
     ]
    },
    {
     "name": "stderr",
     "output_type": "stream",
     "text": [
      "/tmp/ipykernel_13/3352817960.py:5: DeprecationWarning: Call to deprecated `__getitem__` (Method will be removed in 4.0.0, use self.wv.__getitem__() instead).\n",
      "  vector = word2vec['사랑']\n"
     ]
    }
   ],
   "source": [
    "from gensim.models import Word2Vec\n",
    "\n",
    "word2vec_path = os.getenv('HOME')+'/aiffel/sentiment_classification/data/ko.bin'\n",
    "word2vec = Word2Vec.load(word2vec_path)\n",
    "vector = word2vec['사랑']\n",
    "print(vector)"
   ]
  },
  {
   "cell_type": "code",
   "execution_count": 308,
   "id": "f952488e",
   "metadata": {
    "scrolled": true
   },
   "outputs": [
    {
     "name": "stderr",
     "output_type": "stream",
     "text": [
      "/tmp/ipykernel_13/1098788216.py:2: DeprecationWarning: Call to deprecated `similar_by_word` (Method will be removed in 4.0.0, use self.wv.similar_by_word() instead).\n",
      "  word2vec.similar_by_word(\"사랑\")\n"
     ]
    },
    {
     "data": {
      "text/plain": [
       "[('슬픔', 0.7216662764549255),\n",
       " ('행복', 0.6759077310562134),\n",
       " ('절망', 0.6468985080718994),\n",
       " ('기쁨', 0.6458414196968079),\n",
       " ('이별', 0.6334798336029053),\n",
       " ('추억', 0.6320937275886536),\n",
       " ('인생', 0.6216273307800293),\n",
       " ('애정', 0.6206069588661194),\n",
       " ('연인', 0.6186063289642334),\n",
       " ('유혹', 0.5965287685394287)]"
      ]
     },
     "execution_count": 308,
     "metadata": {},
     "output_type": "execute_result"
    }
   ],
   "source": [
    "# 메모리를 다소 많이 소비하는 작업이니 유의해 주세요.\n",
    "word2vec.similar_by_word(\"사랑\")"
   ]
  },
  {
   "cell_type": "code",
   "execution_count": 309,
   "id": "5d3b79f7",
   "metadata": {},
   "outputs": [
    {
     "name": "stderr",
     "output_type": "stream",
     "text": [
      "/tmp/ipykernel_13/1730871920.py:7: DeprecationWarning: Call to deprecated `__contains__` (Method will be removed in 4.0.0, use self.wv.__contains__() instead).\n",
      "  if index_to_word[i] in word2vec:\n",
      "/tmp/ipykernel_13/1730871920.py:8: DeprecationWarning: Call to deprecated `__getitem__` (Method will be removed in 4.0.0, use self.wv.__getitem__() instead).\n",
      "  embedding_matrix[i] = word2vec[index_to_word[i]]\n"
     ]
    }
   ],
   "source": [
    "vocab_size = 10000    # 어휘 사전의 크기입니다(10,000개의 단어)\n",
    "word_vector_dim = 200  # 워드 벡터의 차원수\n",
    "embedding_matrix = np.random.rand(vocab_size, word_vector_dim)\n",
    "\n",
    "# embedding_matrix에 Word2Vec 워드 벡터를 단어 하나씩마다 차례차례 카피한다.\n",
    "for i in range(4,vocab_size):\n",
    "    if index_to_word[i] in word2vec:\n",
    "        embedding_matrix[i] = word2vec[index_to_word[i]]"
   ]
  },
  {
   "cell_type": "markdown",
   "id": "0a92fa4a",
   "metadata": {},
   "source": [
    "#### 모델 생성"
   ]
  },
  {
   "cell_type": "code",
   "execution_count": 310,
   "id": "00960027",
   "metadata": {},
   "outputs": [
    {
     "name": "stdout",
     "output_type": "stream",
     "text": [
      "Model: \"sequential_52\"\n",
      "_________________________________________________________________\n",
      "Layer (type)                 Output Shape              Param #   \n",
      "=================================================================\n",
      "embedding_59 (Embedding)     (None, 48, 200)           2000000   \n",
      "_________________________________________________________________\n",
      "gru_18 (GRU)                 (None, 128)               126720    \n",
      "_________________________________________________________________\n",
      "dense_84 (Dense)             (None, 16)                2064      \n",
      "_________________________________________________________________\n",
      "dense_85 (Dense)             (None, 1)                 17        \n",
      "=================================================================\n",
      "Total params: 2,128,801\n",
      "Trainable params: 2,128,801\n",
      "Non-trainable params: 0\n",
      "_________________________________________________________________\n"
     ]
    }
   ],
   "source": [
    "# RNN with GRU\n",
    "e_model_0 = tf.keras.Sequential()\n",
    "e_model_0.add(tf.keras.layers.Embedding(vocab_size, \n",
    "                                        word_vector_dim, \n",
    "                                        embeddings_initializer=Constant(embedding_matrix),  # 카피한 임베딩을 여기서 활용\n",
    "                                        input_length=maxlen, \n",
    "                                        trainable=True))   # trainable을 True로 주면 Fine-tuning)\n",
    "e_model_0.add(tf.keras.layers.GRU(128))           # RNN에서 가장 많이 쓰는 LSTM 모델의 개선버젼\n",
    "e_model_0.add(tf.keras.layers.Dense(16, activation='relu'))\n",
    "e_model_0.add(tf.keras.layers.Dense(1, activation='sigmoid'))  # 최종 출력은 긍정/부정을 나타내는 1 dim \n",
    "\n",
    "e_model_0.summary()"
   ]
  },
  {
   "cell_type": "code",
   "execution_count": 311,
   "id": "1c6de4be",
   "metadata": {},
   "outputs": [
    {
     "name": "stdout",
     "output_type": "stream",
     "text": [
      "Model: \"sequential_53\"\n",
      "_________________________________________________________________\n",
      "Layer (type)                 Output Shape              Param #   \n",
      "=================================================================\n",
      "embedding_60 (Embedding)     (None, 48, 200)           2000000   \n",
      "_________________________________________________________________\n",
      "conv1d_12 (Conv1D)           (None, 42, 16)            22416     \n",
      "_________________________________________________________________\n",
      "max_pooling1d_6 (MaxPooling1 (None, 8, 16)             0         \n",
      "_________________________________________________________________\n",
      "conv1d_13 (Conv1D)           (None, 2, 16)             1808      \n",
      "_________________________________________________________________\n",
      "global_max_pooling1d_10 (Glo (None, 16)                0         \n",
      "_________________________________________________________________\n",
      "dense_86 (Dense)             (None, 8)                 136       \n",
      "_________________________________________________________________\n",
      "dense_87 (Dense)             (None, 1)                 9         \n",
      "=================================================================\n",
      "Total params: 2,024,369\n",
      "Trainable params: 2,024,369\n",
      "Non-trainable params: 0\n",
      "_________________________________________________________________\n"
     ]
    }
   ],
   "source": [
    "# 1D CNN\n",
    "e_model_1 = tf.keras.Sequential()\n",
    "e_model_1.add(tf.keras.layers.Embedding(vocab_size, word_vector_dim,\n",
    "                                        embeddings_initializer=Constant(embedding_matrix),  # 카피한 임베딩을 여기서 활용\n",
    "                                        input_length=maxlen, \n",
    "                                        trainable=True))   # trainable을 True로 주면 Fine-tuning))\n",
    "e_model_1.add(tf.keras.layers.Conv1D(16, 7, activation='relu'))\n",
    "e_model_1.add(tf.keras.layers.MaxPooling1D(5))\n",
    "e_model_1.add(tf.keras.layers.Conv1D(16, 7, activation='relu'))\n",
    "e_model_1.add(tf.keras.layers.GlobalMaxPooling1D())\n",
    "e_model_1.add(tf.keras.layers.Dense(8, activation='relu'))\n",
    "e_model_1.add(tf.keras.layers.Dense(1, activation='sigmoid'))  # 최종 출력은 긍정/부정을 나타내는 1dim 입니다.\n",
    "\n",
    "e_model_1.summary()"
   ]
  },
  {
   "cell_type": "code",
   "execution_count": 323,
   "id": "efd5ca05",
   "metadata": {},
   "outputs": [
    {
     "name": "stdout",
     "output_type": "stream",
     "text": [
      "Model: \"sequential_56\"\n",
      "_________________________________________________________________\n",
      "Layer (type)                 Output Shape              Param #   \n",
      "=================================================================\n",
      "embedding_63 (Embedding)     (None, 48, 200)           2000000   \n",
      "_________________________________________________________________\n",
      "global_max_pooling1d_13 (Glo (None, 200)               0         \n",
      "_________________________________________________________________\n",
      "dense_92 (Dense)             (None, 8)                 1608      \n",
      "_________________________________________________________________\n",
      "dense_93 (Dense)             (None, 1)                 9         \n",
      "=================================================================\n",
      "Total params: 2,001,617\n",
      "Trainable params: 2,001,617\n",
      "Non-trainable params: 0\n",
      "_________________________________________________________________\n"
     ]
    }
   ],
   "source": [
    "# GlobalMaxPooling1D\n",
    "e_model_2 = tf.keras.Sequential()\n",
    "e_model_2.add(tf.keras.layers.Embedding(vocab_size, word_vector_dim, \n",
    "                                      embeddings_initializer=Constant(embedding_matrix),  # 카피한 임베딩을 여기서 활용\n",
    "                                      input_length=maxlen, \n",
    "                                      trainable=True))   # trainable을 True로 주면 Fine-tuning))\n",
    "e_model_2.add(tf.keras.layers.GlobalMaxPooling1D())\n",
    "e_model_2.add(tf.keras.layers.Dense(8, activation='relu'))\n",
    "e_model_2.add(tf.keras.layers.Dense(1, activation='sigmoid'))  # 최종 출력은 긍정/부정을 나타내는 1dim 입니다.\n",
    "\n",
    "e_model_2.summary()"
   ]
  },
  {
   "cell_type": "markdown",
   "id": "ea455961",
   "metadata": {},
   "source": [
    "#### 학습"
   ]
  },
  {
   "cell_type": "code",
   "execution_count": 313,
   "id": "b7ed5e1d",
   "metadata": {
    "scrolled": false
   },
   "outputs": [
    {
     "name": "stdout",
     "output_type": "stream",
     "text": [
      "Epoch 1/10\n",
      "486/486 [==============================] - 6s 9ms/step - loss: 0.4224 - accuracy: 0.8011 - val_loss: 0.3344 - val_accuracy: 0.8506\n",
      "Epoch 2/10\n",
      "486/486 [==============================] - 4s 8ms/step - loss: 0.3065 - accuracy: 0.8686 - val_loss: 0.3209 - val_accuracy: 0.8582\n",
      "Epoch 3/10\n",
      "486/486 [==============================] - 4s 8ms/step - loss: 0.2663 - accuracy: 0.8894 - val_loss: 0.3201 - val_accuracy: 0.8614\n",
      "Epoch 4/10\n",
      "486/486 [==============================] - 4s 8ms/step - loss: 0.2348 - accuracy: 0.9047 - val_loss: 0.3114 - val_accuracy: 0.8707\n",
      "Epoch 5/10\n",
      "486/486 [==============================] - 4s 8ms/step - loss: 0.2062 - accuracy: 0.9170 - val_loss: 0.3274 - val_accuracy: 0.8678\n",
      "Epoch 6/10\n",
      "486/486 [==============================] - 4s 8ms/step - loss: 0.1747 - accuracy: 0.9312 - val_loss: 0.3567 - val_accuracy: 0.8667\n",
      "Epoch 7/10\n",
      "486/486 [==============================] - 4s 8ms/step - loss: 0.1460 - accuracy: 0.9428 - val_loss: 0.4112 - val_accuracy: 0.8650\n",
      "Epoch 8/10\n",
      "486/486 [==============================] - 4s 8ms/step - loss: 0.1185 - accuracy: 0.9551 - val_loss: 0.4461 - val_accuracy: 0.8615\n",
      "Epoch 9/10\n",
      "486/486 [==============================] - 4s 8ms/step - loss: 0.0960 - accuracy: 0.9637 - val_loss: 0.4922 - val_accuracy: 0.8548\n",
      "Epoch 00009: early stopping\n"
     ]
    }
   ],
   "source": [
    "# RNN with GRU\n",
    "e_model_0.compile(optimizer='adam',\n",
    "              loss='binary_crossentropy',\n",
    "              metrics=['accuracy'])\n",
    "\n",
    "early = tf.keras.callbacks.EarlyStopping(monitor='val_loss', mode='min', verbose=1, patience=5)              \n",
    "epochs=10  # 몇 epoch를 훈련하면 좋을지 결과를 보면서 바꾸어 봅시다. \n",
    "\n",
    "e_history = e_model_0.fit(partial_X_train,\n",
    "                    partial_y_train,\n",
    "                    epochs=epochs,\n",
    "                    callbacks = early,\n",
    "                    batch_size=256,\n",
    "                    validation_data=(X_val, y_val),\n",
    "                    verbose=1)"
   ]
  },
  {
   "cell_type": "code",
   "execution_count": 314,
   "id": "90964301",
   "metadata": {},
   "outputs": [
    {
     "name": "stdout",
     "output_type": "stream",
     "text": [
      "1537/1537 - 3s - loss: 0.4906 - accuracy: 0.8525\n",
      "[0.4906134605407715, 0.8525133728981018]\n"
     ]
    }
   ],
   "source": [
    "e_results_0 = e_model_0.evaluate(X_test, y_test, verbose=2)\n",
    "\n",
    "print(e_results_0)"
   ]
  },
  {
   "cell_type": "code",
   "execution_count": 315,
   "id": "5dc28142",
   "metadata": {
    "scrolled": true
   },
   "outputs": [
    {
     "name": "stdout",
     "output_type": "stream",
     "text": [
      "Epoch 1/10\n",
      "486/486 [==============================] - 3s 6ms/step - loss: 0.5413 - accuracy: 0.7164 - val_loss: 0.4543 - val_accuracy: 0.7830\n",
      "Epoch 2/10\n",
      "486/486 [==============================] - 3s 6ms/step - loss: 0.4050 - accuracy: 0.8134 - val_loss: 0.4080 - val_accuracy: 0.8086\n",
      "Epoch 3/10\n",
      "486/486 [==============================] - 3s 6ms/step - loss: 0.3532 - accuracy: 0.8415 - val_loss: 0.3974 - val_accuracy: 0.8160\n",
      "Epoch 4/10\n",
      "486/486 [==============================] - 3s 6ms/step - loss: 0.3226 - accuracy: 0.8581 - val_loss: 0.4053 - val_accuracy: 0.8140\n",
      "Epoch 5/10\n",
      "486/486 [==============================] - 3s 6ms/step - loss: 0.2953 - accuracy: 0.8724 - val_loss: 0.4131 - val_accuracy: 0.8137\n",
      "Epoch 6/10\n",
      "486/486 [==============================] - 3s 6ms/step - loss: 0.2709 - accuracy: 0.8837 - val_loss: 0.4254 - val_accuracy: 0.8117\n",
      "Epoch 7/10\n",
      "486/486 [==============================] - 3s 5ms/step - loss: 0.2462 - accuracy: 0.8967 - val_loss: 0.4494 - val_accuracy: 0.8095\n",
      "Epoch 8/10\n",
      "486/486 [==============================] - 3s 5ms/step - loss: 0.2214 - accuracy: 0.9085 - val_loss: 0.4667 - val_accuracy: 0.8099\n",
      "Epoch 00008: early stopping\n"
     ]
    }
   ],
   "source": [
    "# 1D CNN\n",
    "e_model_1.compile(optimizer='adam',\n",
    "              loss='binary_crossentropy',\n",
    "              metrics=['accuracy'])\n",
    "\n",
    "early = tf.keras.callbacks.EarlyStopping(monitor='val_loss', mode='min', verbose=1, patience=5)              \n",
    "epochs=10  # 몇 epoch를 훈련하면 좋을지 결과를 보면서 바꾸어 봅시다. \n",
    "\n",
    "e_history_1 = e_model_1.fit(partial_X_train,\n",
    "                    partial_y_train,\n",
    "                    epochs=epochs,\n",
    "                    callbacks = early,\n",
    "                    batch_size=256,\n",
    "                    validation_data=(X_val, y_val),\n",
    "                    verbose=1)"
   ]
  },
  {
   "cell_type": "code",
   "execution_count": 316,
   "id": "79df2406",
   "metadata": {},
   "outputs": [
    {
     "name": "stdout",
     "output_type": "stream",
     "text": [
      "1537/1537 - 3s - loss: 0.4775 - accuracy: 0.8111\n",
      "[0.4775051474571228, 0.8111153841018677]\n"
     ]
    }
   ],
   "source": [
    "e_results_1 = e_model_1.evaluate(X_test, y_test, verbose=2)\n",
    "\n",
    "print(e_results_1)"
   ]
  },
  {
   "cell_type": "code",
   "execution_count": 324,
   "id": "a5f8eaf1",
   "metadata": {
    "scrolled": false
   },
   "outputs": [
    {
     "name": "stdout",
     "output_type": "stream",
     "text": [
      "Epoch 1/20\n",
      "486/486 [==============================] - 3s 4ms/step - loss: 0.6513 - accuracy: 0.6239 - val_loss: 0.5734 - val_accuracy: 0.7021\n",
      "Epoch 2/20\n",
      "486/486 [==============================] - 2s 4ms/step - loss: 0.5242 - accuracy: 0.7382 - val_loss: 0.4889 - val_accuracy: 0.7625\n",
      "Epoch 3/20\n",
      "486/486 [==============================] - 2s 4ms/step - loss: 0.4527 - accuracy: 0.7864 - val_loss: 0.4429 - val_accuracy: 0.7912\n",
      "Epoch 4/20\n",
      "486/486 [==============================] - 2s 4ms/step - loss: 0.4087 - accuracy: 0.8134 - val_loss: 0.4210 - val_accuracy: 0.8049\n",
      "Epoch 5/20\n",
      "486/486 [==============================] - 2s 4ms/step - loss: 0.3802 - accuracy: 0.8301 - val_loss: 0.4101 - val_accuracy: 0.8112\n",
      "Epoch 6/20\n",
      "486/486 [==============================] - 2s 4ms/step - loss: 0.3576 - accuracy: 0.8427 - val_loss: 0.3968 - val_accuracy: 0.8194\n",
      "Epoch 7/20\n",
      "486/486 [==============================] - 2s 4ms/step - loss: 0.3388 - accuracy: 0.8535 - val_loss: 0.3947 - val_accuracy: 0.8215\n",
      "Epoch 8/20\n",
      "486/486 [==============================] - 2s 4ms/step - loss: 0.3220 - accuracy: 0.8620 - val_loss: 0.3932 - val_accuracy: 0.8246\n",
      "Epoch 9/20\n",
      "486/486 [==============================] - 2s 4ms/step - loss: 0.3066 - accuracy: 0.8708 - val_loss: 0.3921 - val_accuracy: 0.8269\n",
      "Epoch 10/20\n",
      "486/486 [==============================] - 2s 4ms/step - loss: 0.2931 - accuracy: 0.8779 - val_loss: 0.3889 - val_accuracy: 0.8288\n",
      "Epoch 11/20\n",
      "486/486 [==============================] - 2s 4ms/step - loss: 0.2785 - accuracy: 0.8853 - val_loss: 0.3979 - val_accuracy: 0.8263\n",
      "Epoch 12/20\n",
      "486/486 [==============================] - 2s 4ms/step - loss: 0.2656 - accuracy: 0.8909 - val_loss: 0.3993 - val_accuracy: 0.8283\n",
      "Epoch 13/20\n",
      "486/486 [==============================] - 2s 4ms/step - loss: 0.2528 - accuracy: 0.8979 - val_loss: 0.4102 - val_accuracy: 0.8270\n",
      "Epoch 14/20\n",
      "486/486 [==============================] - 2s 4ms/step - loss: 0.2400 - accuracy: 0.9045 - val_loss: 0.4052 - val_accuracy: 0.8300\n",
      "Epoch 15/20\n",
      "486/486 [==============================] - 2s 4ms/step - loss: 0.2282 - accuracy: 0.9092 - val_loss: 0.4102 - val_accuracy: 0.8295\n",
      "Epoch 00015: early stopping\n"
     ]
    }
   ],
   "source": [
    "# GlobalMaxPooling1D\n",
    "e_model_2.compile(optimizer='adam',\n",
    "              loss='binary_crossentropy',\n",
    "              metrics=['accuracy'])\n",
    "\n",
    "early = tf.keras.callbacks.EarlyStopping(monitor='val_loss', mode='min', verbose=1, patience=5)              \n",
    "epochs=20  # 몇 epoch를 훈련하면 좋을지 결과를 보면서 바꾸어 봅시다. \n",
    "\n",
    "e_history_2 = e_model_2.fit(partial_X_train,\n",
    "                    partial_y_train,\n",
    "                    epochs=epochs,\n",
    "                    callbacks = early,\n",
    "                    batch_size=256,\n",
    "                    validation_data=(X_val, y_val),\n",
    "                    verbose=1)"
   ]
  },
  {
   "cell_type": "code",
   "execution_count": 325,
   "id": "12cba73f",
   "metadata": {},
   "outputs": [
    {
     "name": "stdout",
     "output_type": "stream",
     "text": [
      "1537/1537 - 2s - loss: 0.4194 - accuracy: 0.8284\n",
      "[0.4194493889808655, 0.8284069299697876]\n"
     ]
    }
   ],
   "source": [
    "e_results_2 = e_model_2.evaluate(X_test, y_test, verbose=2)\n",
    "\n",
    "print(e_results_2)"
   ]
  },
  {
   "cell_type": "markdown",
   "id": "880adc45",
   "metadata": {},
   "source": [
    "### 여러 방식으로 도전!!!"
   ]
  },
  {
   "cell_type": "code",
   "execution_count": 326,
   "id": "e143929d",
   "metadata": {
    "scrolled": true
   },
   "outputs": [
    {
     "name": "stdout",
     "output_type": "stream",
     "text": [
      "Model: \"sequential_57\"\n",
      "_________________________________________________________________\n",
      "Layer (type)                 Output Shape              Param #   \n",
      "=================================================================\n",
      "embedding_64 (Embedding)     (None, 48, 200)           2000000   \n",
      "_________________________________________________________________\n",
      "lstm_35 (LSTM)               (None, 128)               168448    \n",
      "_________________________________________________________________\n",
      "dense_94 (Dense)             (None, 16)                2064      \n",
      "_________________________________________________________________\n",
      "dense_95 (Dense)             (None, 1)                 17        \n",
      "=================================================================\n",
      "Total params: 2,170,529\n",
      "Trainable params: 2,170,529\n",
      "Non-trainable params: 0\n",
      "_________________________________________________________________\n"
     ]
    }
   ],
   "source": [
    "# RNN with LSTM\n",
    "e_model_t = tf.keras.Sequential()\n",
    "e_model_t.add(tf.keras.layers.Embedding(vocab_size, \n",
    "                                        word_vector_dim, \n",
    "                                        embeddings_initializer=Constant(embedding_matrix),  # 카피한 임베딩을 여기서 활용\n",
    "                                        input_length=maxlen, \n",
    "                                        trainable=True))   # trainable을 True로 주면 Fine-tuning)\n",
    "e_model_t.add(tf.keras.layers.LSTM(128))           # RNN에서 가장 많이 쓰는 LSTM 모델의 개선버젼\n",
    "e_model_t.add(tf.keras.layers.Dense(16, activation='relu'))\n",
    "e_model_t.add(tf.keras.layers.Dense(1, activation='sigmoid'))  # 최종 출력은 긍정/부정을 나타내는 1 dim \n",
    "\n",
    "e_model_t.summary()"
   ]
  },
  {
   "cell_type": "code",
   "execution_count": 327,
   "id": "33fbaa14",
   "metadata": {
    "scrolled": true
   },
   "outputs": [
    {
     "name": "stdout",
     "output_type": "stream",
     "text": [
      "Epoch 1/10\n",
      "486/486 [==============================] - 6s 10ms/step - loss: 0.4180 - accuracy: 0.8039 - val_loss: 0.3392 - val_accuracy: 0.8510\n",
      "Epoch 2/10\n",
      "486/486 [==============================] - 5s 9ms/step - loss: 0.3073 - accuracy: 0.8686 - val_loss: 0.3240 - val_accuracy: 0.8607\n",
      "Epoch 3/10\n",
      "486/486 [==============================] - 5s 10ms/step - loss: 0.2664 - accuracy: 0.8889 - val_loss: 0.3187 - val_accuracy: 0.8648\n",
      "Epoch 4/10\n",
      "486/486 [==============================] - 5s 10ms/step - loss: 0.2330 - accuracy: 0.9048 - val_loss: 0.3139 - val_accuracy: 0.8668\n",
      "Epoch 5/10\n",
      "486/486 [==============================] - 5s 10ms/step - loss: 0.2046 - accuracy: 0.9180 - val_loss: 0.3334 - val_accuracy: 0.8680\n",
      "Epoch 6/10\n",
      "486/486 [==============================] - 5s 10ms/step - loss: 0.1720 - accuracy: 0.9321 - val_loss: 0.3585 - val_accuracy: 0.8636\n",
      "Epoch 7/10\n",
      "486/486 [==============================] - 5s 10ms/step - loss: 0.1424 - accuracy: 0.9450 - val_loss: 0.3868 - val_accuracy: 0.8654\n",
      "Epoch 8/10\n",
      "486/486 [==============================] - 5s 10ms/step - loss: 0.1131 - accuracy: 0.9567 - val_loss: 0.4778 - val_accuracy: 0.8589\n",
      "Epoch 9/10\n",
      "486/486 [==============================] - 5s 10ms/step - loss: 0.0906 - accuracy: 0.9657 - val_loss: 0.5133 - val_accuracy: 0.8593\n",
      "Epoch 00009: early stopping\n"
     ]
    }
   ],
   "source": [
    "# RNN with LSTM\n",
    "e_model_t.compile(optimizer='adam',\n",
    "              loss='binary_crossentropy',\n",
    "              metrics=['accuracy'])\n",
    "\n",
    "early = tf.keras.callbacks.EarlyStopping(monitor='val_loss', mode='min', verbose=1, patience=5)              \n",
    "epochs=10  # 몇 epoch를 훈련하면 좋을지 결과를 보면서 바꾸어 봅시다. \n",
    "\n",
    "e_history_t = e_model_t.fit(partial_X_train,\n",
    "                    partial_y_train,\n",
    "                    epochs=epochs,\n",
    "                    callbacks = early,\n",
    "                    batch_size=256,\n",
    "                    validation_data=(X_val, y_val),\n",
    "                    verbose=1)"
   ]
  },
  {
   "cell_type": "code",
   "execution_count": 328,
   "id": "ff78f0f4",
   "metadata": {
    "scrolled": true
   },
   "outputs": [
    {
     "name": "stdout",
     "output_type": "stream",
     "text": [
      "1537/1537 - 4s - loss: 0.5245 - accuracy: 0.8560\n",
      "[0.5244756937026978, 0.8559716939926147]\n"
     ]
    }
   ],
   "source": [
    "e_results_t = e_model_t.evaluate(X_test, y_test, verbose=2)\n",
    "\n",
    "print(e_results_t)"
   ]
  },
  {
   "cell_type": "markdown",
   "id": "c9387c8e",
   "metadata": {},
   "source": [
    "* LSTM의 optimizer를 RMSprop으로 설정하면 어떤 결과를 가져올지???"
   ]
  },
  {
   "cell_type": "code",
   "execution_count": 329,
   "id": "60326915",
   "metadata": {},
   "outputs": [
    {
     "name": "stdout",
     "output_type": "stream",
     "text": [
      "Model: \"sequential_58\"\n",
      "_________________________________________________________________\n",
      "Layer (type)                 Output Shape              Param #   \n",
      "=================================================================\n",
      "embedding_65 (Embedding)     (None, 48, 200)           2000000   \n",
      "_________________________________________________________________\n",
      "lstm_36 (LSTM)               (None, 128)               168448    \n",
      "_________________________________________________________________\n",
      "dense_96 (Dense)             (None, 16)                2064      \n",
      "_________________________________________________________________\n",
      "dense_97 (Dense)             (None, 1)                 17        \n",
      "=================================================================\n",
      "Total params: 2,170,529\n",
      "Trainable params: 2,170,529\n",
      "Non-trainable params: 0\n",
      "_________________________________________________________________\n",
      "Epoch 1/10\n",
      "486/486 [==============================] - 7s 12ms/step - loss: 0.4404 - accuracy: 0.7898 - val_loss: 0.3589 - val_accuracy: 0.8395\n",
      "Epoch 2/10\n",
      "486/486 [==============================] - 4s 9ms/step - loss: 0.3262 - accuracy: 0.8582 - val_loss: 0.3331 - val_accuracy: 0.8533\n",
      "Epoch 3/10\n",
      "486/486 [==============================] - 4s 9ms/step - loss: 0.2856 - accuracy: 0.8782 - val_loss: 0.3340 - val_accuracy: 0.8520\n",
      "Epoch 4/10\n",
      "486/486 [==============================] - 4s 9ms/step - loss: 0.2563 - accuracy: 0.8926 - val_loss: 0.3216 - val_accuracy: 0.8601\n",
      "Epoch 5/10\n",
      "486/486 [==============================] - 4s 9ms/step - loss: 0.2292 - accuracy: 0.9061 - val_loss: 0.3608 - val_accuracy: 0.8471\n",
      "Epoch 6/10\n",
      "486/486 [==============================] - 4s 9ms/step - loss: 0.2028 - accuracy: 0.9182 - val_loss: 0.3455 - val_accuracy: 0.8587\n",
      "Epoch 7/10\n",
      "486/486 [==============================] - 4s 9ms/step - loss: 0.1767 - accuracy: 0.9303 - val_loss: 0.3638 - val_accuracy: 0.8583\n",
      "Epoch 8/10\n",
      "486/486 [==============================] - 4s 9ms/step - loss: 0.1519 - accuracy: 0.9400 - val_loss: 0.3940 - val_accuracy: 0.8640\n",
      "Epoch 9/10\n",
      "486/486 [==============================] - 4s 9ms/step - loss: 0.1278 - accuracy: 0.9509 - val_loss: 0.4141 - val_accuracy: 0.8620\n",
      "Epoch 00009: early stopping\n",
      "1537/1537 - 3s - loss: 0.4214 - accuracy: 0.8587\n",
      "[0.4213657081127167, 0.8586569428443909]\n"
     ]
    }
   ],
   "source": [
    "# RNN with LSTM\n",
    "e_model_t2 = tf.keras.Sequential()\n",
    "e_model_t2.add(tf.keras.layers.Embedding(vocab_size, \n",
    "                                        word_vector_dim, \n",
    "                                        embeddings_initializer=Constant(embedding_matrix),  # 카피한 임베딩을 여기서 활용\n",
    "                                        input_length=maxlen, \n",
    "                                        trainable=True))   # trainable을 True로 주면 Fine-tuning)\n",
    "e_model_t2.add(tf.keras.layers.LSTM(128))           # RNN에서 가장 많이 쓰는 LSTM 모델의 개선버젼\n",
    "e_model_t2.add(tf.keras.layers.Dense(16, activation='relu'))\n",
    "e_model_t2.add(tf.keras.layers.Dense(1, activation='sigmoid'))  # 최종 출력은 긍정/부정을 나타내는 1 dim \n",
    "\n",
    "e_model_t2.summary()\n",
    "\n",
    "# RNN\n",
    "e_model_t2.compile(optimizer='RMSprop',\n",
    "              loss='binary_crossentropy',\n",
    "              metrics=['accuracy'])\n",
    "\n",
    "early = tf.keras.callbacks.EarlyStopping(monitor='val_loss', mode='min', verbose=1, patience=5)              \n",
    "epochs=10  # 몇 epoch를 훈련하면 좋을지 결과를 보면서 바꾸어 봅시다. \n",
    "\n",
    "e_history_t2 = e_model_t2.fit(partial_X_train,\n",
    "                    partial_y_train,\n",
    "                    epochs=epochs,\n",
    "                    callbacks = early,\n",
    "                    batch_size=256,\n",
    "                    validation_data=(X_val, y_val),\n",
    "                    verbose=1)\n",
    "\n",
    "e_results_t2 = e_model_t2.evaluate(X_test, y_test, verbose=2)\n",
    "\n",
    "print(e_results_t2)"
   ]
  },
  {
   "cell_type": "markdown",
   "id": "0342c893",
   "metadata": {},
   "source": [
    "GRU와 SimpleRNN을 조합하면?"
   ]
  },
  {
   "cell_type": "code",
   "execution_count": 347,
   "id": "394202bf",
   "metadata": {
    "scrolled": true
   },
   "outputs": [
    {
     "name": "stdout",
     "output_type": "stream",
     "text": [
      "Model: \"sequential_68\"\n",
      "_________________________________________________________________\n",
      "Layer (type)                 Output Shape              Param #   \n",
      "=================================================================\n",
      "embedding_75 (Embedding)     (None, 48, 200)           2000000   \n",
      "_________________________________________________________________\n",
      "gru_23 (GRU)                 (None, 48, 256)           351744    \n",
      "_________________________________________________________________\n",
      "simple_rnn_4 (SimpleRNN)     (None, 128)               49280     \n",
      "_________________________________________________________________\n",
      "dense_114 (Dense)            (None, 16)                2064      \n",
      "_________________________________________________________________\n",
      "dense_115 (Dense)            (None, 1)                 17        \n",
      "=================================================================\n",
      "Total params: 2,403,105\n",
      "Trainable params: 2,403,105\n",
      "Non-trainable params: 0\n",
      "_________________________________________________________________\n",
      "Epoch 1/10\n",
      "486/486 [==============================] - 28s 55ms/step - loss: 0.4563 - accuracy: 0.7799 - val_loss: 0.3675 - val_accuracy: 0.8389\n",
      "Epoch 2/10\n",
      "486/486 [==============================] - 26s 53ms/step - loss: 0.3276 - accuracy: 0.8581 - val_loss: 0.4287 - val_accuracy: 0.8297\n",
      "Epoch 3/10\n",
      "486/486 [==============================] - 26s 53ms/step - loss: 0.2803 - accuracy: 0.8823 - val_loss: 0.3169 - val_accuracy: 0.8687\n",
      "Epoch 4/10\n",
      "486/486 [==============================] - 26s 53ms/step - loss: 0.2432 - accuracy: 0.8997 - val_loss: 0.3229 - val_accuracy: 0.8669\n",
      "Epoch 5/10\n",
      "486/486 [==============================] - 25s 52ms/step - loss: 0.2070 - accuracy: 0.9158 - val_loss: 0.3176 - val_accuracy: 0.8705\n",
      "Epoch 6/10\n",
      "486/486 [==============================] - 25s 52ms/step - loss: 0.1683 - accuracy: 0.9337 - val_loss: 0.4084 - val_accuracy: 0.8560\n",
      "Epoch 7/10\n",
      "486/486 [==============================] - 25s 52ms/step - loss: 0.1331 - accuracy: 0.9480 - val_loss: 0.3943 - val_accuracy: 0.8628\n",
      "Epoch 8/10\n",
      "486/486 [==============================] - 25s 52ms/step - loss: 0.1009 - accuracy: 0.9616 - val_loss: 0.4747 - val_accuracy: 0.8680\n",
      "Epoch 00008: early stopping\n",
      "1537/1537 - 9s - loss: 0.4978 - accuracy: 0.8606\n",
      "[0.4978441894054413, 0.8606098890304565]\n"
     ]
    }
   ],
   "source": [
    "#GRU + SimpleRNN\n",
    "e_model_t3 = tf.keras.Sequential()\n",
    "e_model_t3.add(tf.keras.layers.Embedding(vocab_size, \n",
    "                                        word_vector_dim, \n",
    "                                        embeddings_initializer=Constant(embedding_matrix),  # 카피한 임베딩을 여기서 활용\n",
    "                                        input_length=maxlen, \n",
    "                                        trainable=True))   # trainable을 True로 주면 Fine-tuning)\n",
    "e_model_t3.add(tf.keras.layers.GRU(256, return_sequences=True))           # RNN에서 가장 많이 쓰는 LSTM 모델의 개선버젼\n",
    "e_model_t3.add(tf.keras.layers.SimpleRNN(128))\n",
    "e_model_t3.add(tf.keras.layers.Dense(16, activation='relu'))\n",
    "e_model_t3.add(tf.keras.layers.Dense(1, activation='sigmoid'))  # 최종 출력은 긍정/부정을 나타내는 1 dim \n",
    "\n",
    "e_model_t3.summary()\n",
    "\n",
    "e_model_t3.compile(optimizer='RMSprop',\n",
    "              loss='binary_crossentropy',\n",
    "              metrics=['accuracy'])\n",
    "\n",
    "early = tf.keras.callbacks.EarlyStopping(monitor='val_loss', mode='min', verbose=1, patience=5)              \n",
    "epochs=10  # 몇 epoch를 훈련하면 좋을지 결과를 보면서 바꾸어 봅시다. \n",
    "\n",
    "e_history_t3 = e_model_t3.fit(partial_X_train,\n",
    "                    partial_y_train,\n",
    "                    epochs=epochs,\n",
    "                    callbacks = early,\n",
    "                    batch_size=256,\n",
    "                    validation_data=(X_val, y_val),\n",
    "                    verbose=1)\n",
    "\n",
    "e_results_t3 = e_model_t3.evaluate(X_test, y_test, verbose=2)\n",
    "\n",
    "print(e_results_t3)"
   ]
  },
  {
   "cell_type": "code",
   "execution_count": 331,
   "id": "659a4170",
   "metadata": {},
   "outputs": [
    {
     "name": "stdout",
     "output_type": "stream",
     "text": [
      "Model: \"sequential_60\"\n",
      "_________________________________________________________________\n",
      "Layer (type)                 Output Shape              Param #   \n",
      "=================================================================\n",
      "embedding_67 (Embedding)     (None, 48, 200)           2000000   \n",
      "_________________________________________________________________\n",
      "gru_20 (GRU)                 (None, 48, 64)            51072     \n",
      "_________________________________________________________________\n",
      "bidirectional_8 (Bidirection (None, 64)                18816     \n",
      "_________________________________________________________________\n",
      "dense_100 (Dense)            (None, 16)                1040      \n",
      "_________________________________________________________________\n",
      "dense_101 (Dense)            (None, 1)                 17        \n",
      "=================================================================\n",
      "Total params: 2,070,945\n",
      "Trainable params: 2,070,945\n",
      "Non-trainable params: 0\n",
      "_________________________________________________________________\n",
      "Epoch 1/10\n",
      "486/486 [==============================] - 10s 13ms/step - loss: 0.4464 - accuracy: 0.7856 - val_loss: 0.3608 - val_accuracy: 0.8387\n",
      "Epoch 2/10\n",
      "486/486 [==============================] - 6s 11ms/step - loss: 0.3282 - accuracy: 0.8572 - val_loss: 0.3213 - val_accuracy: 0.8600\n",
      "Epoch 3/10\n",
      "486/486 [==============================] - 5s 11ms/step - loss: 0.2901 - accuracy: 0.8774 - val_loss: 0.3089 - val_accuracy: 0.8658\n",
      "Epoch 4/10\n",
      "486/486 [==============================] - 5s 11ms/step - loss: 0.2655 - accuracy: 0.8883 - val_loss: 0.3147 - val_accuracy: 0.8666\n",
      "Epoch 5/10\n",
      "486/486 [==============================] - 6s 11ms/step - loss: 0.2452 - accuracy: 0.8990 - val_loss: 0.3376 - val_accuracy: 0.8595\n",
      "Epoch 6/10\n",
      "486/486 [==============================] - 5s 11ms/step - loss: 0.2257 - accuracy: 0.9077 - val_loss: 0.3175 - val_accuracy: 0.8709\n",
      "Epoch 7/10\n",
      "486/486 [==============================] - 5s 11ms/step - loss: 0.2066 - accuracy: 0.9163 - val_loss: 0.3334 - val_accuracy: 0.8677\n",
      "Epoch 8/10\n",
      "486/486 [==============================] - 5s 11ms/step - loss: 0.1881 - accuracy: 0.9249 - val_loss: 0.3515 - val_accuracy: 0.8626\n",
      "Epoch 00008: early stopping\n",
      "1537/1537 - 6s - loss: 0.3516 - accuracy: 0.8617\n",
      "[0.35157784819602966, 0.8617491126060486]\n"
     ]
    }
   ],
   "source": [
    "# Bidirectional\n",
    "e_model_t3 = tf.keras.Sequential()\n",
    "e_model_t3.add(tf.keras.layers.Embedding(vocab_size, \n",
    "                                        word_vector_dim, \n",
    "                                        embeddings_initializer=Constant(embedding_matrix),  # 카피한 임베딩을 여기서 활용\n",
    "                                        input_length=maxlen, \n",
    "                                        trainable=True))   # trainable을 True로 주면 Fine-tuning)\n",
    "e_model_t3.add(tf.keras.layers.GRU(64, return_sequences=True))           # RNN에서 가장 많이 쓰는 LSTM 모델의 개선버젼\n",
    "e_model_t3.add(tf.keras.layers.Bidirectional(tf.keras.layers.GRU(32)))\n",
    "e_model_t3.add(tf.keras.layers.Dense(16, activation='relu'))\n",
    "e_model_t3.add(tf.keras.layers.Dense(1, activation='sigmoid'))  # 최종 출력은 긍정/부정을 나타내는 1 dim \n",
    "\n",
    "e_model_t3.summary()\n",
    "\n",
    "e_model_t3.compile(optimizer='RMSprop',\n",
    "              loss='binary_crossentropy',\n",
    "              metrics=['accuracy'])\n",
    "\n",
    "early = tf.keras.callbacks.EarlyStopping(monitor='val_loss', mode='min', verbose=1, patience=5)              \n",
    "epochs=10  # 몇 epoch를 훈련하면 좋을지 결과를 보면서 바꾸어 봅시다. \n",
    "\n",
    "e_history_t3 = e_model_t3.fit(partial_X_train,\n",
    "                    partial_y_train,\n",
    "                    epochs=epochs,\n",
    "                    callbacks = early,\n",
    "                    batch_size=256,\n",
    "                    validation_data=(X_val, y_val),\n",
    "                    verbose=1)\n",
    "\n",
    "e_results_t3 = e_model_t3.evaluate(X_test, y_test, verbose=2)\n",
    "\n",
    "print(e_results_t3)"
   ]
  },
  {
   "cell_type": "markdown",
   "id": "bed67f0b",
   "metadata": {},
   "source": [
    "LSTM을 여러겹 쌓으면??"
   ]
  },
  {
   "cell_type": "code",
   "execution_count": 332,
   "id": "c731aabf",
   "metadata": {
    "scrolled": true
   },
   "outputs": [
    {
     "name": "stdout",
     "output_type": "stream",
     "text": [
      "Model: \"sequential_61\"\n",
      "_________________________________________________________________\n",
      "Layer (type)                 Output Shape              Param #   \n",
      "=================================================================\n",
      "embedding_68 (Embedding)     (None, 48, 200)           2000000   \n",
      "_________________________________________________________________\n",
      "lstm_37 (LSTM)               (None, 48, 32)            29824     \n",
      "_________________________________________________________________\n",
      "lstm_38 (LSTM)               (None, 48, 32)            8320      \n",
      "_________________________________________________________________\n",
      "lstm_39 (LSTM)               (None, 48, 32)            8320      \n",
      "_________________________________________________________________\n",
      "lstm_40 (LSTM)               (None, 32)                8320      \n",
      "_________________________________________________________________\n",
      "dense_102 (Dense)            (None, 16)                528       \n",
      "_________________________________________________________________\n",
      "dense_103 (Dense)            (None, 1)                 17        \n",
      "=================================================================\n",
      "Total params: 2,055,329\n",
      "Trainable params: 2,055,329\n",
      "Non-trainable params: 0\n",
      "_________________________________________________________________\n",
      "Epoch 1/10\n",
      "486/486 [==============================] - 11s 15ms/step - loss: 0.4469 - accuracy: 0.7820 - val_loss: 0.3437 - val_accuracy: 0.8495\n",
      "Epoch 2/10\n",
      "486/486 [==============================] - 6s 13ms/step - loss: 0.3149 - accuracy: 0.8647 - val_loss: 0.3256 - val_accuracy: 0.8590\n",
      "Epoch 3/10\n",
      "486/486 [==============================] - 6s 13ms/step - loss: 0.2797 - accuracy: 0.8826 - val_loss: 0.3126 - val_accuracy: 0.8672\n",
      "Epoch 4/10\n",
      "486/486 [==============================] - 6s 13ms/step - loss: 0.2544 - accuracy: 0.8956 - val_loss: 0.3273 - val_accuracy: 0.8672\n",
      "Epoch 5/10\n",
      "486/486 [==============================] - 6s 13ms/step - loss: 0.2296 - accuracy: 0.9072 - val_loss: 0.3368 - val_accuracy: 0.8629\n",
      "Epoch 6/10\n",
      "486/486 [==============================] - 6s 13ms/step - loss: 0.2080 - accuracy: 0.9170 - val_loss: 0.3399 - val_accuracy: 0.8672\n",
      "Epoch 7/10\n",
      "486/486 [==============================] - 6s 13ms/step - loss: 0.1855 - accuracy: 0.9279 - val_loss: 0.3707 - val_accuracy: 0.8633\n",
      "Epoch 8/10\n",
      "486/486 [==============================] - 6s 13ms/step - loss: 0.1640 - accuracy: 0.9378 - val_loss: 0.3881 - val_accuracy: 0.8601\n",
      "Epoch 00008: early stopping\n",
      "1537/1537 - 7s - loss: 0.3950 - accuracy: 0.8552\n",
      "[0.3949523866176605, 0.8551782965660095]\n"
     ]
    }
   ],
   "source": [
    "# RNN with Deep LSTM\n",
    "e_model_t2 = tf.keras.Sequential()\n",
    "e_model_t2.add(tf.keras.layers.Embedding(vocab_size, \n",
    "                                        word_vector_dim, \n",
    "                                        embeddings_initializer=Constant(embedding_matrix),  # 카피한 임베딩을 여기서 활용\n",
    "                                        input_length=maxlen, \n",
    "                                        trainable=True))   # trainable을 True로 주면 Fine-tuning)\n",
    "e_model_t2.add(tf.keras.layers.LSTM(32, return_sequences=True))           # RNN에서 가장 많이 쓰는 LSTM 모델\n",
    "e_model_t2.add(tf.keras.layers.LSTM(32, return_sequences=True))\n",
    "e_model_t2.add(tf.keras.layers.LSTM(32, return_sequences=True))\n",
    "e_model_t2.add(tf.keras.layers.LSTM(32, return_sequences=False))\n",
    "e_model_t2.add(tf.keras.layers.Dense(16, activation='relu'))\n",
    "e_model_t2.add(tf.keras.layers.Dense(1, activation='sigmoid'))  # 최종 출력은 긍정/부정을 나타내는 1 dim \n",
    "\n",
    "e_model_t2.summary()\n",
    "\n",
    "# RNN\n",
    "e_model_t2.compile(optimizer='Adam',\n",
    "              loss='binary_crossentropy',\n",
    "              metrics=['accuracy'])\n",
    "\n",
    "early = tf.keras.callbacks.EarlyStopping(monitor='val_loss', mode='min', verbose=1, patience=5)              \n",
    "epochs=10  # 몇 epoch를 훈련하면 좋을지 결과를 보면서 바꾸어 봅시다. \n",
    "\n",
    "e_history_t2 = e_model_t2.fit(partial_X_train,\n",
    "                    partial_y_train,\n",
    "                    epochs=epochs,\n",
    "                    callbacks = early,\n",
    "                    batch_size=256,\n",
    "                    validation_data=(X_val, y_val),\n",
    "                    verbose=1)\n",
    "\n",
    "e_results_t2 = e_model_t2.evaluate(X_test, y_test, verbose=2)\n",
    "\n",
    "print(e_results_t2)"
   ]
  },
  {
   "cell_type": "markdown",
   "id": "1fa19b16",
   "metadata": {},
   "source": [
    "LSTM의 필터수를 줄여보자!!"
   ]
  },
  {
   "cell_type": "code",
   "execution_count": 333,
   "id": "07898d40",
   "metadata": {},
   "outputs": [
    {
     "name": "stdout",
     "output_type": "stream",
     "text": [
      "Model: \"sequential_62\"\n",
      "_________________________________________________________________\n",
      "Layer (type)                 Output Shape              Param #   \n",
      "=================================================================\n",
      "embedding_69 (Embedding)     (None, 48, 200)           2000000   \n",
      "_________________________________________________________________\n",
      "lstm_41 (LSTM)               (None, 16)                13888     \n",
      "_________________________________________________________________\n",
      "dense_104 (Dense)            (None, 16)                272       \n",
      "_________________________________________________________________\n",
      "dense_105 (Dense)            (None, 1)                 17        \n",
      "=================================================================\n",
      "Total params: 2,014,177\n",
      "Trainable params: 2,014,177\n",
      "Non-trainable params: 0\n",
      "_________________________________________________________________\n",
      "Epoch 1/10\n",
      "486/486 [==============================] - 5s 7ms/step - loss: 0.4560 - accuracy: 0.7804 - val_loss: 0.3588 - val_accuracy: 0.8438\n",
      "Epoch 2/10\n",
      "486/486 [==============================] - 3s 6ms/step - loss: 0.3309 - accuracy: 0.8588 - val_loss: 0.3334 - val_accuracy: 0.8560\n",
      "Epoch 3/10\n",
      "486/486 [==============================] - 3s 6ms/step - loss: 0.2962 - accuracy: 0.8757 - val_loss: 0.3328 - val_accuracy: 0.8578\n",
      "Epoch 4/10\n",
      "486/486 [==============================] - 3s 6ms/step - loss: 0.2721 - accuracy: 0.8873 - val_loss: 0.3306 - val_accuracy: 0.8593\n",
      "Epoch 5/10\n",
      "486/486 [==============================] - 3s 6ms/step - loss: 0.2538 - accuracy: 0.8971 - val_loss: 0.3371 - val_accuracy: 0.8605\n",
      "Epoch 6/10\n",
      "486/486 [==============================] - 3s 6ms/step - loss: 0.2352 - accuracy: 0.9057 - val_loss: 0.3463 - val_accuracy: 0.8590\n",
      "Epoch 7/10\n",
      "486/486 [==============================] - 3s 6ms/step - loss: 0.2185 - accuracy: 0.9127 - val_loss: 0.3550 - val_accuracy: 0.8579\n",
      "Epoch 8/10\n",
      "486/486 [==============================] - 3s 6ms/step - loss: 0.2027 - accuracy: 0.9209 - val_loss: 0.3736 - val_accuracy: 0.8565\n",
      "Epoch 9/10\n",
      "486/486 [==============================] - 3s 6ms/step - loss: 0.1866 - accuracy: 0.9276 - val_loss: 0.3849 - val_accuracy: 0.8560\n",
      "Epoch 00009: early stopping\n",
      "1537/1537 - 3s - loss: 0.3941 - accuracy: 0.8509\n",
      "[0.3941272497177124, 0.8509469628334045]\n"
     ]
    }
   ],
   "source": [
    "# RNN with LSTM (필터수를 대폭 줄여서..)\n",
    "e_model_t2 = tf.keras.Sequential()\n",
    "e_model_t2.add(tf.keras.layers.Embedding(vocab_size, \n",
    "                                        word_vector_dim, \n",
    "                                        embeddings_initializer=Constant(embedding_matrix),  # 카피한 임베딩을 여기서 활용\n",
    "                                        input_length=maxlen, \n",
    "                                        trainable=True))   # trainable을 True로 주면 Fine-tuning)\n",
    "e_model_t2.add(tf.keras.layers.LSTM(16))           # RNN에서 가장 많이 쓰는 LSTM 모델\n",
    "e_model_t2.add(tf.keras.layers.Dense(16, activation='relu'))\n",
    "e_model_t2.add(tf.keras.layers.Dense(1, activation='sigmoid'))  # 최종 출력은 긍정/부정을 나타내는 1 dim \n",
    "\n",
    "e_model_t2.summary()\n",
    "\n",
    "# RNN\n",
    "e_model_t2.compile(optimizer='Adam',\n",
    "              loss='binary_crossentropy',\n",
    "              metrics=['accuracy'])\n",
    "\n",
    "early = tf.keras.callbacks.EarlyStopping(monitor='val_loss', mode='min', verbose=1, patience=5)              \n",
    "epochs=10  # 몇 epoch를 훈련하면 좋을지 결과를 보면서 바꾸어 봅시다. \n",
    "\n",
    "e_history_t2 = e_model_t2.fit(partial_X_train,\n",
    "                    partial_y_train,\n",
    "                    epochs=epochs,\n",
    "                    callbacks = early,\n",
    "                    batch_size=256,\n",
    "                    validation_data=(X_val, y_val),\n",
    "                    verbose=1)\n",
    "\n",
    "e_results_t2 = e_model_t2.evaluate(X_test, y_test, verbose=2)\n",
    "\n",
    "print(e_results_t2)"
   ]
  },
  {
   "cell_type": "markdown",
   "id": "11fc2a6b",
   "metadata": {},
   "source": [
    "배치사이즈를 줄이면..?"
   ]
  },
  {
   "cell_type": "code",
   "execution_count": 231,
   "id": "994f0a81",
   "metadata": {
    "scrolled": true
   },
   "outputs": [
    {
     "name": "stdout",
     "output_type": "stream",
     "text": [
      "Model: \"sequential_32\"\n",
      "_________________________________________________________________\n",
      "Layer (type)                 Output Shape              Param #   \n",
      "=================================================================\n",
      "embedding_39 (Embedding)     (None, 49, 200)           2000000   \n",
      "_________________________________________________________________\n",
      "lstm_16 (LSTM)               (None, 16)                13888     \n",
      "_________________________________________________________________\n",
      "dense_54 (Dense)             (None, 16)                272       \n",
      "_________________________________________________________________\n",
      "dense_55 (Dense)             (None, 1)                 17        \n",
      "=================================================================\n",
      "Total params: 2,014,177\n",
      "Trainable params: 2,014,177\n",
      "Non-trainable params: 0\n",
      "_________________________________________________________________\n",
      "Epoch 1/10\n",
      "486/486 [==============================] - 5s 7ms/step - loss: 0.4666 - accuracy: 0.7716 - val_loss: 0.3640 - val_accuracy: 0.8379\n",
      "Epoch 2/10\n",
      "486/486 [==============================] - 3s 6ms/step - loss: 0.3338 - accuracy: 0.8565 - val_loss: 0.3383 - val_accuracy: 0.8522\n",
      "Epoch 3/10\n",
      "486/486 [==============================] - 3s 6ms/step - loss: 0.2991 - accuracy: 0.8737 - val_loss: 0.3314 - val_accuracy: 0.8560\n",
      "Epoch 4/10\n",
      "486/486 [==============================] - 3s 6ms/step - loss: 0.2757 - accuracy: 0.8853 - val_loss: 0.3414 - val_accuracy: 0.8548\n",
      "Epoch 5/10\n",
      "486/486 [==============================] - 3s 6ms/step - loss: 0.2568 - accuracy: 0.8944 - val_loss: 0.3390 - val_accuracy: 0.8580\n",
      "Epoch 6/10\n",
      "486/486 [==============================] - 3s 6ms/step - loss: 0.2381 - accuracy: 0.9029 - val_loss: 0.3506 - val_accuracy: 0.8584\n",
      "Epoch 7/10\n",
      "486/486 [==============================] - 3s 6ms/step - loss: 0.2213 - accuracy: 0.9116 - val_loss: 0.3540 - val_accuracy: 0.8573\n",
      "Epoch 8/10\n",
      "486/486 [==============================] - 3s 6ms/step - loss: 0.2045 - accuracy: 0.9190 - val_loss: 0.3701 - val_accuracy: 0.8541\n",
      "Epoch 00008: early stopping\n",
      "1537/1537 - 3s - loss: 0.3764 - accuracy: 0.8514\n",
      "[0.3763841986656189, 0.8513741493225098]\n"
     ]
    }
   ],
   "source": [
    "# RNN with LSTM (배치사이즈 높임)\n",
    "e_model_t2 = tf.keras.Sequential()\n",
    "e_model_t2.add(tf.keras.layers.Embedding(vocab_size, \n",
    "                                        word_vector_dim, \n",
    "                                        embeddings_initializer=Constant(embedding_matrix),  # 카피한 임베딩을 여기서 활용\n",
    "                                        input_length=maxlen, \n",
    "                                        trainable=True))   # trainable을 True로 주면 Fine-tuning)\n",
    "e_model_t2.add(tf.keras.layers.LSTM(16))           # RNN에서 가장 많이 쓰는 LSTM 모델\n",
    "e_model_t2.add(tf.keras.layers.Dense(16, activation='relu'))\n",
    "e_model_t2.add(tf.keras.layers.Dense(1, activation='sigmoid'))  # 최종 출력은 긍정/부정을 나타내는 1 dim \n",
    "\n",
    "e_model_t2.summary()\n",
    "\n",
    "# RNN\n",
    "e_model_t2.compile(optimizer='Adam',\n",
    "              loss='binary_crossentropy',\n",
    "              metrics=['accuracy'])\n",
    "\n",
    "early = tf.keras.callbacks.EarlyStopping(monitor='val_loss', mode='min', verbose=1, patience=5)              \n",
    "epochs=10  # 몇 epoch를 훈련하면 좋을지 결과를 보면서 바꾸어 봅시다. \n",
    "\n",
    "e_history_t2 = e_model_t2.fit(partial_X_train,\n",
    "                    partial_y_train,\n",
    "                    epochs=epochs,\n",
    "                    callbacks = early,\n",
    "                    batch_size=32,\n",
    "                    validation_data=(X_val, y_val),\n",
    "                    verbose=1)\n",
    "\n",
    "e_results_t2 = e_model_t2.evaluate(X_test, y_test, verbose=2)\n",
    "\n",
    "print(e_results_t2)"
   ]
  },
  {
   "cell_type": "markdown",
   "id": "27274dd6",
   "metadata": {},
   "source": [
    "Bidirectional 레이어를 추가해보자!"
   ]
  },
  {
   "cell_type": "code",
   "execution_count": 334,
   "id": "eeb4aa83",
   "metadata": {
    "scrolled": true
   },
   "outputs": [
    {
     "name": "stdout",
     "output_type": "stream",
     "text": [
      "Model: \"sequential_63\"\n",
      "_________________________________________________________________\n",
      "Layer (type)                 Output Shape              Param #   \n",
      "=================================================================\n",
      "embedding_70 (Embedding)     (None, 48, 200)           2000000   \n",
      "_________________________________________________________________\n",
      "lstm_42 (LSTM)               (None, 48, 16)            13888     \n",
      "_________________________________________________________________\n",
      "bidirectional_9 (Bidirection (None, 32)                4224      \n",
      "_________________________________________________________________\n",
      "dense_106 (Dense)            (None, 16)                528       \n",
      "_________________________________________________________________\n",
      "dense_107 (Dense)            (None, 1)                 17        \n",
      "=================================================================\n",
      "Total params: 2,018,657\n",
      "Trainable params: 2,018,657\n",
      "Non-trainable params: 0\n",
      "_________________________________________________________________\n",
      "Epoch 1/10\n",
      "486/486 [==============================] - 50s 13ms/step - loss: 0.4403 - accuracy: 0.7905 - val_loss: 0.3495 - val_accuracy: 0.8462\n",
      "Epoch 2/10\n",
      "486/486 [==============================] - 5s 11ms/step - loss: 0.3200 - accuracy: 0.8638 - val_loss: 0.3313 - val_accuracy: 0.8571\n",
      "Epoch 3/10\n",
      "486/486 [==============================] - 5s 11ms/step - loss: 0.2878 - accuracy: 0.8803 - val_loss: 0.3320 - val_accuracy: 0.8599\n",
      "Epoch 4/10\n",
      "486/486 [==============================] - 5s 11ms/step - loss: 0.2641 - accuracy: 0.8913 - val_loss: 0.3273 - val_accuracy: 0.8619\n",
      "Epoch 5/10\n",
      "486/486 [==============================] - 5s 11ms/step - loss: 0.2429 - accuracy: 0.9019 - val_loss: 0.3327 - val_accuracy: 0.8628\n",
      "Epoch 6/10\n",
      "486/486 [==============================] - 5s 11ms/step - loss: 0.2260 - accuracy: 0.9102 - val_loss: 0.3434 - val_accuracy: 0.8616\n",
      "Epoch 7/10\n",
      "486/486 [==============================] - 5s 11ms/step - loss: 0.2074 - accuracy: 0.9192 - val_loss: 0.3624 - val_accuracy: 0.8560\n",
      "Epoch 8/10\n",
      "486/486 [==============================] - 5s 11ms/step - loss: 0.1898 - accuracy: 0.9284 - val_loss: 0.3726 - val_accuracy: 0.8554\n",
      "Epoch 9/10\n",
      "486/486 [==============================] - 5s 11ms/step - loss: 0.1735 - accuracy: 0.9349 - val_loss: 0.3880 - val_accuracy: 0.8535\n",
      "Epoch 00009: early stopping\n",
      "1537/1537 - 6s - loss: 0.3925 - accuracy: 0.8509\n",
      "[0.3925097584724426, 0.8508859276771545]\n"
     ]
    }
   ],
   "source": [
    "# RNN with Bidirectional layer\n",
    "e_model_t2 = tf.keras.Sequential()\n",
    "e_model_t2.add(tf.keras.layers.Embedding(vocab_size, \n",
    "                                        word_vector_dim, \n",
    "                                        embeddings_initializer=Constant(embedding_matrix),  # 카피한 임베딩을 여기서 활용\n",
    "                                        input_length=maxlen, \n",
    "                                        trainable=True))   # trainable을 True로 주면 Fine-tuning)\n",
    "e_model_t2.add(tf.keras.layers.LSTM(16, return_sequences=True))           # RNN에서 가장 많이 쓰는 LSTM 모델\n",
    "e_model_t2.add(tf.keras.layers.Bidirectional(tf.keras.layers.LSTM(16, return_sequences=False)))\n",
    "e_model_t2.add(tf.keras.layers.Dense(16, activation='relu'))\n",
    "e_model_t2.add(tf.keras.layers.Dense(1, activation='sigmoid'))  # 최종 출력은 긍정/부정을 나타내는 1 dim \n",
    "\n",
    "e_model_t2.summary()\n",
    "\n",
    "# RNN\n",
    "e_model_t2.compile(optimizer='Adam',\n",
    "              loss='binary_crossentropy',\n",
    "              metrics=['accuracy'])\n",
    "\n",
    "early = tf.keras.callbacks.EarlyStopping(monitor='val_loss', mode='min', verbose=1, patience=5)              \n",
    "epochs=10  # 몇 epoch를 훈련하면 좋을지 결과를 보면서 바꾸어 봅시다. \n",
    "\n",
    "e_history_t2 = e_model_t2.fit(partial_X_train,\n",
    "                    partial_y_train,\n",
    "                    epochs=epochs,\n",
    "                    callbacks = early,\n",
    "                    batch_size=256,\n",
    "                    validation_data=(X_val, y_val),\n",
    "                    verbose=1)\n",
    "\n",
    "e_results_t2 = e_model_t2.evaluate(X_test, y_test, verbose=2)\n",
    "\n",
    "print(e_results_t2)"
   ]
  },
  {
   "cell_type": "markdown",
   "id": "297f482b",
   "metadata": {},
   "source": [
    "왜...!!!! 성능에 큰 차이가 없는것인가..???"
   ]
  },
  {
   "cell_type": "markdown",
   "id": "2d82327f",
   "metadata": {},
   "source": [
    "그렇다면 단어 수를 늘려보자!!"
   ]
  },
  {
   "cell_type": "code",
   "execution_count": 335,
   "id": "be5eb87b",
   "metadata": {},
   "outputs": [],
   "source": [
    "def load_data_(train_data, test_data, num_words=10000):\n",
    "    # [[YOUR CODE]]\n",
    "    train_data.drop_duplicates(subset=['document'], inplace=True)\n",
    "    train_data = train_data.dropna(how = 'any') \n",
    "    test_data.drop_duplicates(subset=['document'], inplace=True)\n",
    "    test_data = test_data.dropna(how = 'any') \n",
    "    \n",
    "    X_train = []\n",
    "    for sentence in train_data['document']:\n",
    "        temp_X = tokenizer.morphs(sentence) # 토큰화\n",
    "        temp_X = [word for word in temp_X if not word in stopwords] # 불용어 제거\n",
    "        X_train.append(temp_X)\n",
    "\n",
    "    X_test = []\n",
    "    for sentence in test_data['document']:\n",
    "        temp_X = tokenizer.morphs(sentence) # 토큰화\n",
    "        temp_X = [word for word in temp_X if not word in stopwords] # 불용어 제거\n",
    "        X_test.append(temp_X)\n",
    "    \n",
    "    words = np.concatenate(X_train).tolist()\n",
    "    counter = Counter(words)\n",
    "    counter = counter.most_common(num_words-4)\n",
    "    vocab = ['<PAD>', '<BOS>', '<UNK>', '<UNUSED>'] + [key for key, _ in counter]\n",
    "    word_to_index = {word:index for index, word in enumerate(vocab)}\n",
    "        \n",
    "    def wordlist_to_indexlist(wordlist):\n",
    "        return [word_to_index[word] if word in word_to_index else word_to_index['<UNK>'] for word in wordlist]\n",
    "        \n",
    "    X_train = list(map(wordlist_to_indexlist, X_train))\n",
    "    X_test = list(map(wordlist_to_indexlist, X_test))\n",
    "        \n",
    "    return X_train, np.array(list(train_data['label'])), X_test, np.array(list(test_data['label'])), word_to_index"
   ]
  },
  {
   "cell_type": "code",
   "execution_count": 340,
   "id": "8a6156ae",
   "metadata": {},
   "outputs": [
    {
     "name": "stdout",
     "output_type": "stream",
     "text": [
      "문장길이 평균 :  15.96940191154864\n",
      "문장길이 최대 :  116\n",
      "문장길이 표준편차 :  12.843571191092\n",
      "pad_sequences maxlen :  48\n",
      "전체 문장의 0.9548784420929768%가 maxlen 설정값 이내에 포함됩니다. \n"
     ]
    }
   ],
   "source": [
    "X_train_, y_train_, X_test_, y_test_, word_to_index_ = load_data_(train_data, test_data, num_words=20000)\n",
    "index_to_word_ = {index:word for word, index in word_to_index_.items()}\n",
    "\n",
    "total_data_text = list(X_train_) + list(X_test_)\n",
    "# 텍스트데이터 문장길이의 리스트를 생성한 후\n",
    "num_tokens = [len(tokens) for tokens in total_data_text]\n",
    "num_tokens = np.array(num_tokens)\n",
    "# 문장길이의 평균값, 최대값, 표준편차를 계산해 본다. \n",
    "print('문장길이 평균 : ', np.mean(num_tokens))\n",
    "print('문장길이 최대 : ', np.max(num_tokens))\n",
    "print('문장길이 표준편차 : ', np.std(num_tokens))\n",
    "\n",
    "# 예를들어, 최대 길이를 (평균 + 2.5*표준편차)로 한다면,  \n",
    "max_tokens = np.mean(num_tokens) + 2.5 * np.std(num_tokens)\n",
    "maxlen = int(max_tokens)\n",
    "print('pad_sequences maxlen : ', maxlen)\n",
    "print('전체 문장의 {}%가 maxlen 설정값 이내에 포함됩니다. '.format(np.sum(num_tokens < max_tokens) / len(num_tokens)))"
   ]
  },
  {
   "cell_type": "code",
   "execution_count": 341,
   "id": "5518be54",
   "metadata": {},
   "outputs": [
    {
     "name": "stderr",
     "output_type": "stream",
     "text": [
      "/tmp/ipykernel_13/2944812522.py:8: DeprecationWarning: Call to deprecated `__contains__` (Method will be removed in 4.0.0, use self.wv.__contains__() instead).\n",
      "  if index_to_word_[i] in word2vec_:\n",
      "/tmp/ipykernel_13/2944812522.py:9: DeprecationWarning: Call to deprecated `__getitem__` (Method will be removed in 4.0.0, use self.wv.__getitem__() instead).\n",
      "  embedding_matrix_1[i] = word2vec_[index_to_word_[i]]\n"
     ]
    },
    {
     "name": "stdout",
     "output_type": "stream",
     "text": [
      "(146182, 48)\n",
      "(49157, 48)\n",
      "(124255, 48)\n",
      "(124255,)\n"
     ]
    }
   ],
   "source": [
    "word2vec_ = Word2Vec.load(word2vec_path)\n",
    "vocab_size = 20000    # 어휘 사전의 크기입니다(10,000개의 단어)\n",
    "word_vector_dim = 200  # 워드 벡터의 차원수\n",
    "embedding_matrix_1 = np.random.rand(vocab_size, word_vector_dim)\n",
    "\n",
    "# embedding_matrix에 Word2Vec 워드 벡터를 단어 하나씩마다 차례차례 카피한다.\n",
    "for i in range(4,vocab_size):\n",
    "    if index_to_word_[i] in word2vec_:\n",
    "        embedding_matrix_1[i] = word2vec_[index_to_word_[i]]\n",
    "        \n",
    "X_train_ = tf.keras.preprocessing.sequence.pad_sequences(X_train_,\n",
    "                                                        value=word_to_index_[\"<PAD>\"],\n",
    "                                                        padding='pre', # pre 성능이 좋다고 함\n",
    "                                                        maxlen=maxlen)\n",
    "\n",
    "X_test_ = tf.keras.preprocessing.sequence.pad_sequences(X_test_,\n",
    "                                                       value=word_to_index_[\"<PAD>\"],\n",
    "                                                       padding='pre', # pre 성능이 좋다고 함\n",
    "                                                       maxlen=maxlen)\n",
    "\n",
    "print(X_train_.shape)\n",
    "print(X_test_.shape)\n",
    "\n",
    "X_val_ = X_train_[:int(len(X_train_)*0.15)]\n",
    "y_val_ = y_train_[:int(len(X_train_)*0.15)]\n",
    "\n",
    "partial_X_train_ = X_train_[int(len(X_train_)*0.15):]\n",
    "partial_y_train_ = y_train_[int(len(X_train_)*0.15):]\n",
    "\n",
    "print(partial_X_train_.shape)\n",
    "print(partial_y_train_.shape)"
   ]
  },
  {
   "cell_type": "code",
   "execution_count": 343,
   "id": "c3debe22",
   "metadata": {},
   "outputs": [
    {
     "name": "stdout",
     "output_type": "stream",
     "text": [
      "Model: \"sequential_65\"\n",
      "_________________________________________________________________\n",
      "Layer (type)                 Output Shape              Param #   \n",
      "=================================================================\n",
      "embedding_72 (Embedding)     (None, 48, 200)           4000000   \n",
      "_________________________________________________________________\n",
      "lstm_45 (LSTM)               (None, 16)                13888     \n",
      "_________________________________________________________________\n",
      "dense_110 (Dense)            (None, 16)                272       \n",
      "_________________________________________________________________\n",
      "dropout_2 (Dropout)          (None, 16)                0         \n",
      "_________________________________________________________________\n",
      "dense_111 (Dense)            (None, 1)                 17        \n",
      "=================================================================\n",
      "Total params: 4,014,177\n",
      "Trainable params: 4,014,177\n",
      "Non-trainable params: 0\n",
      "_________________________________________________________________\n",
      "Epoch 1/10\n",
      "486/486 [==============================] - 6s 8ms/step - loss: 0.5029 - accuracy: 0.7562 - val_loss: 0.3624 - val_accuracy: 0.8439\n",
      "Epoch 2/10\n",
      "486/486 [==============================] - 3s 7ms/step - loss: 0.3576 - accuracy: 0.8551 - val_loss: 0.3406 - val_accuracy: 0.8518\n",
      "Epoch 3/10\n",
      "486/486 [==============================] - 3s 7ms/step - loss: 0.3139 - accuracy: 0.8764 - val_loss: 0.3322 - val_accuracy: 0.8607\n",
      "Epoch 4/10\n",
      "486/486 [==============================] - 3s 7ms/step - loss: 0.2839 - accuracy: 0.8905 - val_loss: 0.3489 - val_accuracy: 0.8583\n",
      "Epoch 5/10\n",
      "486/486 [==============================] - 3s 7ms/step - loss: 0.2574 - accuracy: 0.9014 - val_loss: 0.3598 - val_accuracy: 0.8568\n",
      "Epoch 6/10\n",
      "486/486 [==============================] - 3s 7ms/step - loss: 0.2368 - accuracy: 0.9103 - val_loss: 0.3626 - val_accuracy: 0.8568\n",
      "Epoch 7/10\n",
      "486/486 [==============================] - 3s 7ms/step - loss: 0.2158 - accuracy: 0.9195 - val_loss: 0.4020 - val_accuracy: 0.8513\n",
      "Epoch 8/10\n",
      "486/486 [==============================] - 3s 7ms/step - loss: 0.1958 - accuracy: 0.9268 - val_loss: 0.4138 - val_accuracy: 0.8538\n",
      "Epoch 00008: early stopping\n",
      "1537/1537 - 3s - loss: 0.4117 - accuracy: 0.8519\n",
      "[0.41167977452278137, 0.8519437909126282]\n"
     ]
    }
   ],
   "source": [
    "# RNN with LSTM (배치사이즈 높임)\n",
    "word_vector_dim = 200\n",
    "\n",
    "e_model_t2 = tf.keras.Sequential()\n",
    "e_model_t2.add(tf.keras.layers.Embedding(vocab_size, \n",
    "                                        word_vector_dim, \n",
    "                                        embeddings_initializer=Constant(embedding_matrix_1),  # 카피한 임베딩을 여기서 활용\n",
    "                                        input_length=maxlen, \n",
    "                                        trainable=True))   # trainable을 True로 주면 Fine-tuning)\n",
    "e_model_t2.add(tf.keras.layers.LSTM(16))           # RNN에서 가장 많이 쓰는 LSTM 모델\n",
    "e_model_t2.add(tf.keras.layers.Dense(16, activation='relu'))\n",
    "e_model_t2.add(tf.keras.layers.Dropout(0.5))\n",
    "e_model_t2.add(tf.keras.layers.Dense(1, activation='sigmoid'))  # 최종 출력은 긍정/부정을 나타내는 1 dim \n",
    "\n",
    "e_model_t2.summary()\n",
    "\n",
    "# RNN\n",
    "e_model_t2.compile(optimizer='Adam',\n",
    "              loss='binary_crossentropy',\n",
    "              metrics=['accuracy'])\n",
    "\n",
    "early = tf.keras.callbacks.EarlyStopping(monitor='val_loss', mode='min', verbose=1, patience=5)              \n",
    "epochs=10  # 몇 epoch를 훈련하면 좋을지 결과를 보면서 바꾸어 봅시다. \n",
    "\n",
    "e_history_t2 = e_model_t2.fit(partial_X_train_,\n",
    "                    partial_y_train_,\n",
    "                    epochs=epochs,\n",
    "                    callbacks = early,\n",
    "                    batch_size=256,\n",
    "                    validation_data=(X_val_, y_val_),\n",
    "                    verbose=1)\n",
    "\n",
    "e_results_t2 = e_model_t2.evaluate(X_test_, y_test_, verbose=2)\n",
    "\n",
    "print(e_results_t2)"
   ]
  },
  {
   "cell_type": "markdown",
   "id": "0e51110a",
   "metadata": {},
   "source": [
    "#### 평가 루브릭"
   ]
  },
  {
   "cell_type": "markdown",
   "id": "deb502bb",
   "metadata": {},
   "source": [
    "1. 다양한 방법으로 Text Classification 태스크를 성공적으로 구현하였다.  \n",
    "  -> 3가지 이상의 모델이 성공적으로 시도됨  \n",
    "2. gensim을 활용하여 자체학습된 혹은 사전학습된 임베딩 레이어를 분석하였다.  \n",
    "  -> gensim의 유사단어 찾기를 활용하여 자체학습한 임베딩과 사전학습 임베딩을 적절히 분석함  \n",
    "3. 한국어 Word2Vec을 활용하여 가시적인 성능향상을 달성했다.  \n",
    "  -> 네이버 영화리뷰 데이터 감성분석 정확도를 85% 이상 달성함"
   ]
  },
  {
   "cell_type": "markdown",
   "id": "8e67a32d",
   "metadata": {},
   "source": [
    "# 회고"
   ]
  },
  {
   "cell_type": "markdown",
   "id": "af2178a2",
   "metadata": {},
   "source": [
    "1. GRU, 1-D CNN, GlobalMaxPooling1D 세 가지를 활용한 모델을 생성하여 학습하였고 결과도 보았다.  \n",
    "GRU를 사용했을 때의 test accuracy가 0.8477로 가장 높았다.  \n",
    "세 모델의 공통점으로 시각화 자료를 봤을 때, validation loss는 우상향하고, validation accuracy는 정체되는 것을 볼 수 있다.\n",
    "학습에 대한 loss과 accuracy는 각각 우하향, 우상향 하며 성능이 높아지는 것을 확인할 수 있으나,  \n",
    "validation 데이터에 대해서는 전혀 다른 양상을 보이는 이유를 모르겠다.  "
   ]
  },
  {
   "cell_type": "markdown",
   "id": "5751c2af",
   "metadata": {},
   "source": [
    "2. gensim의 버젼은 다운그레이드하고 해달 모델을 이용하여 임베딩 레이어를 분석하였다.  \n",
    "각 단어가 벡터 형태로 바뀐것을 확인할 수 있었는데, 그 예로 '사랑' 이라는 단어를 나타냈다.  \n",
    "'사랑' 이라는 단어와 유사한 값을 가지는 단어를 찾아보았을 때, 결과값들이 생각보다 큰 연관성이 있는것 같지는 않았다.  "
   ]
  },
  {
   "cell_type": "markdown",
   "id": "1ce39075",
   "metadata": {},
   "source": [
    "3. 한국어 Word2vec을 활용하여 GRU 모델에 적용했을때, accuracy가 0.8525로 약간의 향상이 있었다.  \n",
    "심지어 GlobalMaxPooling1D 모델에서는 accuracy가 낮아졌다.\n",
    "LSTM에 적용해보니 accuracy 값 자체가 가장 높은 값인 **0.8560**을 기록해 가장 학습이 잘 된것을 볼 수 있다.\n",
    "결론적으로 한국어 Word2vec이 유의미한 성능향상을 가져오지 않았다고 본다.\n"
   ]
  },
  {
   "cell_type": "markdown",
   "id": "7bce5f4a",
   "metadata": {},
   "source": [
    "4. 여러 방식으로 모델을 학습해보았다. 단순히 레이어를 쌓아보기도 하고, 레이어를 바꿔보기도 하고, 레이어를 조합해보기도 했다.  \n",
    "결론적으로는 accuracy 0.8617의 양방향 LSTM 방식이 가장 높은 성능을 나타냈다.  \n",
    "양방향 방식은, 문장에서 앞 단어에 따라 뒤의 단어를 예측할 수 있지만, 뒤 단어에 따라 앞 단어를 예측할 수도 있다는 전제하에 등장했다.  \n",
    "그래서 그런건지 조금은 성능이 앞서있는 것을 볼 수 있다.\n"
   ]
  },
  {
   "cell_type": "markdown",
   "id": "1fdbed43",
   "metadata": {},
   "source": [
    "5. NLP를 또다시 접해보면서 조금은 NLP에 대한 관심이 늘었고 이해도도 높아진것 같다.  \n",
    "CV가 익숙해서 CV에 흥미가 높은건 아닌지 조금 더 생각해 볼 필요가 있다.  \n",
    "여전히 코드를 보며 따라하는 방식으로만 진행이 가능하고 제로베이스에서는 할 수 있는 것이 없다.  \n",
    "기본 코드에 대해서 연습을 해야겠다!"
   ]
  }
 ],
 "metadata": {
  "kernelspec": {
   "display_name": "Python 3 (ipykernel)",
   "language": "python",
   "name": "python3"
  },
  "language_info": {
   "codemirror_mode": {
    "name": "ipython",
    "version": 3
   },
   "file_extension": ".py",
   "mimetype": "text/x-python",
   "name": "python",
   "nbconvert_exporter": "python",
   "pygments_lexer": "ipython3",
   "version": "3.9.7"
  }
 },
 "nbformat": 4,
 "nbformat_minor": 5
}
